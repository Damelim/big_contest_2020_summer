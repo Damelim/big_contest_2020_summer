{
 "cells": [
  {
   "cell_type": "code",
   "execution_count": 90,
   "metadata": {},
   "outputs": [],
   "source": [
    "import numpy as np\n",
    "import pandas as pd\n",
    "import matplotlib.pyplot as plt\n",
    "import seaborn as sns\n",
    "%matplotlib inline"
   ]
  },
  {
   "cell_type": "code",
   "execution_count": 91,
   "metadata": {},
   "outputs": [],
   "source": [
    "from sklearn.model_selection import train_test_split\n",
    "from sklearn.ensemble import RandomForestRegressor"
   ]
  },
  {
   "cell_type": "code",
   "execution_count": 92,
   "metadata": {},
   "outputs": [],
   "source": [
    "## train\n",
    "\n",
    "pitcher_train = pd.read_csv(\"private_pitcher.csv\")\n",
    "batter_train = pd.read_csv(\"private_batter.csv\")"
   ]
  },
  {
   "cell_type": "code",
   "execution_count": 93,
   "metadata": {},
   "outputs": [],
   "source": [
    "## test\n",
    "\n",
    "pitcher_test = pd.read_csv(\"private_pitcher_test.csv\", index_col  = 0)\n",
    "batter_test = pd.read_csv(\"private_batter_test.csv\", index_col  = 0)"
   ]
  },
  {
   "cell_type": "code",
   "execution_count": 94,
   "metadata": {},
   "outputs": [
    {
     "name": "stdout",
     "output_type": "stream",
     "text": [
      "(27804, 22)\n",
      "(81102, 14)\n",
      "(168, 14)\n",
      "(165, 11)\n"
     ]
    }
   ],
   "source": [
    "print(pitcher_train.shape)\n",
    "print(batter_train.shape)\n",
    "\n",
    "print(pitcher_test.shape)\n",
    "print(batter_test.shape)"
   ]
  },
  {
   "cell_type": "markdown",
   "metadata": {},
   "source": [
    "## 투수"
   ]
  },
  {
   "cell_type": "code",
   "execution_count": 95,
   "metadata": {},
   "outputs": [
    {
     "data": {
      "text/plain": [
       "Index(['GDAY_DS', 'T_ID', 'P_ID', 'TB_SC', 'INN2', 'BF', 'PA-AB', 'AB', 'HIT',\n",
       "       'H1', 'H2', 'H3', 'HR', 'SB_SR', 'KK', 'WP', 'ER', 'ERA', 'SLG',\n",
       "       'BABIP', 'KK9', 'BB9'],\n",
       "      dtype='object')"
      ]
     },
     "execution_count": 95,
     "metadata": {},
     "output_type": "execute_result"
    }
   ],
   "source": [
    "pitcher_train.columns"
   ]
  },
  {
   "cell_type": "code",
   "execution_count": 96,
   "metadata": {},
   "outputs": [
    {
     "data": {
      "text/plain": [
       "Index(['T_ID', 'P_ID', 'TB_SC', 'INN2', 'PA-AB', 'H1', 'H2', 'H3', 'HR',\n",
       "       'SB_SR', 'WP', 'BABIP', 'KK9', 'BB9'],\n",
       "      dtype='object')"
      ]
     },
     "execution_count": 96,
     "metadata": {},
     "output_type": "execute_result"
    }
   ],
   "source": [
    "pitcher_test.columns"
   ]
  },
  {
   "cell_type": "markdown",
   "metadata": {},
   "source": [
    "### Gameday, 'BF', 'AB', 'HIT', 'KK', 'ER', 'ERA', 'SLG' 빠짐"
   ]
  },
  {
   "cell_type": "markdown",
   "metadata": {},
   "source": [
    "## 타자"
   ]
  },
  {
   "cell_type": "code",
   "execution_count": 97,
   "metadata": {},
   "outputs": [
    {
     "data": {
      "text/plain": [
       "Index(['GDAY_DS', 'T_ID', 'P_ID', 'TB_SC', 'PA-AB', 'AB', 'RUN', 'RBI', 'HIT',\n",
       "       'SH+SF', 'KK', 'AVG', 'SB_trial', 'BABIP'],\n",
       "      dtype='object')"
      ]
     },
     "execution_count": 97,
     "metadata": {},
     "output_type": "execute_result"
    }
   ],
   "source": [
    "batter_train.columns"
   ]
  },
  {
   "cell_type": "code",
   "execution_count": 98,
   "metadata": {},
   "outputs": [
    {
     "data": {
      "text/plain": [
       "Index(['T_ID', 'P_ID', 'TB_SC', 'PA-AB', 'AB', 'RUN', 'RBI', 'SH+SF', 'KK',\n",
       "       'SB_trial', 'BABIP'],\n",
       "      dtype='object')"
      ]
     },
     "execution_count": 98,
     "metadata": {},
     "output_type": "execute_result"
    }
   ],
   "source": [
    "batter_test.columns"
   ]
  },
  {
   "cell_type": "markdown",
   "metadata": {},
   "source": [
    "### Gameday, 'HIT', 'AVG' 빠짐"
   ]
  },
  {
   "cell_type": "code",
   "execution_count": 99,
   "metadata": {},
   "outputs": [],
   "source": [
    "batter_train.drop(columns = ['GDAY_DS','AVG'], inplace = True)\n",
    "pitcher_train.drop(columns = ['GDAY_DS','ERA'], inplace = True)"
   ]
  },
  {
   "cell_type": "code",
   "execution_count": 100,
   "metadata": {},
   "outputs": [],
   "source": [
    "pitcher_train.drop(columns = ['T_ID','P_ID'], inplace = True)\n",
    "batter_train.drop(columns = ['T_ID','P_ID'], inplace = True)\n",
    "\n",
    "pitcher_train.drop(columns = ['BF','AB'], inplace = True)\n",
    "pitcher_train.drop(columns = ['HIT','KK'], inplace = True)\n",
    "pitcher_train.drop(columns = ['SLG'], inplace = True)\n",
    "\n",
    "pitcher_test.drop(columns = ['T_ID','P_ID'], inplace = True)\n",
    "batter_test.drop(columns = ['T_ID','P_ID'], inplace = True)"
   ]
  },
  {
   "cell_type": "code",
   "execution_count": 101,
   "metadata": {},
   "outputs": [
    {
     "name": "stdout",
     "output_type": "stream",
     "text": [
      "(27804, 13)\n",
      "(168, 12)\n",
      "(81102, 10)\n",
      "(165, 9)\n"
     ]
    }
   ],
   "source": [
    "print(pitcher_train.shape)\n",
    "print(pitcher_test.shape)\n",
    "\n",
    "print(batter_train.shape)\n",
    "print(batter_test.shape)"
   ]
  },
  {
   "cell_type": "markdown",
   "metadata": {},
   "source": [
    "# Model Train"
   ]
  },
  {
   "cell_type": "code",
   "execution_count": 102,
   "metadata": {},
   "outputs": [],
   "source": [
    "import seaborn as sns\n",
    "import matplotlib.pyplot as plt\n",
    "from sklearn.model_selection import GridSearchCV, train_test_split\n",
    "from sklearn.metrics import mean_squared_error\n",
    "from math import sqrt"
   ]
  },
  {
   "cell_type": "markdown",
   "metadata": {},
   "source": [
    "### 투수"
   ]
  },
  {
   "cell_type": "code",
   "execution_count": 103,
   "metadata": {},
   "outputs": [
    {
     "data": {
      "text/plain": [
       "TB_SC     object\n",
       "INN2       int64\n",
       "PA-AB      int64\n",
       "H1         int64\n",
       "H2         int64\n",
       "H3         int64\n",
       "HR         int64\n",
       "SB_SR    float64\n",
       "WP         int64\n",
       "ER         int64\n",
       "BABIP    float64\n",
       "KK9      float64\n",
       "BB9      float64\n",
       "dtype: object"
      ]
     },
     "execution_count": 103,
     "metadata": {},
     "output_type": "execute_result"
    }
   ],
   "source": [
    "pitcher_train.dtypes"
   ]
  },
  {
   "cell_type": "code",
   "execution_count": 104,
   "metadata": {},
   "outputs": [
    {
     "data": {
      "text/plain": [
       "TB_SC    category\n",
       "INN2        int64\n",
       "PA-AB       int64\n",
       "H1          int64\n",
       "H2          int64\n",
       "H3          int64\n",
       "HR          int64\n",
       "SB_SR     float64\n",
       "WP          int64\n",
       "ER          int64\n",
       "BABIP     float64\n",
       "KK9       float64\n",
       "BB9       float64\n",
       "dtype: object"
      ]
     },
     "execution_count": 104,
     "metadata": {},
     "output_type": "execute_result"
    }
   ],
   "source": [
    "cat_features = ['TB_SC']\n",
    "pitcher_train[cat_features] = pitcher_train[cat_features].astype('category')\n",
    "\n",
    "pitcher_train.dtypes"
   ]
  },
  {
   "cell_type": "code",
   "execution_count": 105,
   "metadata": {},
   "outputs": [
    {
     "data": {
      "text/plain": [
       "TB_SC    category\n",
       "INN2      float64\n",
       "PA-AB     float64\n",
       "H1        float64\n",
       "H2        float64\n",
       "H3        float64\n",
       "HR        float64\n",
       "SB_SR     float64\n",
       "WP        float64\n",
       "BABIP     float64\n",
       "KK9       float64\n",
       "BB9       float64\n",
       "dtype: object"
      ]
     },
     "execution_count": 105,
     "metadata": {},
     "output_type": "execute_result"
    }
   ],
   "source": [
    "pitcher_test[cat_features] = pitcher_test[cat_features].astype('category')\n",
    "\n",
    "pitcher_test.dtypes"
   ]
  },
  {
   "cell_type": "code",
   "execution_count": 106,
   "metadata": {},
   "outputs": [
    {
     "name": "stdout",
     "output_type": "stream",
     "text": [
      "(19462, 12)\n",
      "(8342, 12)\n",
      "(27804, 12)\n"
     ]
    }
   ],
   "source": [
    "X = pitcher_train.drop(columns = ['ER'])\n",
    "y = pitcher_train['ER']\n",
    "\n",
    "X_train, X_val, y_train, y_val = train_test_split(X, y, test_size = 0.3, shuffle = True, random_state = 2020)\n",
    "\n",
    "print(X_train.shape)\n",
    "print(X_val.shape)\n",
    "print(X.shape)"
   ]
  },
  {
   "cell_type": "code",
   "execution_count": 107,
   "metadata": {},
   "outputs": [],
   "source": [
    "X_train.columns = [\"\".join (c if c.isalnum() else \"_\" for c in str(x)) for x in X_train.columns]\n",
    "X_val.columns = [\"\".join (c if c.isalnum() else \"_\" for c in str(x)) for x in X_val.columns]"
   ]
  },
  {
   "cell_type": "code",
   "execution_count": 108,
   "metadata": {},
   "outputs": [
    {
     "data": {
      "text/plain": [
       "TB_SC    category\n",
       "INN2        int64\n",
       "PA-AB       int64\n",
       "H1          int64\n",
       "H2          int64\n",
       "H3          int64\n",
       "HR          int64\n",
       "SB_SR     float64\n",
       "WP          int64\n",
       "ER          int64\n",
       "BABIP     float64\n",
       "KK9       float64\n",
       "BB9       float64\n",
       "dtype: object"
      ]
     },
     "execution_count": 108,
     "metadata": {},
     "output_type": "execute_result"
    }
   ],
   "source": [
    "# same code again (not needed but doesn't bite)\n",
    "cat_features = ['TB_SC']\n",
    "pitcher_train[cat_features] = pitcher_train[cat_features].astype('category')\n",
    "\n",
    "pitcher_train.dtypes"
   ]
  },
  {
   "cell_type": "code",
   "execution_count": 109,
   "metadata": {},
   "outputs": [
    {
     "data": {
      "text/html": [
       "<div>\n",
       "<style scoped>\n",
       "    .dataframe tbody tr th:only-of-type {\n",
       "        vertical-align: middle;\n",
       "    }\n",
       "\n",
       "    .dataframe tbody tr th {\n",
       "        vertical-align: top;\n",
       "    }\n",
       "\n",
       "    .dataframe thead th {\n",
       "        text-align: right;\n",
       "    }\n",
       "</style>\n",
       "<table border=\"1\" class=\"dataframe\">\n",
       "  <thead>\n",
       "    <tr style=\"text-align: right;\">\n",
       "      <th></th>\n",
       "      <th>INN2</th>\n",
       "      <th>PA-AB</th>\n",
       "      <th>H1</th>\n",
       "      <th>H2</th>\n",
       "      <th>H3</th>\n",
       "      <th>HR</th>\n",
       "      <th>SB_SR</th>\n",
       "      <th>WP</th>\n",
       "      <th>ER</th>\n",
       "      <th>BABIP</th>\n",
       "      <th>KK9</th>\n",
       "      <th>BB9</th>\n",
       "      <th>TB_SC_B</th>\n",
       "      <th>TB_SC_T</th>\n",
       "    </tr>\n",
       "  </thead>\n",
       "  <tbody>\n",
       "    <tr>\n",
       "      <th>0</th>\n",
       "      <td>6</td>\n",
       "      <td>1</td>\n",
       "      <td>1</td>\n",
       "      <td>0</td>\n",
       "      <td>0</td>\n",
       "      <td>0</td>\n",
       "      <td>0.0</td>\n",
       "      <td>0</td>\n",
       "      <td>0</td>\n",
       "      <td>0.250000</td>\n",
       "      <td>13.50</td>\n",
       "      <td>4.50</td>\n",
       "      <td>1</td>\n",
       "      <td>0</td>\n",
       "    </tr>\n",
       "    <tr>\n",
       "      <th>1</th>\n",
       "      <td>5</td>\n",
       "      <td>2</td>\n",
       "      <td>2</td>\n",
       "      <td>0</td>\n",
       "      <td>0</td>\n",
       "      <td>0</td>\n",
       "      <td>0.0</td>\n",
       "      <td>0</td>\n",
       "      <td>0</td>\n",
       "      <td>0.400000</td>\n",
       "      <td>5.40</td>\n",
       "      <td>5.40</td>\n",
       "      <td>1</td>\n",
       "      <td>0</td>\n",
       "    </tr>\n",
       "    <tr>\n",
       "      <th>2</th>\n",
       "      <td>1</td>\n",
       "      <td>0</td>\n",
       "      <td>1</td>\n",
       "      <td>0</td>\n",
       "      <td>0</td>\n",
       "      <td>0</td>\n",
       "      <td>0.0</td>\n",
       "      <td>0</td>\n",
       "      <td>0</td>\n",
       "      <td>0.500000</td>\n",
       "      <td>0.00</td>\n",
       "      <td>0.00</td>\n",
       "      <td>1</td>\n",
       "      <td>0</td>\n",
       "    </tr>\n",
       "    <tr>\n",
       "      <th>3</th>\n",
       "      <td>18</td>\n",
       "      <td>3</td>\n",
       "      <td>7</td>\n",
       "      <td>2</td>\n",
       "      <td>0</td>\n",
       "      <td>0</td>\n",
       "      <td>0.0</td>\n",
       "      <td>0</td>\n",
       "      <td>4</td>\n",
       "      <td>0.428571</td>\n",
       "      <td>6.00</td>\n",
       "      <td>1.50</td>\n",
       "      <td>1</td>\n",
       "      <td>0</td>\n",
       "    </tr>\n",
       "    <tr>\n",
       "      <th>4</th>\n",
       "      <td>4</td>\n",
       "      <td>2</td>\n",
       "      <td>0</td>\n",
       "      <td>1</td>\n",
       "      <td>0</td>\n",
       "      <td>0</td>\n",
       "      <td>0.0</td>\n",
       "      <td>0</td>\n",
       "      <td>1</td>\n",
       "      <td>0.333333</td>\n",
       "      <td>6.75</td>\n",
       "      <td>6.75</td>\n",
       "      <td>0</td>\n",
       "      <td>1</td>\n",
       "    </tr>\n",
       "  </tbody>\n",
       "</table>\n",
       "</div>"
      ],
      "text/plain": [
       "   INN2  PA-AB  H1  H2  H3  HR  SB_SR  WP  ER     BABIP    KK9   BB9  TB_SC_B  \\\n",
       "0     6      1   1   0   0   0    0.0   0   0  0.250000  13.50  4.50        1   \n",
       "1     5      2   2   0   0   0    0.0   0   0  0.400000   5.40  5.40        1   \n",
       "2     1      0   1   0   0   0    0.0   0   0  0.500000   0.00  0.00        1   \n",
       "3    18      3   7   2   0   0    0.0   0   4  0.428571   6.00  1.50        1   \n",
       "4     4      2   0   1   0   0    0.0   0   1  0.333333   6.75  6.75        0   \n",
       "\n",
       "   TB_SC_T  \n",
       "0        0  \n",
       "1        0  \n",
       "2        0  \n",
       "3        0  \n",
       "4        1  "
      ]
     },
     "execution_count": 109,
     "metadata": {},
     "output_type": "execute_result"
    }
   ],
   "source": [
    "#sklearn 을 이용한 random forest는 dummy변수화 해줘야 함.\n",
    "pitcher_train = pd.get_dummies(pitcher_train)\n",
    "pitcher_train.head()"
   ]
  },
  {
   "cell_type": "code",
   "execution_count": 110,
   "metadata": {},
   "outputs": [
    {
     "data": {
      "text/html": [
       "<div>\n",
       "<style scoped>\n",
       "    .dataframe tbody tr th:only-of-type {\n",
       "        vertical-align: middle;\n",
       "    }\n",
       "\n",
       "    .dataframe tbody tr th {\n",
       "        vertical-align: top;\n",
       "    }\n",
       "\n",
       "    .dataframe thead th {\n",
       "        text-align: right;\n",
       "    }\n",
       "</style>\n",
       "<table border=\"1\" class=\"dataframe\">\n",
       "  <thead>\n",
       "    <tr style=\"text-align: right;\">\n",
       "      <th></th>\n",
       "      <th>INN2</th>\n",
       "      <th>PA-AB</th>\n",
       "      <th>H1</th>\n",
       "      <th>H2</th>\n",
       "      <th>H3</th>\n",
       "      <th>HR</th>\n",
       "      <th>SB_SR</th>\n",
       "      <th>WP</th>\n",
       "      <th>BABIP</th>\n",
       "      <th>KK9</th>\n",
       "      <th>BB9</th>\n",
       "      <th>TB_SC_B</th>\n",
       "      <th>TB_SC_T</th>\n",
       "    </tr>\n",
       "  </thead>\n",
       "  <tbody>\n",
       "    <tr>\n",
       "      <th>0</th>\n",
       "      <td>2.77</td>\n",
       "      <td>0.72</td>\n",
       "      <td>0.81</td>\n",
       "      <td>0.21</td>\n",
       "      <td>0.08</td>\n",
       "      <td>0.01</td>\n",
       "      <td>0.01</td>\n",
       "      <td>0.03</td>\n",
       "      <td>0.37</td>\n",
       "      <td>8.28</td>\n",
       "      <td>10.23</td>\n",
       "      <td>1</td>\n",
       "      <td>0</td>\n",
       "    </tr>\n",
       "    <tr>\n",
       "      <th>1</th>\n",
       "      <td>2.09</td>\n",
       "      <td>0.43</td>\n",
       "      <td>0.45</td>\n",
       "      <td>0.05</td>\n",
       "      <td>0.00</td>\n",
       "      <td>0.01</td>\n",
       "      <td>0.00</td>\n",
       "      <td>0.00</td>\n",
       "      <td>0.26</td>\n",
       "      <td>6.03</td>\n",
       "      <td>7.02</td>\n",
       "      <td>1</td>\n",
       "      <td>0</td>\n",
       "    </tr>\n",
       "    <tr>\n",
       "      <th>2</th>\n",
       "      <td>3.26</td>\n",
       "      <td>0.52</td>\n",
       "      <td>0.64</td>\n",
       "      <td>0.08</td>\n",
       "      <td>0.00</td>\n",
       "      <td>0.26</td>\n",
       "      <td>0.05</td>\n",
       "      <td>0.00</td>\n",
       "      <td>0.20</td>\n",
       "      <td>6.17</td>\n",
       "      <td>3.99</td>\n",
       "      <td>0</td>\n",
       "      <td>1</td>\n",
       "    </tr>\n",
       "    <tr>\n",
       "      <th>3</th>\n",
       "      <td>15.77</td>\n",
       "      <td>3.26</td>\n",
       "      <td>4.08</td>\n",
       "      <td>0.74</td>\n",
       "      <td>0.11</td>\n",
       "      <td>0.43</td>\n",
       "      <td>0.63</td>\n",
       "      <td>0.08</td>\n",
       "      <td>0.33</td>\n",
       "      <td>8.07</td>\n",
       "      <td>6.16</td>\n",
       "      <td>0</td>\n",
       "      <td>1</td>\n",
       "    </tr>\n",
       "    <tr>\n",
       "      <th>4</th>\n",
       "      <td>14.93</td>\n",
       "      <td>2.50</td>\n",
       "      <td>3.96</td>\n",
       "      <td>0.91</td>\n",
       "      <td>0.05</td>\n",
       "      <td>0.69</td>\n",
       "      <td>0.36</td>\n",
       "      <td>0.66</td>\n",
       "      <td>0.31</td>\n",
       "      <td>6.81</td>\n",
       "      <td>4.59</td>\n",
       "      <td>0</td>\n",
       "      <td>1</td>\n",
       "    </tr>\n",
       "  </tbody>\n",
       "</table>\n",
       "</div>"
      ],
      "text/plain": [
       "    INN2  PA-AB    H1    H2    H3    HR  SB_SR    WP  BABIP   KK9    BB9  \\\n",
       "0   2.77   0.72  0.81  0.21  0.08  0.01   0.01  0.03   0.37  8.28  10.23   \n",
       "1   2.09   0.43  0.45  0.05  0.00  0.01   0.00  0.00   0.26  6.03   7.02   \n",
       "2   3.26   0.52  0.64  0.08  0.00  0.26   0.05  0.00   0.20  6.17   3.99   \n",
       "3  15.77   3.26  4.08  0.74  0.11  0.43   0.63  0.08   0.33  8.07   6.16   \n",
       "4  14.93   2.50  3.96  0.91  0.05  0.69   0.36  0.66   0.31  6.81   4.59   \n",
       "\n",
       "   TB_SC_B  TB_SC_T  \n",
       "0        1        0  \n",
       "1        1        0  \n",
       "2        0        1  \n",
       "3        0        1  \n",
       "4        0        1  "
      ]
     },
     "execution_count": 110,
     "metadata": {},
     "output_type": "execute_result"
    }
   ],
   "source": [
    "pitcher_test = pd.get_dummies(pitcher_test)\n",
    "pitcher_test.head()"
   ]
  },
  {
   "cell_type": "code",
   "execution_count": 111,
   "metadata": {},
   "outputs": [
    {
     "name": "stdout",
     "output_type": "stream",
     "text": [
      "(19462, 13)\n",
      "(8342, 13)\n",
      "(27804, 13)\n"
     ]
    }
   ],
   "source": [
    "X = pitcher_train.drop(columns = ['ER'])\n",
    "y = pitcher_train['ER']\n",
    "\n",
    "X_train, X_val, y_train, y_val = train_test_split(X, y, test_size = 0.3, shuffle = True, random_state = 2020)\n",
    "\n",
    "print(X_train.shape)\n",
    "print(X_val.shape)\n",
    "\n",
    "print(X.shape)"
   ]
  },
  {
   "cell_type": "code",
   "execution_count": 112,
   "metadata": {},
   "outputs": [
    {
     "name": "stdout",
     "output_type": "stream",
     "text": [
      "Fitting 3 folds for each of 1440 candidates, totalling 4320 fits\n"
     ]
    },
    {
     "name": "stderr",
     "output_type": "stream",
     "text": [
      "[Parallel(n_jobs=-1)]: Using backend LokyBackend with 4 concurrent workers.\n",
      "[Parallel(n_jobs=-1)]: Done  24 tasks      | elapsed:  2.7min\n",
      "[Parallel(n_jobs=-1)]: Done 120 tasks      | elapsed: 12.0min\n",
      "[Parallel(n_jobs=-1)]: Done 280 tasks      | elapsed: 22.5min\n",
      "[Parallel(n_jobs=-1)]: Done 504 tasks      | elapsed: 32.6min\n",
      "[Parallel(n_jobs=-1)]: Done 792 tasks      | elapsed: 51.1min\n",
      "[Parallel(n_jobs=-1)]: Done 1144 tasks      | elapsed: 66.8min\n",
      "[Parallel(n_jobs=-1)]: Done 1560 tasks      | elapsed: 89.1min\n",
      "[Parallel(n_jobs=-1)]: Done 2040 tasks      | elapsed: 117.4min\n",
      "[Parallel(n_jobs=-1)]: Done 2584 tasks      | elapsed: 158.3min\n",
      "[Parallel(n_jobs=-1)]: Done 3192 tasks      | elapsed: 194.3min\n",
      "[Parallel(n_jobs=-1)]: Done 3864 tasks      | elapsed: 250.2min\n",
      "[Parallel(n_jobs=-1)]: Done 4320 out of 4320 | elapsed: 279.7min finished\n"
     ]
    },
    {
     "name": "stdout",
     "output_type": "stream",
     "text": [
      "-0.6187175540662936 {'bootstrap': True, 'max_depth': 10, 'max_features': 'auto', 'min_samples_leaf': 1, 'min_samples_split': 10, 'n_estimators': 1000}\n"
     ]
    }
   ],
   "source": [
    "estimator = RandomForestRegressor(random_state=2020)\n",
    "\n",
    "para_grids = {\n",
    "            \"n_estimators\" : [100, 500, 1000],\n",
    "            \"max_depth\" : [None, 10, 30, 50],\n",
    "            \"min_samples_split\" : [2, 3, 5, 10],\n",
    "            \"min_samples_leaf\" : [1, 3, 5, 10, 15],\n",
    "            \"max_features\" : [\"auto\", \"log2\", \"sqrt\"],\n",
    "            \"bootstrap\"    : [True, False]\n",
    "        }\n",
    "\n",
    "grid = GridSearchCV(estimator, para_grids, cv=3, n_jobs=-1, verbose=3, scoring = 'neg_mean_squared_error')\n",
    "grid.fit(X_train, y_train)\n",
    "forest = grid.best_estimator_\n",
    "\n",
    "reg_prediction=forest.predict(X_val)\n",
    "\n",
    "print (grid.best_score_, grid.best_params_)"
   ]
  },
  {
   "cell_type": "code",
   "execution_count": 113,
   "metadata": {},
   "outputs": [],
   "source": [
    "mse = mean_squared_error(y_val, reg_prediction)"
   ]
  },
  {
   "cell_type": "code",
   "execution_count": 114,
   "metadata": {},
   "outputs": [
    {
     "data": {
      "text/plain": [
       "0.6008945138670255"
      ]
     },
     "execution_count": 114,
     "metadata": {},
     "output_type": "execute_result"
    }
   ],
   "source": [
    "mse"
   ]
  },
  {
   "cell_type": "code",
   "execution_count": 115,
   "metadata": {},
   "outputs": [
    {
     "data": {
      "text/plain": [
       "array([0.22618274, 0.04654054, 0.10081933, 1.84019694, 3.16675317,\n",
       "       2.66573063, 1.18187287, 0.10528557, 2.23939914, 0.04619796,\n",
       "       0.33723321, 0.0154405 , 0.03080321, 3.19782547, 1.45408674,\n",
       "       0.10623486, 0.0154405 , 0.10081885, 0.10202099, 3.27293588,\n",
       "       3.19933268, 0.11328965, 0.02534685, 1.85606709, 0.11033591,\n",
       "       1.16806407, 1.84281333, 0.03034289, 4.34713808, 0.25193332,\n",
       "       0.11089855, 0.16831265, 0.02865875, 0.18933136, 0.10898892,\n",
       "       1.68203861, 0.10831152, 0.09538684, 0.47166744, 2.95217805,\n",
       "       0.65136634, 1.82297034, 0.10157906, 2.59904038, 0.10948289,\n",
       "       0.1960939 , 3.31304488, 0.11263635, 0.098445  , 0.57076021,\n",
       "       0.47485785, 1.41607676, 3.31154445, 0.06240856, 1.45748695,\n",
       "       0.22049703, 0.2378469 , 0.01529945, 1.88704241, 0.11147973,\n",
       "       0.03467089, 2.14279314, 0.10946578, 0.04046285, 2.93495997,\n",
       "       0.11433541, 0.10936593, 0.11165103, 1.48635552, 2.09907906,\n",
       "       0.23246726, 0.1908776 , 0.09931778, 0.10977345, 0.02849825,\n",
       "       0.59378482, 0.19096449, 0.354148  , 3.29609196, 0.1116232 ,\n",
       "       2.95078538, 0.49967032, 0.04374595, 0.13413921, 0.10864865,\n",
       "       0.11673295, 0.11441296, 0.17174999, 0.11231115, 0.1141416 ,\n",
       "       0.11276353, 0.11268739, 0.11513682, 0.11089358, 1.59641504,\n",
       "       0.02768745, 0.10409387, 3.37474648, 0.11085125, 0.11530724,\n",
       "       0.04913341, 3.77432214, 0.11225934, 1.14617061, 0.03439324,\n",
       "       0.11170996, 3.12421373, 1.57348236, 0.29058846, 0.03090469,\n",
       "       0.03985006, 3.36268498, 0.11412848, 1.45154744, 0.11147168,\n",
       "       0.4575645 , 0.72351542, 1.7020485 , 0.11282341, 3.19099053,\n",
       "       0.44016797, 1.38009434, 3.34537399, 0.47495279, 0.4725115 ,\n",
       "       0.72393617, 1.88245251, 0.12920621, 0.4802866 , 0.08305115,\n",
       "       0.10285196, 0.54658578, 0.09328753, 1.76024383, 0.24794331,\n",
       "       0.46445651, 1.38167514, 3.04972596, 1.32602202, 0.14426526,\n",
       "       0.10568723, 0.23373376, 0.11136378, 2.08766273, 3.141345  ,\n",
       "       1.38410018, 0.2349668 , 2.34081011, 1.65530002, 1.56689907,\n",
       "       1.98917093, 0.11524038, 0.11268739, 0.1041105 , 0.43194627,\n",
       "       1.07301727, 0.11152707, 0.24088939, 3.02027794, 0.44254611,\n",
       "       4.80412471, 0.19111204, 0.04379595, 3.52288288, 1.9515858 ,\n",
       "       0.04274132, 0.04374595, 0.04857378])"
      ]
     },
     "execution_count": 115,
     "metadata": {},
     "output_type": "execute_result"
    }
   ],
   "source": [
    "pitcher_predicted_rf = grid.predict(pitcher_test)\n",
    "pitcher_predicted_rf"
   ]
  },
  {
   "cell_type": "code",
   "execution_count": 116,
   "metadata": {},
   "outputs": [
    {
     "data": {
      "text/plain": [
       "H1         0.448054\n",
       "HR         0.225092\n",
       "BABIP      0.098173\n",
       "H2         0.082892\n",
       "BB9        0.045259\n",
       "PA-AB      0.031288\n",
       "INN2       0.030438\n",
       "KK9        0.019291\n",
       "H3         0.010754\n",
       "WP         0.003902\n",
       "SB_SR      0.002811\n",
       "TB_SC_T    0.001034\n",
       "TB_SC_B    0.001012\n",
       "dtype: float64"
      ]
     },
     "execution_count": 116,
     "metadata": {},
     "output_type": "execute_result"
    }
   ],
   "source": [
    "rf_feature_importance = grid.best_estimator_.feature_importances_\n",
    "rf_feature_imp=pd.Series(rf_feature_importance,index=X_train.columns).sort_values(ascending=False)\n",
    "rf_feature_imp"
   ]
  },
  {
   "cell_type": "code",
   "execution_count": 117,
   "metadata": {},
   "outputs": [
    {
     "data": {
      "text/plain": [
       "<matplotlib.axes._subplots.AxesSubplot at 0x121a83be108>"
      ]
     },
     "execution_count": 117,
     "metadata": {},
     "output_type": "execute_result"
    },
    {
     "data": {
      "image/png": "[encoded data removed]",
      "text/plain": [
       "<Figure size 864x720 with 1 Axes>"
      ]
     },
     "metadata": {
      "needs_background": "light"
     },
     "output_type": "display_data"
    }
   ],
   "source": [
    "plt.figure(figsize=(12,10))\n",
    "plt.title(\"Random Forest feature Importance For Pitchers\")\n",
    "sns.barplot(x=rf_feature_imp[0:30], y=rf_feature_imp.index[0:30])"
   ]
  },
  {
   "cell_type": "code",
   "execution_count": 118,
   "metadata": {},
   "outputs": [
    {
     "data": {
      "text/html": [
       "<div>\n",
       "<style scoped>\n",
       "    .dataframe tbody tr th:only-of-type {\n",
       "        vertical-align: middle;\n",
       "    }\n",
       "\n",
       "    .dataframe tbody tr th {\n",
       "        vertical-align: top;\n",
       "    }\n",
       "\n",
       "    .dataframe thead th {\n",
       "        text-align: right;\n",
       "    }\n",
       "</style>\n",
       "<table border=\"1\" class=\"dataframe\">\n",
       "  <thead>\n",
       "    <tr style=\"text-align: right;\">\n",
       "      <th></th>\n",
       "      <th>INN2</th>\n",
       "      <th>PA-AB</th>\n",
       "      <th>H1</th>\n",
       "      <th>H2</th>\n",
       "      <th>H3</th>\n",
       "      <th>HR</th>\n",
       "      <th>SB_SR</th>\n",
       "      <th>WP</th>\n",
       "      <th>BABIP</th>\n",
       "      <th>KK9</th>\n",
       "      <th>BB9</th>\n",
       "      <th>TB_SC_B</th>\n",
       "      <th>TB_SC_T</th>\n",
       "    </tr>\n",
       "  </thead>\n",
       "  <tbody>\n",
       "    <tr>\n",
       "      <th>0</th>\n",
       "      <td>2.77</td>\n",
       "      <td>0.72</td>\n",
       "      <td>0.81</td>\n",
       "      <td>0.21</td>\n",
       "      <td>0.08</td>\n",
       "      <td>0.01</td>\n",
       "      <td>0.01</td>\n",
       "      <td>0.03</td>\n",
       "      <td>0.37</td>\n",
       "      <td>8.28</td>\n",
       "      <td>10.23</td>\n",
       "      <td>1</td>\n",
       "      <td>0</td>\n",
       "    </tr>\n",
       "    <tr>\n",
       "      <th>1</th>\n",
       "      <td>2.09</td>\n",
       "      <td>0.43</td>\n",
       "      <td>0.45</td>\n",
       "      <td>0.05</td>\n",
       "      <td>0.00</td>\n",
       "      <td>0.01</td>\n",
       "      <td>0.00</td>\n",
       "      <td>0.00</td>\n",
       "      <td>0.26</td>\n",
       "      <td>6.03</td>\n",
       "      <td>7.02</td>\n",
       "      <td>1</td>\n",
       "      <td>0</td>\n",
       "    </tr>\n",
       "    <tr>\n",
       "      <th>2</th>\n",
       "      <td>3.26</td>\n",
       "      <td>0.52</td>\n",
       "      <td>0.64</td>\n",
       "      <td>0.08</td>\n",
       "      <td>0.00</td>\n",
       "      <td>0.26</td>\n",
       "      <td>0.05</td>\n",
       "      <td>0.00</td>\n",
       "      <td>0.20</td>\n",
       "      <td>6.17</td>\n",
       "      <td>3.99</td>\n",
       "      <td>0</td>\n",
       "      <td>1</td>\n",
       "    </tr>\n",
       "    <tr>\n",
       "      <th>3</th>\n",
       "      <td>15.77</td>\n",
       "      <td>3.26</td>\n",
       "      <td>4.08</td>\n",
       "      <td>0.74</td>\n",
       "      <td>0.11</td>\n",
       "      <td>0.43</td>\n",
       "      <td>0.63</td>\n",
       "      <td>0.08</td>\n",
       "      <td>0.33</td>\n",
       "      <td>8.07</td>\n",
       "      <td>6.16</td>\n",
       "      <td>0</td>\n",
       "      <td>1</td>\n",
       "    </tr>\n",
       "    <tr>\n",
       "      <th>4</th>\n",
       "      <td>14.93</td>\n",
       "      <td>2.50</td>\n",
       "      <td>3.96</td>\n",
       "      <td>0.91</td>\n",
       "      <td>0.05</td>\n",
       "      <td>0.69</td>\n",
       "      <td>0.36</td>\n",
       "      <td>0.66</td>\n",
       "      <td>0.31</td>\n",
       "      <td>6.81</td>\n",
       "      <td>4.59</td>\n",
       "      <td>0</td>\n",
       "      <td>1</td>\n",
       "    </tr>\n",
       "  </tbody>\n",
       "</table>\n",
       "</div>"
      ],
      "text/plain": [
       "    INN2  PA-AB    H1    H2    H3    HR  SB_SR    WP  BABIP   KK9    BB9  \\\n",
       "0   2.77   0.72  0.81  0.21  0.08  0.01   0.01  0.03   0.37  8.28  10.23   \n",
       "1   2.09   0.43  0.45  0.05  0.00  0.01   0.00  0.00   0.26  6.03   7.02   \n",
       "2   3.26   0.52  0.64  0.08  0.00  0.26   0.05  0.00   0.20  6.17   3.99   \n",
       "3  15.77   3.26  4.08  0.74  0.11  0.43   0.63  0.08   0.33  8.07   6.16   \n",
       "4  14.93   2.50  3.96  0.91  0.05  0.69   0.36  0.66   0.31  6.81   4.59   \n",
       "\n",
       "   TB_SC_B  TB_SC_T  \n",
       "0        1        0  \n",
       "1        1        0  \n",
       "2        0        1  \n",
       "3        0        1  \n",
       "4        0        1  "
      ]
     },
     "execution_count": 118,
     "metadata": {},
     "output_type": "execute_result"
    }
   ],
   "source": [
    "pitcher_test.head()"
   ]
  },
  {
   "cell_type": "code",
   "execution_count": 119,
   "metadata": {},
   "outputs": [
    {
     "data": {
      "text/html": [
       "<div>\n",
       "<style scoped>\n",
       "    .dataframe tbody tr th:only-of-type {\n",
       "        vertical-align: middle;\n",
       "    }\n",
       "\n",
       "    .dataframe tbody tr th {\n",
       "        vertical-align: top;\n",
       "    }\n",
       "\n",
       "    .dataframe thead th {\n",
       "        text-align: right;\n",
       "    }\n",
       "</style>\n",
       "<table border=\"1\" class=\"dataframe\">\n",
       "  <thead>\n",
       "    <tr style=\"text-align: right;\">\n",
       "      <th></th>\n",
       "      <th>T_ID</th>\n",
       "      <th>P_ID</th>\n",
       "      <th>TB_SC</th>\n",
       "      <th>INN2</th>\n",
       "      <th>PA-AB</th>\n",
       "      <th>H1</th>\n",
       "      <th>H2</th>\n",
       "      <th>H3</th>\n",
       "      <th>HR</th>\n",
       "      <th>SB_SR</th>\n",
       "      <th>WP</th>\n",
       "      <th>BABIP</th>\n",
       "      <th>KK9</th>\n",
       "      <th>BB9</th>\n",
       "    </tr>\n",
       "  </thead>\n",
       "  <tbody>\n",
       "    <tr>\n",
       "      <th>0</th>\n",
       "      <td>OB</td>\n",
       "      <td>77263</td>\n",
       "      <td>B</td>\n",
       "      <td>2.77</td>\n",
       "      <td>0.72</td>\n",
       "      <td>0.81</td>\n",
       "      <td>0.21</td>\n",
       "      <td>0.08</td>\n",
       "      <td>0.01</td>\n",
       "      <td>0.01</td>\n",
       "      <td>0.03</td>\n",
       "      <td>0.37</td>\n",
       "      <td>8.28</td>\n",
       "      <td>10.23</td>\n",
       "    </tr>\n",
       "    <tr>\n",
       "      <th>1</th>\n",
       "      <td>NC</td>\n",
       "      <td>63959</td>\n",
       "      <td>B</td>\n",
       "      <td>2.09</td>\n",
       "      <td>0.43</td>\n",
       "      <td>0.45</td>\n",
       "      <td>0.05</td>\n",
       "      <td>0.00</td>\n",
       "      <td>0.01</td>\n",
       "      <td>0.00</td>\n",
       "      <td>0.00</td>\n",
       "      <td>0.26</td>\n",
       "      <td>6.03</td>\n",
       "      <td>7.02</td>\n",
       "    </tr>\n",
       "    <tr>\n",
       "      <th>2</th>\n",
       "      <td>NC</td>\n",
       "      <td>61295</td>\n",
       "      <td>T</td>\n",
       "      <td>3.26</td>\n",
       "      <td>0.52</td>\n",
       "      <td>0.64</td>\n",
       "      <td>0.08</td>\n",
       "      <td>0.00</td>\n",
       "      <td>0.26</td>\n",
       "      <td>0.05</td>\n",
       "      <td>0.00</td>\n",
       "      <td>0.20</td>\n",
       "      <td>6.17</td>\n",
       "      <td>3.99</td>\n",
       "    </tr>\n",
       "    <tr>\n",
       "      <th>3</th>\n",
       "      <td>SK</td>\n",
       "      <td>60841</td>\n",
       "      <td>T</td>\n",
       "      <td>15.77</td>\n",
       "      <td>3.26</td>\n",
       "      <td>4.08</td>\n",
       "      <td>0.74</td>\n",
       "      <td>0.11</td>\n",
       "      <td>0.43</td>\n",
       "      <td>0.63</td>\n",
       "      <td>0.08</td>\n",
       "      <td>0.33</td>\n",
       "      <td>8.07</td>\n",
       "      <td>6.16</td>\n",
       "    </tr>\n",
       "    <tr>\n",
       "      <th>4</th>\n",
       "      <td>LT</td>\n",
       "      <td>64021</td>\n",
       "      <td>T</td>\n",
       "      <td>14.93</td>\n",
       "      <td>2.50</td>\n",
       "      <td>3.96</td>\n",
       "      <td>0.91</td>\n",
       "      <td>0.05</td>\n",
       "      <td>0.69</td>\n",
       "      <td>0.36</td>\n",
       "      <td>0.66</td>\n",
       "      <td>0.31</td>\n",
       "      <td>6.81</td>\n",
       "      <td>4.59</td>\n",
       "    </tr>\n",
       "  </tbody>\n",
       "</table>\n",
       "</div>"
      ],
      "text/plain": [
       "  T_ID   P_ID TB_SC   INN2  PA-AB    H1    H2    H3    HR  SB_SR    WP  BABIP  \\\n",
       "0   OB  77263     B   2.77   0.72  0.81  0.21  0.08  0.01   0.01  0.03   0.37   \n",
       "1   NC  63959     B   2.09   0.43  0.45  0.05  0.00  0.01   0.00  0.00   0.26   \n",
       "2   NC  61295     T   3.26   0.52  0.64  0.08  0.00  0.26   0.05  0.00   0.20   \n",
       "3   SK  60841     T  15.77   3.26  4.08  0.74  0.11  0.43   0.63  0.08   0.33   \n",
       "4   LT  64021     T  14.93   2.50  3.96  0.91  0.05  0.69   0.36  0.66   0.31   \n",
       "\n",
       "    KK9    BB9  \n",
       "0  8.28  10.23  \n",
       "1  6.03   7.02  \n",
       "2  6.17   3.99  \n",
       "3  8.07   6.16  \n",
       "4  6.81   4.59  "
      ]
     },
     "execution_count": 119,
     "metadata": {},
     "output_type": "execute_result"
    }
   ],
   "source": [
    "pitcher_test = pd.read_csv(\"private_pitcher_test.csv\", index_col  = 0)\n",
    "pitcher_test.head()"
   ]
  },
  {
   "cell_type": "code",
   "execution_count": 120,
   "metadata": {},
   "outputs": [],
   "source": [
    "pitcher_test['ER'] = np.round(pitcher_predicted_rf,2)"
   ]
  },
  {
   "cell_type": "code",
   "execution_count": 121,
   "metadata": {},
   "outputs": [
    {
     "data": {
      "text/html": [
       "<div>\n",
       "<style scoped>\n",
       "    .dataframe tbody tr th:only-of-type {\n",
       "        vertical-align: middle;\n",
       "    }\n",
       "\n",
       "    .dataframe tbody tr th {\n",
       "        vertical-align: top;\n",
       "    }\n",
       "\n",
       "    .dataframe thead th {\n",
       "        text-align: right;\n",
       "    }\n",
       "</style>\n",
       "<table border=\"1\" class=\"dataframe\">\n",
       "  <thead>\n",
       "    <tr style=\"text-align: right;\">\n",
       "      <th></th>\n",
       "      <th>T_ID</th>\n",
       "      <th>P_ID</th>\n",
       "      <th>TB_SC</th>\n",
       "      <th>INN2</th>\n",
       "      <th>PA-AB</th>\n",
       "      <th>H1</th>\n",
       "      <th>H2</th>\n",
       "      <th>H3</th>\n",
       "      <th>HR</th>\n",
       "      <th>SB_SR</th>\n",
       "      <th>WP</th>\n",
       "      <th>BABIP</th>\n",
       "      <th>KK9</th>\n",
       "      <th>BB9</th>\n",
       "      <th>ER</th>\n",
       "    </tr>\n",
       "  </thead>\n",
       "  <tbody>\n",
       "    <tr>\n",
       "      <th>0</th>\n",
       "      <td>OB</td>\n",
       "      <td>77263</td>\n",
       "      <td>B</td>\n",
       "      <td>2.77</td>\n",
       "      <td>0.72</td>\n",
       "      <td>0.81</td>\n",
       "      <td>0.21</td>\n",
       "      <td>0.08</td>\n",
       "      <td>0.01</td>\n",
       "      <td>0.01</td>\n",
       "      <td>0.03</td>\n",
       "      <td>0.37</td>\n",
       "      <td>8.28</td>\n",
       "      <td>10.23</td>\n",
       "      <td>0.23</td>\n",
       "    </tr>\n",
       "    <tr>\n",
       "      <th>1</th>\n",
       "      <td>NC</td>\n",
       "      <td>63959</td>\n",
       "      <td>B</td>\n",
       "      <td>2.09</td>\n",
       "      <td>0.43</td>\n",
       "      <td>0.45</td>\n",
       "      <td>0.05</td>\n",
       "      <td>0.00</td>\n",
       "      <td>0.01</td>\n",
       "      <td>0.00</td>\n",
       "      <td>0.00</td>\n",
       "      <td>0.26</td>\n",
       "      <td>6.03</td>\n",
       "      <td>7.02</td>\n",
       "      <td>0.05</td>\n",
       "    </tr>\n",
       "    <tr>\n",
       "      <th>2</th>\n",
       "      <td>NC</td>\n",
       "      <td>61295</td>\n",
       "      <td>T</td>\n",
       "      <td>3.26</td>\n",
       "      <td>0.52</td>\n",
       "      <td>0.64</td>\n",
       "      <td>0.08</td>\n",
       "      <td>0.00</td>\n",
       "      <td>0.26</td>\n",
       "      <td>0.05</td>\n",
       "      <td>0.00</td>\n",
       "      <td>0.20</td>\n",
       "      <td>6.17</td>\n",
       "      <td>3.99</td>\n",
       "      <td>0.10</td>\n",
       "    </tr>\n",
       "    <tr>\n",
       "      <th>3</th>\n",
       "      <td>SK</td>\n",
       "      <td>60841</td>\n",
       "      <td>T</td>\n",
       "      <td>15.77</td>\n",
       "      <td>3.26</td>\n",
       "      <td>4.08</td>\n",
       "      <td>0.74</td>\n",
       "      <td>0.11</td>\n",
       "      <td>0.43</td>\n",
       "      <td>0.63</td>\n",
       "      <td>0.08</td>\n",
       "      <td>0.33</td>\n",
       "      <td>8.07</td>\n",
       "      <td>6.16</td>\n",
       "      <td>1.84</td>\n",
       "    </tr>\n",
       "    <tr>\n",
       "      <th>4</th>\n",
       "      <td>LT</td>\n",
       "      <td>64021</td>\n",
       "      <td>T</td>\n",
       "      <td>14.93</td>\n",
       "      <td>2.50</td>\n",
       "      <td>3.96</td>\n",
       "      <td>0.91</td>\n",
       "      <td>0.05</td>\n",
       "      <td>0.69</td>\n",
       "      <td>0.36</td>\n",
       "      <td>0.66</td>\n",
       "      <td>0.31</td>\n",
       "      <td>6.81</td>\n",
       "      <td>4.59</td>\n",
       "      <td>3.17</td>\n",
       "    </tr>\n",
       "  </tbody>\n",
       "</table>\n",
       "</div>"
      ],
      "text/plain": [
       "  T_ID   P_ID TB_SC   INN2  PA-AB    H1    H2    H3    HR  SB_SR    WP  BABIP  \\\n",
       "0   OB  77263     B   2.77   0.72  0.81  0.21  0.08  0.01   0.01  0.03   0.37   \n",
       "1   NC  63959     B   2.09   0.43  0.45  0.05  0.00  0.01   0.00  0.00   0.26   \n",
       "2   NC  61295     T   3.26   0.52  0.64  0.08  0.00  0.26   0.05  0.00   0.20   \n",
       "3   SK  60841     T  15.77   3.26  4.08  0.74  0.11  0.43   0.63  0.08   0.33   \n",
       "4   LT  64021     T  14.93   2.50  3.96  0.91  0.05  0.69   0.36  0.66   0.31   \n",
       "\n",
       "    KK9    BB9    ER  \n",
       "0  8.28  10.23  0.23  \n",
       "1  6.03   7.02  0.05  \n",
       "2  6.17   3.99  0.10  \n",
       "3  8.07   6.16  1.84  \n",
       "4  6.81   4.59  3.17  "
      ]
     },
     "execution_count": 121,
     "metadata": {},
     "output_type": "execute_result"
    }
   ],
   "source": [
    "pitcher_test.head()"
   ]
  },
  {
   "cell_type": "code",
   "execution_count": 122,
   "metadata": {},
   "outputs": [],
   "source": [
    "pitcher_test.to_csv(\"C:/Users/ishon/OneDrive/바탕 화면/big_con/big_contest_2020_summer/modeling_code/report_data/private_pitcher_report_rf.csv\")"
   ]
  },
  {
   "cell_type": "markdown",
   "metadata": {},
   "source": [
    "## 타자"
   ]
  },
  {
   "cell_type": "code",
   "execution_count": 123,
   "metadata": {},
   "outputs": [
    {
     "data": {
      "text/plain": [
       "TB_SC        object\n",
       "PA-AB         int64\n",
       "AB            int64\n",
       "RUN           int64\n",
       "RBI           int64\n",
       "HIT           int64\n",
       "SH+SF         int64\n",
       "KK            int64\n",
       "SB_trial      int64\n",
       "BABIP       float64\n",
       "dtype: object"
      ]
     },
     "execution_count": 123,
     "metadata": {},
     "output_type": "execute_result"
    }
   ],
   "source": [
    "batter_train.dtypes"
   ]
  },
  {
   "cell_type": "code",
   "execution_count": 124,
   "metadata": {},
   "outputs": [],
   "source": [
    "cat_features = ['TB_SC']\n",
    "batter_train[cat_features] = batter_train[cat_features].astype('category')"
   ]
  },
  {
   "cell_type": "code",
   "execution_count": 125,
   "metadata": {},
   "outputs": [
    {
     "data": {
      "text/plain": [
       "TB_SC       category\n",
       "PA-AB          int64\n",
       "AB             int64\n",
       "RUN            int64\n",
       "RBI            int64\n",
       "HIT            int64\n",
       "SH+SF          int64\n",
       "KK             int64\n",
       "SB_trial       int64\n",
       "BABIP        float64\n",
       "dtype: object"
      ]
     },
     "execution_count": 125,
     "metadata": {},
     "output_type": "execute_result"
    }
   ],
   "source": [
    "batter_train.dtypes"
   ]
  },
  {
   "cell_type": "code",
   "execution_count": 126,
   "metadata": {},
   "outputs": [
    {
     "data": {
      "text/plain": [
       "TB_SC       category\n",
       "PA-AB        float64\n",
       "AB           float64\n",
       "RUN          float64\n",
       "RBI          float64\n",
       "SH+SF        float64\n",
       "KK           float64\n",
       "SB_trial     float64\n",
       "BABIP        float64\n",
       "dtype: object"
      ]
     },
     "execution_count": 126,
     "metadata": {},
     "output_type": "execute_result"
    }
   ],
   "source": [
    "batter_test[cat_features] = batter_test[cat_features].astype('category')\n",
    "\n",
    "batter_test.dtypes"
   ]
  },
  {
   "cell_type": "code",
   "execution_count": 127,
   "metadata": {
    "scrolled": false
   },
   "outputs": [
    {
     "data": {
      "text/html": [
       "<div>\n",
       "<style scoped>\n",
       "    .dataframe tbody tr th:only-of-type {\n",
       "        vertical-align: middle;\n",
       "    }\n",
       "\n",
       "    .dataframe tbody tr th {\n",
       "        vertical-align: top;\n",
       "    }\n",
       "\n",
       "    .dataframe thead th {\n",
       "        text-align: right;\n",
       "    }\n",
       "</style>\n",
       "<table border=\"1\" class=\"dataframe\">\n",
       "  <thead>\n",
       "    <tr style=\"text-align: right;\">\n",
       "      <th></th>\n",
       "      <th>TB_SC</th>\n",
       "      <th>PA-AB</th>\n",
       "      <th>AB</th>\n",
       "      <th>RUN</th>\n",
       "      <th>RBI</th>\n",
       "      <th>HIT</th>\n",
       "      <th>SH+SF</th>\n",
       "      <th>KK</th>\n",
       "      <th>SB_trial</th>\n",
       "      <th>BABIP</th>\n",
       "    </tr>\n",
       "  </thead>\n",
       "  <tbody>\n",
       "    <tr>\n",
       "      <th>0</th>\n",
       "      <td>T</td>\n",
       "      <td>0</td>\n",
       "      <td>1</td>\n",
       "      <td>0</td>\n",
       "      <td>0</td>\n",
       "      <td>1</td>\n",
       "      <td>0</td>\n",
       "      <td>0</td>\n",
       "      <td>0</td>\n",
       "      <td>1.000000</td>\n",
       "    </tr>\n",
       "    <tr>\n",
       "      <th>1</th>\n",
       "      <td>B</td>\n",
       "      <td>0</td>\n",
       "      <td>3</td>\n",
       "      <td>0</td>\n",
       "      <td>0</td>\n",
       "      <td>0</td>\n",
       "      <td>0</td>\n",
       "      <td>2</td>\n",
       "      <td>0</td>\n",
       "      <td>0.000000</td>\n",
       "    </tr>\n",
       "    <tr>\n",
       "      <th>2</th>\n",
       "      <td>B</td>\n",
       "      <td>0</td>\n",
       "      <td>4</td>\n",
       "      <td>2</td>\n",
       "      <td>2</td>\n",
       "      <td>3</td>\n",
       "      <td>0</td>\n",
       "      <td>1</td>\n",
       "      <td>1</td>\n",
       "      <td>1.000000</td>\n",
       "    </tr>\n",
       "    <tr>\n",
       "      <th>3</th>\n",
       "      <td>B</td>\n",
       "      <td>1</td>\n",
       "      <td>0</td>\n",
       "      <td>0</td>\n",
       "      <td>0</td>\n",
       "      <td>0</td>\n",
       "      <td>0</td>\n",
       "      <td>0</td>\n",
       "      <td>0</td>\n",
       "      <td>0.000000</td>\n",
       "    </tr>\n",
       "    <tr>\n",
       "      <th>4</th>\n",
       "      <td>T</td>\n",
       "      <td>0</td>\n",
       "      <td>2</td>\n",
       "      <td>1</td>\n",
       "      <td>0</td>\n",
       "      <td>1</td>\n",
       "      <td>0</td>\n",
       "      <td>0</td>\n",
       "      <td>0</td>\n",
       "      <td>0.500000</td>\n",
       "    </tr>\n",
       "    <tr>\n",
       "      <th>...</th>\n",
       "      <td>...</td>\n",
       "      <td>...</td>\n",
       "      <td>...</td>\n",
       "      <td>...</td>\n",
       "      <td>...</td>\n",
       "      <td>...</td>\n",
       "      <td>...</td>\n",
       "      <td>...</td>\n",
       "      <td>...</td>\n",
       "      <td>...</td>\n",
       "    </tr>\n",
       "    <tr>\n",
       "      <th>81097</th>\n",
       "      <td>B</td>\n",
       "      <td>0</td>\n",
       "      <td>4</td>\n",
       "      <td>0</td>\n",
       "      <td>0</td>\n",
       "      <td>1</td>\n",
       "      <td>0</td>\n",
       "      <td>1</td>\n",
       "      <td>0</td>\n",
       "      <td>0.333333</td>\n",
       "    </tr>\n",
       "    <tr>\n",
       "      <th>81098</th>\n",
       "      <td>B</td>\n",
       "      <td>1</td>\n",
       "      <td>3</td>\n",
       "      <td>0</td>\n",
       "      <td>1</td>\n",
       "      <td>3</td>\n",
       "      <td>0</td>\n",
       "      <td>0</td>\n",
       "      <td>0</td>\n",
       "      <td>1.000000</td>\n",
       "    </tr>\n",
       "    <tr>\n",
       "      <th>81099</th>\n",
       "      <td>B</td>\n",
       "      <td>1</td>\n",
       "      <td>0</td>\n",
       "      <td>0</td>\n",
       "      <td>0</td>\n",
       "      <td>0</td>\n",
       "      <td>0</td>\n",
       "      <td>0</td>\n",
       "      <td>0</td>\n",
       "      <td>0.000000</td>\n",
       "    </tr>\n",
       "    <tr>\n",
       "      <th>81100</th>\n",
       "      <td>T</td>\n",
       "      <td>0</td>\n",
       "      <td>5</td>\n",
       "      <td>0</td>\n",
       "      <td>0</td>\n",
       "      <td>0</td>\n",
       "      <td>0</td>\n",
       "      <td>0</td>\n",
       "      <td>0</td>\n",
       "      <td>0.000000</td>\n",
       "    </tr>\n",
       "    <tr>\n",
       "      <th>81101</th>\n",
       "      <td>T</td>\n",
       "      <td>0</td>\n",
       "      <td>4</td>\n",
       "      <td>0</td>\n",
       "      <td>0</td>\n",
       "      <td>0</td>\n",
       "      <td>0</td>\n",
       "      <td>0</td>\n",
       "      <td>0</td>\n",
       "      <td>0.000000</td>\n",
       "    </tr>\n",
       "  </tbody>\n",
       "</table>\n",
       "<p>81102 rows × 10 columns</p>\n",
       "</div>"
      ],
      "text/plain": [
       "      TB_SC  PA-AB  AB  RUN  RBI  HIT  SH+SF  KK  SB_trial     BABIP\n",
       "0         T      0   1    0    0    1      0   0         0  1.000000\n",
       "1         B      0   3    0    0    0      0   2         0  0.000000\n",
       "2         B      0   4    2    2    3      0   1         1  1.000000\n",
       "3         B      1   0    0    0    0      0   0         0  0.000000\n",
       "4         T      0   2    1    0    1      0   0         0  0.500000\n",
       "...     ...    ...  ..  ...  ...  ...    ...  ..       ...       ...\n",
       "81097     B      0   4    0    0    1      0   1         0  0.333333\n",
       "81098     B      1   3    0    1    3      0   0         0  1.000000\n",
       "81099     B      1   0    0    0    0      0   0         0  0.000000\n",
       "81100     T      0   5    0    0    0      0   0         0  0.000000\n",
       "81101     T      0   4    0    0    0      0   0         0  0.000000\n",
       "\n",
       "[81102 rows x 10 columns]"
      ]
     },
     "execution_count": 127,
     "metadata": {},
     "output_type": "execute_result"
    }
   ],
   "source": [
    "batter_train"
   ]
  },
  {
   "cell_type": "code",
   "execution_count": 128,
   "metadata": {},
   "outputs": [
    {
     "data": {
      "text/html": [
       "<div>\n",
       "<style scoped>\n",
       "    .dataframe tbody tr th:only-of-type {\n",
       "        vertical-align: middle;\n",
       "    }\n",
       "\n",
       "    .dataframe tbody tr th {\n",
       "        vertical-align: top;\n",
       "    }\n",
       "\n",
       "    .dataframe thead th {\n",
       "        text-align: right;\n",
       "    }\n",
       "</style>\n",
       "<table border=\"1\" class=\"dataframe\">\n",
       "  <thead>\n",
       "    <tr style=\"text-align: right;\">\n",
       "      <th></th>\n",
       "      <th>PA-AB</th>\n",
       "      <th>AB</th>\n",
       "      <th>RUN</th>\n",
       "      <th>RBI</th>\n",
       "      <th>HIT</th>\n",
       "      <th>SH+SF</th>\n",
       "      <th>KK</th>\n",
       "      <th>SB_trial</th>\n",
       "      <th>BABIP</th>\n",
       "      <th>TB_SC_B</th>\n",
       "      <th>TB_SC_T</th>\n",
       "    </tr>\n",
       "  </thead>\n",
       "  <tbody>\n",
       "    <tr>\n",
       "      <th>0</th>\n",
       "      <td>0</td>\n",
       "      <td>1</td>\n",
       "      <td>0</td>\n",
       "      <td>0</td>\n",
       "      <td>1</td>\n",
       "      <td>0</td>\n",
       "      <td>0</td>\n",
       "      <td>0</td>\n",
       "      <td>1.0</td>\n",
       "      <td>0</td>\n",
       "      <td>1</td>\n",
       "    </tr>\n",
       "    <tr>\n",
       "      <th>1</th>\n",
       "      <td>0</td>\n",
       "      <td>3</td>\n",
       "      <td>0</td>\n",
       "      <td>0</td>\n",
       "      <td>0</td>\n",
       "      <td>0</td>\n",
       "      <td>2</td>\n",
       "      <td>0</td>\n",
       "      <td>0.0</td>\n",
       "      <td>1</td>\n",
       "      <td>0</td>\n",
       "    </tr>\n",
       "    <tr>\n",
       "      <th>2</th>\n",
       "      <td>0</td>\n",
       "      <td>4</td>\n",
       "      <td>2</td>\n",
       "      <td>2</td>\n",
       "      <td>3</td>\n",
       "      <td>0</td>\n",
       "      <td>1</td>\n",
       "      <td>1</td>\n",
       "      <td>1.0</td>\n",
       "      <td>1</td>\n",
       "      <td>0</td>\n",
       "    </tr>\n",
       "    <tr>\n",
       "      <th>3</th>\n",
       "      <td>1</td>\n",
       "      <td>0</td>\n",
       "      <td>0</td>\n",
       "      <td>0</td>\n",
       "      <td>0</td>\n",
       "      <td>0</td>\n",
       "      <td>0</td>\n",
       "      <td>0</td>\n",
       "      <td>0.0</td>\n",
       "      <td>1</td>\n",
       "      <td>0</td>\n",
       "    </tr>\n",
       "    <tr>\n",
       "      <th>4</th>\n",
       "      <td>0</td>\n",
       "      <td>2</td>\n",
       "      <td>1</td>\n",
       "      <td>0</td>\n",
       "      <td>1</td>\n",
       "      <td>0</td>\n",
       "      <td>0</td>\n",
       "      <td>0</td>\n",
       "      <td>0.5</td>\n",
       "      <td>0</td>\n",
       "      <td>1</td>\n",
       "    </tr>\n",
       "  </tbody>\n",
       "</table>\n",
       "</div>"
      ],
      "text/plain": [
       "   PA-AB  AB  RUN  RBI  HIT  SH+SF  KK  SB_trial  BABIP  TB_SC_B  TB_SC_T\n",
       "0      0   1    0    0    1      0   0         0    1.0        0        1\n",
       "1      0   3    0    0    0      0   2         0    0.0        1        0\n",
       "2      0   4    2    2    3      0   1         1    1.0        1        0\n",
       "3      1   0    0    0    0      0   0         0    0.0        1        0\n",
       "4      0   2    1    0    1      0   0         0    0.5        0        1"
      ]
     },
     "execution_count": 128,
     "metadata": {},
     "output_type": "execute_result"
    }
   ],
   "source": [
    "#sklearn 을 이용한 random forest는 dummy변수화 해줘야 함.\n",
    "batter_train = pd.get_dummies(batter_train)\n",
    "batter_train.head()"
   ]
  },
  {
   "cell_type": "code",
   "execution_count": 129,
   "metadata": {},
   "outputs": [
    {
     "data": {
      "text/html": [
       "<div>\n",
       "<style scoped>\n",
       "    .dataframe tbody tr th:only-of-type {\n",
       "        vertical-align: middle;\n",
       "    }\n",
       "\n",
       "    .dataframe tbody tr th {\n",
       "        vertical-align: top;\n",
       "    }\n",
       "\n",
       "    .dataframe thead th {\n",
       "        text-align: right;\n",
       "    }\n",
       "</style>\n",
       "<table border=\"1\" class=\"dataframe\">\n",
       "  <thead>\n",
       "    <tr style=\"text-align: right;\">\n",
       "      <th></th>\n",
       "      <th>PA-AB</th>\n",
       "      <th>AB</th>\n",
       "      <th>RUN</th>\n",
       "      <th>RBI</th>\n",
       "      <th>SH+SF</th>\n",
       "      <th>KK</th>\n",
       "      <th>SB_trial</th>\n",
       "      <th>BABIP</th>\n",
       "      <th>TB_SC_B</th>\n",
       "      <th>TB_SC_T</th>\n",
       "    </tr>\n",
       "  </thead>\n",
       "  <tbody>\n",
       "    <tr>\n",
       "      <th>0</th>\n",
       "      <td>0.37</td>\n",
       "      <td>4.01</td>\n",
       "      <td>0.73</td>\n",
       "      <td>0.45</td>\n",
       "      <td>0.08</td>\n",
       "      <td>0.38</td>\n",
       "      <td>0.07</td>\n",
       "      <td>0.35</td>\n",
       "      <td>1</td>\n",
       "      <td>0</td>\n",
       "    </tr>\n",
       "    <tr>\n",
       "      <th>1</th>\n",
       "      <td>0.14</td>\n",
       "      <td>2.08</td>\n",
       "      <td>0.31</td>\n",
       "      <td>0.33</td>\n",
       "      <td>0.03</td>\n",
       "      <td>0.37</td>\n",
       "      <td>0.26</td>\n",
       "      <td>0.15</td>\n",
       "      <td>1</td>\n",
       "      <td>0</td>\n",
       "    </tr>\n",
       "    <tr>\n",
       "      <th>2</th>\n",
       "      <td>0.21</td>\n",
       "      <td>3.74</td>\n",
       "      <td>0.61</td>\n",
       "      <td>0.28</td>\n",
       "      <td>0.03</td>\n",
       "      <td>0.46</td>\n",
       "      <td>0.14</td>\n",
       "      <td>0.31</td>\n",
       "      <td>0</td>\n",
       "      <td>1</td>\n",
       "    </tr>\n",
       "    <tr>\n",
       "      <th>3</th>\n",
       "      <td>0.14</td>\n",
       "      <td>1.58</td>\n",
       "      <td>0.19</td>\n",
       "      <td>0.26</td>\n",
       "      <td>0.05</td>\n",
       "      <td>0.23</td>\n",
       "      <td>0.00</td>\n",
       "      <td>0.24</td>\n",
       "      <td>1</td>\n",
       "      <td>0</td>\n",
       "    </tr>\n",
       "    <tr>\n",
       "      <th>4</th>\n",
       "      <td>0.20</td>\n",
       "      <td>3.07</td>\n",
       "      <td>0.24</td>\n",
       "      <td>0.34</td>\n",
       "      <td>0.07</td>\n",
       "      <td>0.82</td>\n",
       "      <td>0.20</td>\n",
       "      <td>0.17</td>\n",
       "      <td>0</td>\n",
       "      <td>1</td>\n",
       "    </tr>\n",
       "  </tbody>\n",
       "</table>\n",
       "</div>"
      ],
      "text/plain": [
       "   PA-AB    AB   RUN   RBI  SH+SF    KK  SB_trial  BABIP  TB_SC_B  TB_SC_T\n",
       "0   0.37  4.01  0.73  0.45   0.08  0.38      0.07   0.35        1        0\n",
       "1   0.14  2.08  0.31  0.33   0.03  0.37      0.26   0.15        1        0\n",
       "2   0.21  3.74  0.61  0.28   0.03  0.46      0.14   0.31        0        1\n",
       "3   0.14  1.58  0.19  0.26   0.05  0.23      0.00   0.24        1        0\n",
       "4   0.20  3.07  0.24  0.34   0.07  0.82      0.20   0.17        0        1"
      ]
     },
     "execution_count": 129,
     "metadata": {},
     "output_type": "execute_result"
    }
   ],
   "source": [
    "batter_test = pd.get_dummies(batter_test)\n",
    "batter_test.head()"
   ]
  },
  {
   "cell_type": "code",
   "execution_count": 130,
   "metadata": {},
   "outputs": [],
   "source": [
    "X = batter_train.drop(columns = ['HIT'])\n",
    "y = batter_train['HIT']\n",
    "\n",
    "X_train, X_val, y_train, y_val = train_test_split(X, y, test_size = 0.3, shuffle = True, random_state = 2020)\n",
    "\n",
    "X_train.columns = [\"\".join (c if c.isalnum() else \"_\" for c in str(x)) for x in X_train.columns]\n",
    "X_val.columns = [\"\".join (c if c.isalnum() else \"_\" for c in str(x)) for x in X_val.columns]"
   ]
  },
  {
   "cell_type": "code",
   "execution_count": 131,
   "metadata": {},
   "outputs": [
    {
     "name": "stdout",
     "output_type": "stream",
     "text": [
      "Fitting 3 folds for each of 576 candidates, totalling 1728 fits\n"
     ]
    },
    {
     "name": "stderr",
     "output_type": "stream",
     "text": [
      "[Parallel(n_jobs=-1)]: Using backend LokyBackend with 4 concurrent workers.\n",
      "[Parallel(n_jobs=-1)]: Done  24 tasks      | elapsed:  4.3min\n",
      "[Parallel(n_jobs=-1)]: Done 120 tasks      | elapsed: 17.3min\n",
      "[Parallel(n_jobs=-1)]: Done 280 tasks      | elapsed: 37.3min\n",
      "[Parallel(n_jobs=-1)]: Done 504 tasks      | elapsed: 64.3min\n",
      "[Parallel(n_jobs=-1)]: Done 792 tasks      | elapsed: 97.5min\n",
      "[Parallel(n_jobs=-1)]: Done 1144 tasks      | elapsed: 150.1min\n",
      "[Parallel(n_jobs=-1)]: Done 1560 tasks      | elapsed: 209.9min\n",
      "[Parallel(n_jobs=-1)]: Done 1728 out of 1728 | elapsed: 233.3min finished\n"
     ]
    },
    {
     "name": "stdout",
     "output_type": "stream",
     "text": [
      "-0.005764702652110688 {'bootstrap': True, 'max_depth': None, 'max_features': 'auto', 'min_samples_leaf': 1, 'min_samples_split': 5, 'n_estimators': 1000}\n"
     ]
    }
   ],
   "source": [
    "estimator = RandomForestRegressor(random_state=2020)\n",
    "\n",
    "para_grids = {\n",
    "            \"n_estimators\" : [500, 1000],\n",
    "            \"max_depth\" : [None, 10, 30, 50],\n",
    "            \"min_samples_split\" : [2, 5, 10],\n",
    "            \"min_samples_leaf\" : [1, 5, 10, 15],\n",
    "            \"max_features\" : [\"auto\", \"log2\", \"sqrt\"],\n",
    "            \"bootstrap\"    : [True, False]\n",
    "        }\n",
    "\n",
    "grid = GridSearchCV(estimator, para_grids, cv=3, n_jobs=-1, verbose=3, scoring = 'neg_mean_squared_error')\n",
    "grid.fit(X_train, y_train)\n",
    "forest = grid.best_estimator_\n",
    "\n",
    "reg_prediction=forest.predict(X_val)\n",
    "\n",
    "print (grid.best_score_, grid.best_params_)"
   ]
  },
  {
   "cell_type": "code",
   "execution_count": 132,
   "metadata": {},
   "outputs": [],
   "source": [
    "mse = mean_squared_error(y_val, reg_prediction)"
   ]
  },
  {
   "cell_type": "code",
   "execution_count": 133,
   "metadata": {},
   "outputs": [
    {
     "data": {
      "text/plain": [
       "0.004000545476581492"
      ]
     },
     "execution_count": 133,
     "metadata": {},
     "output_type": "execute_result"
    }
   ],
   "source": [
    "mse"
   ]
  },
  {
   "cell_type": "code",
   "execution_count": 134,
   "metadata": {},
   "outputs": [
    {
     "data": {
      "text/plain": [
       "array([1.   , 1.   , 1.   , 1.   , 1.   , 0.   , 1.   , 2.   , 1.   ,\n",
       "       1.   , 1.   , 1.   , 1.   , 1.   , 1.   , 1.   , 1.   , 1.   ,\n",
       "       1.   , 1.   , 1.   , 1.   , 1.   , 1.   , 1.   , 1.   , 0.   ,\n",
       "       1.   , 1.   , 1.   , 1.   , 0.   , 1.   , 1.   , 1.   , 1.   ,\n",
       "       0.   , 1.   , 1.   , 1.985, 1.   , 1.   , 2.   , 1.   , 1.   ,\n",
       "       0.   , 1.   , 1.   , 1.   , 0.   , 1.   , 1.   , 1.   , 1.   ,\n",
       "       2.   , 2.   , 1.   , 1.   , 1.   , 1.   , 1.   , 0.   , 1.   ,\n",
       "       1.   , 1.   , 1.   , 1.035, 1.   , 0.   , 1.   , 1.   , 1.   ,\n",
       "       0.   , 1.   , 0.   , 1.   , 1.   , 2.   , 1.   , 1.   , 1.   ,\n",
       "       0.   , 0.   , 1.   , 1.   , 1.   , 2.   , 0.   , 1.   , 1.   ,\n",
       "       1.   , 1.   , 1.   , 0.   , 0.   , 1.   , 1.   , 1.   , 1.   ,\n",
       "       1.   , 1.   , 1.   , 1.   , 1.   , 1.   , 0.   , 1.   , 1.985,\n",
       "       1.   , 1.   , 1.   , 1.   , 1.   , 1.   , 1.   , 0.   , 1.   ,\n",
       "       1.   , 1.   , 1.   , 1.   , 1.   , 1.   , 1.   , 1.   , 0.   ,\n",
       "       0.   , 0.   , 0.   , 0.   , 0.   , 0.   , 0.   , 0.   , 0.   ,\n",
       "       0.   , 0.   , 0.   , 0.   , 0.   , 0.   , 1.   , 0.   , 0.   ,\n",
       "       1.   , 0.   , 0.   , 0.   , 0.   , 1.   , 0.   , 0.   , 0.   ,\n",
       "       0.   , 0.   , 0.   , 1.   , 0.   , 0.   , 1.   , 0.   , 0.   ,\n",
       "       0.   , 0.   , 1.   ])"
      ]
     },
     "execution_count": 134,
     "metadata": {},
     "output_type": "execute_result"
    }
   ],
   "source": [
    "batter_predicted_rf = grid.predict(batter_test)\n",
    "batter_predicted_rf"
   ]
  },
  {
   "cell_type": "code",
   "execution_count": 135,
   "metadata": {},
   "outputs": [
    {
     "data": {
      "text/plain": [
       "BABIP       0.762888\n",
       "AB          0.107034\n",
       "KK          0.072405\n",
       "RBI         0.040462\n",
       "RUN         0.013943\n",
       "SH_SF       0.001415\n",
       "PA_AB       0.001370\n",
       "TB_SC_T     0.000163\n",
       "TB_SC_B     0.000160\n",
       "SB_trial    0.000160\n",
       "dtype: float64"
      ]
     },
     "execution_count": 135,
     "metadata": {},
     "output_type": "execute_result"
    }
   ],
   "source": [
    "rf_feature_importance = grid.best_estimator_.feature_importances_\n",
    "rf_feature_imp=pd.Series(rf_feature_importance,index=X_train.columns).sort_values(ascending=False)\n",
    "rf_feature_imp"
   ]
  },
  {
   "cell_type": "code",
   "execution_count": 136,
   "metadata": {},
   "outputs": [
    {
     "data": {
      "text/plain": [
       "<matplotlib.axes._subplots.AxesSubplot at 0x121b27a6088>"
      ]
     },
     "execution_count": 136,
     "metadata": {},
     "output_type": "execute_result"
    },
    {
     "data": {
      "image/png": "[encoded data removed]",
      "text/plain": [
       "<Figure size 864x720 with 1 Axes>"
      ]
     },
     "metadata": {
      "needs_background": "light"
     },
     "output_type": "display_data"
    }
   ],
   "source": [
    "plt.figure(figsize=(12,10))\n",
    "plt.title(\"Random Forest feature Importance For Pitchers\")\n",
    "sns.barplot(x=rf_feature_imp[0:30], y=rf_feature_imp.index[0:30])"
   ]
  },
  {
   "cell_type": "code",
   "execution_count": 137,
   "metadata": {},
   "outputs": [
    {
     "data": {
      "text/html": [
       "<div>\n",
       "<style scoped>\n",
       "    .dataframe tbody tr th:only-of-type {\n",
       "        vertical-align: middle;\n",
       "    }\n",
       "\n",
       "    .dataframe tbody tr th {\n",
       "        vertical-align: top;\n",
       "    }\n",
       "\n",
       "    .dataframe thead th {\n",
       "        text-align: right;\n",
       "    }\n",
       "</style>\n",
       "<table border=\"1\" class=\"dataframe\">\n",
       "  <thead>\n",
       "    <tr style=\"text-align: right;\">\n",
       "      <th></th>\n",
       "      <th>PA-AB</th>\n",
       "      <th>AB</th>\n",
       "      <th>RUN</th>\n",
       "      <th>RBI</th>\n",
       "      <th>SH+SF</th>\n",
       "      <th>KK</th>\n",
       "      <th>SB_trial</th>\n",
       "      <th>BABIP</th>\n",
       "      <th>TB_SC_B</th>\n",
       "      <th>TB_SC_T</th>\n",
       "    </tr>\n",
       "  </thead>\n",
       "  <tbody>\n",
       "    <tr>\n",
       "      <th>0</th>\n",
       "      <td>0.37</td>\n",
       "      <td>4.01</td>\n",
       "      <td>0.73</td>\n",
       "      <td>0.45</td>\n",
       "      <td>0.08</td>\n",
       "      <td>0.38</td>\n",
       "      <td>0.07</td>\n",
       "      <td>0.35</td>\n",
       "      <td>1</td>\n",
       "      <td>0</td>\n",
       "    </tr>\n",
       "    <tr>\n",
       "      <th>1</th>\n",
       "      <td>0.14</td>\n",
       "      <td>2.08</td>\n",
       "      <td>0.31</td>\n",
       "      <td>0.33</td>\n",
       "      <td>0.03</td>\n",
       "      <td>0.37</td>\n",
       "      <td>0.26</td>\n",
       "      <td>0.15</td>\n",
       "      <td>1</td>\n",
       "      <td>0</td>\n",
       "    </tr>\n",
       "    <tr>\n",
       "      <th>2</th>\n",
       "      <td>0.21</td>\n",
       "      <td>3.74</td>\n",
       "      <td>0.61</td>\n",
       "      <td>0.28</td>\n",
       "      <td>0.03</td>\n",
       "      <td>0.46</td>\n",
       "      <td>0.14</td>\n",
       "      <td>0.31</td>\n",
       "      <td>0</td>\n",
       "      <td>1</td>\n",
       "    </tr>\n",
       "    <tr>\n",
       "      <th>3</th>\n",
       "      <td>0.14</td>\n",
       "      <td>1.58</td>\n",
       "      <td>0.19</td>\n",
       "      <td>0.26</td>\n",
       "      <td>0.05</td>\n",
       "      <td>0.23</td>\n",
       "      <td>0.00</td>\n",
       "      <td>0.24</td>\n",
       "      <td>1</td>\n",
       "      <td>0</td>\n",
       "    </tr>\n",
       "    <tr>\n",
       "      <th>4</th>\n",
       "      <td>0.20</td>\n",
       "      <td>3.07</td>\n",
       "      <td>0.24</td>\n",
       "      <td>0.34</td>\n",
       "      <td>0.07</td>\n",
       "      <td>0.82</td>\n",
       "      <td>0.20</td>\n",
       "      <td>0.17</td>\n",
       "      <td>0</td>\n",
       "      <td>1</td>\n",
       "    </tr>\n",
       "  </tbody>\n",
       "</table>\n",
       "</div>"
      ],
      "text/plain": [
       "   PA-AB    AB   RUN   RBI  SH+SF    KK  SB_trial  BABIP  TB_SC_B  TB_SC_T\n",
       "0   0.37  4.01  0.73  0.45   0.08  0.38      0.07   0.35        1        0\n",
       "1   0.14  2.08  0.31  0.33   0.03  0.37      0.26   0.15        1        0\n",
       "2   0.21  3.74  0.61  0.28   0.03  0.46      0.14   0.31        0        1\n",
       "3   0.14  1.58  0.19  0.26   0.05  0.23      0.00   0.24        1        0\n",
       "4   0.20  3.07  0.24  0.34   0.07  0.82      0.20   0.17        0        1"
      ]
     },
     "execution_count": 137,
     "metadata": {},
     "output_type": "execute_result"
    }
   ],
   "source": [
    "batter_test.head()"
   ]
  },
  {
   "cell_type": "code",
   "execution_count": 138,
   "metadata": {},
   "outputs": [
    {
     "data": {
      "text/html": [
       "<div>\n",
       "<style scoped>\n",
       "    .dataframe tbody tr th:only-of-type {\n",
       "        vertical-align: middle;\n",
       "    }\n",
       "\n",
       "    .dataframe tbody tr th {\n",
       "        vertical-align: top;\n",
       "    }\n",
       "\n",
       "    .dataframe thead th {\n",
       "        text-align: right;\n",
       "    }\n",
       "</style>\n",
       "<table border=\"1\" class=\"dataframe\">\n",
       "  <thead>\n",
       "    <tr style=\"text-align: right;\">\n",
       "      <th></th>\n",
       "      <th>T_ID</th>\n",
       "      <th>P_ID</th>\n",
       "      <th>TB_SC</th>\n",
       "      <th>PA-AB</th>\n",
       "      <th>AB</th>\n",
       "      <th>RUN</th>\n",
       "      <th>RBI</th>\n",
       "      <th>SH+SF</th>\n",
       "      <th>KK</th>\n",
       "      <th>SB_trial</th>\n",
       "      <th>BABIP</th>\n",
       "    </tr>\n",
       "  </thead>\n",
       "  <tbody>\n",
       "    <tr>\n",
       "      <th>0</th>\n",
       "      <td>NC</td>\n",
       "      <td>62907</td>\n",
       "      <td>B</td>\n",
       "      <td>0.37</td>\n",
       "      <td>4.01</td>\n",
       "      <td>0.73</td>\n",
       "      <td>0.45</td>\n",
       "      <td>0.08</td>\n",
       "      <td>0.38</td>\n",
       "      <td>0.07</td>\n",
       "      <td>0.35</td>\n",
       "    </tr>\n",
       "    <tr>\n",
       "      <th>1</th>\n",
       "      <td>NC</td>\n",
       "      <td>62934</td>\n",
       "      <td>B</td>\n",
       "      <td>0.14</td>\n",
       "      <td>2.08</td>\n",
       "      <td>0.31</td>\n",
       "      <td>0.33</td>\n",
       "      <td>0.03</td>\n",
       "      <td>0.37</td>\n",
       "      <td>0.26</td>\n",
       "      <td>0.15</td>\n",
       "    </tr>\n",
       "    <tr>\n",
       "      <th>2</th>\n",
       "      <td>HT</td>\n",
       "      <td>64646</td>\n",
       "      <td>T</td>\n",
       "      <td>0.21</td>\n",
       "      <td>3.74</td>\n",
       "      <td>0.61</td>\n",
       "      <td>0.28</td>\n",
       "      <td>0.03</td>\n",
       "      <td>0.46</td>\n",
       "      <td>0.14</td>\n",
       "      <td>0.31</td>\n",
       "    </tr>\n",
       "    <tr>\n",
       "      <th>3</th>\n",
       "      <td>NC</td>\n",
       "      <td>78122</td>\n",
       "      <td>B</td>\n",
       "      <td>0.14</td>\n",
       "      <td>1.58</td>\n",
       "      <td>0.19</td>\n",
       "      <td>0.26</td>\n",
       "      <td>0.05</td>\n",
       "      <td>0.23</td>\n",
       "      <td>0.00</td>\n",
       "      <td>0.24</td>\n",
       "    </tr>\n",
       "    <tr>\n",
       "      <th>4</th>\n",
       "      <td>KT</td>\n",
       "      <td>64006</td>\n",
       "      <td>T</td>\n",
       "      <td>0.20</td>\n",
       "      <td>3.07</td>\n",
       "      <td>0.24</td>\n",
       "      <td>0.34</td>\n",
       "      <td>0.07</td>\n",
       "      <td>0.82</td>\n",
       "      <td>0.20</td>\n",
       "      <td>0.17</td>\n",
       "    </tr>\n",
       "  </tbody>\n",
       "</table>\n",
       "</div>"
      ],
      "text/plain": [
       "  T_ID   P_ID TB_SC  PA-AB    AB   RUN   RBI  SH+SF    KK  SB_trial  BABIP\n",
       "0   NC  62907     B   0.37  4.01  0.73  0.45   0.08  0.38      0.07   0.35\n",
       "1   NC  62934     B   0.14  2.08  0.31  0.33   0.03  0.37      0.26   0.15\n",
       "2   HT  64646     T   0.21  3.74  0.61  0.28   0.03  0.46      0.14   0.31\n",
       "3   NC  78122     B   0.14  1.58  0.19  0.26   0.05  0.23      0.00   0.24\n",
       "4   KT  64006     T   0.20  3.07  0.24  0.34   0.07  0.82      0.20   0.17"
      ]
     },
     "execution_count": 138,
     "metadata": {},
     "output_type": "execute_result"
    }
   ],
   "source": [
    "batter_test = pd.read_csv(\"private_batter_test.csv\", index_col  = 0)\n",
    "batter_test.head()"
   ]
  },
  {
   "cell_type": "code",
   "execution_count": 139,
   "metadata": {},
   "outputs": [],
   "source": [
    "batter_test['HIT'] = np.round(batter_predicted_rf,2)"
   ]
  },
  {
   "cell_type": "code",
   "execution_count": 140,
   "metadata": {},
   "outputs": [
    {
     "data": {
      "text/html": [
       "<div>\n",
       "<style scoped>\n",
       "    .dataframe tbody tr th:only-of-type {\n",
       "        vertical-align: middle;\n",
       "    }\n",
       "\n",
       "    .dataframe tbody tr th {\n",
       "        vertical-align: top;\n",
       "    }\n",
       "\n",
       "    .dataframe thead th {\n",
       "        text-align: right;\n",
       "    }\n",
       "</style>\n",
       "<table border=\"1\" class=\"dataframe\">\n",
       "  <thead>\n",
       "    <tr style=\"text-align: right;\">\n",
       "      <th></th>\n",
       "      <th>T_ID</th>\n",
       "      <th>P_ID</th>\n",
       "      <th>TB_SC</th>\n",
       "      <th>PA-AB</th>\n",
       "      <th>AB</th>\n",
       "      <th>RUN</th>\n",
       "      <th>RBI</th>\n",
       "      <th>SH+SF</th>\n",
       "      <th>KK</th>\n",
       "      <th>SB_trial</th>\n",
       "      <th>BABIP</th>\n",
       "      <th>HIT</th>\n",
       "    </tr>\n",
       "  </thead>\n",
       "  <tbody>\n",
       "    <tr>\n",
       "      <th>0</th>\n",
       "      <td>NC</td>\n",
       "      <td>62907</td>\n",
       "      <td>B</td>\n",
       "      <td>0.37</td>\n",
       "      <td>4.01</td>\n",
       "      <td>0.73</td>\n",
       "      <td>0.45</td>\n",
       "      <td>0.08</td>\n",
       "      <td>0.38</td>\n",
       "      <td>0.07</td>\n",
       "      <td>0.35</td>\n",
       "      <td>1.0</td>\n",
       "    </tr>\n",
       "    <tr>\n",
       "      <th>1</th>\n",
       "      <td>NC</td>\n",
       "      <td>62934</td>\n",
       "      <td>B</td>\n",
       "      <td>0.14</td>\n",
       "      <td>2.08</td>\n",
       "      <td>0.31</td>\n",
       "      <td>0.33</td>\n",
       "      <td>0.03</td>\n",
       "      <td>0.37</td>\n",
       "      <td>0.26</td>\n",
       "      <td>0.15</td>\n",
       "      <td>1.0</td>\n",
       "    </tr>\n",
       "    <tr>\n",
       "      <th>2</th>\n",
       "      <td>HT</td>\n",
       "      <td>64646</td>\n",
       "      <td>T</td>\n",
       "      <td>0.21</td>\n",
       "      <td>3.74</td>\n",
       "      <td>0.61</td>\n",
       "      <td>0.28</td>\n",
       "      <td>0.03</td>\n",
       "      <td>0.46</td>\n",
       "      <td>0.14</td>\n",
       "      <td>0.31</td>\n",
       "      <td>1.0</td>\n",
       "    </tr>\n",
       "    <tr>\n",
       "      <th>3</th>\n",
       "      <td>NC</td>\n",
       "      <td>78122</td>\n",
       "      <td>B</td>\n",
       "      <td>0.14</td>\n",
       "      <td>1.58</td>\n",
       "      <td>0.19</td>\n",
       "      <td>0.26</td>\n",
       "      <td>0.05</td>\n",
       "      <td>0.23</td>\n",
       "      <td>0.00</td>\n",
       "      <td>0.24</td>\n",
       "      <td>1.0</td>\n",
       "    </tr>\n",
       "    <tr>\n",
       "      <th>4</th>\n",
       "      <td>KT</td>\n",
       "      <td>64006</td>\n",
       "      <td>T</td>\n",
       "      <td>0.20</td>\n",
       "      <td>3.07</td>\n",
       "      <td>0.24</td>\n",
       "      <td>0.34</td>\n",
       "      <td>0.07</td>\n",
       "      <td>0.82</td>\n",
       "      <td>0.20</td>\n",
       "      <td>0.17</td>\n",
       "      <td>1.0</td>\n",
       "    </tr>\n",
       "  </tbody>\n",
       "</table>\n",
       "</div>"
      ],
      "text/plain": [
       "  T_ID   P_ID TB_SC  PA-AB    AB   RUN   RBI  SH+SF    KK  SB_trial  BABIP  \\\n",
       "0   NC  62907     B   0.37  4.01  0.73  0.45   0.08  0.38      0.07   0.35   \n",
       "1   NC  62934     B   0.14  2.08  0.31  0.33   0.03  0.37      0.26   0.15   \n",
       "2   HT  64646     T   0.21  3.74  0.61  0.28   0.03  0.46      0.14   0.31   \n",
       "3   NC  78122     B   0.14  1.58  0.19  0.26   0.05  0.23      0.00   0.24   \n",
       "4   KT  64006     T   0.20  3.07  0.24  0.34   0.07  0.82      0.20   0.17   \n",
       "\n",
       "   HIT  \n",
       "0  1.0  \n",
       "1  1.0  \n",
       "2  1.0  \n",
       "3  1.0  \n",
       "4  1.0  "
      ]
     },
     "execution_count": 140,
     "metadata": {},
     "output_type": "execute_result"
    }
   ],
   "source": [
    "batter_test.head()"
   ]
  },
  {
   "cell_type": "code",
   "execution_count": 141,
   "metadata": {},
   "outputs": [],
   "source": [
    "batter_test.to_csv(\"C:/Users/ishon/OneDrive/바탕 화면/big_con/big_contest_2020_summer/modeling_code/report_data/private_batter_report_rf.csv\")"
   ]
  }
 ],
 "metadata": {
  "kernelspec": {
   "display_name": "Python 3",
   "language": "python",
   "name": "python3"
  },
  "language_info": {
   "codemirror_mode": {
    "name": "ipython",
    "version": 3
   },
   "file_extension": ".py",
   "mimetype": "text/x-python",
   "name": "python",
   "nbconvert_exporter": "python",
   "pygments_lexer": "ipython3",
   "version": "3.8.3"
  }
 },
 "nbformat": 4,
 "nbformat_minor": 4
}
