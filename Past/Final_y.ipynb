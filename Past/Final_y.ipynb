{
 "cells": [
  {
   "cell_type": "code",
   "execution_count": 1,
   "metadata": {},
   "outputs": [],
   "source": [
    "import numpy as np\n",
    "import pandas as pd"
   ]
  },
  {
   "cell_type": "code",
   "execution_count": 2,
   "metadata": {},
   "outputs": [],
   "source": [
    "batter = pd.read_csv('team_batter.csv')\n",
    "pitcher = pd.read_csv('team_pitcher.csv')\n",
    "batter['GDAY_DS'] = pd.to_datetime(batter['GDAY_DS'],format='%Y%m%d')\n",
    "pitcher['GDAY_DS'] = pd.to_datetime(pitcher['GDAY_DS'],format='%Y%m%d')"
   ]
  },
  {
   "cell_type": "code",
   "execution_count": 3,
   "metadata": {},
   "outputs": [],
   "source": [
    "batter = batter[batter['GDAY_DS'].dt.year>=2020][['T_ID','RUN']]\n",
    "pitcher = pitcher[pitcher['GDAY_DS'].dt.year>=2020][['T_ID','ER']]"
   ]
  },
  {
   "cell_type": "code",
   "execution_count": 4,
   "metadata": {},
   "outputs": [],
   "source": [
    "RUN = batter['RUN'].groupby(batter['T_ID']).sum()\n",
    "ER = pitcher['ER'].groupby(pitcher['T_ID']).sum()"
   ]
  },
  {
   "cell_type": "code",
   "execution_count": 5,
   "metadata": {},
   "outputs": [],
   "source": [
    "WR = (RUN ** 2) / ((RUN ** 2) + (ER ** 2))"
   ]
  },
  {
   "cell_type": "code",
   "execution_count": 6,
   "metadata": {},
   "outputs": [
    {
     "data": {
      "text/plain": [
       "T_ID\n",
       "HH    0.294683\n",
       "HT    0.583043\n",
       "KT    0.539710\n",
       "LG    0.583521\n",
       "LT    0.521620\n",
       "NC    0.671297\n",
       "OB    0.609756\n",
       "SK    0.402553\n",
       "SS    0.602566\n",
       "WO    0.590687\n",
       "dtype: float64"
      ]
     },
     "execution_count": 6,
     "metadata": {},
     "output_type": "execute_result"
    }
   ],
   "source": [
    "WR"
   ]
  },
  {
   "cell_type": "code",
   "execution_count": 7,
   "metadata": {},
   "outputs": [
    {
     "name": "stdout",
     "output_type": "stream",
     "text": [
      "5.3994379593784405\n"
     ]
    }
   ],
   "source": [
    "print(sum(WR))"
   ]
  },
  {
   "cell_type": "code",
   "execution_count": 8,
   "metadata": {},
   "outputs": [],
   "source": [
    "batter = pd.read_csv('report_data/new_batter_report_xgb.csv')\n",
    "HIT = batter['HIT'].groupby(batter['T_ID']).sum()\n",
    "AB = batter['AB'].groupby(batter['T_ID']).sum()\n",
    "AVG = HIT/AB"
   ]
  },
  {
   "cell_type": "code",
   "execution_count": 9,
   "metadata": {},
   "outputs": [
    {
     "data": {
      "text/plain": [
       "T_ID\n",
       "HH    0.273720\n",
       "HT    0.279354\n",
       "KT    0.270775\n",
       "LG    0.277884\n",
       "LT    0.276886\n",
       "NC    0.282182\n",
       "OB    0.271753\n",
       "SK    0.272903\n",
       "SS    0.276818\n",
       "WO    0.274706\n",
       "dtype: float64"
      ]
     },
     "execution_count": 9,
     "metadata": {},
     "output_type": "execute_result"
    }
   ],
   "source": [
    "AVG"
   ]
  },
  {
   "cell_type": "code",
   "execution_count": 10,
   "metadata": {},
   "outputs": [
    {
     "data": {
      "text/plain": [
       "T_ID\n",
       "HH    4.998118\n",
       "HT    5.042143\n",
       "KT    4.993842\n",
       "LG    4.751309\n",
       "LT    4.966388\n",
       "NC    4.788196\n",
       "OB    4.726155\n",
       "SK    5.026077\n",
       "SS    4.845934\n",
       "WO    4.917688\n",
       "dtype: float64"
      ]
     },
     "execution_count": 10,
     "metadata": {},
     "output_type": "execute_result"
    }
   ],
   "source": [
    "pitcher = pd.read_csv('report_data/new_pitcher_report_xgb.csv')\n",
    "INN2 = pitcher['INN2'].groupby(pitcher['T_ID']).sum()\n",
    "ER = pitcher['ER'].groupby(pitcher['T_ID']).sum()\n",
    "ERA = ER/INN2*27\n",
    "ERA"
   ]
  },
  {
   "cell_type": "code",
   "execution_count": 11,
   "metadata": {},
   "outputs": [],
   "source": [
    "df = pd.DataFrame({'타율': AVG,\n",
    "                          '방어율': ERA,\n",
    "                          '승률': WR})"
   ]
  },
  {
   "cell_type": "code",
   "execution_count": 12,
   "metadata": {},
   "outputs": [
    {
     "data": {
      "text/html": [
       "<div>\n",
       "<style scoped>\n",
       "    .dataframe tbody tr th:only-of-type {\n",
       "        vertical-align: middle;\n",
       "    }\n",
       "\n",
       "    .dataframe tbody tr th {\n",
       "        vertical-align: top;\n",
       "    }\n",
       "\n",
       "    .dataframe thead th {\n",
       "        text-align: right;\n",
       "    }\n",
       "</style>\n",
       "<table border=\"1\" class=\"dataframe\">\n",
       "  <thead>\n",
       "    <tr style=\"text-align: right;\">\n",
       "      <th></th>\n",
       "      <th>타율</th>\n",
       "      <th>방어율</th>\n",
       "      <th>승률</th>\n",
       "    </tr>\n",
       "    <tr>\n",
       "      <th>T_ID</th>\n",
       "      <th></th>\n",
       "      <th></th>\n",
       "      <th></th>\n",
       "    </tr>\n",
       "  </thead>\n",
       "  <tbody>\n",
       "    <tr>\n",
       "      <th>HH</th>\n",
       "      <td>0.273720</td>\n",
       "      <td>4.998118</td>\n",
       "      <td>0.294683</td>\n",
       "    </tr>\n",
       "    <tr>\n",
       "      <th>HT</th>\n",
       "      <td>0.279354</td>\n",
       "      <td>5.042143</td>\n",
       "      <td>0.583043</td>\n",
       "    </tr>\n",
       "    <tr>\n",
       "      <th>KT</th>\n",
       "      <td>0.270775</td>\n",
       "      <td>4.993842</td>\n",
       "      <td>0.539710</td>\n",
       "    </tr>\n",
       "    <tr>\n",
       "      <th>LG</th>\n",
       "      <td>0.277884</td>\n",
       "      <td>4.751309</td>\n",
       "      <td>0.583521</td>\n",
       "    </tr>\n",
       "    <tr>\n",
       "      <th>LT</th>\n",
       "      <td>0.276886</td>\n",
       "      <td>4.966388</td>\n",
       "      <td>0.521620</td>\n",
       "    </tr>\n",
       "    <tr>\n",
       "      <th>NC</th>\n",
       "      <td>0.282182</td>\n",
       "      <td>4.788196</td>\n",
       "      <td>0.671297</td>\n",
       "    </tr>\n",
       "    <tr>\n",
       "      <th>OB</th>\n",
       "      <td>0.271753</td>\n",
       "      <td>4.726155</td>\n",
       "      <td>0.609756</td>\n",
       "    </tr>\n",
       "    <tr>\n",
       "      <th>SK</th>\n",
       "      <td>0.272903</td>\n",
       "      <td>5.026077</td>\n",
       "      <td>0.402553</td>\n",
       "    </tr>\n",
       "    <tr>\n",
       "      <th>SS</th>\n",
       "      <td>0.276818</td>\n",
       "      <td>4.845934</td>\n",
       "      <td>0.602566</td>\n",
       "    </tr>\n",
       "    <tr>\n",
       "      <th>WO</th>\n",
       "      <td>0.274706</td>\n",
       "      <td>4.917688</td>\n",
       "      <td>0.590687</td>\n",
       "    </tr>\n",
       "  </tbody>\n",
       "</table>\n",
       "</div>"
      ],
      "text/plain": [
       "            타율       방어율        승률\n",
       "T_ID                              \n",
       "HH    0.273720  4.998118  0.294683\n",
       "HT    0.279354  5.042143  0.583043\n",
       "KT    0.270775  4.993842  0.539710\n",
       "LG    0.277884  4.751309  0.583521\n",
       "LT    0.276886  4.966388  0.521620\n",
       "NC    0.282182  4.788196  0.671297\n",
       "OB    0.271753  4.726155  0.609756\n",
       "SK    0.272903  5.026077  0.402553\n",
       "SS    0.276818  4.845934  0.602566\n",
       "WO    0.274706  4.917688  0.590687"
      ]
     },
     "execution_count": 12,
     "metadata": {},
     "output_type": "execute_result"
    }
   ],
   "source": [
    "df"
   ]
  }
 ],
 "metadata": {
  "kernelspec": {
   "display_name": "Python 3",
   "language": "python",
   "name": "python3"
  },
  "language_info": {
   "codemirror_mode": {
    "name": "ipython",
    "version": 3
   },
   "file_extension": ".py",
   "mimetype": "text/x-python",
   "name": "python",
   "nbconvert_exporter": "python",
   "pygments_lexer": "ipython3",
   "version": "3.8.3"
  }
 },
 "nbformat": 4,
 "nbformat_minor": 4
}
