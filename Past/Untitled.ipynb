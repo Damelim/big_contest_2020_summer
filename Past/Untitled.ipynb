{
 "cells": [
  {
   "cell_type": "markdown",
   "metadata": {},
   "source": [
    "### 파생변수 코드"
   ]
  },
  {
   "cell_type": "markdown",
   "metadata": {},
   "source": [
    "#### 1) BABIP (투수, 타자 둘 다 사용)"
   ]
  },
  {
   "cell_type": "code",
   "execution_count": null,
   "metadata": {},
   "outputs": [],
   "source": [
    "private_pitcher['BABIP'] = (private_pitcher['HIT'] - private_pitcher['HR']) / (private_pitcher['AB'] - private_pitcher['KK'] - private_pitcher['HR'] + private_pitcher['SF'])"
   ]
  },
  {
   "cell_type": "code",
   "execution_count": null,
   "metadata": {},
   "outputs": [],
   "source": [
    "team_pitcher['BABIP'] = (team_pitcher['HIT'] - team_pitcher['HR']) / (team_pitcher['AB'] - team_pitcher['KK'] - team_pitcher['HR'] + team_pitcher['SF'])\n"
   ]
  },
  {
   "cell_type": "code",
   "execution_count": null,
   "metadata": {},
   "outputs": [],
   "source": [
    "private_batter['BABIP'] = (private_batter['HIT'] - private_batter['HR']) / (private_batter['AB'] - private_batter['KK'] - private_batter['HR'] + private_batter['SF'])"
   ]
  },
  {
   "cell_type": "code",
   "execution_count": null,
   "metadata": {},
   "outputs": [],
   "source": [
    "team_batter['BABIP'] = (team_batter['HIT'] - team_batter['HR']) / (team_batter['AB'] - team_batter['KK'] - team_batter['HR'] + team_batter['SF'])"
   ]
  },
  {
   "cell_type": "markdown",
   "metadata": {},
   "source": [
    "#### 2) K/9 : 9이닝 당 삼진 개수 "
   ]
  },
  {
   "cell_type": "code",
   "execution_count": null,
   "metadata": {},
   "outputs": [],
   "source": [
    "private_pitcher['KK9'] = (private_pitcher['KK'] / private_pitcher['INN2'])*27"
   ]
  },
  {
   "cell_type": "code",
   "execution_count": null,
   "metadata": {},
   "outputs": [],
   "source": [
    "team_pitcher['KK9'] = (team_pitcher['KK'] / team_pitcher['INN2'])*27"
   ]
  },
  {
   "cell_type": "markdown",
   "metadata": {},
   "source": [
    "#### 3) BB/9 : 9이닝 당 볼넷 개수 \n"
   ]
  },
  {
   "cell_type": "code",
   "execution_count": null,
   "metadata": {},
   "outputs": [],
   "source": [
    "private_pitcher['BB9'] = ((private_pitcher['BB'] + private_pitcher['HP'])/ private_pitcher['INN2'])*27"
   ]
  },
  {
   "cell_type": "code",
   "execution_count": null,
   "metadata": {},
   "outputs": [],
   "source": [
    "team_pitcher['BB9'] = ((team_pitcher['BB'] + team_pitcher['HP'])/ team_pitcher['INN2'])*27"
   ]
  },
  {
   "cell_type": "markdown",
   "metadata": {},
   "source": [
    "#### 다른 변수들과 상관계수가 높아서 HIT와 H2, H3, H4를 임의로 조정했습니다."
   ]
  },
  {
   "cell_type": "markdown",
   "metadata": {},
   "source": [
    "#### 4) 장타허용 (2루타+3루타+홈런)"
   ]
  },
  {
   "cell_type": "code",
   "execution_count": null,
   "metadata": {},
   "outputs": [],
   "source": [
    "private_pitcher['SLG'] = private_pitcher['H2'] + private_pitcher['H3'] +private_pitcher['HR']"
   ]
  },
  {
   "cell_type": "code",
   "execution_count": null,
   "metadata": {},
   "outputs": [],
   "source": [
    "team_pitcher['SLG'] = team_pitcher['H2'] + team_pitcher['H3'] + team_pitcher['HR']"
   ]
  },
  {
   "cell_type": "markdown",
   "metadata": {},
   "source": [
    "#### 5) 단타허용 (1루타만)"
   ]
  },
  {
   "cell_type": "code",
   "execution_count": null,
   "metadata": {},
   "outputs": [],
   "source": [
    "private_pitcher['H1'] = private_pitcher['HIT'] - private_pitcher['SLG']"
   ]
  },
  {
   "cell_type": "code",
   "execution_count": null,
   "metadata": {},
   "outputs": [],
   "source": [
    "team_pitcher['H1'] = team_pitcher['HIT'] - team_pitcher['SLG']"
   ]
  },
  {
   "cell_type": "markdown",
   "metadata": {},
   "source": [
    "### 예측해야 할 X변수들"
   ]
  },
  {
   "cell_type": "markdown",
   "metadata": {},
   "source": [
    "#### 투수\n",
    "\n",
    "1. 이닝\n",
    "2. 삼진\n",
    "3. 볼넷\n",
    "4. 안타(H1)\n",
    "5. 장타(SLG)"
   ]
  },
  {
   "cell_type": "markdown",
   "metadata": {},
   "source": [
    "####  타자\n",
    "\n",
    "1. 타석(PA)\n",
    "2. 타수(AB)\n",
    "3. 삼진\n",
    "4. BABIP"
   ]
  }
 ],
 "metadata": {
  "kernelspec": {
   "display_name": "Python 3",
   "language": "python",
   "name": "python3"
  },
  "language_info": {
   "codemirror_mode": {
    "name": "ipython",
    "version": 3
   },
   "file_extension": ".py",
   "mimetype": "text/x-python",
   "name": "python",
   "nbconvert_exporter": "python",
   "pygments_lexer": "ipython3",
   "version": "3.7.6"
  }
 },
 "nbformat": 4,
 "nbformat_minor": 4
}
