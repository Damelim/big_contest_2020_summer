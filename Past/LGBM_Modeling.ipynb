{
 "cells": [
  {
   "cell_type": "markdown",
   "metadata": {},
   "source": [
    "# 임선우\n",
    "\n",
    "## 9.2\n",
    "\n",
    "### train에서 상관관계 높은 것들 빼고 바뀐 test에 적용 "
   ]
  },
  {
   "cell_type": "markdown",
   "metadata": {},
   "source": [
    "# 1st) test X 파일, train X 파일 (투/타) 불러오기"
   ]
  },
  {
   "cell_type": "code",
   "execution_count": 22,
   "metadata": {},
   "outputs": [],
   "source": [
    "import pandas as pd\n",
    "import numpy as np"
   ]
  },
  {
   "cell_type": "markdown",
   "metadata": {},
   "source": [
    "### train dataset 2개"
   ]
  },
  {
   "cell_type": "code",
   "execution_count": 23,
   "metadata": {},
   "outputs": [],
   "source": [
    "pitcher_train = pd.read_csv(\"C:/big_contest_2020_summer/eda_code/data/private_pitcher.csv\")\n",
    "batter_train = pd.read_csv(\"C:/big_contest_2020_summer/eda_code/data/private_batter.csv\")"
   ]
  },
  {
   "cell_type": "markdown",
   "metadata": {},
   "source": [
    "### test dataset 2개"
   ]
  },
  {
   "cell_type": "code",
   "execution_count": 24,
   "metadata": {},
   "outputs": [],
   "source": [
    "pitcher_test = pd.read_csv(\"C:/big_contest_2020_summer/modeling_code/test_data/private_pitcher_test.csv\", index_col  = 0)\n",
    "batter_test = pd.read_csv(\"C:/big_contest_2020_summer/modeling_code/test_data/private_batter_test.csv\", index_col  = 0)"
   ]
  },
  {
   "cell_type": "code",
   "execution_count": 25,
   "metadata": {
    "scrolled": true
   },
   "outputs": [
    {
     "name": "stdout",
     "output_type": "stream",
     "text": [
      "(27804, 22)\n",
      "(168, 14)\n",
      "(81102, 14)\n",
      "(165, 11)\n"
     ]
    }
   ],
   "source": [
    "print(pitcher_train.shape)\n",
    "print(pitcher_test.shape)\n",
    "print(batter_train.shape)\n",
    "print(batter_test.shape)"
   ]
  },
  {
   "cell_type": "markdown",
   "metadata": {},
   "source": [
    "### test에서 투수즌 컬럼이 8개나 줄고 타자에서는 컬럼이 3개나 준 이유는?\n",
    "\n",
    "### 먼저 투수"
   ]
  },
  {
   "cell_type": "code",
   "execution_count": 26,
   "metadata": {},
   "outputs": [
    {
     "data": {
      "text/plain": [
       "Index(['GDAY_DS', 'T_ID', 'P_ID', 'TB_SC', 'INN2', 'BF', 'PA-AB', 'AB', 'HIT',\n",
       "       'H1', 'H2', 'H3', 'HR', 'SB_SR', 'KK', 'WP', 'ER', 'ERA', 'SLG',\n",
       "       'BABIP', 'KK9', 'BB9'],\n",
       "      dtype='object')"
      ]
     },
     "execution_count": 26,
     "metadata": {},
     "output_type": "execute_result"
    }
   ],
   "source": [
    "pitcher_train.columns"
   ]
  },
  {
   "cell_type": "code",
   "execution_count": 27,
   "metadata": {},
   "outputs": [
    {
     "data": {
      "text/plain": [
       "Index(['T_ID', 'P_ID', 'TB_SC', 'INN2', 'PA-AB', 'H1', 'H2', 'H3', 'HR',\n",
       "       'SB_SR', 'WP', 'BABIP', 'KK9', 'BB9'],\n",
       "      dtype='object')"
      ]
     },
     "execution_count": 27,
     "metadata": {},
     "output_type": "execute_result"
    }
   ],
   "source": [
    "pitcher_test.columns"
   ]
  },
  {
   "cell_type": "markdown",
   "metadata": {},
   "source": [
    "### GDAY_DS, BF, AB, HIT, KK, ER, ERA, SLG가 빠졌다\n",
    "\n",
    "### 그럼 타자"
   ]
  },
  {
   "cell_type": "code",
   "execution_count": 28,
   "metadata": {},
   "outputs": [
    {
     "data": {
      "text/plain": [
       "Index(['GDAY_DS', 'T_ID', 'P_ID', 'TB_SC', 'PA-AB', 'AB', 'RUN', 'RBI', 'HIT',\n",
       "       'SH+SF', 'KK', 'AVG', 'SB_trial', 'BABIP'],\n",
       "      dtype='object')"
      ]
     },
     "execution_count": 28,
     "metadata": {},
     "output_type": "execute_result"
    }
   ],
   "source": [
    "batter_train.columns"
   ]
  },
  {
   "cell_type": "code",
   "execution_count": 29,
   "metadata": {},
   "outputs": [
    {
     "data": {
      "text/plain": [
       "Index(['T_ID', 'P_ID', 'TB_SC', 'PA-AB', 'AB', 'RUN', 'RBI', 'SH+SF', 'KK',\n",
       "       'SB_trial', 'BABIP'],\n",
       "      dtype='object')"
      ]
     },
     "execution_count": 29,
     "metadata": {},
     "output_type": "execute_result"
    }
   ],
   "source": [
    "batter_test.columns"
   ]
  },
  {
   "cell_type": "markdown",
   "metadata": {},
   "source": [
    "### GDAY_DS, HIT, AVG가 빠졌다. "
   ]
  },
  {
   "cell_type": "markdown",
   "metadata": {},
   "source": [
    "### 그러면 train, test 모두에서\n",
    "\n",
    "## 투수에서 : gameday, era, t_id, p_id를 drop하고\n",
    "\n",
    "## 타자에서 : gameday, avg,t_id, p_id를 drop한다.\n",
    "\n",
    "# 여기서 drop한다는 것이지 csv파일 자체를 바꾸지는 않으려고 한다. 귀찮은 일이다."
   ]
  },
  {
   "cell_type": "code",
   "execution_count": 30,
   "metadata": {},
   "outputs": [],
   "source": [
    "batter_train.drop(columns = ['GDAY_DS','AVG'], inplace = True)\n",
    "pitcher_train.drop(columns = ['GDAY_DS','ERA'], inplace = True)"
   ]
  },
  {
   "cell_type": "code",
   "execution_count": 31,
   "metadata": {},
   "outputs": [],
   "source": [
    "pitcher_train.drop(columns = ['T_ID','P_ID'], inplace = True)\n",
    "batter_train.drop(columns = ['T_ID','P_ID'], inplace = True)\n",
    "\n",
    "pitcher_test.drop(columns = ['T_ID','P_ID'], inplace = True)\n",
    "batter_test.drop(columns = ['T_ID','P_ID'], inplace = True)"
   ]
  },
  {
   "cell_type": "code",
   "execution_count": 32,
   "metadata": {
    "scrolled": true
   },
   "outputs": [
    {
     "name": "stdout",
     "output_type": "stream",
     "text": [
      "(27804, 18)\n",
      "(168, 12)\n",
      "(81102, 10)\n",
      "(165, 9)\n"
     ]
    }
   ],
   "source": [
    "print(pitcher_train.shape)\n",
    "print(pitcher_test.shape)\n",
    "print(batter_train.shape)\n",
    "print(batter_test.shape)"
   ]
  },
  {
   "cell_type": "code",
   "execution_count": 33,
   "metadata": {},
   "outputs": [],
   "source": [
    "pitcher_train.drop(columns = ['BF','AB','HIT','KK','SLG'], inplace = True)"
   ]
  },
  {
   "cell_type": "code",
   "execution_count": 34,
   "metadata": {},
   "outputs": [
    {
     "data": {
      "text/plain": [
       "Index(['TB_SC', 'INN2', 'PA-AB', 'H1', 'H2', 'H3', 'HR', 'SB_SR', 'WP', 'ER',\n",
       "       'BABIP', 'KK9', 'BB9'],\n",
       "      dtype='object')"
      ]
     },
     "execution_count": 34,
     "metadata": {},
     "output_type": "execute_result"
    }
   ],
   "source": [
    "pitcher_train.columns"
   ]
  },
  {
   "cell_type": "code",
   "execution_count": 35,
   "metadata": {},
   "outputs": [
    {
     "data": {
      "text/plain": [
       "Index(['TB_SC', 'INN2', 'PA-AB', 'H1', 'H2', 'H3', 'HR', 'SB_SR', 'WP',\n",
       "       'BABIP', 'KK9', 'BB9'],\n",
       "      dtype='object')"
      ]
     },
     "execution_count": 35,
     "metadata": {},
     "output_type": "execute_result"
    }
   ],
   "source": [
    "pitcher_test.columns"
   ]
  },
  {
   "cell_type": "markdown",
   "metadata": {},
   "source": [
    "투수 오케"
   ]
  },
  {
   "cell_type": "code",
   "execution_count": 36,
   "metadata": {},
   "outputs": [
    {
     "data": {
      "text/plain": [
       "Index(['TB_SC', 'PA-AB', 'AB', 'RUN', 'RBI', 'HIT', 'SH+SF', 'KK', 'SB_trial',\n",
       "       'BABIP'],\n",
       "      dtype='object')"
      ]
     },
     "execution_count": 36,
     "metadata": {},
     "output_type": "execute_result"
    }
   ],
   "source": [
    "batter_train.columns"
   ]
  },
  {
   "cell_type": "code",
   "execution_count": 37,
   "metadata": {},
   "outputs": [
    {
     "data": {
      "text/plain": [
       "Index(['TB_SC', 'PA-AB', 'AB', 'RUN', 'RBI', 'SH+SF', 'KK', 'SB_trial',\n",
       "       'BABIP'],\n",
       "      dtype='object')"
      ]
     },
     "execution_count": 37,
     "metadata": {},
     "output_type": "execute_result"
    }
   ],
   "source": [
    "batter_test.columns"
   ]
  },
  {
   "cell_type": "markdown",
   "metadata": {},
   "source": [
    "타자도 오케"
   ]
  },
  {
   "cell_type": "markdown",
   "metadata": {},
   "source": [
    "# 2nd) 모델학습 (train and validation)"
   ]
  },
  {
   "cell_type": "code",
   "execution_count": 38,
   "metadata": {},
   "outputs": [],
   "source": [
    "import seaborn as sns\n",
    "import matplotlib.pyplot as plt\n",
    "from sklearn.model_selection import GridSearchCV, train_test_split\n",
    "from sklearn.ensemble import RandomForestRegressor\n",
    "from sklearn.metrics import mean_squared_error\n",
    "from xgboost import XGBRegressor\n",
    "from lightgbm import LGBMRegressor\n",
    "from math import sqrt"
   ]
  },
  {
   "cell_type": "markdown",
   "metadata": {},
   "source": [
    "# 2-1) Pitcher"
   ]
  },
  {
   "cell_type": "code",
   "execution_count": 39,
   "metadata": {
    "scrolled": true
   },
   "outputs": [
    {
     "data": {
      "text/plain": [
       "TB_SC     object\n",
       "INN2       int64\n",
       "PA-AB      int64\n",
       "H1         int64\n",
       "H2         int64\n",
       "H3         int64\n",
       "HR         int64\n",
       "SB_SR    float64\n",
       "WP         int64\n",
       "ER         int64\n",
       "BABIP    float64\n",
       "KK9      float64\n",
       "BB9      float64\n",
       "dtype: object"
      ]
     },
     "execution_count": 39,
     "metadata": {},
     "output_type": "execute_result"
    }
   ],
   "source": [
    "pitcher_train.dtypes"
   ]
  },
  {
   "cell_type": "code",
   "execution_count": 40,
   "metadata": {
    "scrolled": true
   },
   "outputs": [
    {
     "data": {
      "text/plain": [
       "TB_SC    category\n",
       "INN2        int64\n",
       "PA-AB       int64\n",
       "H1          int64\n",
       "H2          int64\n",
       "H3          int64\n",
       "HR          int64\n",
       "SB_SR     float64\n",
       "WP          int64\n",
       "ER          int64\n",
       "BABIP     float64\n",
       "KK9       float64\n",
       "BB9       float64\n",
       "dtype: object"
      ]
     },
     "execution_count": 40,
     "metadata": {},
     "output_type": "execute_result"
    }
   ],
   "source": [
    "cat_features = ['TB_SC']\n",
    "pitcher_train[cat_features] = pitcher_train[cat_features].astype('category')\n",
    "\n",
    "pitcher_train.dtypes"
   ]
  },
  {
   "cell_type": "code",
   "execution_count": 41,
   "metadata": {},
   "outputs": [
    {
     "data": {
      "text/plain": [
       "TB_SC    category\n",
       "INN2      float64\n",
       "PA-AB     float64\n",
       "H1        float64\n",
       "H2        float64\n",
       "H3        float64\n",
       "HR        float64\n",
       "SB_SR     float64\n",
       "WP        float64\n",
       "BABIP     float64\n",
       "KK9       float64\n",
       "BB9       float64\n",
       "dtype: object"
      ]
     },
     "execution_count": 41,
     "metadata": {},
     "output_type": "execute_result"
    }
   ],
   "source": [
    "pitcher_test[cat_features] = pitcher_test[cat_features].astype('category')\n",
    "\n",
    "pitcher_test.dtypes"
   ]
  },
  {
   "cell_type": "code",
   "execution_count": 42,
   "metadata": {},
   "outputs": [
    {
     "name": "stdout",
     "output_type": "stream",
     "text": [
      "(19462, 12)\n",
      "(8342, 12)\n",
      "(27804, 12)\n"
     ]
    }
   ],
   "source": [
    "X = pitcher_train.drop(columns = ['ER'])\n",
    "y = pitcher_train['ER']\n",
    "\n",
    "X_train, X_val, y_train, y_val = train_test_split(X, y, test_size = 0.3, shuffle = True, random_state = 2020)\n",
    "\n",
    "print(X_train.shape)\n",
    "print(X_val.shape)\n",
    "\n",
    "print(X.shape)"
   ]
  },
  {
   "cell_type": "code",
   "execution_count": 43,
   "metadata": {},
   "outputs": [],
   "source": [
    "X_train.columns = [\"\".join (c if c.isalnum() else \"_\" for c in str(x)) for x in X_train.columns]\n",
    "X_val.columns = [\"\".join (c if c.isalnum() else \"_\" for c in str(x)) for x in X_val.columns]"
   ]
  },
  {
   "cell_type": "markdown",
   "metadata": {},
   "source": [
    "##  LGBM"
   ]
  },
  {
   "cell_type": "code",
   "execution_count": 44,
   "metadata": {},
   "outputs": [
    {
     "name": "stdout",
     "output_type": "stream",
     "text": [
      "Fitting 5 folds for each of 180 candidates, totalling 900 fits\n"
     ]
    },
    {
     "name": "stderr",
     "output_type": "stream",
     "text": [
      "[Parallel(n_jobs=10)]: Using backend LokyBackend with 10 concurrent workers.\n",
      "[Parallel(n_jobs=10)]: Done  12 tasks      | elapsed:  1.4min\n",
      "[Parallel(n_jobs=10)]: Done 108 tasks      | elapsed: 10.6min\n",
      "[Parallel(n_jobs=10)]: Done 268 tasks      | elapsed: 25.6min\n",
      "[Parallel(n_jobs=10)]: Done 492 tasks      | elapsed: 41.7min\n",
      "[Parallel(n_jobs=10)]: Done 780 tasks      | elapsed: 66.1min\n",
      "[Parallel(n_jobs=10)]: Done 900 out of 900 | elapsed: 75.2min finished\n",
      "C:\\Users\\drlim\\Anaconda3\\lib\\site-packages\\lightgbm\\engine.py:118: UserWarning: Found `num_boost_round` in params. Will use it instead of argument\n",
      "  warnings.warn(\"Found `{}` in params. Will use it instead of argument\".format(alias))\n"
     ]
    },
    {
     "data": {
      "text/plain": [
       "GridSearchCV(estimator=LGBMRegressor(learning_rate=0.01, num_boost_round=2000),\n",
       "             n_jobs=10,\n",
       "             param_grid={'lambda_l1': [0, 1, 1.5], 'lambda_l2': [0, 1],\n",
       "                         'min_data_in_leaf': [30, 50, 100, 300, 400],\n",
       "                         'num_leaves': [30, 50, 70], 'reg_alpha': [0.1, 0.5]},\n",
       "             verbose=3)"
      ]
     },
     "execution_count": 44,
     "metadata": {},
     "output_type": "execute_result"
    }
   ],
   "source": [
    "params_grid = {\n",
    "    'num_leaves': [30, 50, 70],\n",
    "    'reg_alpha': [0.1, 0.5],\n",
    "    'min_data_in_leaf': [30, 50, 100, 300, 400],\n",
    "    'lambda_l1': [0, 1, 1.5],\n",
    "    'lambda_l2': [0, 1]\n",
    "    }\n",
    "lgb = LGBMRegressor(boosting_type='gbdt', num_boost_round=2000, learning_rate=0.01)\n",
    "lgb_grid = GridSearchCV(estimator=lgb,\n",
    "                        param_grid=params_grid,\n",
    "                        n_jobs=10,\n",
    "                        verbose=3)\n",
    "lgb_grid.fit(X_train,y_train)"
   ]
  },
  {
   "cell_type": "code",
   "execution_count": 45,
   "metadata": {},
   "outputs": [
    {
     "data": {
      "text/plain": [
       "{'lambda_l1': 1.5,\n",
       " 'lambda_l2': 1,\n",
       " 'min_data_in_leaf': 50,\n",
       " 'num_leaves': 30,\n",
       " 'reg_alpha': 0.1}"
      ]
     },
     "execution_count": 45,
     "metadata": {},
     "output_type": "execute_result"
    }
   ],
   "source": [
    "lgb_grid.best_params_"
   ]
  },
  {
   "cell_type": "code",
   "execution_count": 46,
   "metadata": {},
   "outputs": [
    {
     "data": {
      "text/plain": [
       "0.7589489433760348"
      ]
     },
     "execution_count": 46,
     "metadata": {},
     "output_type": "execute_result"
    }
   ],
   "source": [
    "y_pred1 = lgb_grid.predict(X_val)\n",
    "\n",
    "lgbm_rmse = sqrt(mean_squared_error(y_val, y_pred1))\n",
    "lgbm_rmse"
   ]
  },
  {
   "cell_type": "code",
   "execution_count": 47,
   "metadata": {},
   "outputs": [
    {
     "data": {
      "text/plain": [
       "0.5760034986515996"
      ]
     },
     "execution_count": 47,
     "metadata": {},
     "output_type": "execute_result"
    }
   ],
   "source": [
    "lgbm_mse = mean_squared_error(y_val, y_pred1)\n",
    "lgbm_mse"
   ]
  },
  {
   "cell_type": "markdown",
   "metadata": {},
   "source": [
    "### 최종 자책점 예측값들 (validation이 아니라 실제 test data에 적용)"
   ]
  },
  {
   "cell_type": "code",
   "execution_count": 48,
   "metadata": {
    "scrolled": true
   },
   "outputs": [
    {
     "data": {
      "text/plain": [
       "array([2.97033964, 2.28516695, 1.83828208, 3.47630781, 3.20620627,\n",
       "       4.34500465, 3.14069308, 2.83995093, 3.18397963, 3.16031964,\n",
       "       2.0830944 , 2.27165162, 1.92265601, 3.57168358, 3.12608565,\n",
       "       1.97003288, 2.27246152, 2.73627694, 2.945886  , 3.8175109 ,\n",
       "       3.89257083, 2.51523798, 2.20665095, 3.31335913, 2.0492375 ,\n",
       "       4.24431434, 2.60016577, 1.89354264, 4.09290561, 2.5665807 ,\n",
       "       2.71426515, 2.64268247, 2.12467214, 2.49022974, 2.77432247,\n",
       "       3.13092882, 2.73896009, 2.27710059, 4.05318192, 3.30404203,\n",
       "       3.84597682, 3.62264314, 1.98577665, 4.34901012, 2.50653493,\n",
       "       3.07284548, 3.9310438 , 2.36484378, 2.39075718, 3.14201098,\n",
       "       2.58977159, 2.91548425, 3.89633687, 2.3151603 , 3.36534135,\n",
       "       2.64304528, 2.98462085, 3.44958349, 4.01139799, 2.41177397,\n",
       "       2.02018096, 3.15895628, 2.02664425, 1.86847097, 3.56062782,\n",
       "       2.8931808 , 1.05232744, 2.19039855, 3.25197793, 3.78091407,\n",
       "       2.27698022, 2.47137557, 2.54348942, 2.92350071, 1.96303883,\n",
       "       2.64843891, 2.89695724, 2.28272898, 3.32920058, 2.37297906,\n",
       "       3.04201875, 3.34139544, 2.58331108, 1.95306094, 2.39469239,\n",
       "       2.3316296 , 2.71634531, 2.44078143, 2.57026788, 2.36357753,\n",
       "       2.70816213, 2.99216912, 2.83838857, 2.75710252, 3.19806026,\n",
       "       2.60691181, 2.53694551, 3.83515737, 2.12290444, 2.35105434,\n",
       "       2.59108033, 4.38938642, 2.35115662, 2.87603084, 2.06865358,\n",
       "       2.98964731, 4.24032867, 3.24076608, 2.9631008 , 2.46458961,\n",
       "       2.96578384, 3.58437397, 2.43532127, 3.47191345, 2.35400003,\n",
       "       3.10769909, 2.77213298, 3.21873186, 2.15890284, 3.63054883,\n",
       "       2.40900617, 3.29772344, 3.86341435, 2.4479971 , 2.69160188,\n",
       "       2.19097817, 3.61363589, 1.86363826, 3.15228256, 2.2378909 ,\n",
       "       2.48201715, 2.33837289, 2.97843031, 3.13414713, 3.14255605,\n",
       "       1.71469623, 2.09280384, 3.2846089 , 1.92160633, 2.17701169,\n",
       "       1.68844543, 3.09014906, 2.31993773, 4.13352737, 2.98391724,\n",
       "       3.27063152, 2.45474402, 3.36213991, 3.27015527, 3.32098562,\n",
       "       3.29576919, 2.3283636 , 2.92296379, 0.69418029, 0.65697745,\n",
       "       2.97947982, 2.14011237, 2.59410189, 4.9235457 , 2.96322533,\n",
       "       5.02748708, 1.46663875, 1.98868382, 4.46152289, 1.92622914,\n",
       "       0.82034061, 2.58320263, 2.59829766])"
      ]
     },
     "execution_count": 48,
     "metadata": {},
     "output_type": "execute_result"
    }
   ],
   "source": [
    "pitcher_predicted_lgbm = lgb_grid.predict(pitcher_test)\n",
    "pitcher_predicted_lgbm"
   ]
  },
  {
   "cell_type": "code",
   "execution_count": 49,
   "metadata": {},
   "outputs": [
    {
     "data": {
      "text/plain": [
       "BABIP    10746\n",
       "KK9       8613\n",
       "BB9       8205\n",
       "INN2      7230\n",
       "H1        6439\n",
       "PA_AB     4973\n",
       "H2        3995\n",
       "HR        2667\n",
       "TB_SC     2048\n",
       "SB_SR     1270\n",
       "H3        1027\n",
       "WP         787\n",
       "dtype: int32"
      ]
     },
     "execution_count": 49,
     "metadata": {},
     "output_type": "execute_result"
    }
   ],
   "source": [
    "import seaborn as sns\n",
    "import matplotlib.pyplot as plt\n",
    "\n",
    "lgb_feature_importance = lgb_grid.best_estimator_.feature_importances_\n",
    "lgb_feature_imp=pd.Series(lgb_feature_importance,index=X_train.columns).sort_values(ascending=False)\n",
    "lgb_feature_imp"
   ]
  },
  {
   "cell_type": "code",
   "execution_count": 50,
   "metadata": {},
   "outputs": [
    {
     "data": {
      "text/plain": [
       "<matplotlib.axes._subplots.AxesSubplot at 0x23bd7a6d780>"
      ]
     },
     "execution_count": 50,
     "metadata": {},
     "output_type": "execute_result"
    },
    {
     "data": {
      "image/png": "[encoded data removed]",
      "text/plain": [
       "<Figure size 864x720 with 1 Axes>"
      ]
     },
     "metadata": {
      "needs_background": "light"
     },
     "output_type": "display_data"
    }
   ],
   "source": [
    "plt.figure(figsize=(12,10))\n",
    "plt.title(\"Light GBM feature Importance For Pitchers\")\n",
    "sns.barplot(x=lgb_feature_imp[0:30], y=lgb_feature_imp.index[0:30])"
   ]
  },
  {
   "cell_type": "code",
   "execution_count": 51,
   "metadata": {
    "scrolled": true
   },
   "outputs": [
    {
     "data": {
      "text/html": [
       "<div>\n",
       "<style scoped>\n",
       "    .dataframe tbody tr th:only-of-type {\n",
       "        vertical-align: middle;\n",
       "    }\n",
       "\n",
       "    .dataframe tbody tr th {\n",
       "        vertical-align: top;\n",
       "    }\n",
       "\n",
       "    .dataframe thead th {\n",
       "        text-align: right;\n",
       "    }\n",
       "</style>\n",
       "<table border=\"1\" class=\"dataframe\">\n",
       "  <thead>\n",
       "    <tr style=\"text-align: right;\">\n",
       "      <th></th>\n",
       "      <th>TB_SC</th>\n",
       "      <th>INN2</th>\n",
       "      <th>PA-AB</th>\n",
       "      <th>H1</th>\n",
       "      <th>H2</th>\n",
       "      <th>H3</th>\n",
       "      <th>HR</th>\n",
       "      <th>SB_SR</th>\n",
       "      <th>WP</th>\n",
       "      <th>BABIP</th>\n",
       "      <th>KK9</th>\n",
       "      <th>BB9</th>\n",
       "    </tr>\n",
       "  </thead>\n",
       "  <tbody>\n",
       "    <tr>\n",
       "      <th>0</th>\n",
       "      <td>B</td>\n",
       "      <td>2.77</td>\n",
       "      <td>0.72</td>\n",
       "      <td>0.81</td>\n",
       "      <td>0.21</td>\n",
       "      <td>0.08</td>\n",
       "      <td>0.01</td>\n",
       "      <td>0.01</td>\n",
       "      <td>0.03</td>\n",
       "      <td>0.37</td>\n",
       "      <td>8.28</td>\n",
       "      <td>10.23</td>\n",
       "    </tr>\n",
       "    <tr>\n",
       "      <th>1</th>\n",
       "      <td>B</td>\n",
       "      <td>2.09</td>\n",
       "      <td>0.43</td>\n",
       "      <td>0.45</td>\n",
       "      <td>0.05</td>\n",
       "      <td>0.00</td>\n",
       "      <td>0.01</td>\n",
       "      <td>0.00</td>\n",
       "      <td>0.00</td>\n",
       "      <td>0.26</td>\n",
       "      <td>6.03</td>\n",
       "      <td>7.02</td>\n",
       "    </tr>\n",
       "    <tr>\n",
       "      <th>2</th>\n",
       "      <td>T</td>\n",
       "      <td>3.26</td>\n",
       "      <td>0.52</td>\n",
       "      <td>0.64</td>\n",
       "      <td>0.08</td>\n",
       "      <td>0.00</td>\n",
       "      <td>0.26</td>\n",
       "      <td>0.05</td>\n",
       "      <td>0.00</td>\n",
       "      <td>0.20</td>\n",
       "      <td>6.17</td>\n",
       "      <td>3.99</td>\n",
       "    </tr>\n",
       "    <tr>\n",
       "      <th>3</th>\n",
       "      <td>T</td>\n",
       "      <td>15.77</td>\n",
       "      <td>3.26</td>\n",
       "      <td>4.08</td>\n",
       "      <td>0.74</td>\n",
       "      <td>0.11</td>\n",
       "      <td>0.43</td>\n",
       "      <td>0.63</td>\n",
       "      <td>0.08</td>\n",
       "      <td>0.33</td>\n",
       "      <td>8.07</td>\n",
       "      <td>6.16</td>\n",
       "    </tr>\n",
       "    <tr>\n",
       "      <th>4</th>\n",
       "      <td>T</td>\n",
       "      <td>14.93</td>\n",
       "      <td>2.50</td>\n",
       "      <td>3.96</td>\n",
       "      <td>0.91</td>\n",
       "      <td>0.05</td>\n",
       "      <td>0.69</td>\n",
       "      <td>0.36</td>\n",
       "      <td>0.66</td>\n",
       "      <td>0.31</td>\n",
       "      <td>6.81</td>\n",
       "      <td>4.59</td>\n",
       "    </tr>\n",
       "  </tbody>\n",
       "</table>\n",
       "</div>"
      ],
      "text/plain": [
       "  TB_SC   INN2  PA-AB    H1    H2    H3    HR  SB_SR    WP  BABIP   KK9    BB9\n",
       "0     B   2.77   0.72  0.81  0.21  0.08  0.01   0.01  0.03   0.37  8.28  10.23\n",
       "1     B   2.09   0.43  0.45  0.05  0.00  0.01   0.00  0.00   0.26  6.03   7.02\n",
       "2     T   3.26   0.52  0.64  0.08  0.00  0.26   0.05  0.00   0.20  6.17   3.99\n",
       "3     T  15.77   3.26  4.08  0.74  0.11  0.43   0.63  0.08   0.33  8.07   6.16\n",
       "4     T  14.93   2.50  3.96  0.91  0.05  0.69   0.36  0.66   0.31  6.81   4.59"
      ]
     },
     "execution_count": 51,
     "metadata": {},
     "output_type": "execute_result"
    }
   ],
   "source": [
    "pitcher_test.head()"
   ]
  },
  {
   "cell_type": "markdown",
   "metadata": {},
   "source": [
    "# 기왕이면 위 데이터에다가 말고 선수 id, 팀id 모두 다 있는 곳에 예측 y값 넣는 게 좋겠다"
   ]
  },
  {
   "cell_type": "code",
   "execution_count": 52,
   "metadata": {
    "scrolled": true
   },
   "outputs": [
    {
     "data": {
      "text/html": [
       "<div>\n",
       "<style scoped>\n",
       "    .dataframe tbody tr th:only-of-type {\n",
       "        vertical-align: middle;\n",
       "    }\n",
       "\n",
       "    .dataframe tbody tr th {\n",
       "        vertical-align: top;\n",
       "    }\n",
       "\n",
       "    .dataframe thead th {\n",
       "        text-align: right;\n",
       "    }\n",
       "</style>\n",
       "<table border=\"1\" class=\"dataframe\">\n",
       "  <thead>\n",
       "    <tr style=\"text-align: right;\">\n",
       "      <th></th>\n",
       "      <th>T_ID</th>\n",
       "      <th>P_ID</th>\n",
       "      <th>TB_SC</th>\n",
       "      <th>INN2</th>\n",
       "      <th>PA-AB</th>\n",
       "      <th>H1</th>\n",
       "      <th>H2</th>\n",
       "      <th>H3</th>\n",
       "      <th>HR</th>\n",
       "      <th>SB_SR</th>\n",
       "      <th>WP</th>\n",
       "      <th>BABIP</th>\n",
       "      <th>KK9</th>\n",
       "      <th>BB9</th>\n",
       "    </tr>\n",
       "  </thead>\n",
       "  <tbody>\n",
       "    <tr>\n",
       "      <th>0</th>\n",
       "      <td>OB</td>\n",
       "      <td>77263</td>\n",
       "      <td>B</td>\n",
       "      <td>2.77</td>\n",
       "      <td>0.72</td>\n",
       "      <td>0.81</td>\n",
       "      <td>0.21</td>\n",
       "      <td>0.08</td>\n",
       "      <td>0.01</td>\n",
       "      <td>0.01</td>\n",
       "      <td>0.03</td>\n",
       "      <td>0.37</td>\n",
       "      <td>8.28</td>\n",
       "      <td>10.23</td>\n",
       "    </tr>\n",
       "    <tr>\n",
       "      <th>1</th>\n",
       "      <td>NC</td>\n",
       "      <td>63959</td>\n",
       "      <td>B</td>\n",
       "      <td>2.09</td>\n",
       "      <td>0.43</td>\n",
       "      <td>0.45</td>\n",
       "      <td>0.05</td>\n",
       "      <td>0.00</td>\n",
       "      <td>0.01</td>\n",
       "      <td>0.00</td>\n",
       "      <td>0.00</td>\n",
       "      <td>0.26</td>\n",
       "      <td>6.03</td>\n",
       "      <td>7.02</td>\n",
       "    </tr>\n",
       "    <tr>\n",
       "      <th>2</th>\n",
       "      <td>NC</td>\n",
       "      <td>61295</td>\n",
       "      <td>T</td>\n",
       "      <td>3.26</td>\n",
       "      <td>0.52</td>\n",
       "      <td>0.64</td>\n",
       "      <td>0.08</td>\n",
       "      <td>0.00</td>\n",
       "      <td>0.26</td>\n",
       "      <td>0.05</td>\n",
       "      <td>0.00</td>\n",
       "      <td>0.20</td>\n",
       "      <td>6.17</td>\n",
       "      <td>3.99</td>\n",
       "    </tr>\n",
       "    <tr>\n",
       "      <th>3</th>\n",
       "      <td>SK</td>\n",
       "      <td>60841</td>\n",
       "      <td>T</td>\n",
       "      <td>15.77</td>\n",
       "      <td>3.26</td>\n",
       "      <td>4.08</td>\n",
       "      <td>0.74</td>\n",
       "      <td>0.11</td>\n",
       "      <td>0.43</td>\n",
       "      <td>0.63</td>\n",
       "      <td>0.08</td>\n",
       "      <td>0.33</td>\n",
       "      <td>8.07</td>\n",
       "      <td>6.16</td>\n",
       "    </tr>\n",
       "    <tr>\n",
       "      <th>4</th>\n",
       "      <td>LT</td>\n",
       "      <td>64021</td>\n",
       "      <td>T</td>\n",
       "      <td>14.93</td>\n",
       "      <td>2.50</td>\n",
       "      <td>3.96</td>\n",
       "      <td>0.91</td>\n",
       "      <td>0.05</td>\n",
       "      <td>0.69</td>\n",
       "      <td>0.36</td>\n",
       "      <td>0.66</td>\n",
       "      <td>0.31</td>\n",
       "      <td>6.81</td>\n",
       "      <td>4.59</td>\n",
       "    </tr>\n",
       "  </tbody>\n",
       "</table>\n",
       "</div>"
      ],
      "text/plain": [
       "  T_ID   P_ID TB_SC   INN2  PA-AB    H1    H2    H3    HR  SB_SR    WP  BABIP  \\\n",
       "0   OB  77263     B   2.77   0.72  0.81  0.21  0.08  0.01   0.01  0.03   0.37   \n",
       "1   NC  63959     B   2.09   0.43  0.45  0.05  0.00  0.01   0.00  0.00   0.26   \n",
       "2   NC  61295     T   3.26   0.52  0.64  0.08  0.00  0.26   0.05  0.00   0.20   \n",
       "3   SK  60841     T  15.77   3.26  4.08  0.74  0.11  0.43   0.63  0.08   0.33   \n",
       "4   LT  64021     T  14.93   2.50  3.96  0.91  0.05  0.69   0.36  0.66   0.31   \n",
       "\n",
       "    KK9    BB9  \n",
       "0  8.28  10.23  \n",
       "1  6.03   7.02  \n",
       "2  6.17   3.99  \n",
       "3  8.07   6.16  \n",
       "4  6.81   4.59  "
      ]
     },
     "execution_count": 52,
     "metadata": {},
     "output_type": "execute_result"
    }
   ],
   "source": [
    "pitcher_test = pd.read_csv(\"C:/big_contest_2020_summer/modeling_code/test_data/private_pitcher_test.csv\", index_col  = 0)\n",
    "pitcher_test.head()"
   ]
  },
  {
   "cell_type": "code",
   "execution_count": 54,
   "metadata": {},
   "outputs": [],
   "source": [
    "pitcher_test['ER'] = np.round(pitcher_predicted_lgbm,2)"
   ]
  },
  {
   "cell_type": "code",
   "execution_count": 55,
   "metadata": {},
   "outputs": [
    {
     "data": {
      "text/html": [
       "<div>\n",
       "<style scoped>\n",
       "    .dataframe tbody tr th:only-of-type {\n",
       "        vertical-align: middle;\n",
       "    }\n",
       "\n",
       "    .dataframe tbody tr th {\n",
       "        vertical-align: top;\n",
       "    }\n",
       "\n",
       "    .dataframe thead th {\n",
       "        text-align: right;\n",
       "    }\n",
       "</style>\n",
       "<table border=\"1\" class=\"dataframe\">\n",
       "  <thead>\n",
       "    <tr style=\"text-align: right;\">\n",
       "      <th></th>\n",
       "      <th>T_ID</th>\n",
       "      <th>P_ID</th>\n",
       "      <th>TB_SC</th>\n",
       "      <th>INN2</th>\n",
       "      <th>PA-AB</th>\n",
       "      <th>H1</th>\n",
       "      <th>H2</th>\n",
       "      <th>H3</th>\n",
       "      <th>HR</th>\n",
       "      <th>SB_SR</th>\n",
       "      <th>WP</th>\n",
       "      <th>BABIP</th>\n",
       "      <th>KK9</th>\n",
       "      <th>BB9</th>\n",
       "      <th>ER</th>\n",
       "    </tr>\n",
       "  </thead>\n",
       "  <tbody>\n",
       "    <tr>\n",
       "      <th>0</th>\n",
       "      <td>OB</td>\n",
       "      <td>77263</td>\n",
       "      <td>B</td>\n",
       "      <td>2.77</td>\n",
       "      <td>0.72</td>\n",
       "      <td>0.81</td>\n",
       "      <td>0.21</td>\n",
       "      <td>0.08</td>\n",
       "      <td>0.01</td>\n",
       "      <td>0.01</td>\n",
       "      <td>0.03</td>\n",
       "      <td>0.37</td>\n",
       "      <td>8.28</td>\n",
       "      <td>10.23</td>\n",
       "      <td>2.97</td>\n",
       "    </tr>\n",
       "    <tr>\n",
       "      <th>1</th>\n",
       "      <td>NC</td>\n",
       "      <td>63959</td>\n",
       "      <td>B</td>\n",
       "      <td>2.09</td>\n",
       "      <td>0.43</td>\n",
       "      <td>0.45</td>\n",
       "      <td>0.05</td>\n",
       "      <td>0.00</td>\n",
       "      <td>0.01</td>\n",
       "      <td>0.00</td>\n",
       "      <td>0.00</td>\n",
       "      <td>0.26</td>\n",
       "      <td>6.03</td>\n",
       "      <td>7.02</td>\n",
       "      <td>2.29</td>\n",
       "    </tr>\n",
       "    <tr>\n",
       "      <th>2</th>\n",
       "      <td>NC</td>\n",
       "      <td>61295</td>\n",
       "      <td>T</td>\n",
       "      <td>3.26</td>\n",
       "      <td>0.52</td>\n",
       "      <td>0.64</td>\n",
       "      <td>0.08</td>\n",
       "      <td>0.00</td>\n",
       "      <td>0.26</td>\n",
       "      <td>0.05</td>\n",
       "      <td>0.00</td>\n",
       "      <td>0.20</td>\n",
       "      <td>6.17</td>\n",
       "      <td>3.99</td>\n",
       "      <td>1.84</td>\n",
       "    </tr>\n",
       "    <tr>\n",
       "      <th>3</th>\n",
       "      <td>SK</td>\n",
       "      <td>60841</td>\n",
       "      <td>T</td>\n",
       "      <td>15.77</td>\n",
       "      <td>3.26</td>\n",
       "      <td>4.08</td>\n",
       "      <td>0.74</td>\n",
       "      <td>0.11</td>\n",
       "      <td>0.43</td>\n",
       "      <td>0.63</td>\n",
       "      <td>0.08</td>\n",
       "      <td>0.33</td>\n",
       "      <td>8.07</td>\n",
       "      <td>6.16</td>\n",
       "      <td>3.48</td>\n",
       "    </tr>\n",
       "    <tr>\n",
       "      <th>4</th>\n",
       "      <td>LT</td>\n",
       "      <td>64021</td>\n",
       "      <td>T</td>\n",
       "      <td>14.93</td>\n",
       "      <td>2.50</td>\n",
       "      <td>3.96</td>\n",
       "      <td>0.91</td>\n",
       "      <td>0.05</td>\n",
       "      <td>0.69</td>\n",
       "      <td>0.36</td>\n",
       "      <td>0.66</td>\n",
       "      <td>0.31</td>\n",
       "      <td>6.81</td>\n",
       "      <td>4.59</td>\n",
       "      <td>3.21</td>\n",
       "    </tr>\n",
       "  </tbody>\n",
       "</table>\n",
       "</div>"
      ],
      "text/plain": [
       "  T_ID   P_ID TB_SC   INN2  PA-AB    H1    H2    H3    HR  SB_SR    WP  BABIP  \\\n",
       "0   OB  77263     B   2.77   0.72  0.81  0.21  0.08  0.01   0.01  0.03   0.37   \n",
       "1   NC  63959     B   2.09   0.43  0.45  0.05  0.00  0.01   0.00  0.00   0.26   \n",
       "2   NC  61295     T   3.26   0.52  0.64  0.08  0.00  0.26   0.05  0.00   0.20   \n",
       "3   SK  60841     T  15.77   3.26  4.08  0.74  0.11  0.43   0.63  0.08   0.33   \n",
       "4   LT  64021     T  14.93   2.50  3.96  0.91  0.05  0.69   0.36  0.66   0.31   \n",
       "\n",
       "    KK9    BB9    ER  \n",
       "0  8.28  10.23  2.97  \n",
       "1  6.03   7.02  2.29  \n",
       "2  6.17   3.99  1.84  \n",
       "3  8.07   6.16  3.48  \n",
       "4  6.81   4.59  3.21  "
      ]
     },
     "execution_count": 55,
     "metadata": {},
     "output_type": "execute_result"
    }
   ],
   "source": [
    "pitcher_test.head()"
   ]
  },
  {
   "cell_type": "markdown",
   "metadata": {},
   "source": [
    "# 물론, 정수로 반올림하며 음수값들은 0으로 하는 것이 필요하나 굳이 처음부터 raw data의 정보를 손실시키면 나중에 후회할 수 있다. 이거 모델 돌리는데 무지 오래 걸렸으니 일단은 이대로 저장하고 나중에 가공하도록 하자"
   ]
  },
  {
   "cell_type": "code",
   "execution_count": 72,
   "metadata": {},
   "outputs": [],
   "source": [
    "pitcher_test.to_csv(\"C:/big_contest_2020_summer/modeling_code/report_data/private_pitcher_report_lgbm.csv\")"
   ]
  },
  {
   "cell_type": "markdown",
   "metadata": {},
   "source": [
    "&nbsp;\n",
    "\n",
    "&nbsp;\n",
    "\n",
    "&nbsp;\n",
    "\n",
    "&nbsp;\n",
    "\n",
    "&nbsp;\n",
    "\n",
    "# 2-2) Batter\n",
    "\n",
    "#  LGBM\n"
   ]
  },
  {
   "cell_type": "code",
   "execution_count": 57,
   "metadata": {},
   "outputs": [],
   "source": [
    "import pandas as pd\n",
    "import numpy as np\n",
    "\n",
    "\n",
    "batter_train = pd.read_csv(\"C:/big_contest_2020_summer/eda_code/data/private_batter.csv\")\n",
    "batter_test = pd.read_csv(\"C:/big_contest_2020_summer/modeling_code/test_data/private_batter_test.csv\", index_col  = 0)\n",
    "\n",
    "batter_train.drop(columns = ['GDAY_DS','AVG'], inplace = True)\n",
    "\n",
    "batter_train.drop(columns = ['T_ID','P_ID'], inplace = True)\n",
    "batter_test.drop(columns = ['T_ID','P_ID'], inplace = True)\n",
    "\n",
    "\n",
    "import seaborn as sns\n",
    "import matplotlib.pyplot as plt\n",
    "from sklearn.model_selection import GridSearchCV, train_test_split\n",
    "from sklearn.metrics import mean_squared_error\n",
    "from lightgbm import LGBMRegressor\n",
    "from math import sqrt"
   ]
  },
  {
   "cell_type": "code",
   "execution_count": 58,
   "metadata": {},
   "outputs": [
    {
     "data": {
      "text/plain": [
       "Index(['TB_SC', 'PA-AB', 'AB', 'RUN', 'RBI', 'HIT', 'SH+SF', 'KK', 'SB_trial',\n",
       "       'BABIP'],\n",
       "      dtype='object')"
      ]
     },
     "execution_count": 58,
     "metadata": {},
     "output_type": "execute_result"
    }
   ],
   "source": [
    "batter_train.columns"
   ]
  },
  {
   "cell_type": "code",
   "execution_count": 59,
   "metadata": {},
   "outputs": [
    {
     "data": {
      "text/plain": [
       "Index(['TB_SC', 'PA-AB', 'AB', 'RUN', 'RBI', 'SH+SF', 'KK', 'SB_trial',\n",
       "       'BABIP'],\n",
       "      dtype='object')"
      ]
     },
     "execution_count": 59,
     "metadata": {},
     "output_type": "execute_result"
    }
   ],
   "source": [
    "batter_test.columns"
   ]
  },
  {
   "cell_type": "markdown",
   "metadata": {},
   "source": [
    "아까 봤던 것처럼 오케"
   ]
  },
  {
   "cell_type": "code",
   "execution_count": 60,
   "metadata": {},
   "outputs": [],
   "source": [
    "cat_features = ['TB_SC']\n",
    "batter_train[cat_features] = batter_train[cat_features].astype('category')\n",
    "batter_test[cat_features] = batter_test[cat_features].astype('category')"
   ]
  },
  {
   "cell_type": "code",
   "execution_count": 61,
   "metadata": {},
   "outputs": [
    {
     "data": {
      "text/html": [
       "<div>\n",
       "<style scoped>\n",
       "    .dataframe tbody tr th:only-of-type {\n",
       "        vertical-align: middle;\n",
       "    }\n",
       "\n",
       "    .dataframe tbody tr th {\n",
       "        vertical-align: top;\n",
       "    }\n",
       "\n",
       "    .dataframe thead th {\n",
       "        text-align: right;\n",
       "    }\n",
       "</style>\n",
       "<table border=\"1\" class=\"dataframe\">\n",
       "  <thead>\n",
       "    <tr style=\"text-align: right;\">\n",
       "      <th></th>\n",
       "      <th>TB_SC</th>\n",
       "      <th>PA-AB</th>\n",
       "      <th>AB</th>\n",
       "      <th>RUN</th>\n",
       "      <th>RBI</th>\n",
       "      <th>HIT</th>\n",
       "      <th>SH+SF</th>\n",
       "      <th>KK</th>\n",
       "      <th>SB_trial</th>\n",
       "      <th>BABIP</th>\n",
       "    </tr>\n",
       "  </thead>\n",
       "  <tbody>\n",
       "    <tr>\n",
       "      <th>0</th>\n",
       "      <td>T</td>\n",
       "      <td>0</td>\n",
       "      <td>1</td>\n",
       "      <td>0</td>\n",
       "      <td>0</td>\n",
       "      <td>1</td>\n",
       "      <td>0</td>\n",
       "      <td>0</td>\n",
       "      <td>0</td>\n",
       "      <td>1.0</td>\n",
       "    </tr>\n",
       "    <tr>\n",
       "      <th>1</th>\n",
       "      <td>B</td>\n",
       "      <td>0</td>\n",
       "      <td>3</td>\n",
       "      <td>0</td>\n",
       "      <td>0</td>\n",
       "      <td>0</td>\n",
       "      <td>0</td>\n",
       "      <td>2</td>\n",
       "      <td>0</td>\n",
       "      <td>0.0</td>\n",
       "    </tr>\n",
       "    <tr>\n",
       "      <th>2</th>\n",
       "      <td>B</td>\n",
       "      <td>0</td>\n",
       "      <td>4</td>\n",
       "      <td>2</td>\n",
       "      <td>2</td>\n",
       "      <td>3</td>\n",
       "      <td>0</td>\n",
       "      <td>1</td>\n",
       "      <td>1</td>\n",
       "      <td>1.0</td>\n",
       "    </tr>\n",
       "  </tbody>\n",
       "</table>\n",
       "</div>"
      ],
      "text/plain": [
       "  TB_SC  PA-AB  AB  RUN  RBI  HIT  SH+SF  KK  SB_trial  BABIP\n",
       "0     T      0   1    0    0    1      0   0         0    1.0\n",
       "1     B      0   3    0    0    0      0   2         0    0.0\n",
       "2     B      0   4    2    2    3      0   1         1    1.0"
      ]
     },
     "execution_count": 61,
     "metadata": {},
     "output_type": "execute_result"
    }
   ],
   "source": [
    "batter_train.head(3)"
   ]
  },
  {
   "cell_type": "code",
   "execution_count": 62,
   "metadata": {},
   "outputs": [],
   "source": [
    "X = batter_train.drop(columns = ['HIT'])\n",
    "y = batter_train['HIT']\n",
    "\n",
    "X_train, X_val, y_train, y_val = train_test_split(X, y, test_size = 0.3, shuffle = True, random_state = 2020)\n",
    "\n",
    "X_train.columns = [\"\".join (c if c.isalnum() else \"_\" for c in str(x)) for x in X_train.columns]\n",
    "X_val.columns = [\"\".join (c if c.isalnum() else \"_\" for c in str(x)) for x in X_val.columns]"
   ]
  },
  {
   "cell_type": "code",
   "execution_count": 22,
   "metadata": {},
   "outputs": [],
   "source": [
    "params_grid = {\n",
    "    'num_leaves': [30, 50, 70],\n",
    "    'reg_alpha': [0.1, 0.5],\n",
    "    'min_data_in_leaf': [30, 50, 100, 300, 400],\n",
    "    'lambda_l1': [0, 1, 1.5],\n",
    "    'lambda_l2': [0, 1]\n",
    "    }"
   ]
  },
  {
   "cell_type": "code",
   "execution_count": 24,
   "metadata": {},
   "outputs": [
    {
     "name": "stdout",
     "output_type": "stream",
     "text": [
      "Fitting 5 folds for each of 180 candidates, totalling 900 fits\n"
     ]
    },
    {
     "name": "stderr",
     "output_type": "stream",
     "text": [
      "[Parallel(n_jobs=10)]: Using backend LokyBackend with 10 concurrent workers.\n",
      "[Parallel(n_jobs=10)]: Done  12 tasks      | elapsed:  3.0min\n",
      "[Parallel(n_jobs=10)]: Done 108 tasks      | elapsed: 18.3min\n",
      "[Parallel(n_jobs=10)]: Done 268 tasks      | elapsed: 43.8min\n",
      "[Parallel(n_jobs=10)]: Done 492 tasks      | elapsed: 77.8min\n",
      "[Parallel(n_jobs=10)]: Done 780 tasks      | elapsed: 122.2min\n",
      "[Parallel(n_jobs=10)]: Done 900 out of 900 | elapsed: 141.3min finished\n",
      "C:\\Users\\drlim\\Anaconda3\\lib\\site-packages\\lightgbm\\engine.py:118: UserWarning: Found `num_boost_round` in params. Will use it instead of argument\n",
      "  warnings.warn(\"Found `{}` in params. Will use it instead of argument\".format(alias))\n"
     ]
    },
    {
     "data": {
      "text/plain": [
       "GridSearchCV(estimator=LGBMRegressor(learning_rate=0.01, num_boost_round=2000),\n",
       "             n_jobs=10,\n",
       "             param_grid={'lambda_l1': [0, 1, 1.5], 'lambda_l2': [0, 1],\n",
       "                         'min_data_in_leaf': [30, 50, 100, 300, 400],\n",
       "                         'num_leaves': [30, 50, 70], 'reg_alpha': [0.1, 0.5]},\n",
       "             verbose=3)"
      ]
     },
     "execution_count": 24,
     "metadata": {},
     "output_type": "execute_result"
    }
   ],
   "source": [
    "lgb = LGBMRegressor(boosting_type='gbdt', num_boost_round=2000, learning_rate=0.01)\n",
    "lgb_grid = GridSearchCV(estimator=lgb,\n",
    "                        param_grid=params_grid,\n",
    "                        n_jobs=10,\n",
    "                        verbose=3)\n",
    "lgb_grid.fit(X_train,y_train)"
   ]
  },
  {
   "cell_type": "code",
   "execution_count": 25,
   "metadata": {},
   "outputs": [
    {
     "data": {
      "text/plain": [
       "{'lambda_l1': 0,\n",
       " 'lambda_l2': 0,\n",
       " 'min_data_in_leaf': 30,\n",
       " 'num_leaves': 70,\n",
       " 'reg_alpha': 0.1}"
      ]
     },
     "execution_count": 25,
     "metadata": {},
     "output_type": "execute_result"
    }
   ],
   "source": [
    "lgb_grid.best_params_"
   ]
  },
  {
   "cell_type": "markdown",
   "metadata": {},
   "source": [
    "traindata가 똑같으니 모델을 다시 돌릴 필요는 없다. 위의 best parameter를 넣어서 돌리면 된다."
   ]
  },
  {
   "cell_type": "markdown",
   "metadata": {},
   "source": [
    "lgb = LGBMRegressor(boosting_type='gbdt', num_boost_round=2000, learning_rate=0.01)\n",
    "lgb_grid = GridSearchCV(estimator=lgb,\n",
    "                        param_grid=params_grid,\n",
    "                        n_jobs=10,\n",
    "                        verbose=3)"
   ]
  },
  {
   "cell_type": "code",
   "execution_count": 65,
   "metadata": {},
   "outputs": [
    {
     "name": "stderr",
     "output_type": "stream",
     "text": [
      "C:\\Users\\drlim\\Anaconda3\\lib\\site-packages\\lightgbm\\engine.py:118: UserWarning: Found `num_boost_round` in params. Will use it instead of argument\n",
      "  warnings.warn(\"Found `{}` in params. Will use it instead of argument\".format(alias))\n"
     ]
    },
    {
     "data": {
      "text/plain": [
       "LGBMRegressor(lambda_l1=0, lambda_l2=0, learning_rate=0.01, min_data_in_leaf=30,\n",
       "              num_boost_round=2000, num_leaves=70, reg_alpha=0.1)"
      ]
     },
     "execution_count": 65,
     "metadata": {},
     "output_type": "execute_result"
    }
   ],
   "source": [
    "lgb = LGBMRegressor(boosting_type = 'gbdt', num_boost_round = 2000, learning_rate = 0.01, \n",
    "                    lambda_l1 = 0, lambda_l2 = 0, min_data_in_leaf = 30, num_leaves = 70, reg_alpha = 0.1)\n",
    "\n",
    "lgb.fit(X_train, y_train)"
   ]
  },
  {
   "cell_type": "code",
   "execution_count": 66,
   "metadata": {},
   "outputs": [
    {
     "name": "stdout",
     "output_type": "stream",
     "text": [
      "0.06530250791965068 0.00426441754059604\n"
     ]
    }
   ],
   "source": [
    "y_pred2 = lgb.predict(X_val)\n",
    "\n",
    "lgbm_rmse = sqrt(mean_squared_error(y_val, y_pred2));lgbm_mse = mean_squared_error(y_val, y_pred2)\n",
    "print(lgbm_rmse, lgbm_mse)"
   ]
  },
  {
   "cell_type": "code",
   "execution_count": 67,
   "metadata": {
    "scrolled": true
   },
   "outputs": [
    {
     "data": {
      "text/plain": [
       "array([9.90194525e-01, 9.13302470e-01, 9.88117515e-01, 9.71985993e-01,\n",
       "       9.71999198e-01, 8.73826320e-01, 9.93322045e-01, 9.92193397e-01,\n",
       "       9.52794938e-01, 9.24259963e-01, 8.73826320e-01, 9.59798966e-01,\n",
       "       9.73597068e-01, 8.51692786e-01, 9.79260476e-01, 9.98003758e-01,\n",
       "       8.82575808e-01, 8.58157681e-01, 9.60045221e-01, 9.78696670e-01,\n",
       "       1.00811603e+00, 9.69916786e-01, 9.90579491e-01, 9.85295269e-01,\n",
       "       9.07062047e-01, 9.24259963e-01, 3.69503431e-05, 9.80288016e-01,\n",
       "       8.51692786e-01, 9.28933897e-01, 8.73826320e-01, 9.03431189e-01,\n",
       "       9.88660346e-01, 9.90194525e-01, 9.76431724e-01, 9.98003758e-01,\n",
       "       9.52415876e-01, 9.73886222e-01, 9.79260476e-01, 1.04402554e+00,\n",
       "       9.80288016e-01, 9.13302470e-01, 9.88117515e-01, 1.00523917e+00,\n",
       "       9.58824308e-01, 9.49401813e-01, 9.96546817e-01, 9.98003758e-01,\n",
       "       9.81170881e-01, 9.44964842e-01, 9.80288016e-01, 9.73886175e-01,\n",
       "       9.90868360e-01, 9.03431189e-01, 1.00309905e+00, 1.98322187e+00,\n",
       "       9.59798966e-01, 9.69360704e-01, 9.55189989e-01, 8.45115467e-01,\n",
       "       9.24259963e-01, 8.45115467e-01, 9.81170881e-01, 1.03492693e+00,\n",
       "       9.85510207e-01, 9.87313326e-01, 9.90194525e-01, 9.57234538e-01,\n",
       "       8.58157681e-01, 9.73597068e-01, 9.85510207e-01, 9.59798966e-01,\n",
       "       9.49401813e-01, 9.68739137e-01, 8.45115467e-01, 9.80288016e-01,\n",
       "       9.42340306e-01, 1.92985411e+00, 1.00309905e+00, 9.85009732e-01,\n",
       "       9.24259963e-01, 4.54231260e-02, 9.28933897e-01, 9.70303471e-01,\n",
       "       9.76353107e-01, 9.81170881e-01, 1.00523917e+00, 9.52415876e-01,\n",
       "       1.00309905e+00, 9.85510207e-01, 9.73597068e-01, 9.69409420e-01,\n",
       "       9.49401813e-01, 9.07062047e-01, 9.69409420e-01, 9.85009732e-01,\n",
       "       9.76353107e-01, 1.01883036e+00, 9.72286478e-01, 9.80288016e-01,\n",
       "       8.73826320e-01, 8.51692786e-01, 9.17865368e-01, 8.45115467e-01,\n",
       "       9.56924126e-01, 9.28933897e-01, 1.00418098e+00, 1.00309905e+00,\n",
       "       9.13302470e-01, 9.80288016e-01, 9.98563467e-01, 1.00786519e+00,\n",
       "       8.45115467e-01, 9.13453810e-01, 9.57234538e-01, 8.82575808e-01,\n",
       "       9.80561937e-01, 9.13302470e-01, 9.17719857e-01, 9.81172825e-01,\n",
       "       9.52212605e-01, 8.45115467e-01, 9.98086773e-01, 9.79868090e-01,\n",
       "       9.90579491e-01, 6.41563987e-05, 6.41563987e-05, 6.41563987e-05,\n",
       "       6.41563987e-05, 3.69503431e-05, 3.69503431e-05, 6.41563987e-05,\n",
       "       6.41563987e-05, 6.41563987e-05, 3.69503431e-05, 3.69503431e-05,\n",
       "       6.41563987e-05, 6.41563987e-05, 6.41563987e-05, 3.69503431e-05,\n",
       "       3.69503431e-05, 9.99673524e-01, 6.41563987e-05, 6.41563987e-05,\n",
       "       9.48934192e-01, 3.68536882e-05, 3.69503431e-05, 3.69503431e-05,\n",
       "       3.69503431e-05, 9.96609840e-01, 3.69503431e-05, 6.41563987e-05,\n",
       "       6.41563987e-05, 3.24714188e-03, 3.69503431e-05, 4.73836670e-04,\n",
       "       9.82866504e-01, 6.41563987e-05, 5.87069807e-05, 9.84177180e-01,\n",
       "       4.99625608e-05, 3.69503431e-05, 3.69503431e-05, 3.69503431e-05,\n",
       "       9.98948262e-01])"
      ]
     },
     "execution_count": 67,
     "metadata": {},
     "output_type": "execute_result"
    }
   ],
   "source": [
    "batter_predicted_lgbm = lgb.predict(batter_test)\n",
    "batter_predicted_lgbm"
   ]
  },
  {
   "cell_type": "code",
   "execution_count": 68,
   "metadata": {},
   "outputs": [],
   "source": [
    "batter_test = pd.read_csv(\"C:/big_contest_2020_summer/modeling_code/test_data/private_batter_test.csv\", index_col  = 0)\n",
    "batter_test['HIT'] = np.round(batter_predicted_lgbm,2)"
   ]
  },
  {
   "cell_type": "code",
   "execution_count": 71,
   "metadata": {},
   "outputs": [],
   "source": [
    "batter_test.to_csv(\"C:/big_contest_2020_summer/modeling_code/report_data/private_batter_report_lgbm.csv\")"
   ]
  },
  {
   "cell_type": "markdown",
   "metadata": {},
   "source": [
    "import seaborn as sns\n",
    "import matplotlib.pyplot as plt\n",
    "\n",
    "lgb_feature_importance_batter = lgb_grid.best_estimator_.feature_importances_\n",
    "lgb_feature_imp_batter=pd.Series(lgb_feature_importance_batter,index=X_train.columns).sort_values(ascending=False)\n",
    "lgb_feature_imp_batter"
   ]
  },
  {
   "cell_type": "code",
   "execution_count": 30,
   "metadata": {
    "scrolled": true
   },
   "outputs": [
    {
     "data": {
      "text/plain": [
       "<matplotlib.axes._subplots.AxesSubplot at 0x2d545bf6160>"
      ]
     },
     "execution_count": 30,
     "metadata": {},
     "output_type": "execute_result"
    },
    {
     "data": {
      "image/png": "[encoded data removed]",
      "text/plain": [
       "<Figure size 864x720 with 1 Axes>"
      ]
     },
     "metadata": {
      "needs_background": "light"
     },
     "output_type": "display_data"
    }
   ],
   "source": [
    "plt.figure(figsize=(12,10))\n",
    "plt.title(\"Light GBM feature Importance For Batters\")\n",
    "sns.barplot(x=lgb_feature_imp_batter[0:30], y=lgb_feature_imp_batter.index[0:30])"
   ]
  }
 ],
 "metadata": {
  "kernelspec": {
   "display_name": "Python 3",
   "language": "python",
   "name": "python3"
  },
  "language_info": {
   "codemirror_mode": {
    "name": "ipython",
    "version": 3
   },
   "file_extension": ".py",
   "mimetype": "text/x-python",
   "name": "python",
   "nbconvert_exporter": "python",
   "pygments_lexer": "ipython3",
   "version": "3.7.3"
  }
 },
 "nbformat": 4,
 "nbformat_minor": 2
}
