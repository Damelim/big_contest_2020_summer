{
 "cells": [
  {
   "cell_type": "code",
   "execution_count": 25,
   "metadata": {},
   "outputs": [],
   "source": [
    "import numpy as np\n",
    "import pandas as pd\n",
    "import matplotlib.pyplot as plt\n",
    "import seaborn as sns\n",
    "%matplotlib inline"
   ]
  },
  {
   "cell_type": "code",
   "execution_count": 26,
   "metadata": {},
   "outputs": [],
   "source": [
    "from sklearn.model_selection import train_test_split\n",
    "from sklearn.ensemble import RandomForestRegressor"
   ]
  },
  {
   "cell_type": "code",
   "execution_count": 27,
   "metadata": {},
   "outputs": [],
   "source": [
    "## train\n",
    "\n",
    "pitcher_train = pd.read_csv(\"pitcher_train.csv\")\n",
    "batter_train = pd.read_csv(\"batter_train.csv\")\n",
    "\n",
    "## test\n",
    "\n",
    "pitcher_test = pd.read_csv(\"pitcher_test.csv\", index_col  = 0)\n",
    "batter_test = pd.read_csv(\"batter_test.csv\", index_col  = 0)"
   ]
  },
  {
   "cell_type": "code",
   "execution_count": 28,
   "metadata": {},
   "outputs": [
    {
     "name": "stdout",
     "output_type": "stream",
     "text": [
      "(27298, 21)\n",
      "(234, 20)\n",
      "(80395, 13)\n",
      "(299, 12)\n"
     ]
    }
   ],
   "source": [
    "print(pitcher_train.shape)\n",
    "print(pitcher_test.shape)\n",
    "\n",
    "print(batter_train.shape)\n",
    "print(batter_test.shape)"
   ]
  },
  {
   "cell_type": "markdown",
   "metadata": {},
   "source": [
    "## 변수제거"
   ]
  },
  {
   "cell_type": "code",
   "execution_count": 29,
   "metadata": {},
   "outputs": [],
   "source": [
    "batter_train=batter_train[[\"TB_SC\",\"PA-AB\",\"RUN\",\"RBI\",\"SH+SF\",\"KK\",\"SB_trial\",\"BABIP\",\"AB\",\"HIT\"]]\n",
    "batter_test=batter_test[[\"TB_SC\",\"PA-AB\",\"RUN\",\"RBI\",\"SH+SF\",\"KK\",\"SB_trial\",\"BABIP\"]]\n",
    "\n",
    "pitcher_train=pitcher_train[[\"TB_SC\",\"PA-AB\",\"H1\",\"H2\",\"H3\",\"HR\",\"SB_SR\",\"WP\",\"BABIP\",\"KK9\",\"BB9\",\"INN2\",\"ER\"]]\n",
    "pitcher_test=pitcher_test[[\"TB_SC\",\"PA-AB\",\"H1\",\"H2\",\"H3\",\"HR\",\"SB_SR\",\"WP\",\"BABIP\",\"KK9\",\"BB9\"]]"
   ]
  },
  {
   "cell_type": "code",
   "execution_count": 30,
   "metadata": {},
   "outputs": [
    {
     "name": "stdout",
     "output_type": "stream",
     "text": [
      "(27298, 13)\n",
      "(234, 11)\n",
      "(80395, 10)\n",
      "(299, 8)\n"
     ]
    }
   ],
   "source": [
    "print(pitcher_train.shape)\n",
    "print(pitcher_test.shape)\n",
    "\n",
    "print(batter_train.shape)\n",
    "print(batter_test.shape)"
   ]
  },
  {
   "cell_type": "markdown",
   "metadata": {},
   "source": [
    "# Model Train"
   ]
  },
  {
   "cell_type": "code",
   "execution_count": 31,
   "metadata": {},
   "outputs": [],
   "source": [
    "import seaborn as sns\n",
    "import matplotlib.pyplot as plt\n",
    "from sklearn.model_selection import GridSearchCV, train_test_split\n",
    "from sklearn.metrics import mean_squared_error\n",
    "from math import sqrt"
   ]
  },
  {
   "cell_type": "markdown",
   "metadata": {},
   "source": [
    "### 투수 - INN2"
   ]
  },
  {
   "cell_type": "code",
   "execution_count": 32,
   "metadata": {},
   "outputs": [
    {
     "data": {
      "text/plain": [
       "TB_SC     object\n",
       "PA-AB    float64\n",
       "H1       float64\n",
       "H2       float64\n",
       "H3       float64\n",
       "HR       float64\n",
       "SB_SR    float64\n",
       "WP       float64\n",
       "BABIP    float64\n",
       "KK9      float64\n",
       "BB9      float64\n",
       "INN2       int64\n",
       "ER         int64\n",
       "dtype: object"
      ]
     },
     "execution_count": 32,
     "metadata": {},
     "output_type": "execute_result"
    }
   ],
   "source": [
    "pitcher_train.dtypes"
   ]
  },
  {
   "cell_type": "code",
   "execution_count": 33,
   "metadata": {},
   "outputs": [
    {
     "data": {
      "text/plain": [
       "TB_SC    category\n",
       "PA-AB     float64\n",
       "H1        float64\n",
       "H2        float64\n",
       "H3        float64\n",
       "HR        float64\n",
       "SB_SR     float64\n",
       "WP        float64\n",
       "BABIP     float64\n",
       "KK9       float64\n",
       "BB9       float64\n",
       "INN2        int64\n",
       "ER          int64\n",
       "dtype: object"
      ]
     },
     "execution_count": 33,
     "metadata": {},
     "output_type": "execute_result"
    }
   ],
   "source": [
    "cat_features = ['TB_SC']\n",
    "pitcher_train[cat_features] = pitcher_train[cat_features].astype('category')\n",
    "\n",
    "pitcher_train.dtypes"
   ]
  },
  {
   "cell_type": "code",
   "execution_count": 34,
   "metadata": {},
   "outputs": [
    {
     "data": {
      "text/plain": [
       "TB_SC    category\n",
       "PA-AB       int64\n",
       "H1          int64\n",
       "H2          int64\n",
       "H3          int64\n",
       "HR          int64\n",
       "SB_SR     float64\n",
       "WP          int64\n",
       "BABIP     float64\n",
       "KK9       float64\n",
       "BB9       float64\n",
       "dtype: object"
      ]
     },
     "execution_count": 34,
     "metadata": {},
     "output_type": "execute_result"
    }
   ],
   "source": [
    "pitcher_test[cat_features] = pitcher_test[cat_features].astype('category')\n",
    "\n",
    "pitcher_test.dtypes"
   ]
  },
  {
   "cell_type": "code",
   "execution_count": 35,
   "metadata": {},
   "outputs": [
    {
     "name": "stdout",
     "output_type": "stream",
     "text": [
      "(19108, 11)\n",
      "(8190, 11)\n",
      "(27298, 11)\n"
     ]
    }
   ],
   "source": [
    "X = pitcher_train.drop(columns = ['INN2','ER'])\n",
    "y = pitcher_train['INN2']\n",
    "\n",
    "X_train, X_val, y_train, y_val = train_test_split(X, y, test_size = 0.3, shuffle = True, random_state = 2020)\n",
    "\n",
    "print(X_train.shape)\n",
    "print(X_val.shape)\n",
    "print(X.shape)"
   ]
  },
  {
   "cell_type": "code",
   "execution_count": 36,
   "metadata": {},
   "outputs": [],
   "source": [
    "X_train.columns = [\"\".join (c if c.isalnum() else \"_\" for c in str(x)) for x in X_train.columns]\n",
    "X_val.columns = [\"\".join (c if c.isalnum() else \"_\" for c in str(x)) for x in X_val.columns]"
   ]
  },
  {
   "cell_type": "code",
   "execution_count": 37,
   "metadata": {},
   "outputs": [
    {
     "data": {
      "text/plain": [
       "TB_SC    category\n",
       "PA-AB     float64\n",
       "H1        float64\n",
       "H2        float64\n",
       "H3        float64\n",
       "HR        float64\n",
       "SB_SR     float64\n",
       "WP        float64\n",
       "BABIP     float64\n",
       "KK9       float64\n",
       "BB9       float64\n",
       "INN2        int64\n",
       "ER          int64\n",
       "dtype: object"
      ]
     },
     "execution_count": 37,
     "metadata": {},
     "output_type": "execute_result"
    }
   ],
   "source": [
    "# same code again (not needed but doesn't bite)\n",
    "cat_features = ['TB_SC']\n",
    "pitcher_train[cat_features] = pitcher_train[cat_features].astype('category')\n",
    "\n",
    "pitcher_train.dtypes"
   ]
  },
  {
   "cell_type": "code",
   "execution_count": 38,
   "metadata": {},
   "outputs": [
    {
     "data": {
      "text/html": [
       "<div>\n",
       "<style scoped>\n",
       "    .dataframe tbody tr th:only-of-type {\n",
       "        vertical-align: middle;\n",
       "    }\n",
       "\n",
       "    .dataframe tbody tr th {\n",
       "        vertical-align: top;\n",
       "    }\n",
       "\n",
       "    .dataframe thead th {\n",
       "        text-align: right;\n",
       "    }\n",
       "</style>\n",
       "<table border=\"1\" class=\"dataframe\">\n",
       "  <thead>\n",
       "    <tr style=\"text-align: right;\">\n",
       "      <th></th>\n",
       "      <th>PA-AB</th>\n",
       "      <th>H1</th>\n",
       "      <th>H2</th>\n",
       "      <th>H3</th>\n",
       "      <th>HR</th>\n",
       "      <th>SB_SR</th>\n",
       "      <th>WP</th>\n",
       "      <th>BABIP</th>\n",
       "      <th>KK9</th>\n",
       "      <th>BB9</th>\n",
       "      <th>INN2</th>\n",
       "      <th>ER</th>\n",
       "      <th>TB_SC_B</th>\n",
       "      <th>TB_SC_T</th>\n",
       "    </tr>\n",
       "  </thead>\n",
       "  <tbody>\n",
       "    <tr>\n",
       "      <th>0</th>\n",
       "      <td>1.0</td>\n",
       "      <td>3.0</td>\n",
       "      <td>2.0</td>\n",
       "      <td>0.0</td>\n",
       "      <td>0.0</td>\n",
       "      <td>0.0</td>\n",
       "      <td>0.0</td>\n",
       "      <td>0.277778</td>\n",
       "      <td>3.600000</td>\n",
       "      <td>1.800000</td>\n",
       "      <td>19</td>\n",
       "      <td>2</td>\n",
       "      <td>0</td>\n",
       "      <td>1</td>\n",
       "    </tr>\n",
       "    <tr>\n",
       "      <th>1</th>\n",
       "      <td>1.0</td>\n",
       "      <td>7.0</td>\n",
       "      <td>2.0</td>\n",
       "      <td>0.0</td>\n",
       "      <td>0.0</td>\n",
       "      <td>0.0</td>\n",
       "      <td>0.0</td>\n",
       "      <td>0.333333</td>\n",
       "      <td>2.842105</td>\n",
       "      <td>0.000000</td>\n",
       "      <td>16</td>\n",
       "      <td>8</td>\n",
       "      <td>1</td>\n",
       "      <td>0</td>\n",
       "    </tr>\n",
       "    <tr>\n",
       "      <th>2</th>\n",
       "      <td>2.0</td>\n",
       "      <td>7.0</td>\n",
       "      <td>1.0</td>\n",
       "      <td>0.0</td>\n",
       "      <td>1.0</td>\n",
       "      <td>0.0</td>\n",
       "      <td>0.0</td>\n",
       "      <td>0.380952</td>\n",
       "      <td>3.375000</td>\n",
       "      <td>3.375000</td>\n",
       "      <td>15</td>\n",
       "      <td>5</td>\n",
       "      <td>1</td>\n",
       "      <td>0</td>\n",
       "    </tr>\n",
       "    <tr>\n",
       "      <th>3</th>\n",
       "      <td>1.0</td>\n",
       "      <td>6.0</td>\n",
       "      <td>1.0</td>\n",
       "      <td>0.0</td>\n",
       "      <td>2.0</td>\n",
       "      <td>1.0</td>\n",
       "      <td>0.0</td>\n",
       "      <td>0.368421</td>\n",
       "      <td>3.600000</td>\n",
       "      <td>1.800000</td>\n",
       "      <td>21</td>\n",
       "      <td>0</td>\n",
       "      <td>1</td>\n",
       "      <td>0</td>\n",
       "    </tr>\n",
       "    <tr>\n",
       "      <th>4</th>\n",
       "      <td>3.0</td>\n",
       "      <td>2.0</td>\n",
       "      <td>0.0</td>\n",
       "      <td>0.0</td>\n",
       "      <td>0.0</td>\n",
       "      <td>0.0</td>\n",
       "      <td>0.0</td>\n",
       "      <td>0.100000</td>\n",
       "      <td>2.571429</td>\n",
       "      <td>3.857143</td>\n",
       "      <td>15</td>\n",
       "      <td>3</td>\n",
       "      <td>1</td>\n",
       "      <td>0</td>\n",
       "    </tr>\n",
       "  </tbody>\n",
       "</table>\n",
       "</div>"
      ],
      "text/plain": [
       "   PA-AB   H1   H2   H3   HR  SB_SR   WP     BABIP       KK9       BB9  INN2  \\\n",
       "0    1.0  3.0  2.0  0.0  0.0    0.0  0.0  0.277778  3.600000  1.800000    19   \n",
       "1    1.0  7.0  2.0  0.0  0.0    0.0  0.0  0.333333  2.842105  0.000000    16   \n",
       "2    2.0  7.0  1.0  0.0  1.0    0.0  0.0  0.380952  3.375000  3.375000    15   \n",
       "3    1.0  6.0  1.0  0.0  2.0    1.0  0.0  0.368421  3.600000  1.800000    21   \n",
       "4    3.0  2.0  0.0  0.0  0.0    0.0  0.0  0.100000  2.571429  3.857143    15   \n",
       "\n",
       "   ER  TB_SC_B  TB_SC_T  \n",
       "0   2        0        1  \n",
       "1   8        1        0  \n",
       "2   5        1        0  \n",
       "3   0        1        0  \n",
       "4   3        1        0  "
      ]
     },
     "execution_count": 38,
     "metadata": {},
     "output_type": "execute_result"
    }
   ],
   "source": [
    "#sklearn 을 이용한 random forest는 dummy변수화 해줘야 함.\n",
    "pitcher_train = pd.get_dummies(pitcher_train)\n",
    "pitcher_train.head()"
   ]
  },
  {
   "cell_type": "code",
   "execution_count": 39,
   "metadata": {},
   "outputs": [
    {
     "data": {
      "text/html": [
       "<div>\n",
       "<style scoped>\n",
       "    .dataframe tbody tr th:only-of-type {\n",
       "        vertical-align: middle;\n",
       "    }\n",
       "\n",
       "    .dataframe tbody tr th {\n",
       "        vertical-align: top;\n",
       "    }\n",
       "\n",
       "    .dataframe thead th {\n",
       "        text-align: right;\n",
       "    }\n",
       "</style>\n",
       "<table border=\"1\" class=\"dataframe\">\n",
       "  <thead>\n",
       "    <tr style=\"text-align: right;\">\n",
       "      <th></th>\n",
       "      <th>PA-AB</th>\n",
       "      <th>H1</th>\n",
       "      <th>H2</th>\n",
       "      <th>H3</th>\n",
       "      <th>HR</th>\n",
       "      <th>SB_SR</th>\n",
       "      <th>WP</th>\n",
       "      <th>BABIP</th>\n",
       "      <th>KK9</th>\n",
       "      <th>BB9</th>\n",
       "      <th>TB_SC_B</th>\n",
       "      <th>TB_SC_T</th>\n",
       "    </tr>\n",
       "    <tr>\n",
       "      <th>B</th>\n",
       "      <th></th>\n",
       "      <th></th>\n",
       "      <th></th>\n",
       "      <th></th>\n",
       "      <th></th>\n",
       "      <th></th>\n",
       "      <th></th>\n",
       "      <th></th>\n",
       "      <th></th>\n",
       "      <th></th>\n",
       "      <th></th>\n",
       "      <th></th>\n",
       "    </tr>\n",
       "  </thead>\n",
       "  <tbody>\n",
       "    <tr>\n",
       "      <th>0</th>\n",
       "      <td>2</td>\n",
       "      <td>4</td>\n",
       "      <td>1</td>\n",
       "      <td>0</td>\n",
       "      <td>0</td>\n",
       "      <td>0.0</td>\n",
       "      <td>0</td>\n",
       "      <td>0.294118</td>\n",
       "      <td>6.000000</td>\n",
       "      <td>3.000000</td>\n",
       "      <td>0</td>\n",
       "      <td>1</td>\n",
       "    </tr>\n",
       "    <tr>\n",
       "      <th>1</th>\n",
       "      <td>4</td>\n",
       "      <td>0</td>\n",
       "      <td>0</td>\n",
       "      <td>0</td>\n",
       "      <td>1</td>\n",
       "      <td>0.0</td>\n",
       "      <td>0</td>\n",
       "      <td>0.000000</td>\n",
       "      <td>0.000000</td>\n",
       "      <td>54.000000</td>\n",
       "      <td>1</td>\n",
       "      <td>0</td>\n",
       "    </tr>\n",
       "    <tr>\n",
       "      <th>0</th>\n",
       "      <td>2</td>\n",
       "      <td>8</td>\n",
       "      <td>1</td>\n",
       "      <td>1</td>\n",
       "      <td>1</td>\n",
       "      <td>0.0</td>\n",
       "      <td>1</td>\n",
       "      <td>0.526316</td>\n",
       "      <td>11.571429</td>\n",
       "      <td>3.857143</td>\n",
       "      <td>0</td>\n",
       "      <td>1</td>\n",
       "    </tr>\n",
       "    <tr>\n",
       "      <th>1</th>\n",
       "      <td>5</td>\n",
       "      <td>4</td>\n",
       "      <td>0</td>\n",
       "      <td>0</td>\n",
       "      <td>0</td>\n",
       "      <td>0.0</td>\n",
       "      <td>0</td>\n",
       "      <td>0.200000</td>\n",
       "      <td>5.400000</td>\n",
       "      <td>6.750000</td>\n",
       "      <td>1</td>\n",
       "      <td>0</td>\n",
       "    </tr>\n",
       "    <tr>\n",
       "      <th>0</th>\n",
       "      <td>0</td>\n",
       "      <td>0</td>\n",
       "      <td>0</td>\n",
       "      <td>0</td>\n",
       "      <td>0</td>\n",
       "      <td>0.0</td>\n",
       "      <td>0</td>\n",
       "      <td>0.000000</td>\n",
       "      <td>0.000000</td>\n",
       "      <td>0.000000</td>\n",
       "      <td>0</td>\n",
       "      <td>1</td>\n",
       "    </tr>\n",
       "  </tbody>\n",
       "</table>\n",
       "</div>"
      ],
      "text/plain": [
       "   PA-AB  H1  H2  H3  HR  SB_SR  WP     BABIP        KK9        BB9  TB_SC_B  \\\n",
       "B                                                                              \n",
       "0      2   4   1   0   0    0.0   0  0.294118   6.000000   3.000000        0   \n",
       "1      4   0   0   0   1    0.0   0  0.000000   0.000000  54.000000        1   \n",
       "0      2   8   1   1   1    0.0   1  0.526316  11.571429   3.857143        0   \n",
       "1      5   4   0   0   0    0.0   0  0.200000   5.400000   6.750000        1   \n",
       "0      0   0   0   0   0    0.0   0  0.000000   0.000000   0.000000        0   \n",
       "\n",
       "   TB_SC_T  \n",
       "B           \n",
       "0        1  \n",
       "1        0  \n",
       "0        1  \n",
       "1        0  \n",
       "0        1  "
      ]
     },
     "execution_count": 39,
     "metadata": {},
     "output_type": "execute_result"
    }
   ],
   "source": [
    "pitcher_test = pd.get_dummies(pitcher_test)\n",
    "pitcher_test.head()"
   ]
  },
  {
   "cell_type": "code",
   "execution_count": 40,
   "metadata": {},
   "outputs": [
    {
     "name": "stdout",
     "output_type": "stream",
     "text": [
      "(19108, 12)\n",
      "(8190, 12)\n",
      "(27298, 12)\n"
     ]
    }
   ],
   "source": [
    "X = pitcher_train.drop(columns = ['INN2','ER'])\n",
    "y = pitcher_train['INN2']\n",
    "\n",
    "X_train, X_val, y_train, y_val = train_test_split(X, y, test_size = 0.3, shuffle = True, random_state = 2020)\n",
    "\n",
    "print(X_train.shape)\n",
    "print(X_val.shape)\n",
    "\n",
    "print(X.shape)"
   ]
  },
  {
   "cell_type": "code",
   "execution_count": 41,
   "metadata": {},
   "outputs": [
    {
     "name": "stdout",
     "output_type": "stream",
     "text": [
      "0.7253847211427864\n",
      "0.6585759417650962\n"
     ]
    }
   ],
   "source": [
    "estimator = RandomForestRegressor(bootstrap=True, max_depth=10, \n",
    "                                  max_features='auto', min_samples_leaf=5, \n",
    "                                  min_samples_split=2, n_estimators=1000, random_state=2020)\n",
    "\n",
    "estimator.fit(X_train, y_train)\n",
    "\n",
    "print(estimator.score(X_train, y_train))\n",
    "print(estimator.score(X_val, y_val))\n",
    "\n",
    "reg_prediction=estimator.predict(X_val)"
   ]
  },
  {
   "cell_type": "code",
   "execution_count": 42,
   "metadata": {},
   "outputs": [
    {
     "data": {
      "text/plain": [
       "12.708676002629474"
      ]
     },
     "execution_count": 42,
     "metadata": {},
     "output_type": "execute_result"
    }
   ],
   "source": [
    "mse_inn2_rf = mean_squared_error(y_val, reg_prediction)\n",
    "mse_inn2_rf"
   ]
  },
  {
   "cell_type": "markdown",
   "metadata": {},
   "source": [
    "## 투수-ER"
   ]
  },
  {
   "cell_type": "code",
   "execution_count": 43,
   "metadata": {},
   "outputs": [
    {
     "name": "stdout",
     "output_type": "stream",
     "text": [
      "(19108, 12)\n",
      "(8190, 12)\n",
      "(27298, 12)\n"
     ]
    }
   ],
   "source": [
    "X = pitcher_train.drop(columns = ['INN2','ER'])\n",
    "y = pitcher_train['ER']\n",
    "\n",
    "X_train, X_val, y_train, y_val = train_test_split(X, y, test_size = 0.3, shuffle = True, random_state = 2020)\n",
    "\n",
    "print(X_train.shape)\n",
    "print(X_val.shape)\n",
    "\n",
    "print(X.shape)"
   ]
  },
  {
   "cell_type": "code",
   "execution_count": 44,
   "metadata": {},
   "outputs": [
    {
     "name": "stdout",
     "output_type": "stream",
     "text": [
      "0.33422752565426506\n",
      "0.27746580384328023\n"
     ]
    }
   ],
   "source": [
    "estimator = RandomForestRegressor(bootstrap=True, max_depth=10, \n",
    "                                  max_features='log2', min_samples_leaf=5, \n",
    "                                  min_samples_split=2, n_estimators=500, random_state=2020)\n",
    "\n",
    "estimator.fit(X_train, y_train)\n",
    "\n",
    "print(estimator.score(X_train, y_train))\n",
    "print(estimator.score(X_val, y_val))\n",
    "\n",
    "reg_prediction=estimator.predict(X_val)"
   ]
  },
  {
   "cell_type": "code",
   "execution_count": 45,
   "metadata": {},
   "outputs": [
    {
     "data": {
      "text/plain": [
       "2.019370668538266"
      ]
     },
     "execution_count": 45,
     "metadata": {},
     "output_type": "execute_result"
    }
   ],
   "source": [
    "mse_er_rf = mean_squared_error(y_val, reg_prediction)\n",
    "mse_er_rf"
   ]
  },
  {
   "cell_type": "code",
   "execution_count": 46,
   "metadata": {},
   "outputs": [
    {
     "data": {
      "text/plain": [
       "7.36402333558387"
      ]
     },
     "execution_count": 46,
     "metadata": {},
     "output_type": "execute_result"
    }
   ],
   "source": [
    "(mse_inn2_rf + mse_er_rf)/2"
   ]
  }
 ],
 "metadata": {
  "kernelspec": {
   "display_name": "Python 3",
   "language": "python",
   "name": "python3"
  },
  "language_info": {
   "codemirror_mode": {
    "name": "ipython",
    "version": 3
   },
   "file_extension": ".py",
   "mimetype": "text/x-python",
   "name": "python",
   "nbconvert_exporter": "python",
   "pygments_lexer": "ipython3",
   "version": "3.7.6"
  }
 },
 "nbformat": 4,
 "nbformat_minor": 4
}
