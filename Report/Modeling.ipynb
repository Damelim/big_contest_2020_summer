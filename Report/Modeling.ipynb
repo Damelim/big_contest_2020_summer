{
 "cells": [
  {
   "cell_type": "code",
   "execution_count": null,
   "metadata": {},
   "outputs": [],
   "source": [
    "import numpy as np\n",
    "import pandas as pd\n",
    "import datetime"
   ]
  },
  {
   "cell_type": "markdown",
   "metadata": {},
   "source": [
    "## 1. 데이터프레임 변형\n",
    "- 해당 날짜의 x값은 그대로 사용하되, y값은 다음 경기의 값으로 변형\n",
    "- test data는 각 선수 별 가장 최근 경기의 x값으로 구성"
   ]
  },
  {
   "cell_type": "markdown",
   "metadata": {},
   "source": [
    "### 기존 데이터프레임"
   ]
  },
  {
   "cell_type": "code",
   "execution_count": null,
   "metadata": {},
   "outputs": [],
   "source": [
    "batter = pd.read_csv('data/private_batter.csv')\n",
    "batter = batter.sort_values(by=['P_ID','GDAY_DS'])\n",
    "batter['GDAY_DS'] = pd.to_datetime(batter['GDAY_DS'],format='%Y-%m-%d')"
   ]
  },
  {
   "cell_type": "code",
   "execution_count": null,
   "metadata": {},
   "outputs": [],
   "source": [
    "pitcher = pd.read_csv('data/private_pitcher.csv')\n",
    "pitcher = pitcher.sort_values(by=['P_ID','GDAY_DS'])\n",
    "pitcher['GDAY_DS'] = pd.to_datetime(pitcher['GDAY_DS'],format='%Y-%m-%d')"
   ]
  },
  {
   "cell_type": "markdown",
   "metadata": {},
   "source": [
    "### 타자 데이터프레임 변형"
   ]
  },
  {
   "cell_type": "markdown",
   "metadata": {},
   "source": [
    "- train 데이터"
   ]
  },
  {
   "cell_type": "code",
   "execution_count": null,
   "metadata": {},
   "outputs": [],
   "source": [
    "df=pd.DataFrame()\n",
    "for i in batter.P_ID.unique():\n",
    "    temp = batter[batter['P_ID']==i].drop('AVG',axis=1)\n",
    "    temp = temp.reset_index(drop='index')\n",
    "    future_y = temp[['AB','HIT']]\n",
    "    x = temp.drop(['AB','HIT'],axis=1)\n",
    "    x = x.shift(periods=1,axis=0)\n",
    "    new = pd.concat([x,future_y],axis=1)\n",
    "    new = new.drop(0)\n",
    "    df = pd.concat([df,new])"
   ]
  },
  {
   "cell_type": "code",
   "execution_count": null,
   "metadata": {},
   "outputs": [],
   "source": [
    "df = df.reset_index(drop='index')"
   ]
  },
  {
   "cell_type": "code",
   "execution_count": null,
   "metadata": {},
   "outputs": [],
   "source": [
    "df.to_csv('data/batter_train.csv')"
   ]
  },
  {
   "cell_type": "markdown",
   "metadata": {},
   "source": [
    "- test x"
   ]
  },
  {
   "cell_type": "code",
   "execution_count": null,
   "metadata": {},
   "outputs": [],
   "source": [
    "final_x = pd.DataFrame()\n",
    "for i in batter.P_ID.unique():\n",
    "    temp = batter[batter['P_ID']==i].drop(['AVG','AB','HIT'],axis=1).tail(1)\n",
    "    final_x = pd.concat([final_x,temp])"
   ]
  },
  {
   "cell_type": "code",
   "execution_count": null,
   "metadata": {},
   "outputs": [],
   "source": [
    "final_x = final_x[final_x['GDAY_DS'].dt.year>=2020]\n",
    "df = pd.concat([pd.get_dummies(df['TB_SC']),df],axis=1)\n",
    "final_x = pd.concat([pd.get_dummies(final_x['TB_SC']),final_x],axis=1)"
   ]
  },
  {
   "cell_type": "code",
   "execution_count": null,
   "metadata": {},
   "outputs": [],
   "source": [
    "final_x = final_x.reset_index(drop='index')\n",
    "final_x.to_csv('data/batter_test.csv')"
   ]
  },
  {
   "cell_type": "markdown",
   "metadata": {},
   "source": [
    "### 투수 데이터프레임 변형"
   ]
  },
  {
   "cell_type": "markdown",
   "metadata": {},
   "source": [
    "- train 데이터"
   ]
  },
  {
   "cell_type": "code",
   "execution_count": null,
   "metadata": {},
   "outputs": [],
   "source": [
    "df=pd.DataFrame()\n",
    "for i in pitcher.P_ID.unique():\n",
    "    temp = pitcher[pitcher['P_ID']==i].drop('ERA',axis=1)\n",
    "    temp = temp.reset_index(drop='index')\n",
    "    future_y = temp[['INN2','ER']]\n",
    "    x = temp.drop(['INN2','ER'],axis=1)\n",
    "    x = x.shift(periods=1,axis=0)\n",
    "    new = pd.concat([x,future_y],axis=1)\n",
    "    new = new.drop(0)\n",
    "    df = pd.concat([df,new])"
   ]
  },
  {
   "cell_type": "code",
   "execution_count": null,
   "metadata": {},
   "outputs": [],
   "source": [
    "df = df.reset_index(drop='index')\n",
    "df.to_csv('data/pitcher_train.csv')"
   ]
  },
  {
   "cell_type": "markdown",
   "metadata": {},
   "source": [
    "- test x "
   ]
  },
  {
   "cell_type": "code",
   "execution_count": null,
   "metadata": {},
   "outputs": [],
   "source": [
    "final_x = pd.DataFrame()\n",
    "for i in pitcher.P_ID.unique():\n",
    "    temp = pitcher[pitcher['P_ID']==i].drop(['INN2','ER','ERA'],axis=1).tail(1)\n",
    "    final_x = pd.concat([final_x,temp])"
   ]
  },
  {
   "cell_type": "code",
   "execution_count": null,
   "metadata": {},
   "outputs": [],
   "source": [
    "final_x = final_x[final_x['GDAY_DS'].dt.year>=2020]\n",
    "df = pd.concat([pd.get_dummies(df['TB_SC']),df],axis=1)\n",
    "final_x = pd.concat([pd.get_dummies(final_x['TB_SC']),final_x],axis=1)"
   ]
  },
  {
   "cell_type": "code",
   "execution_count": null,
   "metadata": {},
   "outputs": [],
   "source": [
    "final_x = final_x.reset_index(drop='index')\n",
    "final_x.to_csv('data/pitcher_test.csv')"
   ]
  },
  {
   "cell_type": "markdown",
   "metadata": {},
   "source": [
    "## 2.투수: LGBM\n",
    "- y값은 ER INN2"
   ]
  },
  {
   "cell_type": "code",
   "execution_count": null,
   "metadata": {},
   "outputs": [],
   "source": [
    "pitcher_train = pd.read_csv(\"data/pitcher_train.csv\")\n",
    "pitcher_test = pd.read_csv(\"data/pitcher_test.csv\")"
   ]
  },
  {
   "cell_type": "code",
   "execution_count": null,
   "metadata": {},
   "outputs": [],
   "source": [
    "pitcher_train=pitcher_train[[\"TB_SC\",\"PA-AB\",\"H1\",\"H2\",\"H3\",\"HR\",\"SB_SR\",\"WP\",\"BABIP\",\"KK9\",\"BB9\",\"INN2\",\"ER\"]]\n",
    "pitcher_test=pitcher_test[[\"TB_SC\",\"PA-AB\",\"H1\",\"H2\",\"H3\",\"HR\",\"SB_SR\",\"WP\",\"BABIP\",\"KK9\",\"BB9\"]]"
   ]
  },
  {
   "cell_type": "code",
   "execution_count": null,
   "metadata": {},
   "outputs": [],
   "source": [
    "import seaborn as sns\n",
    "import matplotlib.pyplot as plt\n",
    "from sklearn.model_selection import GridSearchCV, train_test_split\n",
    "from sklearn.ensemble import RandomForestRegressor\n",
    "from sklearn.metrics import mean_squared_error\n",
    "from xgboost import XGBRegressor\n",
    "import lightgbm\n",
    "from lightgbm import LGBMRegressor\n",
    "from math import sqrt"
   ]
  },
  {
   "cell_type": "code",
   "execution_count": null,
   "metadata": {},
   "outputs": [],
   "source": [
    "cat_features = ['TB_SC']\n",
    "pitcher_train[cat_features] = pitcher_train[cat_features].astype('category')\n",
    "pitcher_test[cat_features] = pitcher_test[cat_features].astype('category')"
   ]
  },
  {
   "cell_type": "markdown",
   "metadata": {},
   "source": [
    "- ER 예측"
   ]
  },
  {
   "cell_type": "code",
   "execution_count": null,
   "metadata": {},
   "outputs": [],
   "source": [
    "X = pitcher_train.drop(columns = ['ER','INN2','TB_SC'])\n",
    "y = pitcher_train['ER']\n",
    "\n",
    "X_train, X_val, y_train, y_val = train_test_split(X, y, test_size = 0.3, shuffle = True, random_state = 2020)"
   ]
  },
  {
   "cell_type": "code",
   "execution_count": null,
   "metadata": {},
   "outputs": [],
   "source": [
    "X_train.columns = [\"\".join (c if c.isalnum() else \"_\" for c in str(x)) for x in X_train.columns]\n",
    "X_val.columns = [\"\".join (c if c.isalnum() else \"_\" for c in str(x)) for x in X_val.columns]"
   ]
  },
  {
   "cell_type": "code",
   "execution_count": null,
   "metadata": {},
   "outputs": [],
   "source": [
    "params_grid = {\n",
    "    'num_leaves': [30, 50, 70],\n",
    "    'reg_alpha': [0.1, 0.5],\n",
    "    'min_data_in_leaf': [30, 50, 100, 300, 400],\n",
    "    'lambda_l1': [0, 1, 1.5],\n",
    "    'lambda_l2': [0, 1]\n",
    "    }\n",
    "lgb = LGBMRegressor(boosting_type='gbdt', num_boost_round=2000, learning_rate=0.01)\n",
    "lgb_grid = GridSearchCV(estimator=lgb,\n",
    "                        param_grid=params_grid,\n",
    "                        n_jobs=10,\n",
    "                        verbose=3)\n",
    "lgb_grid.fit(X_train,y_train)"
   ]
  },
  {
   "cell_type": "code",
   "execution_count": null,
   "metadata": {},
   "outputs": [],
   "source": [
    "y_pred = lgb_grid.predict(X_val)\n",
    "mse = mean_squared_error(y_val, y_pred)\n",
    "mse"
   ]
  },
  {
   "cell_type": "code",
   "execution_count": null,
   "metadata": {},
   "outputs": [],
   "source": [
    "ER = lgb_grid.predict(pitcher_test)\n",
    "pitcher_test['ER'] = np.round(ER,2)"
   ]
  },
  {
   "cell_type": "markdown",
   "metadata": {},
   "source": [
    "- INN2예측"
   ]
  },
  {
   "cell_type": "code",
   "execution_count": null,
   "metadata": {},
   "outputs": [],
   "source": [
    "X = pitcher_train.drop(columns = ['INN2','ER','TB_SC'])\n",
    "y = pitcher_train['INN2']\n",
    "\n",
    "X_train, X_val, y_train, y_val = train_test_split(X, y, test_size = 0.3, shuffle = True, random_state = 2020)"
   ]
  },
  {
   "cell_type": "code",
   "execution_count": null,
   "metadata": {},
   "outputs": [],
   "source": [
    "lgb = LGBMRegressor(boosting_type='gbdt', num_boost_round=2000, learning_rate=0.01)\n",
    "lgb_grid = GridSearchCV(estimator=lgb,\n",
    "                        param_grid=params_grid,\n",
    "                        n_jobs=10,\n",
    "                        verbose=3)\n",
    "lgb_grid.fit(X_train,y_train)"
   ]
  },
  {
   "cell_type": "code",
   "execution_count": null,
   "metadata": {},
   "outputs": [],
   "source": [
    "y_pred = lgb_grid.predict(X_val)\n",
    "mse = mean_squared_error(y_val, y_pred)\n",
    "mse"
   ]
  },
  {
   "cell_type": "code",
   "execution_count": null,
   "metadata": {},
   "outputs": [],
   "source": [
    "INN2 = lgb_grid.predict(pitcher_test)\n",
    "pitcher_test['INN2'] = INN2"
   ]
  },
  {
   "cell_type": "markdown",
   "metadata": {},
   "source": [
    "## 3.타자: XGB\n",
    "- y값은 HIT AB"
   ]
  },
  {
   "cell_type": "code",
   "execution_count": null,
   "metadata": {},
   "outputs": [],
   "source": [
    "batter_train = pd.read_csv(\"data/batter_train.csv\")\n",
    "batter_test = pd.read_csv(\"data/batter_test.csv\")\n",
    "batter_test = batter_test.drop(['GDAY_DS','T_ID','P_ID','TB_SC'],axis=1)"
   ]
  },
  {
   "cell_type": "markdown",
   "metadata": {},
   "source": [
    "- AB"
   ]
  },
  {
   "cell_type": "code",
   "execution_count": null,
   "metadata": {},
   "outputs": [],
   "source": [
    "X= batter_train.drop(columns=['GDAY_DS','T_ID','P_ID','HIT','AB','TB_SC'])\n",
    "y= batter_train['AB']\n",
    "\n",
    "X_train, X_val, y_train, y_val = train_test_split(X, y, test_size = 0.3, shuffle = True, random_state = 2020)"
   ]
  },
  {
   "cell_type": "code",
   "execution_count": null,
   "metadata": {},
   "outputs": [],
   "source": [
    "colsample_bytree = [0.5, 0.7, 1]\n",
    "subsample = [0, 0.5, 1]\n",
    "gamma = [0, 2]\n",
    "learning_rate = [0.01, 0.1]\n",
    "n_estimators = [300, 400, 500]\n",
    "\n",
    "param_grid = dict(learning_rate = learning_rate,\n",
    "                  n_estimators=n_estimators, colsample_bytree = colsample_bytree, subsample = subsample, gamma = gamma)"
   ]
  },
  {
   "cell_type": "code",
   "execution_count": null,
   "metadata": {},
   "outputs": [],
   "source": [
    "xgb_model = XGBRegressor()\n",
    "grid_search = GridSearchCV(xgb_model, param_grid, scoring= \"neg_mean_squared_error\")\n",
    "grid_result = grid_search.fit(X_train, y_train)\n",
    "\n",
    "print(grid_result.best_score_)\n",
    "print(grid_result.best_params_)"
   ]
  },
  {
   "cell_type": "code",
   "execution_count": null,
   "metadata": {},
   "outputs": [],
   "source": [
    "xgb1 = XGBRegressor(colsample_bytree= 1, gamma= 2, learning_rate= 0.01, n_estimators= 500, subsample= 0.5)\n",
    "xgb1.fit(X_train, y_train)"
   ]
  },
  {
   "cell_type": "code",
   "execution_count": null,
   "metadata": {},
   "outputs": [],
   "source": [
    "y_pred = xgb1.predict(X_val)\n",
    "mse = mean_squared_error(y_val, y_pred)\n",
    "mse"
   ]
  },
  {
   "cell_type": "code",
   "execution_count": null,
   "metadata": {},
   "outputs": [],
   "source": [
    "AB = xgb1.predict(batter_test)\n",
    "batter_test['AB'] = AB"
   ]
  },
  {
   "cell_type": "markdown",
   "metadata": {},
   "source": [
    "- HIT"
   ]
  },
  {
   "cell_type": "code",
   "execution_count": null,
   "metadata": {},
   "outputs": [],
   "source": [
    "X= df.drop(columns=['GDAY_DS','T_ID','P_ID','HIT','AB','TB_SC'])\n",
    "y= df['HIT']\n",
    "\n",
    "X_train, X_val, y_train, y_val = train_test_split(X, y, test_size = 0.3, shuffle = True, random_state = 2020)"
   ]
  },
  {
   "cell_type": "code",
   "execution_count": null,
   "metadata": {},
   "outputs": [],
   "source": [
    "xgb_model = XGBRegressor()\n",
    "grid_search = GridSearchCV(xgb_model, param_grid, scoring= \"neg_mean_squared_error\")\n",
    "grid_result = grid_search.fit(X_train, y_train)\n",
    "\n",
    "print(grid_result.best_score_)\n",
    "print(grid_result.best_params_)"
   ]
  },
  {
   "cell_type": "code",
   "execution_count": null,
   "metadata": {},
   "outputs": [],
   "source": [
    "xgb2 = XGBRegressor(colsample_bytree= 0.7, gamma= 2, learning_rate= 0.01, n_estimators= 500, subsample= 0.5)\n",
    "xgb2.fit(X_train, y_train)"
   ]
  },
  {
   "cell_type": "code",
   "execution_count": null,
   "metadata": {},
   "outputs": [],
   "source": [
    "y_pred = xgb2.predict(X_val)\n",
    "mse = mean_squared_error(y_val, y_pred)\n",
    "mse"
   ]
  },
  {
   "cell_type": "code",
   "execution_count": null,
   "metadata": {},
   "outputs": [],
   "source": [
    "HIT =  xgb2.predict(batter_test)\n",
    "batter_test['HIT'] = HIT"
   ]
  },
  {
   "cell_type": "markdown",
   "metadata": {},
   "source": [
    "## 4.최종적인 Y값 : AVG, ERA, 승률"
   ]
  },
  {
   "cell_type": "code",
   "execution_count": null,
   "metadata": {},
   "outputs": [],
   "source": [
    "#avg\n",
    "hit = batter_test['HIT'].groupby(batter_test['T_ID']).sum()\n",
    "ab = batter_test['AB'].groupby(batter_test['T_ID']).sum()\n",
    "AVG = hit/ab"
   ]
  },
  {
   "cell_type": "code",
   "execution_count": null,
   "metadata": {},
   "outputs": [],
   "source": [
    "#era\n",
    "inn2 = pitcher_test['INN2'].groupby(pitcher_test['T_ID']).sum()\n",
    "er = pitcher_test['ER'].groupby(pitcher_test['T_ID']).sum()/3\n",
    "ERA = er/inn2*9"
   ]
  },
  {
   "cell_type": "code",
   "execution_count": null,
   "metadata": {},
   "outputs": [],
   "source": [
    "#승률\n",
    "batter_T = pd.read_csv('data/batter_T.csv')\n",
    "pitcher_T = pd.read_csv('data/pitcher_T.csv')"
   ]
  },
  {
   "cell_type": "code",
   "execution_count": null,
   "metadata": {},
   "outputs": [],
   "source": [
    "run = batter_T['RUN'].groupby(batter_T['T_ID']).sum()\n",
    "R = pitcher_T['R'].groupby(pitcer_T['T_ID']).sum()\n",
    "WR = (run**2)/((run**2)+(R**2))"
   ]
  },
  {
   "cell_type": "code",
   "execution_count": null,
   "metadata": {},
   "outputs": [],
   "source": [
    "data = pd.DataFrame({'타율': AVG,\n",
    "                          '방어율': ERA,\n",
    "                          '승률': WR})\n",
    "data"
   ]
  }
 ],
 "metadata": {
  "kernelspec": {
   "display_name": "Python 3",
   "language": "python",
   "name": "python3"
  },
  "language_info": {
   "codemirror_mode": {
    "name": "ipython",
    "version": 3
   },
   "file_extension": ".py",
   "mimetype": "text/x-python",
   "name": "python",
   "nbconvert_exporter": "python",
   "pygments_lexer": "ipython3",
   "version": "3.8.3"
  }
 },
 "nbformat": 4,
 "nbformat_minor": 4
}
