{
 "cells": [
  {
   "cell_type": "code",
   "execution_count": null,
   "metadata": {},
   "outputs": [],
   "source": [
    "import numpy as np\n",
    "import pandas as pd\n",
    "import datetime"
   ]
  },
  {
   "cell_type": "markdown",
   "metadata": {},
   "source": [
    "## 1. 데이터프레임 변형\n",
    "- 해당 날짜의 x값은 그대로 사용하되, y값은 다음 경기의 값으로 변형\n",
    "- test data는 각 선수 별 가장 최근 경기의 x값으로 구성"
   ]
  },
  {
   "cell_type": "markdown",
   "metadata": {},
   "source": [
    "### 기존 데이터프레임"
   ]
  },
  {
   "cell_type": "code",
   "execution_count": null,
   "metadata": {},
   "outputs": [],
   "source": [
    "batter = pd.read_csv('data/private_batter.csv')\n",
    "batter = batter.sort_values(by=['P_ID','GDAY_DS'])\n",
    "batter['GDAY_DS'] = pd.to_datetime(batter['GDAY_DS'],format='%Y-%m-%d')"
   ]
  },
  {
   "cell_type": "code",
   "execution_count": null,
   "metadata": {},
   "outputs": [],
   "source": [
    "pitcher = pd.read_csv('data/private_pitcher.csv')\n",
    "pitcher = pitcher.sort_values(by=['P_ID','GDAY_DS'])\n",
    "pitcher['GDAY_DS'] = pd.to_datetime(pitcher['GDAY_DS'],format='%Y-%m-%d')"
   ]
  },
  {
   "cell_type": "markdown",
   "metadata": {},
   "source": [
    "### 타자 데이터프레임 변형"
   ]
  },
  {
   "cell_type": "markdown",
   "metadata": {},
   "source": [
    "- train 데이터"
   ]
  },
  {
   "cell_type": "code",
   "execution_count": null,
   "metadata": {},
   "outputs": [],
   "source": [
    "df=pd.DataFrame()\n",
    "for i in batter.P_ID.unique():\n",
    "    temp = batter[batter['P_ID']==i].drop('AVG',axis=1)\n",
    "    temp = temp.reset_index(drop='index')\n",
    "    future_y = temp[['AB','HIT']]\n",
    "    x = temp.drop(['AB','HIT'],axis=1)\n",
    "    x = x.shift(periods=1,axis=0)\n",
    "    new = pd.concat([x,future_y],axis=1)\n",
    "    new = new.drop(0)\n",
    "    df = pd.concat([df,new])"
   ]
  },
  {
   "cell_type": "code",
   "execution_count": null,
   "metadata": {},
   "outputs": [],
   "source": [
    "df = df.reset_index(drop='index')"
   ]
  },
  {
   "cell_type": "code",
   "execution_count": null,
   "metadata": {},
   "outputs": [],
   "source": [
    "df.to_csv('data/batter_train.csv',index=False)"
   ]
  },
  {
   "cell_type": "markdown",
   "metadata": {},
   "source": [
    "- test x"
   ]
  },
  {
   "cell_type": "code",
   "execution_count": null,
   "metadata": {},
   "outputs": [],
   "source": [
    "final_x = pd.DataFrame()\n",
    "for i in batter.P_ID.unique():\n",
    "    temp = batter[batter['P_ID']==i].drop(['AVG','AB','HIT'],axis=1).tail(1)\n",
    "    final_x = pd.concat([final_x,temp])"
   ]
  },
  {
   "cell_type": "code",
   "execution_count": null,
   "metadata": {},
   "outputs": [],
   "source": [
    "final_x = final_x[final_x['GDAY_DS'].dt.year>=2020]\n",
    "final_x = final_x.reset_index(drop='index')\n",
    "final_x.to_csv('data/batter_test.csv',index=False)"
   ]
  },
  {
   "cell_type": "markdown",
   "metadata": {},
   "source": [
    "### 투수 데이터프레임 변형"
   ]
  },
  {
   "cell_type": "markdown",
   "metadata": {},
   "source": [
    "- train 데이터"
   ]
  },
  {
   "cell_type": "code",
   "execution_count": null,
   "metadata": {},
   "outputs": [],
   "source": [
    "df=pd.DataFrame()\n",
    "for i in pitcher.P_ID.unique():\n",
    "    temp = pitcher[pitcher['P_ID']==i].drop('ERA',axis=1)\n",
    "    temp = temp.reset_index(drop='index')\n",
    "    future_y = temp[['INN2','ER']]\n",
    "    x = temp.drop(['INN2','ER'],axis=1)\n",
    "    x = x.shift(periods=1,axis=0)\n",
    "    new = pd.concat([x,future_y],axis=1)\n",
    "    new = new.drop(0)\n",
    "    df = pd.concat([df,new])"
   ]
  },
  {
   "cell_type": "code",
   "execution_count": null,
   "metadata": {},
   "outputs": [],
   "source": [
    "df = df.reset_index(drop='index')\n",
    "df.to_csv('data/pitcher_train.csv',index=False)"
   ]
  },
  {
   "cell_type": "markdown",
   "metadata": {},
   "source": [
    "- test x "
   ]
  },
  {
   "cell_type": "code",
   "execution_count": null,
   "metadata": {},
   "outputs": [],
   "source": [
    "final_x = pd.DataFrame()\n",
    "for i in pitcher.P_ID.unique():\n",
    "    temp = pitcher[pitcher['P_ID']==i].drop(['INN2','ER','ERA'],axis=1).tail(1)\n",
    "    final_x = pd.concat([final_x,temp])"
   ]
  },
  {
   "cell_type": "code",
   "execution_count": null,
   "metadata": {},
   "outputs": [],
   "source": [
    "final_x = final_x[final_x['GDAY_DS'].dt.year>=2020]"
   ]
  },
  {
   "cell_type": "code",
   "execution_count": null,
   "metadata": {},
   "outputs": [],
   "source": [
    "final_x = final_x.reset_index(drop='index')\n",
    "final_x.to_csv('data/pitcher_test.csv',index=False)"
   ]
  },
  {
   "cell_type": "markdown",
   "metadata": {},
   "source": [
    "## 2.투수: LGBM\n",
    "- y값은 ER INN2"
   ]
  },
  {
   "cell_type": "code",
   "execution_count": null,
   "metadata": {},
   "outputs": [],
   "source": [
    "from sklearn.model_selection import GridSearchCV, train_test_split\n",
    "from sklearn.ensemble import RandomForestRegressor\n",
    "from sklearn.metrics import mean_squared_error\n",
    "from xgboost import XGBRegressor\n",
    "from lightgbm import LGBMRegressor\n",
    "from math import sqrt\n",
    "import warnings\n",
    "warnings.filterwarnings('ignore')"
   ]
  },
  {
   "cell_type": "code",
   "execution_count": null,
   "metadata": {},
   "outputs": [],
   "source": [
    "pitcher_train = pd.read_csv(\"data/pitcher_train.csv\")\n",
    "pitcher_test = pd.read_csv(\"data/pitcher_test.csv\")"
   ]
  },
  {
   "cell_type": "code",
   "execution_count": null,
   "metadata": {},
   "outputs": [],
   "source": [
    "pitcher_team = pitcher_test['T_ID']"
   ]
  },
  {
   "cell_type": "code",
   "execution_count": null,
   "metadata": {},
   "outputs": [],
   "source": [
    "pitcher_train = pitcher_train.drop(columns = ['GDAY_DS','T_ID','P_ID','BF','AB','HIT','KK','SLG'])\n",
    "pitcher_test = pitcher_test.drop(columns=['GDAY_DS','P_ID','BF','AB','HIT','KK','SLG','T_ID'])"
   ]
  },
  {
   "cell_type": "code",
   "execution_count": null,
   "metadata": {},
   "outputs": [],
   "source": [
    "cat_features = ['TB_SC']\n",
    "pitcher_train[cat_features] = pitcher_train[cat_features].astype('category')\n",
    "pitcher_test[cat_features] = pitcher_test[cat_features].astype('category')"
   ]
  },
  {
   "cell_type": "code",
   "execution_count": null,
   "metadata": {},
   "outputs": [],
   "source": [
    "pitcher_train = pd.get_dummies(pitcher_train)\n",
    "pitcher_test = pd.get_dummies(pitcher_test)"
   ]
  },
  {
   "cell_type": "markdown",
   "metadata": {},
   "source": [
    "- ER 예측"
   ]
  },
  {
   "cell_type": "code",
   "execution_count": null,
   "metadata": {},
   "outputs": [],
   "source": [
    "X = pitcher_train.drop(columns = ['ER','INN2'])\n",
    "y = pitcher_train['ER']\n",
    "\n",
    "X_train, X_val, y_train, y_val = train_test_split(X, y, test_size = 0.3, shuffle = True, random_state = 2020)"
   ]
  },
  {
   "cell_type": "code",
   "execution_count": null,
   "metadata": {},
   "outputs": [],
   "source": [
    "lgb1 = LGBMRegressor(boosting_type='gbdt', num_boost_round=2000, learning_rate=0.01,\n",
    "                    lambda_l1 = 1.5,\n",
    "                    lambda_l2 = 1,\n",
    "                    min_data_in_leaf = 400,\n",
    "                    num_leaves = 30,\n",
    "                    reg_alpha = 0.1)"
   ]
  },
  {
   "cell_type": "code",
   "execution_count": null,
   "metadata": {},
   "outputs": [],
   "source": [
    "lgb1.fit(X_train,y_train)\n",
    "y_pred = lgb1.predict(X_val)\n",
    "mse = mean_squared_error(y_val, y_pred)\n",
    "mse"
   ]
  },
  {
   "cell_type": "code",
   "execution_count": null,
   "metadata": {},
   "outputs": [],
   "source": [
    "ER = lgb1.predict(pitcher_test)"
   ]
  },
  {
   "cell_type": "markdown",
   "metadata": {},
   "source": [
    "- INN2예측"
   ]
  },
  {
   "cell_type": "code",
   "execution_count": null,
   "metadata": {},
   "outputs": [],
   "source": [
    "X = pitcher_train.drop(columns = ['INN2','ER'])\n",
    "y = pitcher_train['INN2']\n",
    "\n",
    "X_train, X_val, y_train, y_val = train_test_split(X, y, test_size = 0.3, shuffle = True, random_state = 2020)"
   ]
  },
  {
   "cell_type": "code",
   "execution_count": null,
   "metadata": {},
   "outputs": [],
   "source": [
    "lgb2 = LGBMRegressor(boosting_type='gbdt', num_boost_round=2000, learning_rate=0.01,\n",
    "                    lambda_l1 = 1.5,\n",
    "                    lambda_l2 = 0,\n",
    "                    min_data_in_leaf = 300,\n",
    "                    num_leaves = 50,\n",
    "                    reg_alpha = 0.1)"
   ]
  },
  {
   "cell_type": "code",
   "execution_count": null,
   "metadata": {},
   "outputs": [],
   "source": [
    "lgb2.fit(X_train,y_train)\n",
    "y_pred = lgb2.predict(X_val)\n",
    "mse = mean_squared_error(y_val, y_pred)\n",
    "mse"
   ]
  },
  {
   "cell_type": "code",
   "execution_count": null,
   "metadata": {},
   "outputs": [],
   "source": [
    "INN2 = lgb2.predict(pitcher_test)"
   ]
  },
  {
   "cell_type": "code",
   "execution_count": null,
   "metadata": {},
   "outputs": [],
   "source": [
    "pitcher_test['INN2'] = INN2\n",
    "pitcher_test['ER'] = np.round(ER,2)\n",
    "pitcher_test['T_ID'] = pitcher_team"
   ]
  },
  {
   "cell_type": "markdown",
   "metadata": {},
   "source": [
    "## 3.타자: XGB\n",
    "- y값은 HIT AB"
   ]
  },
  {
   "cell_type": "code",
   "execution_count": null,
   "metadata": {},
   "outputs": [],
   "source": [
    "batter_train = pd.read_csv(\"data/batter_train.csv\")\n",
    "batter_test = pd.read_csv(\"data/batter_test.csv\")"
   ]
  },
  {
   "cell_type": "code",
   "execution_count": null,
   "metadata": {},
   "outputs": [],
   "source": [
    "batter_team = batter_test['T_ID']"
   ]
  },
  {
   "cell_type": "code",
   "execution_count": null,
   "metadata": {},
   "outputs": [],
   "source": [
    "batter_train = batter_train.drop(columns=['GDAY_DS','T_ID','P_ID'])\n",
    "batter_test = batter_test.drop(['GDAY_DS','T_ID','P_ID'],axis=1)"
   ]
  },
  {
   "cell_type": "code",
   "execution_count": null,
   "metadata": {},
   "outputs": [],
   "source": [
    "cat_features = ['TB_SC']\n",
    "batter_train[cat_features] = batter_train[cat_features].astype('category')\n",
    "batter_test[cat_features] = batter_test[cat_features].astype('category')"
   ]
  },
  {
   "cell_type": "code",
   "execution_count": null,
   "metadata": {},
   "outputs": [],
   "source": [
    "batter_train = pd.get_dummies(batter_train)\n",
    "batter_test = pd.get_dummies(batter_test)"
   ]
  },
  {
   "cell_type": "markdown",
   "metadata": {},
   "source": [
    "- AB"
   ]
  },
  {
   "cell_type": "code",
   "execution_count": null,
   "metadata": {},
   "outputs": [],
   "source": [
    "X= batter_train.drop(columns=['HIT','AB'])\n",
    "y= batter_train['AB']\n",
    "\n",
    "X_train, X_val, y_train, y_val = train_test_split(X, y, test_size = 0.3, shuffle = True, random_state = 2020)"
   ]
  },
  {
   "cell_type": "code",
   "execution_count": null,
   "metadata": {},
   "outputs": [],
   "source": [
    "xgb1 = XGBRegressor(colsample_bytree= 1, gamma= 2, learning_rate= 0.01, n_estimators= 500, subsample= 0.5)"
   ]
  },
  {
   "cell_type": "code",
   "execution_count": null,
   "metadata": {},
   "outputs": [],
   "source": [
    "xgb1.fit(X_train, y_train)\n",
    "y_pred = xgb1.predict(X_val)\n",
    "mse = mean_squared_error(y_val, y_pred)\n",
    "mse"
   ]
  },
  {
   "cell_type": "code",
   "execution_count": null,
   "metadata": {},
   "outputs": [],
   "source": [
    "AB = xgb1.predict(batter_test)"
   ]
  },
  {
   "cell_type": "markdown",
   "metadata": {},
   "source": [
    "- HIT"
   ]
  },
  {
   "cell_type": "code",
   "execution_count": null,
   "metadata": {},
   "outputs": [],
   "source": [
    "X= batter_train.drop(columns=['HIT','AB'])\n",
    "y= batter_train['HIT']\n",
    "\n",
    "X_train, X_val, y_train, y_val = train_test_split(X, y, test_size = 0.3, shuffle = True, random_state = 2020)"
   ]
  },
  {
   "cell_type": "code",
   "execution_count": null,
   "metadata": {},
   "outputs": [],
   "source": [
    "xgb2 = XGBRegressor(colsample_bytree= 0.7, gamma= 2, learning_rate= 0.01, n_estimators= 500, subsample= 0.5)"
   ]
  },
  {
   "cell_type": "code",
   "execution_count": null,
   "metadata": {},
   "outputs": [],
   "source": [
    "xgb2.fit(X_train, y_train)\n",
    "y_pred = xgb2.predict(X_val)\n",
    "mse = mean_squared_error(y_val, y_pred)\n",
    "mse"
   ]
  },
  {
   "cell_type": "code",
   "execution_count": null,
   "metadata": {},
   "outputs": [],
   "source": [
    "HIT =  xgb2.predict(batter_test)"
   ]
  },
  {
   "cell_type": "code",
   "execution_count": null,
   "metadata": {},
   "outputs": [],
   "source": [
    "batter_test['AB'] = AB\n",
    "batter_test['HIT'] = HIT\n",
    "batter_test['T_ID'] = batter_team"
   ]
  },
  {
   "cell_type": "markdown",
   "metadata": {},
   "source": [
    "## 4.최종적인 Y값 : AVG, ERA, 승률"
   ]
  },
  {
   "cell_type": "code",
   "execution_count": null,
   "metadata": {},
   "outputs": [],
   "source": [
    "#avg\n",
    "hit = batter_test['HIT'].groupby(batter_test['T_ID']).sum()\n",
    "ab = batter_test['AB'].groupby(batter_test['T_ID']).sum()\n",
    "AVG = hit/ab"
   ]
  },
  {
   "cell_type": "code",
   "execution_count": null,
   "metadata": {},
   "outputs": [],
   "source": [
    "#era\n",
    "inn2 = pitcher_test['INN2'].groupby(pitcher_test['T_ID']).sum()\n",
    "er = pitcher_test['ER'].groupby(pitcher_test['T_ID']).sum()/3\n",
    "ERA = er*9/inn2"
   ]
  },
  {
   "cell_type": "code",
   "execution_count": null,
   "metadata": {},
   "outputs": [],
   "source": [
    "#승률\n",
    "batter_T = pd.read_csv('data/batter_T.csv')\n",
    "pitcher_T = pd.read_csv('data/pitcher_T.csv')"
   ]
  },
  {
   "cell_type": "code",
   "execution_count": null,
   "metadata": {},
   "outputs": [],
   "source": [
    "run = batter_T['RUN'].groupby(batter_T['T_ID']).sum()\n",
    "R = pitcher_T['R'].groupby(pitcher_T['T_ID']).sum()\n",
    "WR = (run**2)/((run**2)+(R**2))"
   ]
  },
  {
   "cell_type": "code",
   "execution_count": null,
   "metadata": {},
   "outputs": [],
   "source": [
    "df = pd.DataFrame({'타율': AVG,\n",
    "                          '방어율': ERA,\n",
    "                          '승률': WR})"
   ]
  },
  {
   "cell_type": "code",
   "execution_count": null,
   "metadata": {},
   "outputs": [],
   "source": [
    "df"
   ]
  }
 ],
 "metadata": {
  "kernelspec": {
   "display_name": "Python 3",
   "language": "python",
   "name": "python3"
  },
  "language_info": {
   "codemirror_mode": {
    "name": "ipython",
    "version": 3
   },
   "file_extension": ".py",
   "mimetype": "text/x-python",
   "name": "python",
   "nbconvert_exporter": "python",
   "pygments_lexer": "ipython3",
   "version": "3.8.3"
  }
 },
 "nbformat": 4,
 "nbformat_minor": 4
}
