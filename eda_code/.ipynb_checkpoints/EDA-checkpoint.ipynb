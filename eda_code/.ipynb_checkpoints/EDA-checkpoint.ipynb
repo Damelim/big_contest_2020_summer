{
 "cells": [
  {
   "cell_type": "markdown",
   "metadata": {},
   "source": [
    "## [진행상황]\n",
    "\n",
    "## 1. 연도별 데이터 concat 및 변수삭제(완료)\n",
    "\n",
    "## 2. y변수추가: 타율 출루율 방어율 도루관련변수(완료)\n",
    "\n",
    "###  변수삭제 및 변수추가한 데이터 /data 폴더에 저장 .. 앞으로는 여기서 불러오면 될듯\n",
    "\n",
    "## 3. 변수 간 상관관계 구하기, PPT만들기(진행예정)"
   ]
  },
  {
   "cell_type": "markdown",
   "metadata": {},
   "source": [
    "### 기존데이터 불러오기(이건 무시..)"
   ]
  },
  {
   "cell_type": "code",
   "execution_count": 1,
   "metadata": {},
   "outputs": [],
   "source": [
    "import pandas as pd\n",
    "import matplotlib.pyplot as plt"
   ]
  },
  {
   "cell_type": "code",
   "execution_count": 2,
   "metadata": {},
   "outputs": [],
   "source": [
    "# 경기 데이터\n",
    "game_2016 = pd.read_csv('data\\game_2016.csv', encoding='CP949')\n",
    "game_2017 = pd.read_csv('data\\game_2017.csv', encoding='CP949')\n",
    "game_2018 = pd.read_csv('data\\game_2018.csv', encoding='CP949')\n",
    "game_2019 = pd.read_csv('data\\game_2019.csv', encoding='CP949')\n",
    "game_2020 = pd.read_csv('data\\game_2020.csv', encoding='CP949')"
   ]
  },
  {
   "cell_type": "code",
   "execution_count": 3,
   "metadata": {},
   "outputs": [],
   "source": [
    "# 선수 데이터 \n",
    "players_2016 = pd.read_csv('data\\players_2016.csv', encoding='CP949')\n",
    "players_2017 = pd.read_csv('data\\players_2017.csv', encoding='CP949')\n",
    "players_2018 = pd.read_csv('data\\players_2018.csv', encoding='CP949')\n",
    "players_2019 = pd.read_csv('data\\players_2019.csv', encoding='CP949')\n",
    "players_2020 = pd.read_csv('data\\players_2020.csv', encoding='CP949')"
   ]
  },
  {
   "cell_type": "code",
   "execution_count": 4,
   "metadata": {},
   "outputs": [],
   "source": [
    "# 개인 투수 \n",
    "private_pitcher_2016 = pd.read_csv('data\\private_pitcher_2016.csv',encoding='CP949')\n",
    "private_pitcher_2017 = pd.read_csv('data\\private_pitcher_2017.csv',encoding='CP949')\n",
    "private_pitcher_2018 = pd.read_csv('data\\private_pitcher_2018.csv',encoding='CP949')\n",
    "private_pitcher_2019 = pd.read_csv('data\\private_pitcher_2019.csv',encoding='CP949')\n",
    "private_pitcher_2020 = pd.read_csv('data\\private_pitcher_2020.csv',encoding='CP949')"
   ]
  },
  {
   "cell_type": "code",
   "execution_count": 5,
   "metadata": {},
   "outputs": [],
   "source": [
    "# 개인 타자 \n",
    "private_batter_2016 = pd.read_csv('data\\private_batter_2016.csv', encoding='CP949')\n",
    "private_batter_2017 = pd.read_csv('data\\private_batter_2017.csv', encoding='CP949')\n",
    "private_batter_2018 = pd.read_csv('data\\private_batter_2018.csv', encoding='CP949')\n",
    "private_batter_2019 = pd.read_csv('data\\private_batter_2019.csv', encoding='CP949')\n",
    "private_batter_2020 = pd.read_csv('data\\private_batter_2020.csv', encoding='CP949')"
   ]
  },
  {
   "cell_type": "code",
   "execution_count": 6,
   "metadata": {},
   "outputs": [],
   "source": [
    "# 팀 투수\n",
    "team_pitcher_2016 = pd.read_csv('data\\\\team_pitcher_2016.csv',encoding='CP949')\n",
    "team_pitcher_2017 = pd.read_csv('data\\\\team_pitcher_2017.csv',encoding='CP949')\n",
    "team_pitcher_2018 = pd.read_csv('data\\\\team_pitcher_2018.csv',encoding='CP949')\n",
    "team_pitcher_2019 = pd.read_csv('data\\\\team_pitcher_2019.csv',encoding='CP949')\n",
    "team_pitcher_2020 = pd.read_csv('data\\\\team_pitcher_2020.csv',encoding='CP949')"
   ]
  },
  {
   "cell_type": "code",
   "execution_count": 7,
   "metadata": {},
   "outputs": [],
   "source": [
    "# 팀 타자 \n",
    "team_batter_2016 = pd.read_csv('data\\\\team_batter_2016.csv', encoding='CP949')\n",
    "team_batter_2017 = pd.read_csv('data\\\\team_batter_2017.csv', encoding='CP949')\n",
    "team_batter_2018 = pd.read_csv('data\\\\team_batter_2018.csv', encoding='CP949')\n",
    "team_batter_2019 = pd.read_csv('data\\\\team_batter_2019.csv', encoding='CP949')\n",
    "team_batter_2020 = pd.read_csv('data\\\\team_batter_2020.csv', encoding='CP949')"
   ]
  },
  {
   "cell_type": "code",
   "execution_count": 8,
   "metadata": {},
   "outputs": [],
   "source": [
    "# 팀\n",
    "team = pd.read_csv('data\\\\team_2016.csv', encoding='CP949')"
   ]
  },
  {
   "cell_type": "markdown",
   "metadata": {},
   "source": [
    "# 1. 연도별 데이터 하나의 데이터로 합치기 \n",
    "- 등록선수 데이터 버리기\n",
    "- 팀데이터는 연도별로 동일"
   ]
  },
  {
   "cell_type": "code",
   "execution_count": 9,
   "metadata": {},
   "outputs": [],
   "source": [
    "game = pd.concat([game_2016,game_2017,game_2018,game_2019,game_2020])\n",
    "players = pd.concat([players_2016,players_2017,players_2018,players_2019,players_2020])\n",
    "private_pitcher = pd.concat([private_pitcher_2016,private_pitcher_2017,private_pitcher_2018,private_pitcher_2019,private_pitcher_2020])\n",
    "private_batter = pd.concat([private_batter_2016,private_batter_2017,private_batter_2018,private_batter_2019,private_batter_2020])\n",
    "team_pitcher = pd.concat([team_pitcher_2016,team_pitcher_2017,team_pitcher_2018,team_pitcher_2019,team_pitcher_2020])\n",
    "team_batter = pd.concat([team_batter_2016,team_batter_2017,team_batter_2018,team_batter_2019,team_batter_2020])"
   ]
  },
  {
   "cell_type": "code",
   "execution_count": 10,
   "metadata": {},
   "outputs": [],
   "source": [
    "game.to_csv('data\\game.csv',index=False)\n",
    "players.to_csv('data\\players.csv',index=False)\n",
    "private_pitcher.to_csv('data\\private_pitcher.csv',index=False)\n",
    "private_batter.to_csv('data\\private_batter.csv',index=False)\n",
    "team_pitcher.to_csv('data\\\\team_pitcher.csv',index=False)\n",
    "team_batter.to_csv('data\\\\team_batter.csv',index=False)\n",
    "team.to_csv('data\\\\team.csv',index=False)"
   ]
  },
  {
   "cell_type": "markdown",
   "metadata": {},
   "source": [
    "# 2. Feature Selecting \n",
    "- game,players,private_batter,private_pitcher \n",
    "- 팀 데이터는 추후에 고려"
   ]
  },
  {
   "cell_type": "markdown",
   "metadata": {},
   "source": [
    "### game"
   ]
  },
  {
   "cell_type": "code",
   "execution_count": 11,
   "metadata": {},
   "outputs": [
    {
     "data": {
      "text/html": [
       "<div>\n",
       "<style scoped>\n",
       "    .dataframe tbody tr th:only-of-type {\n",
       "        vertical-align: middle;\n",
       "    }\n",
       "\n",
       "    .dataframe tbody tr th {\n",
       "        vertical-align: top;\n",
       "    }\n",
       "\n",
       "    .dataframe thead th {\n",
       "        text-align: right;\n",
       "    }\n",
       "</style>\n",
       "<table border=\"1\" class=\"dataframe\">\n",
       "  <thead>\n",
       "    <tr style=\"text-align: right;\">\n",
       "      <th></th>\n",
       "      <th>G_ID</th>\n",
       "      <th>GDAY_DS</th>\n",
       "      <th>VISIT_KEY</th>\n",
       "      <th>HOME_KEY</th>\n",
       "      <th>HEADER_NO</th>\n",
       "      <th>GWEEK</th>\n",
       "      <th>STADIUM</th>\n",
       "    </tr>\n",
       "  </thead>\n",
       "  <tbody>\n",
       "    <tr>\n",
       "      <th>0</th>\n",
       "      <td>20160401HHLG0</td>\n",
       "      <td>20160401</td>\n",
       "      <td>HH</td>\n",
       "      <td>LG</td>\n",
       "      <td>0</td>\n",
       "      <td>금</td>\n",
       "      <td>잠실</td>\n",
       "    </tr>\n",
       "  </tbody>\n",
       "</table>\n",
       "</div>"
      ],
      "text/plain": [
       "            G_ID   GDAY_DS VISIT_KEY HOME_KEY  HEADER_NO GWEEK STADIUM\n",
       "0  20160401HHLG0  20160401        HH       LG          0     금      잠실"
      ]
     },
     "execution_count": 11,
     "metadata": {},
     "output_type": "execute_result"
    }
   ],
   "source": [
    "game.head(1)"
   ]
  },
  {
   "cell_type": "code",
   "execution_count": 12,
   "metadata": {},
   "outputs": [
    {
     "data": {
      "text/html": [
       "<div>\n",
       "<style scoped>\n",
       "    .dataframe tbody tr th:only-of-type {\n",
       "        vertical-align: middle;\n",
       "    }\n",
       "\n",
       "    .dataframe tbody tr th {\n",
       "        vertical-align: top;\n",
       "    }\n",
       "\n",
       "    .dataframe thead th {\n",
       "        text-align: right;\n",
       "    }\n",
       "</style>\n",
       "<table border=\"1\" class=\"dataframe\">\n",
       "  <thead>\n",
       "    <tr style=\"text-align: right;\">\n",
       "      <th></th>\n",
       "      <th>GDAY_DS</th>\n",
       "      <th>VISIT_KEY</th>\n",
       "      <th>HOME_KEY</th>\n",
       "      <th>STADIUM</th>\n",
       "    </tr>\n",
       "  </thead>\n",
       "  <tbody>\n",
       "    <tr>\n",
       "      <th>0</th>\n",
       "      <td>20160401</td>\n",
       "      <td>HH</td>\n",
       "      <td>LG</td>\n",
       "      <td>잠실</td>\n",
       "    </tr>\n",
       "    <tr>\n",
       "      <th>1</th>\n",
       "      <td>20160401</td>\n",
       "      <td>HT</td>\n",
       "      <td>NC</td>\n",
       "      <td>마산</td>\n",
       "    </tr>\n",
       "    <tr>\n",
       "      <th>2</th>\n",
       "      <td>20160401</td>\n",
       "      <td>KT</td>\n",
       "      <td>SK</td>\n",
       "      <td>문학</td>\n",
       "    </tr>\n",
       "    <tr>\n",
       "      <th>3</th>\n",
       "      <td>20160401</td>\n",
       "      <td>LT</td>\n",
       "      <td>WO</td>\n",
       "      <td>고척</td>\n",
       "    </tr>\n",
       "    <tr>\n",
       "      <th>4</th>\n",
       "      <td>20160401</td>\n",
       "      <td>OB</td>\n",
       "      <td>SS</td>\n",
       "      <td>대구</td>\n",
       "    </tr>\n",
       "  </tbody>\n",
       "</table>\n",
       "</div>"
      ],
      "text/plain": [
       "    GDAY_DS VISIT_KEY HOME_KEY STADIUM\n",
       "0  20160401        HH       LG      잠실\n",
       "1  20160401        HT       NC      마산\n",
       "2  20160401        KT       SK      문학\n",
       "3  20160401        LT       WO      고척\n",
       "4  20160401        OB       SS      대구"
      ]
     },
     "execution_count": 12,
     "metadata": {},
     "output_type": "execute_result"
    }
   ],
   "source": [
    "game = game.drop(['G_ID','HEADER_NO','GWEEK'],axis=1)\n",
    "game.head()"
   ]
  },
  {
   "cell_type": "markdown",
   "metadata": {},
   "source": [
    "### players"
   ]
  },
  {
   "cell_type": "code",
   "execution_count": 13,
   "metadata": {},
   "outputs": [
    {
     "data": {
      "text/html": [
       "<div>\n",
       "<style scoped>\n",
       "    .dataframe tbody tr th:only-of-type {\n",
       "        vertical-align: middle;\n",
       "    }\n",
       "\n",
       "    .dataframe tbody tr th {\n",
       "        vertical-align: top;\n",
       "    }\n",
       "\n",
       "    .dataframe thead th {\n",
       "        text-align: right;\n",
       "    }\n",
       "</style>\n",
       "<table border=\"1\" class=\"dataframe\">\n",
       "  <thead>\n",
       "    <tr style=\"text-align: right;\">\n",
       "      <th></th>\n",
       "      <th>GYEAR</th>\n",
       "      <th>PCODE</th>\n",
       "      <th>NAME</th>\n",
       "      <th>T_ID</th>\n",
       "      <th>POSITION</th>\n",
       "      <th>AGE_VA</th>\n",
       "      <th>MONEY</th>\n",
       "    </tr>\n",
       "  </thead>\n",
       "  <tbody>\n",
       "    <tr>\n",
       "      <th>0</th>\n",
       "      <td>2016</td>\n",
       "      <td>60100</td>\n",
       "      <td>백창수</td>\n",
       "      <td>LG</td>\n",
       "      <td>내</td>\n",
       "      <td>28</td>\n",
       "      <td>4000만원</td>\n",
       "    </tr>\n",
       "  </tbody>\n",
       "</table>\n",
       "</div>"
      ],
      "text/plain": [
       "   GYEAR  PCODE NAME T_ID POSITION  AGE_VA   MONEY\n",
       "0   2016  60100  백창수   LG        내      28  4000만원"
      ]
     },
     "execution_count": 13,
     "metadata": {},
     "output_type": "execute_result"
    }
   ],
   "source": [
    "players.head(1)"
   ]
  },
  {
   "cell_type": "code",
   "execution_count": 14,
   "metadata": {},
   "outputs": [
    {
     "data": {
      "text/html": [
       "<div>\n",
       "<style scoped>\n",
       "    .dataframe tbody tr th:only-of-type {\n",
       "        vertical-align: middle;\n",
       "    }\n",
       "\n",
       "    .dataframe tbody tr th {\n",
       "        vertical-align: top;\n",
       "    }\n",
       "\n",
       "    .dataframe thead th {\n",
       "        text-align: right;\n",
       "    }\n",
       "</style>\n",
       "<table border=\"1\" class=\"dataframe\">\n",
       "  <thead>\n",
       "    <tr style=\"text-align: right;\">\n",
       "      <th></th>\n",
       "      <th>GYEAR</th>\n",
       "      <th>PCODE</th>\n",
       "      <th>T_ID</th>\n",
       "      <th>AGE_VA</th>\n",
       "    </tr>\n",
       "  </thead>\n",
       "  <tbody>\n",
       "    <tr>\n",
       "      <th>0</th>\n",
       "      <td>2016</td>\n",
       "      <td>60100</td>\n",
       "      <td>LG</td>\n",
       "      <td>28</td>\n",
       "    </tr>\n",
       "    <tr>\n",
       "      <th>1</th>\n",
       "      <td>2016</td>\n",
       "      <td>60105</td>\n",
       "      <td>LG</td>\n",
       "      <td>25</td>\n",
       "    </tr>\n",
       "    <tr>\n",
       "      <th>2</th>\n",
       "      <td>2016</td>\n",
       "      <td>60146</td>\n",
       "      <td>LG</td>\n",
       "      <td>25</td>\n",
       "    </tr>\n",
       "    <tr>\n",
       "      <th>3</th>\n",
       "      <td>2016</td>\n",
       "      <td>60164</td>\n",
       "      <td>LG</td>\n",
       "      <td>25</td>\n",
       "    </tr>\n",
       "    <tr>\n",
       "      <th>4</th>\n",
       "      <td>2016</td>\n",
       "      <td>60181</td>\n",
       "      <td>LG</td>\n",
       "      <td>28</td>\n",
       "    </tr>\n",
       "  </tbody>\n",
       "</table>\n",
       "</div>"
      ],
      "text/plain": [
       "   GYEAR  PCODE T_ID  AGE_VA\n",
       "0   2016  60100   LG      28\n",
       "1   2016  60105   LG      25\n",
       "2   2016  60146   LG      25\n",
       "3   2016  60164   LG      25\n",
       "4   2016  60181   LG      28"
      ]
     },
     "execution_count": 14,
     "metadata": {},
     "output_type": "execute_result"
    }
   ],
   "source": [
    "players = players.drop(['NAME','POSITION','MONEY'],axis=1)\n",
    "players.head()"
   ]
  },
  {
   "cell_type": "markdown",
   "metadata": {},
   "source": [
    "### 개인 투수"
   ]
  },
  {
   "cell_type": "code",
   "execution_count": 15,
   "metadata": {},
   "outputs": [
    {
     "data": {
      "text/plain": [
       "Index(['G_ID', 'GDAY_DS', 'T_ID', 'VS_T_ID', 'HEADER_NO', 'TB_SC', 'P_ID',\n",
       "       'START_CK', 'RELIEF_CK', 'CG_CK', 'QUIT_CK', 'WLS', 'HOLD', 'INN2',\n",
       "       'BF', 'PA', 'AB', 'HIT', 'H2', 'H3', 'HR', 'SB', 'CS', 'SH', 'SF', 'BB',\n",
       "       'IB', 'HP', 'KK', 'GD', 'WP', 'BK', 'ERR', 'R', 'ER', 'P_WHIP_RT',\n",
       "       'P2_WHIP_RT', 'CB_WHIP_RT'],\n",
       "      dtype='object')"
      ]
     },
     "execution_count": 15,
     "metadata": {},
     "output_type": "execute_result"
    }
   ],
   "source": [
    "private_pitcher.columns"
   ]
  },
  {
   "cell_type": "code",
   "execution_count": 16,
   "metadata": {},
   "outputs": [],
   "source": [
    "private_pitcher = private_pitcher.drop(['G_ID','HEADER_NO','START_CK','RELIEF_CK','CG_CK','QUIT_CK','WLS','HOLD','SH','SF','IB','HP','GD','BK','ERR','P_WHIP_RT','P2_WHIP_RT','CB_WHIP_RT'],axis=1)"
   ]
  },
  {
   "cell_type": "code",
   "execution_count": 17,
   "metadata": {},
   "outputs": [
    {
     "data": {
      "text/plain": [
       "Index(['GDAY_DS', 'T_ID', 'VS_T_ID', 'TB_SC', 'P_ID', 'INN2', 'BF', 'PA', 'AB',\n",
       "       'HIT', 'H2', 'H3', 'HR', 'SB', 'CS', 'BB', 'KK', 'WP', 'R', 'ER'],\n",
       "      dtype='object')"
      ]
     },
     "execution_count": 17,
     "metadata": {},
     "output_type": "execute_result"
    }
   ],
   "source": [
    "private_pitcher.columns"
   ]
  },
  {
   "cell_type": "code",
   "execution_count": 18,
   "metadata": {},
   "outputs": [
    {
     "data": {
      "text/html": [
       "<div>\n",
       "<style scoped>\n",
       "    .dataframe tbody tr th:only-of-type {\n",
       "        vertical-align: middle;\n",
       "    }\n",
       "\n",
       "    .dataframe tbody tr th {\n",
       "        vertical-align: top;\n",
       "    }\n",
       "\n",
       "    .dataframe thead th {\n",
       "        text-align: right;\n",
       "    }\n",
       "</style>\n",
       "<table border=\"1\" class=\"dataframe\">\n",
       "  <thead>\n",
       "    <tr style=\"text-align: right;\">\n",
       "      <th></th>\n",
       "      <th>0</th>\n",
       "      <th>1</th>\n",
       "      <th>2</th>\n",
       "      <th>3</th>\n",
       "      <th>4</th>\n",
       "    </tr>\n",
       "  </thead>\n",
       "  <tbody>\n",
       "    <tr>\n",
       "      <th>GDAY_DS</th>\n",
       "      <td>20160401</td>\n",
       "      <td>20160401</td>\n",
       "      <td>20160401</td>\n",
       "      <td>20160401</td>\n",
       "      <td>20160401</td>\n",
       "    </tr>\n",
       "    <tr>\n",
       "      <th>T_ID</th>\n",
       "      <td>LG</td>\n",
       "      <td>LG</td>\n",
       "      <td>LG</td>\n",
       "      <td>LG</td>\n",
       "      <td>HH</td>\n",
       "    </tr>\n",
       "    <tr>\n",
       "      <th>VS_T_ID</th>\n",
       "      <td>HH</td>\n",
       "      <td>HH</td>\n",
       "      <td>HH</td>\n",
       "      <td>HH</td>\n",
       "      <td>LG</td>\n",
       "    </tr>\n",
       "    <tr>\n",
       "      <th>TB_SC</th>\n",
       "      <td>B</td>\n",
       "      <td>B</td>\n",
       "      <td>B</td>\n",
       "      <td>B</td>\n",
       "      <td>T</td>\n",
       "    </tr>\n",
       "    <tr>\n",
       "      <th>P_ID</th>\n",
       "      <td>60146</td>\n",
       "      <td>61891</td>\n",
       "      <td>62146</td>\n",
       "      <td>62698</td>\n",
       "      <td>65764</td>\n",
       "    </tr>\n",
       "    <tr>\n",
       "      <th>INN2</th>\n",
       "      <td>6</td>\n",
       "      <td>5</td>\n",
       "      <td>1</td>\n",
       "      <td>18</td>\n",
       "      <td>4</td>\n",
       "    </tr>\n",
       "    <tr>\n",
       "      <th>BF</th>\n",
       "      <td>29</td>\n",
       "      <td>33</td>\n",
       "      <td>7</td>\n",
       "      <td>94</td>\n",
       "      <td>27</td>\n",
       "    </tr>\n",
       "    <tr>\n",
       "      <th>PA</th>\n",
       "      <td>8</td>\n",
       "      <td>8</td>\n",
       "      <td>2</td>\n",
       "      <td>28</td>\n",
       "      <td>6</td>\n",
       "    </tr>\n",
       "    <tr>\n",
       "      <th>AB</th>\n",
       "      <td>7</td>\n",
       "      <td>6</td>\n",
       "      <td>2</td>\n",
       "      <td>25</td>\n",
       "      <td>4</td>\n",
       "    </tr>\n",
       "    <tr>\n",
       "      <th>HIT</th>\n",
       "      <td>1</td>\n",
       "      <td>2</td>\n",
       "      <td>1</td>\n",
       "      <td>9</td>\n",
       "      <td>1</td>\n",
       "    </tr>\n",
       "    <tr>\n",
       "      <th>H2</th>\n",
       "      <td>0</td>\n",
       "      <td>0</td>\n",
       "      <td>0</td>\n",
       "      <td>2</td>\n",
       "      <td>1</td>\n",
       "    </tr>\n",
       "    <tr>\n",
       "      <th>H3</th>\n",
       "      <td>0</td>\n",
       "      <td>0</td>\n",
       "      <td>0</td>\n",
       "      <td>0</td>\n",
       "      <td>0</td>\n",
       "    </tr>\n",
       "    <tr>\n",
       "      <th>HR</th>\n",
       "      <td>0</td>\n",
       "      <td>0</td>\n",
       "      <td>0</td>\n",
       "      <td>0</td>\n",
       "      <td>0</td>\n",
       "    </tr>\n",
       "    <tr>\n",
       "      <th>SB</th>\n",
       "      <td>0</td>\n",
       "      <td>0</td>\n",
       "      <td>0</td>\n",
       "      <td>0</td>\n",
       "      <td>0</td>\n",
       "    </tr>\n",
       "    <tr>\n",
       "      <th>CS</th>\n",
       "      <td>0</td>\n",
       "      <td>0</td>\n",
       "      <td>0</td>\n",
       "      <td>0</td>\n",
       "      <td>0</td>\n",
       "    </tr>\n",
       "    <tr>\n",
       "      <th>BB</th>\n",
       "      <td>1</td>\n",
       "      <td>1</td>\n",
       "      <td>0</td>\n",
       "      <td>1</td>\n",
       "      <td>1</td>\n",
       "    </tr>\n",
       "    <tr>\n",
       "      <th>KK</th>\n",
       "      <td>3</td>\n",
       "      <td>1</td>\n",
       "      <td>0</td>\n",
       "      <td>4</td>\n",
       "      <td>1</td>\n",
       "    </tr>\n",
       "    <tr>\n",
       "      <th>WP</th>\n",
       "      <td>0</td>\n",
       "      <td>0</td>\n",
       "      <td>0</td>\n",
       "      <td>0</td>\n",
       "      <td>0</td>\n",
       "    </tr>\n",
       "    <tr>\n",
       "      <th>R</th>\n",
       "      <td>0</td>\n",
       "      <td>0</td>\n",
       "      <td>0</td>\n",
       "      <td>4</td>\n",
       "      <td>1</td>\n",
       "    </tr>\n",
       "    <tr>\n",
       "      <th>ER</th>\n",
       "      <td>0</td>\n",
       "      <td>0</td>\n",
       "      <td>0</td>\n",
       "      <td>4</td>\n",
       "      <td>1</td>\n",
       "    </tr>\n",
       "  </tbody>\n",
       "</table>\n",
       "</div>"
      ],
      "text/plain": [
       "                0         1         2         3         4\n",
       "GDAY_DS  20160401  20160401  20160401  20160401  20160401\n",
       "T_ID           LG        LG        LG        LG        HH\n",
       "VS_T_ID        HH        HH        HH        HH        LG\n",
       "TB_SC           B         B         B         B         T\n",
       "P_ID        60146     61891     62146     62698     65764\n",
       "INN2            6         5         1        18         4\n",
       "BF             29        33         7        94        27\n",
       "PA              8         8         2        28         6\n",
       "AB              7         6         2        25         4\n",
       "HIT             1         2         1         9         1\n",
       "H2              0         0         0         2         1\n",
       "H3              0         0         0         0         0\n",
       "HR              0         0         0         0         0\n",
       "SB              0         0         0         0         0\n",
       "CS              0         0         0         0         0\n",
       "BB              1         1         0         1         1\n",
       "KK              3         1         0         4         1\n",
       "WP              0         0         0         0         0\n",
       "R               0         0         0         4         1\n",
       "ER              0         0         0         4         1"
      ]
     },
     "execution_count": 18,
     "metadata": {},
     "output_type": "execute_result"
    }
   ],
   "source": [
    "private_pitcher.head().transpose()"
   ]
  },
  {
   "cell_type": "markdown",
   "metadata": {},
   "source": [
    "### 개인 타자"
   ]
  },
  {
   "cell_type": "code",
   "execution_count": 19,
   "metadata": {},
   "outputs": [
    {
     "data": {
      "text/plain": [
       "Index(['G_ID', 'GDAY_DS', 'T_ID', 'VS_T_ID', 'HEADER_NO', 'TB_SC', 'P_ID',\n",
       "       'START_CK', 'BAT_ORDER_NO', 'PA', 'AB', 'RBI', 'RUN', 'HIT', 'H2', 'H3',\n",
       "       'HR', 'SB', 'CS', 'SH', 'SF', 'BB', 'IB', 'HP', 'KK', 'GD', 'ERR',\n",
       "       'LOB', 'P_HRA_RT', 'P_AB_CN', 'P_HIT_CN'],\n",
       "      dtype='object')"
      ]
     },
     "execution_count": 19,
     "metadata": {},
     "output_type": "execute_result"
    }
   ],
   "source": [
    "private_batter.columns"
   ]
  },
  {
   "cell_type": "code",
   "execution_count": 20,
   "metadata": {},
   "outputs": [],
   "source": [
    "private_batter = private_batter.drop(['G_ID','HEADER_NO','START_CK','BAT_ORDER_NO','RBI','P_HRA_RT','P_AB_CN','P_HIT_CN'],axis=1)"
   ]
  },
  {
   "cell_type": "code",
   "execution_count": 21,
   "metadata": {},
   "outputs": [
    {
     "data": {
      "text/plain": [
       "Index(['GDAY_DS', 'T_ID', 'VS_T_ID', 'TB_SC', 'P_ID', 'PA', 'AB', 'RUN', 'HIT',\n",
       "       'H2', 'H3', 'HR', 'SB', 'CS', 'SH', 'SF', 'BB', 'IB', 'HP', 'KK', 'GD',\n",
       "       'ERR', 'LOB'],\n",
       "      dtype='object')"
      ]
     },
     "execution_count": 21,
     "metadata": {},
     "output_type": "execute_result"
    }
   ],
   "source": [
    "private_batter.columns"
   ]
  },
  {
   "cell_type": "code",
   "execution_count": 22,
   "metadata": {},
   "outputs": [
    {
     "data": {
      "text/html": [
       "<div>\n",
       "<style scoped>\n",
       "    .dataframe tbody tr th:only-of-type {\n",
       "        vertical-align: middle;\n",
       "    }\n",
       "\n",
       "    .dataframe tbody tr th {\n",
       "        vertical-align: top;\n",
       "    }\n",
       "\n",
       "    .dataframe thead th {\n",
       "        text-align: right;\n",
       "    }\n",
       "</style>\n",
       "<table border=\"1\" class=\"dataframe\">\n",
       "  <thead>\n",
       "    <tr style=\"text-align: right;\">\n",
       "      <th></th>\n",
       "      <th>0</th>\n",
       "      <th>1</th>\n",
       "      <th>2</th>\n",
       "      <th>3</th>\n",
       "      <th>4</th>\n",
       "    </tr>\n",
       "  </thead>\n",
       "  <tbody>\n",
       "    <tr>\n",
       "      <th>GDAY_DS</th>\n",
       "      <td>20160401</td>\n",
       "      <td>20160401</td>\n",
       "      <td>20160401</td>\n",
       "      <td>20160401</td>\n",
       "      <td>20160401</td>\n",
       "    </tr>\n",
       "    <tr>\n",
       "      <th>T_ID</th>\n",
       "      <td>HH</td>\n",
       "      <td>LG</td>\n",
       "      <td>LG</td>\n",
       "      <td>LG</td>\n",
       "      <td>HH</td>\n",
       "    </tr>\n",
       "    <tr>\n",
       "      <th>VS_T_ID</th>\n",
       "      <td>LG</td>\n",
       "      <td>HH</td>\n",
       "      <td>HH</td>\n",
       "      <td>HH</td>\n",
       "      <td>LG</td>\n",
       "    </tr>\n",
       "    <tr>\n",
       "      <th>TB_SC</th>\n",
       "      <td>T</td>\n",
       "      <td>B</td>\n",
       "      <td>B</td>\n",
       "      <td>B</td>\n",
       "      <td>T</td>\n",
       "    </tr>\n",
       "    <tr>\n",
       "      <th>P_ID</th>\n",
       "      <td>60404</td>\n",
       "      <td>61102</td>\n",
       "      <td>61186</td>\n",
       "      <td>62164</td>\n",
       "      <td>62700</td>\n",
       "    </tr>\n",
       "    <tr>\n",
       "      <th>PA</th>\n",
       "      <td>1</td>\n",
       "      <td>3</td>\n",
       "      <td>4</td>\n",
       "      <td>1</td>\n",
       "      <td>2</td>\n",
       "    </tr>\n",
       "    <tr>\n",
       "      <th>AB</th>\n",
       "      <td>1</td>\n",
       "      <td>3</td>\n",
       "      <td>4</td>\n",
       "      <td>0</td>\n",
       "      <td>2</td>\n",
       "    </tr>\n",
       "    <tr>\n",
       "      <th>RUN</th>\n",
       "      <td>0</td>\n",
       "      <td>0</td>\n",
       "      <td>2</td>\n",
       "      <td>0</td>\n",
       "      <td>1</td>\n",
       "    </tr>\n",
       "    <tr>\n",
       "      <th>HIT</th>\n",
       "      <td>1</td>\n",
       "      <td>0</td>\n",
       "      <td>3</td>\n",
       "      <td>0</td>\n",
       "      <td>1</td>\n",
       "    </tr>\n",
       "    <tr>\n",
       "      <th>H2</th>\n",
       "      <td>0</td>\n",
       "      <td>0</td>\n",
       "      <td>0</td>\n",
       "      <td>0</td>\n",
       "      <td>0</td>\n",
       "    </tr>\n",
       "    <tr>\n",
       "      <th>H3</th>\n",
       "      <td>0</td>\n",
       "      <td>0</td>\n",
       "      <td>0</td>\n",
       "      <td>0</td>\n",
       "      <td>0</td>\n",
       "    </tr>\n",
       "    <tr>\n",
       "      <th>HR</th>\n",
       "      <td>0</td>\n",
       "      <td>0</td>\n",
       "      <td>1</td>\n",
       "      <td>0</td>\n",
       "      <td>0</td>\n",
       "    </tr>\n",
       "    <tr>\n",
       "      <th>SB</th>\n",
       "      <td>0</td>\n",
       "      <td>0</td>\n",
       "      <td>0</td>\n",
       "      <td>0</td>\n",
       "      <td>0</td>\n",
       "    </tr>\n",
       "    <tr>\n",
       "      <th>CS</th>\n",
       "      <td>0</td>\n",
       "      <td>0</td>\n",
       "      <td>1</td>\n",
       "      <td>0</td>\n",
       "      <td>0</td>\n",
       "    </tr>\n",
       "    <tr>\n",
       "      <th>SH</th>\n",
       "      <td>0</td>\n",
       "      <td>0</td>\n",
       "      <td>0</td>\n",
       "      <td>0</td>\n",
       "      <td>0</td>\n",
       "    </tr>\n",
       "    <tr>\n",
       "      <th>SF</th>\n",
       "      <td>0</td>\n",
       "      <td>0</td>\n",
       "      <td>0</td>\n",
       "      <td>0</td>\n",
       "      <td>0</td>\n",
       "    </tr>\n",
       "    <tr>\n",
       "      <th>BB</th>\n",
       "      <td>0</td>\n",
       "      <td>0</td>\n",
       "      <td>0</td>\n",
       "      <td>1</td>\n",
       "      <td>0</td>\n",
       "    </tr>\n",
       "    <tr>\n",
       "      <th>IB</th>\n",
       "      <td>0</td>\n",
       "      <td>0</td>\n",
       "      <td>0</td>\n",
       "      <td>0</td>\n",
       "      <td>0</td>\n",
       "    </tr>\n",
       "    <tr>\n",
       "      <th>HP</th>\n",
       "      <td>0</td>\n",
       "      <td>0</td>\n",
       "      <td>0</td>\n",
       "      <td>0</td>\n",
       "      <td>0</td>\n",
       "    </tr>\n",
       "    <tr>\n",
       "      <th>KK</th>\n",
       "      <td>0</td>\n",
       "      <td>2</td>\n",
       "      <td>1</td>\n",
       "      <td>0</td>\n",
       "      <td>0</td>\n",
       "    </tr>\n",
       "    <tr>\n",
       "      <th>GD</th>\n",
       "      <td>0</td>\n",
       "      <td>0</td>\n",
       "      <td>0</td>\n",
       "      <td>0</td>\n",
       "      <td>0</td>\n",
       "    </tr>\n",
       "    <tr>\n",
       "      <th>ERR</th>\n",
       "      <td>0</td>\n",
       "      <td>0</td>\n",
       "      <td>0</td>\n",
       "      <td>0</td>\n",
       "      <td>1</td>\n",
       "    </tr>\n",
       "    <tr>\n",
       "      <th>LOB</th>\n",
       "      <td>1</td>\n",
       "      <td>0</td>\n",
       "      <td>0</td>\n",
       "      <td>0</td>\n",
       "      <td>0</td>\n",
       "    </tr>\n",
       "  </tbody>\n",
       "</table>\n",
       "</div>"
      ],
      "text/plain": [
       "                0         1         2         3         4\n",
       "GDAY_DS  20160401  20160401  20160401  20160401  20160401\n",
       "T_ID           HH        LG        LG        LG        HH\n",
       "VS_T_ID        LG        HH        HH        HH        LG\n",
       "TB_SC           T         B         B         B         T\n",
       "P_ID        60404     61102     61186     62164     62700\n",
       "PA              1         3         4         1         2\n",
       "AB              1         3         4         0         2\n",
       "RUN             0         0         2         0         1\n",
       "HIT             1         0         3         0         1\n",
       "H2              0         0         0         0         0\n",
       "H3              0         0         0         0         0\n",
       "HR              0         0         1         0         0\n",
       "SB              0         0         0         0         0\n",
       "CS              0         0         1         0         0\n",
       "SH              0         0         0         0         0\n",
       "SF              0         0         0         0         0\n",
       "BB              0         0         0         1         0\n",
       "IB              0         0         0         0         0\n",
       "HP              0         0         0         0         0\n",
       "KK              0         2         1         0         0\n",
       "GD              0         0         0         0         0\n",
       "ERR             0         0         0         0         1\n",
       "LOB             1         0         0         0         0"
      ]
     },
     "execution_count": 22,
     "metadata": {},
     "output_type": "execute_result"
    }
   ],
   "source": [
    "private_batter.head().transpose()"
   ]
  },
  {
   "cell_type": "markdown",
   "metadata": {},
   "source": [
    "# 3. 새로운 변수 추가 : 타율 출루율 방어율 도루관련변수\n",
    "\n",
    "- 분모가 0이 나온 na값은 0으로 채워줌"
   ]
  },
  {
   "cell_type": "markdown",
   "metadata": {},
   "source": [
    "### 1) 타율(AVG):  HIT / AB\n",
    "- 안타(홈런)/타수"
   ]
  },
  {
   "cell_type": "code",
   "execution_count": 23,
   "metadata": {},
   "outputs": [],
   "source": [
    "private_batter['AVG'] = private_batter['HIT']/private_batter['AB']\n",
    "private_batter['AVG'] = private_batter['AVG'].fillna(0)"
   ]
  },
  {
   "cell_type": "markdown",
   "metadata": {},
   "source": [
    "### 2) 출루율(OBP) : HIT +  BB + IB + HP / PA\n",
    "- 안타(홈런),4구,고의4구,사구 / 타석수"
   ]
  },
  {
   "cell_type": "code",
   "execution_count": 24,
   "metadata": {},
   "outputs": [],
   "source": [
    "private_batter['OBP'] = (private_batter['HIT']+private_batter['BB']+private_batter['IB']+private_batter['HP'])/private_batter['PA']\n",
    "private_batter['OBP'] = private_batter['OBP'].fillna(0)"
   ]
  },
  {
   "cell_type": "markdown",
   "metadata": {},
   "source": [
    "### 3) 방어율(ERA): ER*9 / (INN2/3)\n",
    "\n",
    "- (총 자책점 * 9 ) / 총 던진 이닝수 "
   ]
  },
  {
   "cell_type": "code",
   "execution_count": 25,
   "metadata": {},
   "outputs": [],
   "source": [
    "private_pitcher['ERA'] = private_pitcher['ER'] / (private_pitcher['INN2']/3)\n",
    "private_pitcher['ERA'] = private_pitcher['ERA'].fillna(0)"
   ]
  },
  {
   "cell_type": "markdown",
   "metadata": {},
   "source": [
    "### 4) 도루 시도 횟수(SB_trial):SB+CS"
   ]
  },
  {
   "cell_type": "code",
   "execution_count": 26,
   "metadata": {},
   "outputs": [],
   "source": [
    "private_batter['SB_trial'] =  private_batter['SB'] + private_batter['CS']"
   ]
  },
  {
   "cell_type": "code",
   "execution_count": 27,
   "metadata": {},
   "outputs": [],
   "source": [
    "# private_pitcher['SB_trial'] =  private_pitcher['SB'] + private_pitcher['CS']"
   ]
  },
  {
   "cell_type": "markdown",
   "metadata": {},
   "source": [
    "### 5) 도루 성공율(SB_SR) : SB / (SB+CS)"
   ]
  },
  {
   "cell_type": "code",
   "execution_count": 28,
   "metadata": {},
   "outputs": [],
   "source": [
    "private_batter['SB_SR'] =  private_batter['SB'] /(private_batter['SB'] + private_batter['CS'])\n",
    "private_batter['SB_SR'] =  private_batter['SB_SR'].fillna(0)"
   ]
  },
  {
   "cell_type": "code",
   "execution_count": 29,
   "metadata": {},
   "outputs": [],
   "source": [
    "# private_pitcher['SB_SR'] = private_pitcher['SB']/(private_pitcher['SB'] + private_pitcher['CS'])\n",
    "# private_pitcher['SB_SR'] = private_pitcher['SB_SR'].fillna(0)"
   ]
  },
  {
   "cell_type": "markdown",
   "metadata": {},
   "source": [
    "### 피처셀렉팅, 새로운 변수추가된 데이터 /data에 저장"
   ]
  },
  {
   "cell_type": "code",
   "execution_count": 30,
   "metadata": {},
   "outputs": [],
   "source": [
    "game.to_csv('data\\game.csv',index=False)\n",
    "players.to_csv('data\\players.csv',index=False)\n",
    "private_pitcher.to_csv('data\\private_pitcher.csv',index=False)\n",
    "private_batter.to_csv('data\\private_batter.csv',index=False)"
   ]
  }
 ],
 "metadata": {
  "kernelspec": {
   "display_name": "Python 3",
   "language": "python",
   "name": "python3"
  },
  "language_info": {
   "codemirror_mode": {
    "name": "ipython",
    "version": 3
   },
   "file_extension": ".py",
   "mimetype": "text/x-python",
   "name": "python",
   "nbconvert_exporter": "python",
   "pygments_lexer": "ipython3",
   "version": "3.8.3"
  }
 },
 "nbformat": 4,
 "nbformat_minor": 4
}
