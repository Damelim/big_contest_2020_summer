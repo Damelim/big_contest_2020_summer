{
 "cells": [
  {
   "cell_type": "code",
   "execution_count": 1,
   "metadata": {},
   "outputs": [],
   "source": [
    "import numpy as np\n",
    "import pandas as pd"
   ]
  },
  {
   "cell_type": "code",
   "execution_count": 2,
   "metadata": {
    "scrolled": false
   },
   "outputs": [],
   "source": [
    "bt = pd.read_csv('2020빅콘테스트_스포츠투아이_제공데이터_개인타자_2016.csv', engine='python')\n",
    "pt = pd.read_csv('2020빅콘테스트_스포츠투아이_제공데이터_개인투수_2016.csv', engine='python')"
   ]
  },
  {
   "cell_type": "code",
   "execution_count": 3,
   "metadata": {},
   "outputs": [
    {
     "data": {
      "text/plain": [
       "Index(['G_ID', 'GDAY_DS', 'T_ID', 'VS_T_ID', 'HEADER_NO', 'TB_SC', 'P_ID',\n",
       "       'START_CK', 'BAT_ORDER_NO', 'PA', 'AB', 'RBI', 'RUN', 'HIT', 'H2', 'H3',\n",
       "       'HR', 'SB', 'CS', 'SH', 'SF', 'BB', 'IB', 'HP', 'KK', 'GD', 'ERR',\n",
       "       'LOB', 'P_HRA_RT', 'P_AB_CN', 'P_HIT_CN'],\n",
       "      dtype='object')"
      ]
     },
     "execution_count": 3,
     "metadata": {},
     "output_type": "execute_result"
    }
   ],
   "source": [
    "bt.columns"
   ]
  },
  {
   "cell_type": "markdown",
   "metadata": {},
   "source": [
    "**BOLD: 뭔가 중요해 보이는 것**<br>\n",
    "*ITALIC: 투수 역량 관련 요소*<br><br>\n",
    "\n",
    "G_ID: 게임 키<br>\n",
    "~~GDAY_DS: 일자~~ - G_ID에 나와 있으므로 제거<br>\n",
    "T_ID: 팀 코드<br>\n",
    "~~VS_T_ID: 상대 팀 코드~~ - G_ID, T_ID로 알아낼 수 있음<br>\n",
    "~~HEADER_NO: 더블 헤더 코드~~ - 대부분 0이므로 제거해도 무방<br>\n",
    "TB_SC: 초말(T: 초, B: 말)<br>\n",
    "P_ID: 선수 코드<br>\n",
    "START_CK: 선발 여부<br>\n",
    "BAT_ORDER_NO: 타순 - 선발이랑 타순 합쳐서 선발이 몇 명인지 새로 찾는 게 좋을까..?<br>\n",
    "PA: 타자<br>\n",
    "AB: 타수<br>\n",
    "**RBI: 타점**<br>\n",
    "**RUN: 득점**<br>\n",
    "HIT: 안타 수<br>\n",
    "H2: 2루타 수<br>\n",
    "H3: 3루타 수 - 수가 적어서 H2와 합쳐도 무방해 보임<br>\n",
    "HR: 홈런 수<br>\n",
    "SB: 도루 횟수<br>\n",
    "~~CS: 도루 실패 횟수~~ - 크게 안 중요할듯<br>\n",
    "SH: 희타(희생 번트) 수<br>\n",
    "~~SF: 희비(희생 플라이) 수~~ - RBI에 포함돼있다 보고 제거해도 될 것 같음<br>\n",
    "*BB: 4구(볼넷) 수*<br>\n",
    "*IB:고의 4구 수 - 제거하거나 BB랑 합쳐도 무방해 보임<br>\n",
    "*HP: 사구(데드볼) 수 - (BB+HP) 사사구로 합치나*<br>\n",
    "*KK: 삼진 횟수*<br>\n",
    "*GD: 병살타 횟수*<br>\n",
    "ERR: 실책 횟수(-)<br>\n",
    "LOB: 진루 횟수<br>\n",
    "**P_HRA_RT: 득점권 타율**<br>\n",
    "~~P_AB_CN: 득점권 타수~~ - P_HRA_RT와 겹치므로 제거<br>\n",
    "~~P_HIT_CN: 득점권 안타 수~~ - P_HRA_RT와 겹치므로 제거"
   ]
  },
  {
   "cell_type": "code",
   "execution_count": 4,
   "metadata": {},
   "outputs": [],
   "source": [
    "bt['rt'] = bt['P_HIT_CN'] / bt[\"P_AB_CN\"]"
   ]
  },
  {
   "cell_type": "code",
   "execution_count": 5,
   "metadata": {},
   "outputs": [],
   "source": [
    "bt['rt'] = bt['rt'].fillna(0)"
   ]
  },
  {
   "cell_type": "code",
   "execution_count": 6,
   "metadata": {},
   "outputs": [],
   "source": [
    "bt['rt'] = bt['rt'].replace(1/3, 0.333333333)\n",
    "bt['rt'] = bt['rt'].replace(2/3, 0.666666667)"
   ]
  },
  {
   "cell_type": "code",
   "execution_count": 7,
   "metadata": {},
   "outputs": [],
   "source": [
    "lst = [bt['rt'] == bt['P_HRA_RT']][0]"
   ]
  },
  {
   "cell_type": "code",
   "execution_count": 8,
   "metadata": {},
   "outputs": [
    {
     "data": {
      "text/plain": [
       "18684"
      ]
     },
     "execution_count": 8,
     "metadata": {},
     "output_type": "execute_result"
    }
   ],
   "source": [
    "len(lst)"
   ]
  },
  {
   "cell_type": "code",
   "execution_count": 9,
   "metadata": {},
   "outputs": [
    {
     "data": {
      "text/plain": [
       "18684"
      ]
     },
     "execution_count": 9,
     "metadata": {},
     "output_type": "execute_result"
    }
   ],
   "source": [
    "sum(lst)"
   ]
  },
  {
   "cell_type": "markdown",
   "metadata": {},
   "source": [
    "=> P_HRA_RT = $\\frac{P\\_HIT\\_CN}{P\\_AB\\_CN}$"
   ]
  },
  {
   "cell_type": "code",
   "execution_count": 10,
   "metadata": {},
   "outputs": [
    {
     "data": {
      "text/plain": [
       "Index(['G_ID', 'GDAY_DS', 'T_ID', 'VS_T_ID', 'HEADER_NO', 'TB_SC', 'P_ID',\n",
       "       'START_CK', 'RELIEF_CK', 'CG_CK', 'QUIT_CK', 'WLS', 'HOLD', 'INN2',\n",
       "       'BF', 'PA', 'AB', 'HIT', 'H2', 'H3', 'HR', 'SB', 'CS', 'SH', 'SF', 'BB',\n",
       "       'IB', 'HP', 'KK', 'GD', 'WP', 'BK', 'ERR', 'R', 'ER', 'P_WHIP_RT',\n",
       "       'P2_WHIP_RT', 'CB_WHIP_RT'],\n",
       "      dtype='object')"
      ]
     },
     "execution_count": 10,
     "metadata": {},
     "output_type": "execute_result"
    }
   ],
   "source": [
    "pt.columns"
   ]
  },
  {
   "cell_type": "markdown",
   "metadata": {},
   "source": [
    "**BOLD: 뭔가 중요해 보이는 것**<br>\n",
    "*ITALIC: 타자 역량 관련 요소*<br><br>\n",
    "\n",
    "G_ID: 게임 키<br>\n",
    "~~GDAY_DS: 일자~~<br>\n",
    "T_ID: 팀 코드<br>\n",
    "~~VS_T_ID: 상대 팀 코드~~<br>\n",
    "~~HEADER_NO: 더블헤더코드~~<br>\n",
    "TB_SC: 초말<br>\n",
    "P_ID: 선수코드<br>\n",
    "**START_CK: 선발 여부**<br>\n",
    "~~RELIEF_CK~~: 구원 여부 - START_CK만 놔두고 제거해도 될듯<br>\n",
    "CG_CK: 완투 여부<br>\n",
    "QUIT_CK: 종료 여부<br>\n",
    "**WLS: 결과(W: 승, L: 패, S: 세, D: 무** - 세이브를 따로 셀 필요가 있나<br>\n",
    "~~HOLD: 홀드 여부~~ - 굳이><br>\n",
    "INN2: 이닝 수\\*3<br>\n",
    "BF: 투구수<br>\n",
    "*PA: 타자<br>*\n",
    "*AB: 타수<br>*\n",
    "*HIT: 안타 수*<br>\n",
    "*H2: 2루타 수*<br>\n",
    "*H3: 3루타 수*<br>\n",
    "*HR: 홈런 수*<br>\n",
    "*SB: 도루 횟수*<br>\n",
    "*~~CS: 도루 실패 횟수~~*<br>\n",
    "*SH: 희생 번트 수*<br>\n",
    "*~~SF: 희생 플라이 수~~*<br>\n",
    "BB: 4구 횟수(-)<br>\n",
    "IB: 고의 4구 횟수(-)<br>\n",
    "HP: 사구 수(-)<br>\n",
    "KK: 삼진 횟수<br>\n",
    "GD: 병살타 횟수<br>\n",
    "WP: 폭투(-)<br>\n",
    "BK: 보크(-)<br>\n",
    "ERR: 실책(-)<br>\n",
    "R: 실점(-)<br>\n",
    "ER: 자책점(-)<br>\n",
    "P_WHIP_RT: 득점권 WHIP(-)<br>\n",
    "P2_WHIP_RT: 2점차 이하 WHIP(-)<br>\n",
    "CB_WHIP_RT: 345번 타자 WHIP(-)<br>\n",
    "\\* WHIP = Walks Plus Hits Divided by Innings Pitched \\*"
   ]
  },
  {
   "cell_type": "markdown",
   "metadata": {},
   "source": [
    "아무래도 게임 코드 별로 타자-투수 데이터를 합치거나 변수를 다시 분류해야 될 것 같다(pairwise data)"
   ]
  }
 ],
 "metadata": {
  "kernelspec": {
   "display_name": "Python 3",
   "language": "python",
   "name": "python3"
  },
  "language_info": {
   "codemirror_mode": {
    "name": "ipython",
    "version": 3
   },
   "file_extension": ".py",
   "mimetype": "text/x-python",
   "name": "python",
   "nbconvert_exporter": "python",
   "pygments_lexer": "ipython3",
   "version": "3.7.1"
  }
 },
 "nbformat": 4,
 "nbformat_minor": 2
}
