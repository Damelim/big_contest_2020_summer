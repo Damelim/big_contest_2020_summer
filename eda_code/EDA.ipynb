{
 "cells": [
  {
   "cell_type": "markdown",
   "metadata": {},
   "source": [
    "## [진행상황]\n",
    "\n",
    "## 1. 연도별 데이터 concat\n",
    "\n",
    "## 2. y변수추가\n",
    "\n",
    "## 3. Feature Selecting\n",
    "\n",
    "## 4. null값 확인(홍익선님 코드 참고)\n",
    "\n",
    "## 5. 변수들 간의 correlation 확인"
   ]
  },
  {
   "cell_type": "markdown",
   "metadata": {},
   "source": [
    "### 기존데이터 불러오기(이건 무시..)"
   ]
  },
  {
   "cell_type": "code",
   "execution_count": 1,
   "metadata": {},
   "outputs": [],
   "source": [
    "import pandas as pd\n",
    "import matplotlib.pyplot as plt\n",
    "import numpy as np\n",
    "import seaborn as sns"
   ]
  },
  {
   "cell_type": "code",
   "execution_count": 2,
   "metadata": {},
   "outputs": [],
   "source": [
    "# 경기 데이터\n",
    "game_2016 = pd.read_csv('data\\game_2016.csv', encoding='CP949')\n",
    "game_2017 = pd.read_csv('data\\game_2017.csv', encoding='CP949')\n",
    "game_2018 = pd.read_csv('data\\game_2018.csv', encoding='CP949')\n",
    "game_2019 = pd.read_csv('data\\game_2019.csv', encoding='CP949')\n",
    "game_2020 = pd.read_csv('data\\game_2020.csv', encoding='CP949')"
   ]
  },
  {
   "cell_type": "code",
   "execution_count": 3,
   "metadata": {},
   "outputs": [],
   "source": [
    "# 선수 데이터 \n",
    "players_2016 = pd.read_csv('data\\players_2016.csv', encoding='CP949')\n",
    "players_2017 = pd.read_csv('data\\players_2017.csv', encoding='CP949')\n",
    "players_2018 = pd.read_csv('data\\players_2018.csv', encoding='CP949')\n",
    "players_2019 = pd.read_csv('data\\players_2019.csv', encoding='CP949')\n",
    "players_2020 = pd.read_csv('data\\players_2020.csv', encoding='CP949')"
   ]
  },
  {
   "cell_type": "code",
   "execution_count": 4,
   "metadata": {},
   "outputs": [],
   "source": [
    "# 개인 투수 \n",
    "private_pitcher_2016 = pd.read_csv('data\\private_pitcher_2016.csv',encoding='CP949')\n",
    "private_pitcher_2017 = pd.read_csv('data\\private_pitcher_2017.csv',encoding='CP949')\n",
    "private_pitcher_2018 = pd.read_csv('data\\private_pitcher_2018.csv',encoding='CP949')\n",
    "private_pitcher_2019 = pd.read_csv('data\\private_pitcher_2019.csv',encoding='CP949')\n",
    "private_pitcher_2020 = pd.read_csv('data\\private_pitcher_2020.csv',encoding='CP949')"
   ]
  },
  {
   "cell_type": "code",
   "execution_count": 5,
   "metadata": {},
   "outputs": [],
   "source": [
    "# 개인 타자 \n",
    "private_batter_2016 = pd.read_csv('data\\private_batter_2016.csv', encoding='CP949')\n",
    "private_batter_2017 = pd.read_csv('data\\private_batter_2017.csv', encoding='CP949')\n",
    "private_batter_2018 = pd.read_csv('data\\private_batter_2018.csv', encoding='CP949')\n",
    "private_batter_2019 = pd.read_csv('data\\private_batter_2019.csv', encoding='CP949')\n",
    "private_batter_2020 = pd.read_csv('data\\private_batter_2020.csv', encoding='CP949')"
   ]
  },
  {
   "cell_type": "code",
   "execution_count": 6,
   "metadata": {},
   "outputs": [],
   "source": [
    "# 팀 투수\n",
    "team_pitcher_2016 = pd.read_csv('data\\\\team_pitcher_2016.csv',encoding='CP949')\n",
    "team_pitcher_2017 = pd.read_csv('data\\\\team_pitcher_2017.csv',encoding='CP949')\n",
    "team_pitcher_2018 = pd.read_csv('data\\\\team_pitcher_2018.csv',encoding='CP949')\n",
    "team_pitcher_2019 = pd.read_csv('data\\\\team_pitcher_2019.csv',encoding='CP949')\n",
    "team_pitcher_2020 = pd.read_csv('data\\\\team_pitcher_2020.csv',encoding='CP949')"
   ]
  },
  {
   "cell_type": "code",
   "execution_count": 7,
   "metadata": {},
   "outputs": [],
   "source": [
    "# 팀 타자 \n",
    "team_batter_2016 = pd.read_csv('data\\\\team_batter_2016.csv', encoding='CP949')\n",
    "team_batter_2017 = pd.read_csv('data\\\\team_batter_2017.csv', encoding='CP949')\n",
    "team_batter_2018 = pd.read_csv('data\\\\team_batter_2018.csv', encoding='CP949')\n",
    "team_batter_2019 = pd.read_csv('data\\\\team_batter_2019.csv', encoding='CP949')\n",
    "team_batter_2020 = pd.read_csv('data\\\\team_batter_2020.csv', encoding='CP949')"
   ]
  },
  {
   "cell_type": "code",
   "execution_count": 8,
   "metadata": {},
   "outputs": [],
   "source": [
    "# 팀\n",
    "team = pd.read_csv('data\\\\team_2016.csv', encoding='CP949')"
   ]
  },
  {
   "cell_type": "markdown",
   "metadata": {},
   "source": [
    "# 1. 연도별 데이터 하나의 데이터로 합치기 \n",
    "- 등록선수 데이터 버리기\n",
    "- 팀데이터는 연도별로 동일"
   ]
  },
  {
   "cell_type": "code",
   "execution_count": 9,
   "metadata": {},
   "outputs": [],
   "source": [
    "game = pd.concat([game_2016,game_2017,game_2018,game_2019,game_2020])\n",
    "players = pd.concat([players_2016,players_2017,players_2018,players_2019,players_2020])\n",
    "private_pitcher = pd.concat([private_pitcher_2016,private_pitcher_2017,private_pitcher_2018,private_pitcher_2019,private_pitcher_2020])\n",
    "private_batter = pd.concat([private_batter_2016,private_batter_2017,private_batter_2018,private_batter_2019,private_batter_2020])\n",
    "team_pitcher = pd.concat([team_pitcher_2016,team_pitcher_2017,team_pitcher_2018,team_pitcher_2019,team_pitcher_2020])\n",
    "team_batter = pd.concat([team_batter_2016,team_batter_2017,team_batter_2018,team_batter_2019,team_batter_2020])"
   ]
  },
  {
   "cell_type": "code",
   "execution_count": 10,
   "metadata": {},
   "outputs": [],
   "source": [
    "game.to_csv('data\\game.csv',index=False)\n",
    "players.to_csv('data\\players.csv',index=False)\n",
    "private_pitcher.to_csv('data\\private_pitcher.csv',index=False)\n",
    "private_batter.to_csv('data\\private_batter.csv',index=False)\n",
    "team_pitcher.to_csv('data\\\\team_pitcher.csv',index=False)\n",
    "team_batter.to_csv('data\\\\team_batter.csv',index=False)\n",
    "team.to_csv('data\\\\team.csv',index=False)"
   ]
  },
  {
   "cell_type": "markdown",
   "metadata": {},
   "source": [
    "# 2. 새로운 변수 추가 : 타율 출루율 방어율 도루관련변수\n",
    "\n",
    "- 분모가 0이 나온 na값은 0으로 채워줌"
   ]
  },
  {
   "cell_type": "markdown",
   "metadata": {},
   "source": [
    "### 1) 타율(AVG):  HIT / AB\n",
    "- 안타(홈런)/타수"
   ]
  },
  {
   "cell_type": "code",
   "execution_count": 11,
   "metadata": {},
   "outputs": [],
   "source": [
    "private_batter['AVG'] = private_batter['HIT']/private_batter['AB']\n",
    "private_batter['AVG'] = private_batter['AVG'].fillna(0)"
   ]
  },
  {
   "cell_type": "code",
   "execution_count": 12,
   "metadata": {},
   "outputs": [],
   "source": [
    "team_batter['AVG'] = team_batter['HIT']/team_batter['AB']\n",
    "team_batter['AVG'] = team_batter['AVG'].fillna(0)"
   ]
  },
  {
   "cell_type": "markdown",
   "metadata": {},
   "source": [
    "### 2) 출루율(OBP) : HIT +  BB + IB + HP / PA\n",
    "- 안타(홈런),4구,고의4구,사구 / 타석수"
   ]
  },
  {
   "cell_type": "code",
   "execution_count": 13,
   "metadata": {},
   "outputs": [],
   "source": [
    "private_batter['OBP'] = (private_batter['HIT']+private_batter['BB']+private_batter['IB']+private_batter['HP'])/private_batter['PA']\n",
    "private_batter['OBP'] = private_batter['OBP'].fillna(0)"
   ]
  },
  {
   "cell_type": "code",
   "execution_count": 14,
   "metadata": {},
   "outputs": [],
   "source": [
    "team_batter['OBP'] = (team_batter['HIT']+team_batter['BB']+team_batter['IB']+team_batter['HP'])/team_batter['PA']\n",
    "team_batter['OBP'] = team_batter['OBP'].replace\n",
    "team_batter['OBP'] = team_batter['OBP'].fillna(0)"
   ]
  },
  {
   "cell_type": "markdown",
   "metadata": {},
   "source": [
    "### 3) 방어율(ERA): ER*9 / (INN2/3)\n",
    "\n",
    "- (총 자책점 * 9 ) / 총 던진 이닝수 "
   ]
  },
  {
   "cell_type": "code",
   "execution_count": 15,
   "metadata": {},
   "outputs": [],
   "source": [
    "private_pitcher['ERA'] = private_pitcher['ER'] / (private_pitcher['INN2']/3)\n",
    "private_pitcher['ERA'] = private_pitcher['ERA'].fillna(0)"
   ]
  },
  {
   "cell_type": "code",
   "execution_count": 16,
   "metadata": {},
   "outputs": [],
   "source": [
    "team_pitcher['ERA'] = team_pitcher['ER'] / (team_pitcher['INN2']/3)\n",
    "team_pitcher['ERA'] = team_pitcher['ERA'].fillna(0)"
   ]
  },
  {
   "cell_type": "markdown",
   "metadata": {},
   "source": [
    "### 4) 도루 시도 횟수(SB_trial):SB+CS"
   ]
  },
  {
   "cell_type": "code",
   "execution_count": 17,
   "metadata": {},
   "outputs": [],
   "source": [
    "private_batter['SB_trial'] =  private_batter['SB'] + private_batter['CS']"
   ]
  },
  {
   "cell_type": "code",
   "execution_count": 18,
   "metadata": {},
   "outputs": [],
   "source": [
    "team_batter['SB_trial'] =  team_batter['SB'] + team_batter['CS']"
   ]
  },
  {
   "cell_type": "markdown",
   "metadata": {},
   "source": [
    "### 5) 도루 성공율(SB_SR) : SB / (SB+CS)"
   ]
  },
  {
   "cell_type": "code",
   "execution_count": 19,
   "metadata": {},
   "outputs": [],
   "source": [
    "private_pitcher['SB_SR'] = private_pitcher['SB']/(private_pitcher['SB'] + private_pitcher['CS'])\n",
    "private_pitcher['SB_SR'] = private_pitcher['SB_SR'].fillna(0)"
   ]
  },
  {
   "cell_type": "code",
   "execution_count": 20,
   "metadata": {},
   "outputs": [],
   "source": [
    "team_pitcher['SB_SR'] = team_pitcher['SB']/(team_pitcher['SB'] + team_pitcher['CS'])\n",
    "team_pitcher['SB_SR'] = team_pitcher['SB_SR'].fillna(0)"
   ]
  },
  {
   "cell_type": "markdown",
   "metadata": {},
   "source": [
    "### 6) PA-AB"
   ]
  },
  {
   "cell_type": "code",
   "execution_count": 21,
   "metadata": {},
   "outputs": [],
   "source": [
    "private_pitcher['PA-AB'] = private_pitcher['PA']-private_pitcher['AB']\n",
    "private_batter['PA-AB'] = private_batter['PA']-private_batter['AB']"
   ]
  },
  {
   "cell_type": "code",
   "execution_count": 22,
   "metadata": {},
   "outputs": [],
   "source": [
    "team_pitcher['PA-AB'] = team_pitcher['PA']-team_pitcher['AB']\n",
    "team_batter['PA-AB'] = team_batter['PA']-team_batter['AB']"
   ]
  },
  {
   "cell_type": "markdown",
   "metadata": {},
   "source": [
    "### 7) SH+SF"
   ]
  },
  {
   "cell_type": "code",
   "execution_count": 23,
   "metadata": {},
   "outputs": [],
   "source": [
    "private_batter['SH+SF'] = private_batter['SH']+private_batter['SF']"
   ]
  },
  {
   "cell_type": "code",
   "execution_count": 24,
   "metadata": {},
   "outputs": [],
   "source": [
    "team_batter['SH+SF'] = team_batter['SH']+team_batter['SF']"
   ]
  },
  {
   "cell_type": "code",
   "execution_count": 25,
   "metadata": {},
   "outputs": [],
   "source": [
    "private_pitcher = private_pitcher.replace(np.inf,0)\n",
    "private_batter = private_batter.replace(np.inf,0)\n",
    "team_pitcher = team_pitcher.replace(np.inf,0)\n",
    "team_batter = team_batter.replace(np.inf,0)"
   ]
  },
  {
   "cell_type": "markdown",
   "metadata": {},
   "source": [
    "# 3. Feature Selecting \n",
    "- 개인 데이터, 팀 데이터 고려해서 각각 모델링을 하고 성능이 더 좋은 것을 사용하기로 함"
   ]
  },
  {
   "cell_type": "markdown",
   "metadata": {},
   "source": [
    "### game"
   ]
  },
  {
   "cell_type": "code",
   "execution_count": 26,
   "metadata": {},
   "outputs": [
    {
     "data": {
      "text/html": [
       "<div>\n",
       "<style scoped>\n",
       "    .dataframe tbody tr th:only-of-type {\n",
       "        vertical-align: middle;\n",
       "    }\n",
       "\n",
       "    .dataframe tbody tr th {\n",
       "        vertical-align: top;\n",
       "    }\n",
       "\n",
       "    .dataframe thead th {\n",
       "        text-align: right;\n",
       "    }\n",
       "</style>\n",
       "<table border=\"1\" class=\"dataframe\">\n",
       "  <thead>\n",
       "    <tr style=\"text-align: right;\">\n",
       "      <th></th>\n",
       "      <th>G_ID</th>\n",
       "      <th>GDAY_DS</th>\n",
       "      <th>VISIT_KEY</th>\n",
       "      <th>HOME_KEY</th>\n",
       "      <th>HEADER_NO</th>\n",
       "      <th>GWEEK</th>\n",
       "      <th>STADIUM</th>\n",
       "    </tr>\n",
       "  </thead>\n",
       "  <tbody>\n",
       "    <tr>\n",
       "      <th>0</th>\n",
       "      <td>20160401HHLG0</td>\n",
       "      <td>20160401</td>\n",
       "      <td>HH</td>\n",
       "      <td>LG</td>\n",
       "      <td>0</td>\n",
       "      <td>금</td>\n",
       "      <td>잠실</td>\n",
       "    </tr>\n",
       "  </tbody>\n",
       "</table>\n",
       "</div>"
      ],
      "text/plain": [
       "            G_ID   GDAY_DS VISIT_KEY HOME_KEY  HEADER_NO GWEEK STADIUM\n",
       "0  20160401HHLG0  20160401        HH       LG          0     금      잠실"
      ]
     },
     "execution_count": 26,
     "metadata": {},
     "output_type": "execute_result"
    }
   ],
   "source": [
    "game.head(1)"
   ]
  },
  {
   "cell_type": "code",
   "execution_count": 27,
   "metadata": {},
   "outputs": [
    {
     "data": {
      "text/html": [
       "<div>\n",
       "<style scoped>\n",
       "    .dataframe tbody tr th:only-of-type {\n",
       "        vertical-align: middle;\n",
       "    }\n",
       "\n",
       "    .dataframe tbody tr th {\n",
       "        vertical-align: top;\n",
       "    }\n",
       "\n",
       "    .dataframe thead th {\n",
       "        text-align: right;\n",
       "    }\n",
       "</style>\n",
       "<table border=\"1\" class=\"dataframe\">\n",
       "  <thead>\n",
       "    <tr style=\"text-align: right;\">\n",
       "      <th></th>\n",
       "      <th>GDAY_DS</th>\n",
       "      <th>VISIT_KEY</th>\n",
       "      <th>HOME_KEY</th>\n",
       "      <th>STADIUM</th>\n",
       "    </tr>\n",
       "  </thead>\n",
       "  <tbody>\n",
       "    <tr>\n",
       "      <th>0</th>\n",
       "      <td>20160401</td>\n",
       "      <td>HH</td>\n",
       "      <td>LG</td>\n",
       "      <td>잠실</td>\n",
       "    </tr>\n",
       "    <tr>\n",
       "      <th>1</th>\n",
       "      <td>20160401</td>\n",
       "      <td>HT</td>\n",
       "      <td>NC</td>\n",
       "      <td>마산</td>\n",
       "    </tr>\n",
       "    <tr>\n",
       "      <th>2</th>\n",
       "      <td>20160401</td>\n",
       "      <td>KT</td>\n",
       "      <td>SK</td>\n",
       "      <td>문학</td>\n",
       "    </tr>\n",
       "    <tr>\n",
       "      <th>3</th>\n",
       "      <td>20160401</td>\n",
       "      <td>LT</td>\n",
       "      <td>WO</td>\n",
       "      <td>고척</td>\n",
       "    </tr>\n",
       "    <tr>\n",
       "      <th>4</th>\n",
       "      <td>20160401</td>\n",
       "      <td>OB</td>\n",
       "      <td>SS</td>\n",
       "      <td>대구</td>\n",
       "    </tr>\n",
       "  </tbody>\n",
       "</table>\n",
       "</div>"
      ],
      "text/plain": [
       "    GDAY_DS VISIT_KEY HOME_KEY STADIUM\n",
       "0  20160401        HH       LG      잠실\n",
       "1  20160401        HT       NC      마산\n",
       "2  20160401        KT       SK      문학\n",
       "3  20160401        LT       WO      고척\n",
       "4  20160401        OB       SS      대구"
      ]
     },
     "execution_count": 27,
     "metadata": {},
     "output_type": "execute_result"
    }
   ],
   "source": [
    "game = game.drop(['G_ID','HEADER_NO','GWEEK'],axis=1)\n",
    "game.head()"
   ]
  },
  {
   "cell_type": "markdown",
   "metadata": {},
   "source": [
    "### players"
   ]
  },
  {
   "cell_type": "code",
   "execution_count": 28,
   "metadata": {},
   "outputs": [
    {
     "data": {
      "text/html": [
       "<div>\n",
       "<style scoped>\n",
       "    .dataframe tbody tr th:only-of-type {\n",
       "        vertical-align: middle;\n",
       "    }\n",
       "\n",
       "    .dataframe tbody tr th {\n",
       "        vertical-align: top;\n",
       "    }\n",
       "\n",
       "    .dataframe thead th {\n",
       "        text-align: right;\n",
       "    }\n",
       "</style>\n",
       "<table border=\"1\" class=\"dataframe\">\n",
       "  <thead>\n",
       "    <tr style=\"text-align: right;\">\n",
       "      <th></th>\n",
       "      <th>GYEAR</th>\n",
       "      <th>PCODE</th>\n",
       "      <th>NAME</th>\n",
       "      <th>T_ID</th>\n",
       "      <th>POSITION</th>\n",
       "      <th>AGE_VA</th>\n",
       "      <th>MONEY</th>\n",
       "    </tr>\n",
       "  </thead>\n",
       "  <tbody>\n",
       "    <tr>\n",
       "      <th>0</th>\n",
       "      <td>2016</td>\n",
       "      <td>60100</td>\n",
       "      <td>백창수</td>\n",
       "      <td>LG</td>\n",
       "      <td>내</td>\n",
       "      <td>28</td>\n",
       "      <td>4000만원</td>\n",
       "    </tr>\n",
       "  </tbody>\n",
       "</table>\n",
       "</div>"
      ],
      "text/plain": [
       "   GYEAR  PCODE NAME T_ID POSITION  AGE_VA   MONEY\n",
       "0   2016  60100  백창수   LG        내      28  4000만원"
      ]
     },
     "execution_count": 28,
     "metadata": {},
     "output_type": "execute_result"
    }
   ],
   "source": [
    "players.head(1)"
   ]
  },
  {
   "cell_type": "code",
   "execution_count": 29,
   "metadata": {},
   "outputs": [
    {
     "data": {
      "text/html": [
       "<div>\n",
       "<style scoped>\n",
       "    .dataframe tbody tr th:only-of-type {\n",
       "        vertical-align: middle;\n",
       "    }\n",
       "\n",
       "    .dataframe tbody tr th {\n",
       "        vertical-align: top;\n",
       "    }\n",
       "\n",
       "    .dataframe thead th {\n",
       "        text-align: right;\n",
       "    }\n",
       "</style>\n",
       "<table border=\"1\" class=\"dataframe\">\n",
       "  <thead>\n",
       "    <tr style=\"text-align: right;\">\n",
       "      <th></th>\n",
       "      <th>GYEAR</th>\n",
       "      <th>PCODE</th>\n",
       "      <th>T_ID</th>\n",
       "      <th>AGE_VA</th>\n",
       "    </tr>\n",
       "  </thead>\n",
       "  <tbody>\n",
       "    <tr>\n",
       "      <th>0</th>\n",
       "      <td>2016</td>\n",
       "      <td>60100</td>\n",
       "      <td>LG</td>\n",
       "      <td>28</td>\n",
       "    </tr>\n",
       "    <tr>\n",
       "      <th>1</th>\n",
       "      <td>2016</td>\n",
       "      <td>60105</td>\n",
       "      <td>LG</td>\n",
       "      <td>25</td>\n",
       "    </tr>\n",
       "    <tr>\n",
       "      <th>2</th>\n",
       "      <td>2016</td>\n",
       "      <td>60146</td>\n",
       "      <td>LG</td>\n",
       "      <td>25</td>\n",
       "    </tr>\n",
       "    <tr>\n",
       "      <th>3</th>\n",
       "      <td>2016</td>\n",
       "      <td>60164</td>\n",
       "      <td>LG</td>\n",
       "      <td>25</td>\n",
       "    </tr>\n",
       "    <tr>\n",
       "      <th>4</th>\n",
       "      <td>2016</td>\n",
       "      <td>60181</td>\n",
       "      <td>LG</td>\n",
       "      <td>28</td>\n",
       "    </tr>\n",
       "  </tbody>\n",
       "</table>\n",
       "</div>"
      ],
      "text/plain": [
       "   GYEAR  PCODE T_ID  AGE_VA\n",
       "0   2016  60100   LG      28\n",
       "1   2016  60105   LG      25\n",
       "2   2016  60146   LG      25\n",
       "3   2016  60164   LG      25\n",
       "4   2016  60181   LG      28"
      ]
     },
     "execution_count": 29,
     "metadata": {},
     "output_type": "execute_result"
    }
   ],
   "source": [
    "players = players.drop(['NAME','POSITION','MONEY'],axis=1)\n",
    "players.head()"
   ]
  },
  {
   "cell_type": "markdown",
   "metadata": {},
   "source": [
    "### 개인 투수"
   ]
  },
  {
   "cell_type": "code",
   "execution_count": 30,
   "metadata": {},
   "outputs": [
    {
     "data": {
      "text/plain": [
       "Index(['G_ID', 'GDAY_DS', 'T_ID', 'VS_T_ID', 'HEADER_NO', 'TB_SC', 'P_ID',\n",
       "       'START_CK', 'RELIEF_CK', 'CG_CK', 'QUIT_CK', 'WLS', 'HOLD', 'INN2',\n",
       "       'BF', 'PA', 'AB', 'HIT', 'H2', 'H3', 'HR', 'SB', 'CS', 'SH', 'SF', 'BB',\n",
       "       'IB', 'HP', 'KK', 'GD', 'WP', 'BK', 'ERR', 'R', 'ER', 'P_WHIP_RT',\n",
       "       'P2_WHIP_RT', 'CB_WHIP_RT', 'ERA', 'SB_SR', 'PA-AB'],\n",
       "      dtype='object')"
      ]
     },
     "execution_count": 30,
     "metadata": {},
     "output_type": "execute_result"
    }
   ],
   "source": [
    "private_pitcher.columns"
   ]
  },
  {
   "cell_type": "code",
   "execution_count": 31,
   "metadata": {},
   "outputs": [],
   "source": [
    "private_pitcher = private_pitcher[['TB_SC','INN2','BF','PA-AB','AB','HIT','H2','H3','HR','SB_SR','KK','WP','ER','ERA']]"
   ]
  },
  {
   "cell_type": "code",
   "execution_count": 32,
   "metadata": {},
   "outputs": [
    {
     "data": {
      "text/plain": [
       "Index(['TB_SC', 'INN2', 'BF', 'PA-AB', 'AB', 'HIT', 'H2', 'H3', 'HR', 'SB_SR',\n",
       "       'KK', 'WP', 'ER', 'ERA'],\n",
       "      dtype='object')"
      ]
     },
     "execution_count": 32,
     "metadata": {},
     "output_type": "execute_result"
    }
   ],
   "source": [
    "private_pitcher.columns"
   ]
  },
  {
   "cell_type": "code",
   "execution_count": 33,
   "metadata": {},
   "outputs": [
    {
     "data": {
      "text/html": [
       "<div>\n",
       "<style scoped>\n",
       "    .dataframe tbody tr th:only-of-type {\n",
       "        vertical-align: middle;\n",
       "    }\n",
       "\n",
       "    .dataframe tbody tr th {\n",
       "        vertical-align: top;\n",
       "    }\n",
       "\n",
       "    .dataframe thead th {\n",
       "        text-align: right;\n",
       "    }\n",
       "</style>\n",
       "<table border=\"1\" class=\"dataframe\">\n",
       "  <thead>\n",
       "    <tr style=\"text-align: right;\">\n",
       "      <th></th>\n",
       "      <th>TB_SC</th>\n",
       "      <th>INN2</th>\n",
       "      <th>BF</th>\n",
       "      <th>PA-AB</th>\n",
       "      <th>AB</th>\n",
       "      <th>HIT</th>\n",
       "      <th>H2</th>\n",
       "      <th>H3</th>\n",
       "      <th>HR</th>\n",
       "      <th>SB_SR</th>\n",
       "      <th>KK</th>\n",
       "      <th>WP</th>\n",
       "      <th>ER</th>\n",
       "      <th>ERA</th>\n",
       "    </tr>\n",
       "  </thead>\n",
       "  <tbody>\n",
       "    <tr>\n",
       "      <th>0</th>\n",
       "      <td>B</td>\n",
       "      <td>6</td>\n",
       "      <td>29</td>\n",
       "      <td>1</td>\n",
       "      <td>7</td>\n",
       "      <td>1</td>\n",
       "      <td>0</td>\n",
       "      <td>0</td>\n",
       "      <td>0</td>\n",
       "      <td>0.0</td>\n",
       "      <td>3</td>\n",
       "      <td>0</td>\n",
       "      <td>0</td>\n",
       "      <td>0.000000</td>\n",
       "    </tr>\n",
       "    <tr>\n",
       "      <th>1</th>\n",
       "      <td>B</td>\n",
       "      <td>5</td>\n",
       "      <td>33</td>\n",
       "      <td>2</td>\n",
       "      <td>6</td>\n",
       "      <td>2</td>\n",
       "      <td>0</td>\n",
       "      <td>0</td>\n",
       "      <td>0</td>\n",
       "      <td>0.0</td>\n",
       "      <td>1</td>\n",
       "      <td>0</td>\n",
       "      <td>0</td>\n",
       "      <td>0.000000</td>\n",
       "    </tr>\n",
       "    <tr>\n",
       "      <th>2</th>\n",
       "      <td>B</td>\n",
       "      <td>1</td>\n",
       "      <td>7</td>\n",
       "      <td>0</td>\n",
       "      <td>2</td>\n",
       "      <td>1</td>\n",
       "      <td>0</td>\n",
       "      <td>0</td>\n",
       "      <td>0</td>\n",
       "      <td>0.0</td>\n",
       "      <td>0</td>\n",
       "      <td>0</td>\n",
       "      <td>0</td>\n",
       "      <td>0.000000</td>\n",
       "    </tr>\n",
       "    <tr>\n",
       "      <th>3</th>\n",
       "      <td>B</td>\n",
       "      <td>18</td>\n",
       "      <td>94</td>\n",
       "      <td>3</td>\n",
       "      <td>25</td>\n",
       "      <td>9</td>\n",
       "      <td>2</td>\n",
       "      <td>0</td>\n",
       "      <td>0</td>\n",
       "      <td>0.0</td>\n",
       "      <td>4</td>\n",
       "      <td>0</td>\n",
       "      <td>4</td>\n",
       "      <td>0.666667</td>\n",
       "    </tr>\n",
       "    <tr>\n",
       "      <th>4</th>\n",
       "      <td>T</td>\n",
       "      <td>4</td>\n",
       "      <td>27</td>\n",
       "      <td>2</td>\n",
       "      <td>4</td>\n",
       "      <td>1</td>\n",
       "      <td>1</td>\n",
       "      <td>0</td>\n",
       "      <td>0</td>\n",
       "      <td>0.0</td>\n",
       "      <td>1</td>\n",
       "      <td>0</td>\n",
       "      <td>1</td>\n",
       "      <td>0.750000</td>\n",
       "    </tr>\n",
       "  </tbody>\n",
       "</table>\n",
       "</div>"
      ],
      "text/plain": [
       "  TB_SC  INN2  BF  PA-AB  AB  HIT  H2  H3  HR  SB_SR  KK  WP  ER       ERA\n",
       "0     B     6  29      1   7    1   0   0   0    0.0   3   0   0  0.000000\n",
       "1     B     5  33      2   6    2   0   0   0    0.0   1   0   0  0.000000\n",
       "2     B     1   7      0   2    1   0   0   0    0.0   0   0   0  0.000000\n",
       "3     B    18  94      3  25    9   2   0   0    0.0   4   0   4  0.666667\n",
       "4     T     4  27      2   4    1   1   0   0    0.0   1   0   1  0.750000"
      ]
     },
     "execution_count": 33,
     "metadata": {},
     "output_type": "execute_result"
    }
   ],
   "source": [
    "private_pitcher.head()"
   ]
  },
  {
   "cell_type": "markdown",
   "metadata": {},
   "source": [
    "### 개인 타자"
   ]
  },
  {
   "cell_type": "code",
   "execution_count": 34,
   "metadata": {},
   "outputs": [
    {
     "data": {
      "text/plain": [
       "Index(['G_ID', 'GDAY_DS', 'T_ID', 'VS_T_ID', 'HEADER_NO', 'TB_SC', 'P_ID',\n",
       "       'START_CK', 'BAT_ORDER_NO', 'PA', 'AB', 'RBI', 'RUN', 'HIT', 'H2', 'H3',\n",
       "       'HR', 'SB', 'CS', 'SH', 'SF', 'BB', 'IB', 'HP', 'KK', 'GD', 'ERR',\n",
       "       'LOB', 'P_HRA_RT', 'P_AB_CN', 'P_HIT_CN', 'AVG', 'OBP', 'SB_trial',\n",
       "       'PA-AB', 'SH+SF'],\n",
       "      dtype='object')"
      ]
     },
     "execution_count": 34,
     "metadata": {},
     "output_type": "execute_result"
    }
   ],
   "source": [
    "private_batter.columns"
   ]
  },
  {
   "cell_type": "code",
   "execution_count": 35,
   "metadata": {},
   "outputs": [],
   "source": [
    "private_batter = private_batter[['TB_SC','PA-AB','AB','RUN','HIT','SH+SF','KK','AVG','SB_trial']]"
   ]
  },
  {
   "cell_type": "code",
   "execution_count": 36,
   "metadata": {},
   "outputs": [
    {
     "data": {
      "text/plain": [
       "Index(['TB_SC', 'PA-AB', 'AB', 'RUN', 'HIT', 'SH+SF', 'KK', 'AVG', 'SB_trial'], dtype='object')"
      ]
     },
     "execution_count": 36,
     "metadata": {},
     "output_type": "execute_result"
    }
   ],
   "source": [
    "private_batter.columns"
   ]
  },
  {
   "cell_type": "code",
   "execution_count": 37,
   "metadata": {},
   "outputs": [
    {
     "data": {
      "text/html": [
       "<div>\n",
       "<style scoped>\n",
       "    .dataframe tbody tr th:only-of-type {\n",
       "        vertical-align: middle;\n",
       "    }\n",
       "\n",
       "    .dataframe tbody tr th {\n",
       "        vertical-align: top;\n",
       "    }\n",
       "\n",
       "    .dataframe thead th {\n",
       "        text-align: right;\n",
       "    }\n",
       "</style>\n",
       "<table border=\"1\" class=\"dataframe\">\n",
       "  <thead>\n",
       "    <tr style=\"text-align: right;\">\n",
       "      <th></th>\n",
       "      <th>TB_SC</th>\n",
       "      <th>PA-AB</th>\n",
       "      <th>AB</th>\n",
       "      <th>RUN</th>\n",
       "      <th>HIT</th>\n",
       "      <th>SH+SF</th>\n",
       "      <th>KK</th>\n",
       "      <th>AVG</th>\n",
       "      <th>SB_trial</th>\n",
       "    </tr>\n",
       "  </thead>\n",
       "  <tbody>\n",
       "    <tr>\n",
       "      <th>0</th>\n",
       "      <td>T</td>\n",
       "      <td>0</td>\n",
       "      <td>1</td>\n",
       "      <td>0</td>\n",
       "      <td>1</td>\n",
       "      <td>0</td>\n",
       "      <td>0</td>\n",
       "      <td>1.00</td>\n",
       "      <td>0</td>\n",
       "    </tr>\n",
       "    <tr>\n",
       "      <th>1</th>\n",
       "      <td>B</td>\n",
       "      <td>0</td>\n",
       "      <td>3</td>\n",
       "      <td>0</td>\n",
       "      <td>0</td>\n",
       "      <td>0</td>\n",
       "      <td>2</td>\n",
       "      <td>0.00</td>\n",
       "      <td>0</td>\n",
       "    </tr>\n",
       "    <tr>\n",
       "      <th>2</th>\n",
       "      <td>B</td>\n",
       "      <td>0</td>\n",
       "      <td>4</td>\n",
       "      <td>2</td>\n",
       "      <td>3</td>\n",
       "      <td>0</td>\n",
       "      <td>1</td>\n",
       "      <td>0.75</td>\n",
       "      <td>1</td>\n",
       "    </tr>\n",
       "    <tr>\n",
       "      <th>3</th>\n",
       "      <td>B</td>\n",
       "      <td>1</td>\n",
       "      <td>0</td>\n",
       "      <td>0</td>\n",
       "      <td>0</td>\n",
       "      <td>0</td>\n",
       "      <td>0</td>\n",
       "      <td>0.00</td>\n",
       "      <td>0</td>\n",
       "    </tr>\n",
       "    <tr>\n",
       "      <th>4</th>\n",
       "      <td>T</td>\n",
       "      <td>0</td>\n",
       "      <td>2</td>\n",
       "      <td>1</td>\n",
       "      <td>1</td>\n",
       "      <td>0</td>\n",
       "      <td>0</td>\n",
       "      <td>0.50</td>\n",
       "      <td>0</td>\n",
       "    </tr>\n",
       "  </tbody>\n",
       "</table>\n",
       "</div>"
      ],
      "text/plain": [
       "  TB_SC  PA-AB  AB  RUN  HIT  SH+SF  KK   AVG  SB_trial\n",
       "0     T      0   1    0    1      0   0  1.00         0\n",
       "1     B      0   3    0    0      0   2  0.00         0\n",
       "2     B      0   4    2    3      0   1  0.75         1\n",
       "3     B      1   0    0    0      0   0  0.00         0\n",
       "4     T      0   2    1    1      0   0  0.50         0"
      ]
     },
     "execution_count": 37,
     "metadata": {},
     "output_type": "execute_result"
    }
   ],
   "source": [
    "private_batter.head()"
   ]
  },
  {
   "cell_type": "markdown",
   "metadata": {},
   "source": [
    "### 팀 투수"
   ]
  },
  {
   "cell_type": "code",
   "execution_count": 38,
   "metadata": {},
   "outputs": [],
   "source": [
    "team_pitcher = team_pitcher[['TB_SC','INN2','BF','PA-AB','AB','HIT','H2','H3','HR','SB_SR','KK','WP','ER','ERA']]"
   ]
  },
  {
   "cell_type": "code",
   "execution_count": 39,
   "metadata": {},
   "outputs": [
    {
     "data": {
      "text/html": [
       "<div>\n",
       "<style scoped>\n",
       "    .dataframe tbody tr th:only-of-type {\n",
       "        vertical-align: middle;\n",
       "    }\n",
       "\n",
       "    .dataframe tbody tr th {\n",
       "        vertical-align: top;\n",
       "    }\n",
       "\n",
       "    .dataframe thead th {\n",
       "        text-align: right;\n",
       "    }\n",
       "</style>\n",
       "<table border=\"1\" class=\"dataframe\">\n",
       "  <thead>\n",
       "    <tr style=\"text-align: right;\">\n",
       "      <th></th>\n",
       "      <th>TB_SC</th>\n",
       "      <th>INN2</th>\n",
       "      <th>BF</th>\n",
       "      <th>PA-AB</th>\n",
       "      <th>AB</th>\n",
       "      <th>HIT</th>\n",
       "      <th>H2</th>\n",
       "      <th>H3</th>\n",
       "      <th>HR</th>\n",
       "      <th>SB_SR</th>\n",
       "      <th>KK</th>\n",
       "      <th>WP</th>\n",
       "      <th>ER</th>\n",
       "      <th>ERA</th>\n",
       "    </tr>\n",
       "  </thead>\n",
       "  <tbody>\n",
       "    <tr>\n",
       "      <th>0</th>\n",
       "      <td>B</td>\n",
       "      <td>36</td>\n",
       "      <td>184</td>\n",
       "      <td>6</td>\n",
       "      <td>46</td>\n",
       "      <td>13</td>\n",
       "      <td>2</td>\n",
       "      <td>0</td>\n",
       "      <td>0</td>\n",
       "      <td>0.000000</td>\n",
       "      <td>10</td>\n",
       "      <td>0</td>\n",
       "      <td>4</td>\n",
       "      <td>0.333333</td>\n",
       "    </tr>\n",
       "    <tr>\n",
       "      <th>1</th>\n",
       "      <td>T</td>\n",
       "      <td>34</td>\n",
       "      <td>196</td>\n",
       "      <td>5</td>\n",
       "      <td>42</td>\n",
       "      <td>9</td>\n",
       "      <td>2</td>\n",
       "      <td>0</td>\n",
       "      <td>1</td>\n",
       "      <td>0.666667</td>\n",
       "      <td>11</td>\n",
       "      <td>1</td>\n",
       "      <td>4</td>\n",
       "      <td>0.352941</td>\n",
       "    </tr>\n",
       "    <tr>\n",
       "      <th>2</th>\n",
       "      <td>B</td>\n",
       "      <td>27</td>\n",
       "      <td>143</td>\n",
       "      <td>4</td>\n",
       "      <td>34</td>\n",
       "      <td>8</td>\n",
       "      <td>3</td>\n",
       "      <td>0</td>\n",
       "      <td>1</td>\n",
       "      <td>0.000000</td>\n",
       "      <td>10</td>\n",
       "      <td>2</td>\n",
       "      <td>4</td>\n",
       "      <td>0.444444</td>\n",
       "    </tr>\n",
       "    <tr>\n",
       "      <th>3</th>\n",
       "      <td>T</td>\n",
       "      <td>24</td>\n",
       "      <td>147</td>\n",
       "      <td>6</td>\n",
       "      <td>30</td>\n",
       "      <td>9</td>\n",
       "      <td>2</td>\n",
       "      <td>0</td>\n",
       "      <td>2</td>\n",
       "      <td>0.000000</td>\n",
       "      <td>9</td>\n",
       "      <td>0</td>\n",
       "      <td>5</td>\n",
       "      <td>0.625000</td>\n",
       "    </tr>\n",
       "    <tr>\n",
       "      <th>4</th>\n",
       "      <td>B</td>\n",
       "      <td>27</td>\n",
       "      <td>151</td>\n",
       "      <td>6</td>\n",
       "      <td>36</td>\n",
       "      <td>11</td>\n",
       "      <td>0</td>\n",
       "      <td>0</td>\n",
       "      <td>2</td>\n",
       "      <td>0.666667</td>\n",
       "      <td>7</td>\n",
       "      <td>0</td>\n",
       "      <td>8</td>\n",
       "      <td>0.888889</td>\n",
       "    </tr>\n",
       "  </tbody>\n",
       "</table>\n",
       "</div>"
      ],
      "text/plain": [
       "  TB_SC  INN2   BF  PA-AB  AB  HIT  H2  H3  HR     SB_SR  KK  WP  ER       ERA\n",
       "0     B    36  184      6  46   13   2   0   0  0.000000  10   0   4  0.333333\n",
       "1     T    34  196      5  42    9   2   0   1  0.666667  11   1   4  0.352941\n",
       "2     B    27  143      4  34    8   3   0   1  0.000000  10   2   4  0.444444\n",
       "3     T    24  147      6  30    9   2   0   2  0.000000   9   0   5  0.625000\n",
       "4     B    27  151      6  36   11   0   0   2  0.666667   7   0   8  0.888889"
      ]
     },
     "execution_count": 39,
     "metadata": {},
     "output_type": "execute_result"
    }
   ],
   "source": [
    "team_pitcher.head()"
   ]
  },
  {
   "cell_type": "markdown",
   "metadata": {},
   "source": [
    "### 팀 타자"
   ]
  },
  {
   "cell_type": "code",
   "execution_count": 40,
   "metadata": {},
   "outputs": [],
   "source": [
    "team_batter = team_batter[['TB_SC','PA-AB','AB','RUN','HIT','SH+SF','KK','AVG','SB_trial']]"
   ]
  },
  {
   "cell_type": "code",
   "execution_count": 41,
   "metadata": {},
   "outputs": [
    {
     "data": {
      "text/html": [
       "<div>\n",
       "<style scoped>\n",
       "    .dataframe tbody tr th:only-of-type {\n",
       "        vertical-align: middle;\n",
       "    }\n",
       "\n",
       "    .dataframe tbody tr th {\n",
       "        vertical-align: top;\n",
       "    }\n",
       "\n",
       "    .dataframe thead th {\n",
       "        text-align: right;\n",
       "    }\n",
       "</style>\n",
       "<table border=\"1\" class=\"dataframe\">\n",
       "  <thead>\n",
       "    <tr style=\"text-align: right;\">\n",
       "      <th></th>\n",
       "      <th>TB_SC</th>\n",
       "      <th>PA-AB</th>\n",
       "      <th>AB</th>\n",
       "      <th>RUN</th>\n",
       "      <th>HIT</th>\n",
       "      <th>SH+SF</th>\n",
       "      <th>KK</th>\n",
       "      <th>AVG</th>\n",
       "      <th>SB_trial</th>\n",
       "    </tr>\n",
       "  </thead>\n",
       "  <tbody>\n",
       "    <tr>\n",
       "      <th>0</th>\n",
       "      <td>B</td>\n",
       "      <td>5</td>\n",
       "      <td>42</td>\n",
       "      <td>5</td>\n",
       "      <td>9</td>\n",
       "      <td>1</td>\n",
       "      <td>11</td>\n",
       "      <td>0.214286</td>\n",
       "      <td>3</td>\n",
       "    </tr>\n",
       "    <tr>\n",
       "      <th>1</th>\n",
       "      <td>T</td>\n",
       "      <td>6</td>\n",
       "      <td>46</td>\n",
       "      <td>4</td>\n",
       "      <td>13</td>\n",
       "      <td>3</td>\n",
       "      <td>10</td>\n",
       "      <td>0.282609</td>\n",
       "      <td>0</td>\n",
       "    </tr>\n",
       "    <tr>\n",
       "      <th>2</th>\n",
       "      <td>B</td>\n",
       "      <td>6</td>\n",
       "      <td>30</td>\n",
       "      <td>5</td>\n",
       "      <td>9</td>\n",
       "      <td>1</td>\n",
       "      <td>9</td>\n",
       "      <td>0.300000</td>\n",
       "      <td>0</td>\n",
       "    </tr>\n",
       "    <tr>\n",
       "      <th>3</th>\n",
       "      <td>T</td>\n",
       "      <td>4</td>\n",
       "      <td>34</td>\n",
       "      <td>4</td>\n",
       "      <td>8</td>\n",
       "      <td>0</td>\n",
       "      <td>10</td>\n",
       "      <td>0.235294</td>\n",
       "      <td>0</td>\n",
       "    </tr>\n",
       "    <tr>\n",
       "      <th>4</th>\n",
       "      <td>B</td>\n",
       "      <td>0</td>\n",
       "      <td>36</td>\n",
       "      <td>4</td>\n",
       "      <td>10</td>\n",
       "      <td>0</td>\n",
       "      <td>7</td>\n",
       "      <td>0.277778</td>\n",
       "      <td>0</td>\n",
       "    </tr>\n",
       "  </tbody>\n",
       "</table>\n",
       "</div>"
      ],
      "text/plain": [
       "  TB_SC  PA-AB  AB  RUN  HIT  SH+SF  KK       AVG  SB_trial\n",
       "0     B      5  42    5    9      1  11  0.214286         3\n",
       "1     T      6  46    4   13      3  10  0.282609         0\n",
       "2     B      6  30    5    9      1   9  0.300000         0\n",
       "3     T      4  34    4    8      0  10  0.235294         0\n",
       "4     B      0  36    4   10      0   7  0.277778         0"
      ]
     },
     "execution_count": 41,
     "metadata": {},
     "output_type": "execute_result"
    }
   ],
   "source": [
    "team_batter.head()"
   ]
  },
  {
   "cell_type": "markdown",
   "metadata": {},
   "source": [
    "### 피처셀렉팅, 새로운 변수추가된 데이터 /data에 저장"
   ]
  },
  {
   "cell_type": "code",
   "execution_count": 42,
   "metadata": {},
   "outputs": [],
   "source": [
    "game.to_csv('data\\game.csv',index=False)\n",
    "players.to_csv('data\\players.csv',index=False)\n",
    "private_pitcher.to_csv('data\\private_pitcher.csv',index=False)\n",
    "private_batter.to_csv('data\\private_batter.csv',index=False)\n",
    "team_pitcher.to_csv('data\\\\team_pitcher.csv',index=False)\n",
    "team_batter.to_csv('data\\\\team_batter.csv',index=False)"
   ]
  },
  {
   "cell_type": "markdown",
   "metadata": {},
   "source": [
    "# 4. Null값 확인\n",
    "- null값은 없어 보인다"
   ]
  },
  {
   "cell_type": "code",
   "execution_count": 43,
   "metadata": {},
   "outputs": [],
   "source": [
    "import warnings\n",
    "warnings.filterwarnings('ignore')"
   ]
  },
  {
   "cell_type": "code",
   "execution_count": 44,
   "metadata": {},
   "outputs": [
    {
     "name": "stdout",
     "output_type": "stream",
     "text": [
      "(3200, 4)\n",
      "GDAY_DS      0\n",
      "VISIT_KEY    0\n",
      "HOME_KEY     0\n",
      "STADIUM      0\n",
      "dtype: int64\n",
      "0    3200\n",
      "dtype: int64\n"
     ]
    }
   ],
   "source": [
    "print(game.shape)\n",
    "print(game.isna().sum())\n",
    "print(np.sum(game==\"?\", axis=1).value_counts())"
   ]
  },
  {
   "cell_type": "code",
   "execution_count": 45,
   "metadata": {},
   "outputs": [
    {
     "name": "stdout",
     "output_type": "stream",
     "text": [
      "(3271, 4)\n",
      "GYEAR     0\n",
      "PCODE     0\n",
      "T_ID      0\n",
      "AGE_VA    0\n",
      "dtype: int64\n",
      "0    3271\n",
      "dtype: int64\n"
     ]
    }
   ],
   "source": [
    "print(players.shape)\n",
    "print(players.isna().sum())\n",
    "print(np.sum(players==\"?\", axis=1).value_counts())"
   ]
  },
  {
   "cell_type": "code",
   "execution_count": 46,
   "metadata": {},
   "outputs": [
    {
     "name": "stdout",
     "output_type": "stream",
     "text": [
      "(10, 2)\n",
      "T_ID    0\n",
      "T_NM    0\n",
      "dtype: int64\n",
      "0    10\n",
      "dtype: int64\n"
     ]
    }
   ],
   "source": [
    "print(team.shape)\n",
    "print(team.isna().sum())\n",
    "print(np.sum(team==\"?\", axis=1).value_counts())"
   ]
  },
  {
   "cell_type": "code",
   "execution_count": 47,
   "metadata": {},
   "outputs": [
    {
     "name": "stdout",
     "output_type": "stream",
     "text": [
      "(81102, 9)\n",
      "TB_SC       0\n",
      "PA-AB       0\n",
      "AB          0\n",
      "RUN         0\n",
      "HIT         0\n",
      "SH+SF       0\n",
      "KK          0\n",
      "AVG         0\n",
      "SB_trial    0\n",
      "dtype: int64\n",
      "0    81102\n",
      "dtype: int64\n"
     ]
    }
   ],
   "source": [
    "print(private_batter.shape)\n",
    "print(private_batter.isna().sum())\n",
    "print(np.sum(private_batter==\"?\", axis=1).value_counts())"
   ]
  },
  {
   "cell_type": "code",
   "execution_count": 48,
   "metadata": {},
   "outputs": [
    {
     "name": "stdout",
     "output_type": "stream",
     "text": [
      "(27804, 14)\n",
      "TB_SC    0\n",
      "INN2     0\n",
      "BF       0\n",
      "PA-AB    0\n",
      "AB       0\n",
      "HIT      0\n",
      "H2       0\n",
      "H3       0\n",
      "HR       0\n",
      "SB_SR    0\n",
      "KK       0\n",
      "WP       0\n",
      "ER       0\n",
      "ERA      0\n",
      "dtype: int64\n",
      "0    27804\n",
      "dtype: int64\n"
     ]
    }
   ],
   "source": [
    "print(private_pitcher.shape)\n",
    "print(private_pitcher.isna().sum())\n",
    "print(np.sum(private_pitcher==\"?\", axis=1).value_counts())"
   ]
  },
  {
   "cell_type": "code",
   "execution_count": 49,
   "metadata": {},
   "outputs": [
    {
     "name": "stdout",
     "output_type": "stream",
     "text": [
      "(6400, 9)\n",
      "TB_SC       0\n",
      "PA-AB       0\n",
      "AB          0\n",
      "RUN         0\n",
      "HIT         0\n",
      "SH+SF       0\n",
      "KK          0\n",
      "AVG         0\n",
      "SB_trial    0\n",
      "dtype: int64\n",
      "0    6400\n",
      "dtype: int64\n"
     ]
    }
   ],
   "source": [
    "print(team_batter.shape)\n",
    "print(team_batter.isna().sum())\n",
    "print(np.sum(team_batter==\"?\", axis=1).value_counts())"
   ]
  },
  {
   "cell_type": "code",
   "execution_count": 50,
   "metadata": {},
   "outputs": [
    {
     "name": "stdout",
     "output_type": "stream",
     "text": [
      "(6400, 14)\n",
      "TB_SC    0\n",
      "INN2     0\n",
      "BF       0\n",
      "PA-AB    0\n",
      "AB       0\n",
      "HIT      0\n",
      "H2       0\n",
      "H3       0\n",
      "HR       0\n",
      "SB_SR    0\n",
      "KK       0\n",
      "WP       0\n",
      "ER       0\n",
      "ERA      0\n",
      "dtype: int64\n",
      "0    6400\n",
      "dtype: int64\n"
     ]
    }
   ],
   "source": [
    "print(team_pitcher.shape)\n",
    "print(team_pitcher.isna().sum())\n",
    "print(np.sum(team_pitcher==\"?\", axis=1).value_counts())"
   ]
  },
  {
   "cell_type": "markdown",
   "metadata": {},
   "source": [
    "# 5. X 변수 간 correlation 확인\n",
    "\n",
    "- private_pitcher에서 높은 상관관계를 보이는 변수들이 있어 조정이 필요하다\n",
    "- private_batter, team_pitcher, team_batter 데이터 x변수는 그대로 사용 가능할듯.."
   ]
  },
  {
   "cell_type": "code",
   "execution_count": 51,
   "metadata": {},
   "outputs": [
    {
     "data": {
      "text/plain": [
       "<matplotlib.axes._subplots.AxesSubplot at 0x286d66b5970>"
      ]
     },
     "execution_count": 51,
     "metadata": {},
     "output_type": "execute_result"
    },
    {
     "data": {
      "image/png": "[encoded data removed]",
      "text/plain": [
       "<Figure size 720x720 with 2 Axes>"
      ]
     },
     "metadata": {
      "needs_background": "light"
     },
     "output_type": "display_data"
    }
   ],
   "source": [
    "temp = private_pitcher.drop(['ER','ERA'],axis=1) #종속변수 drop\n",
    "figure,ax1 = plt.subplots()\n",
    "figure.set_size_inches(10,10)\n",
    "\n",
    "sns.heatmap(temp.corr(),annot=True,cmap='YlGnBu')"
   ]
  },
  {
   "cell_type": "code",
   "execution_count": 52,
   "metadata": {},
   "outputs": [
    {
     "data": {
      "text/plain": [
       "<matplotlib.axes._subplots.AxesSubplot at 0x286d7b3d040>"
      ]
     },
     "execution_count": 52,
     "metadata": {},
     "output_type": "execute_result"
    },
    {
     "data": {
      "image/png": "[encoded data removed]",
      "text/plain": [
       "<Figure size 720x720 with 2 Axes>"
      ]
     },
     "metadata": {
      "needs_background": "light"
     },
     "output_type": "display_data"
    }
   ],
   "source": [
    "temp = private_batter.drop(['HIT','AVG'],axis=1) #종속변수 drop\n",
    "figure,ax1 = plt.subplots()\n",
    "figure.set_size_inches(10,10)\n",
    "\n",
    "sns.heatmap(temp.corr(),annot=True,cmap='YlGnBu')"
   ]
  },
  {
   "cell_type": "code",
   "execution_count": 53,
   "metadata": {},
   "outputs": [
    {
     "data": {
      "text/plain": [
       "<matplotlib.axes._subplots.AxesSubplot at 0x286d7afd8e0>"
      ]
     },
     "execution_count": 53,
     "metadata": {},
     "output_type": "execute_result"
    },
    {
     "data": {
      "image/png": "[encoded data removed]",
      "text/plain": [
       "<Figure size 720x720 with 2 Axes>"
      ]
     },
     "metadata": {
      "needs_background": "light"
     },
     "output_type": "display_data"
    }
   ],
   "source": [
    "temp = team_pitcher.drop(['ER','ERA'],axis=1) #종속변수 drop\n",
    "figure,ax1 = plt.subplots()\n",
    "figure.set_size_inches(10,10)\n",
    "\n",
    "sns.heatmap(temp.corr(),annot=True,cmap='YlGnBu')"
   ]
  },
  {
   "cell_type": "code",
   "execution_count": 54,
   "metadata": {},
   "outputs": [
    {
     "data": {
      "text/plain": [
       "<matplotlib.axes._subplots.AxesSubplot at 0x286d76ed5b0>"
      ]
     },
     "execution_count": 54,
     "metadata": {},
     "output_type": "execute_result"
    },
    {
     "data": {
      "image/png": "[encoded data removed]",
      "text/plain": [
       "<Figure size 720x720 with 2 Axes>"
      ]
     },
     "metadata": {
      "needs_background": "light"
     },
     "output_type": "display_data"
    }
   ],
   "source": [
    "temp = team_batter.drop(['HIT','AVG'],axis=1) #종속변수 drop\n",
    "figure,ax1 = plt.subplots()\n",
    "figure.set_size_inches(10,10)\n",
    "\n",
    "sns.heatmap(temp.corr(),annot=True,cmap='YlGnBu')"
   ]
  }
 ],
 "metadata": {
  "kernelspec": {
   "display_name": "Python 3",
   "language": "python",
   "name": "python3"
  },
  "language_info": {
   "codemirror_mode": {
    "name": "ipython",
    "version": 3
   },
   "file_extension": ".py",
   "mimetype": "text/x-python",
   "name": "python",
   "nbconvert_exporter": "python",
   "pygments_lexer": "ipython3",
   "version": "3.8.3"
  }
 },
 "nbformat": 4,
 "nbformat_minor": 4
}
