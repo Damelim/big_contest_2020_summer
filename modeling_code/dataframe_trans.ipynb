{
 "cells": [
  {
   "cell_type": "code",
   "execution_count": 1,
   "metadata": {},
   "outputs": [],
   "source": [
    "import numpy as np\n",
    "import pandas as pd\n",
    "import datetime"
   ]
  },
  {
   "cell_type": "markdown",
   "metadata": {},
   "source": [
    "### 기존 데이터프레임"
   ]
  },
  {
   "cell_type": "code",
   "execution_count": 2,
   "metadata": {},
   "outputs": [],
   "source": [
    "batter = pd.read_csv('private_batter.csv')\n",
    "batter = batter.sort_values(by=['P_ID','GDAY_DS'])\n",
    "batter['GDAY_DS'] = pd.to_datetime(batter['GDAY_DS'],format='%Y-%m-%d')"
   ]
  },
  {
   "cell_type": "code",
   "execution_count": 3,
   "metadata": {},
   "outputs": [],
   "source": [
    "pitcher = pd.read_csv('private_pitcher.csv')\n",
    "pitcher = pitcher.sort_values(by=['P_ID','GDAY_DS'])\n",
    "pitcher['GDAY_DS'] = pd.to_datetime(pitcher['GDAY_DS'],format='%Y-%m-%d')"
   ]
  },
  {
   "cell_type": "markdown",
   "metadata": {},
   "source": [
    "### 타자 데이터프레임 변형"
   ]
  },
  {
   "cell_type": "markdown",
   "metadata": {},
   "source": [
    "- train 데이터"
   ]
  },
  {
   "cell_type": "code",
   "execution_count": 4,
   "metadata": {},
   "outputs": [],
   "source": [
    "df=pd.DataFrame()\n",
    "for i in batter.P_ID.unique():\n",
    "    temp = batter[batter['P_ID']==i].drop('AVG',axis=1)\n",
    "    temp = temp.reset_index(drop='index')\n",
    "    future_y = temp[['AB','HIT']]\n",
    "    x = temp.drop(['AB','HIT'],axis=1)\n",
    "    x = x.shift(periods=1,axis=0)\n",
    "    new = pd.concat([x,future_y],axis=1)\n",
    "    new = new.drop(0)\n",
    "    df = pd.concat([df,new])"
   ]
  },
  {
   "cell_type": "code",
   "execution_count": 5,
   "metadata": {},
   "outputs": [],
   "source": [
    "df = df.reset_index(drop='index')"
   ]
  },
  {
   "cell_type": "code",
   "execution_count": 6,
   "metadata": {},
   "outputs": [],
   "source": [
    "df.to_csv('new_dataframe/batter_train.csv',index=False)"
   ]
  },
  {
   "cell_type": "markdown",
   "metadata": {},
   "source": [
    "- test x"
   ]
  },
  {
   "cell_type": "code",
   "execution_count": 7,
   "metadata": {},
   "outputs": [],
   "source": [
    "final_x = pd.DataFrame()\n",
    "for i in batter.P_ID.unique():\n",
    "    temp = batter[batter['P_ID']==i].drop(['AVG','AB','HIT'],axis=1).tail(1)\n",
    "    final_x = pd.concat([final_x,temp])"
   ]
  },
  {
   "cell_type": "code",
   "execution_count": 8,
   "metadata": {},
   "outputs": [],
   "source": [
    "final_x = final_x[final_x['GDAY_DS'].dt.year>=2020]\n",
    "df = pd.concat([pd.get_dummies(df['TB_SC']),df],axis=1)\n",
    "final_x = pd.concat([pd.get_dummies(final_x['TB_SC']),final_x],axis=1)"
   ]
  },
  {
   "cell_type": "code",
   "execution_count": 9,
   "metadata": {},
   "outputs": [],
   "source": [
    "final_x.to_csv('new_dataframe/batter_test.csv',index=False)"
   ]
  },
  {
   "cell_type": "markdown",
   "metadata": {},
   "source": [
    "### 투수 데이터프레임 변형"
   ]
  },
  {
   "cell_type": "markdown",
   "metadata": {},
   "source": [
    "- train 데이터"
   ]
  },
  {
   "cell_type": "code",
   "execution_count": 10,
   "metadata": {},
   "outputs": [],
   "source": [
    "df=pd.DataFrame()\n",
    "for i in pitcher.P_ID.unique():\n",
    "    temp = pitcher[pitcher['P_ID']==i].drop('ERA',axis=1)\n",
    "    temp = temp.reset_index(drop='index')\n",
    "    future_y = temp[['INN2','ER']]\n",
    "    x = temp.drop(['INN2','ER'],axis=1)\n",
    "    x = x.shift(periods=1,axis=0)\n",
    "    new = pd.concat([x,future_y],axis=1)\n",
    "    new = new.drop(0)\n",
    "    df = pd.concat([df,new])"
   ]
  },
  {
   "cell_type": "code",
   "execution_count": 11,
   "metadata": {},
   "outputs": [],
   "source": [
    "df = df.reset_index(drop='index')"
   ]
  },
  {
   "cell_type": "code",
   "execution_count": 12,
   "metadata": {},
   "outputs": [],
   "source": [
    "df.to_csv('new_dataframe/pitcher_train.csv',index=False)"
   ]
  },
  {
   "cell_type": "markdown",
   "metadata": {},
   "source": [
    "- test x "
   ]
  },
  {
   "cell_type": "code",
   "execution_count": 13,
   "metadata": {},
   "outputs": [],
   "source": [
    "final_x = pd.DataFrame()\n",
    "for i in pitcher.P_ID.unique():\n",
    "    temp = pitcher[pitcher['P_ID']==i].drop(['INN2','ER','ERA'],axis=1).tail(1)\n",
    "    final_x = pd.concat([final_x,temp])"
   ]
  },
  {
   "cell_type": "code",
   "execution_count": 14,
   "metadata": {},
   "outputs": [],
   "source": [
    "final_x = final_x[final_x['GDAY_DS'].dt.year>=2020]\n",
    "df = pd.concat([pd.get_dummies(df['TB_SC']),df],axis=1)\n",
    "final_x = pd.concat([pd.get_dummies(final_x['TB_SC']),final_x],axis=1)"
   ]
  },
  {
   "cell_type": "code",
   "execution_count": 15,
   "metadata": {},
   "outputs": [],
   "source": [
    "final_x.to_csv('new_dataframe/pitcher_test.csv',index=False)"
   ]
  }
 ],
 "metadata": {
  "kernelspec": {
   "display_name": "Python 3",
   "language": "python",
   "name": "python3"
  },
  "language_info": {
   "codemirror_mode": {
    "name": "ipython",
    "version": 3
   },
   "file_extension": ".py",
   "mimetype": "text/x-python",
   "name": "python",
   "nbconvert_exporter": "python",
   "pygments_lexer": "ipython3",
   "version": "3.8.3"
  }
 },
 "nbformat": 4,
 "nbformat_minor": 4
}
