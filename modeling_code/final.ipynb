{
 "cells": [
  {
   "cell_type": "code",
   "execution_count": 1,
   "metadata": {},
   "outputs": [],
   "source": [
    "import numpy as np\n",
    "import pandas as pd"
   ]
  },
  {
   "cell_type": "code",
   "execution_count": 2,
   "metadata": {},
   "outputs": [],
   "source": [
    "private_pitcher = pd.read_csv('private_pitcher_report_xgb.csv')\n",
    "private_batter = pd.read_csv('private_batter_report_rf.csv')"
   ]
  },
  {
   "cell_type": "code",
   "execution_count": 3,
   "metadata": {},
   "outputs": [
    {
     "data": {
      "text/html": [
       "<div>\n",
       "<style scoped>\n",
       "    .dataframe tbody tr th:only-of-type {\n",
       "        vertical-align: middle;\n",
       "    }\n",
       "\n",
       "    .dataframe tbody tr th {\n",
       "        vertical-align: top;\n",
       "    }\n",
       "\n",
       "    .dataframe thead th {\n",
       "        text-align: right;\n",
       "    }\n",
       "</style>\n",
       "<table border=\"1\" class=\"dataframe\">\n",
       "  <thead>\n",
       "    <tr style=\"text-align: right;\">\n",
       "      <th></th>\n",
       "      <th>Unnamed: 0</th>\n",
       "      <th>T_ID</th>\n",
       "      <th>P_ID</th>\n",
       "      <th>TB_SC</th>\n",
       "      <th>INN2</th>\n",
       "      <th>PA-AB</th>\n",
       "      <th>H1</th>\n",
       "      <th>H2</th>\n",
       "      <th>H3</th>\n",
       "      <th>HR</th>\n",
       "      <th>SB_SR</th>\n",
       "      <th>WP</th>\n",
       "      <th>BABIP</th>\n",
       "      <th>KK9</th>\n",
       "      <th>BB9</th>\n",
       "      <th>ER</th>\n",
       "    </tr>\n",
       "  </thead>\n",
       "  <tbody>\n",
       "    <tr>\n",
       "      <th>0</th>\n",
       "      <td>0</td>\n",
       "      <td>OB</td>\n",
       "      <td>77263</td>\n",
       "      <td>B</td>\n",
       "      <td>2.77</td>\n",
       "      <td>0.72</td>\n",
       "      <td>0.81</td>\n",
       "      <td>0.21</td>\n",
       "      <td>0.08</td>\n",
       "      <td>0.01</td>\n",
       "      <td>0.01</td>\n",
       "      <td>0.03</td>\n",
       "      <td>0.37</td>\n",
       "      <td>8.28</td>\n",
       "      <td>10.23</td>\n",
       "      <td>0.31</td>\n",
       "    </tr>\n",
       "    <tr>\n",
       "      <th>1</th>\n",
       "      <td>1</td>\n",
       "      <td>NC</td>\n",
       "      <td>63959</td>\n",
       "      <td>B</td>\n",
       "      <td>2.09</td>\n",
       "      <td>0.43</td>\n",
       "      <td>0.45</td>\n",
       "      <td>0.05</td>\n",
       "      <td>0.00</td>\n",
       "      <td>0.01</td>\n",
       "      <td>0.00</td>\n",
       "      <td>0.00</td>\n",
       "      <td>0.26</td>\n",
       "      <td>6.03</td>\n",
       "      <td>7.02</td>\n",
       "      <td>-0.05</td>\n",
       "    </tr>\n",
       "    <tr>\n",
       "      <th>2</th>\n",
       "      <td>2</td>\n",
       "      <td>NC</td>\n",
       "      <td>61295</td>\n",
       "      <td>T</td>\n",
       "      <td>3.26</td>\n",
       "      <td>0.52</td>\n",
       "      <td>0.64</td>\n",
       "      <td>0.08</td>\n",
       "      <td>0.00</td>\n",
       "      <td>0.26</td>\n",
       "      <td>0.05</td>\n",
       "      <td>0.00</td>\n",
       "      <td>0.20</td>\n",
       "      <td>6.17</td>\n",
       "      <td>3.99</td>\n",
       "      <td>0.01</td>\n",
       "    </tr>\n",
       "    <tr>\n",
       "      <th>3</th>\n",
       "      <td>3</td>\n",
       "      <td>SK</td>\n",
       "      <td>60841</td>\n",
       "      <td>T</td>\n",
       "      <td>15.77</td>\n",
       "      <td>3.26</td>\n",
       "      <td>4.08</td>\n",
       "      <td>0.74</td>\n",
       "      <td>0.11</td>\n",
       "      <td>0.43</td>\n",
       "      <td>0.63</td>\n",
       "      <td>0.08</td>\n",
       "      <td>0.33</td>\n",
       "      <td>8.07</td>\n",
       "      <td>6.16</td>\n",
       "      <td>1.23</td>\n",
       "    </tr>\n",
       "    <tr>\n",
       "      <th>4</th>\n",
       "      <td>4</td>\n",
       "      <td>LT</td>\n",
       "      <td>64021</td>\n",
       "      <td>T</td>\n",
       "      <td>14.93</td>\n",
       "      <td>2.50</td>\n",
       "      <td>3.96</td>\n",
       "      <td>0.91</td>\n",
       "      <td>0.05</td>\n",
       "      <td>0.69</td>\n",
       "      <td>0.36</td>\n",
       "      <td>0.66</td>\n",
       "      <td>0.31</td>\n",
       "      <td>6.81</td>\n",
       "      <td>4.59</td>\n",
       "      <td>3.36</td>\n",
       "    </tr>\n",
       "  </tbody>\n",
       "</table>\n",
       "</div>"
      ],
      "text/plain": [
       "   Unnamed: 0 T_ID   P_ID TB_SC   INN2  PA-AB    H1    H2    H3    HR  SB_SR  \\\n",
       "0           0   OB  77263     B   2.77   0.72  0.81  0.21  0.08  0.01   0.01   \n",
       "1           1   NC  63959     B   2.09   0.43  0.45  0.05  0.00  0.01   0.00   \n",
       "2           2   NC  61295     T   3.26   0.52  0.64  0.08  0.00  0.26   0.05   \n",
       "3           3   SK  60841     T  15.77   3.26  4.08  0.74  0.11  0.43   0.63   \n",
       "4           4   LT  64021     T  14.93   2.50  3.96  0.91  0.05  0.69   0.36   \n",
       "\n",
       "     WP  BABIP   KK9    BB9    ER  \n",
       "0  0.03   0.37  8.28  10.23  0.31  \n",
       "1  0.00   0.26  6.03   7.02 -0.05  \n",
       "2  0.00   0.20  6.17   3.99  0.01  \n",
       "3  0.08   0.33  8.07   6.16  1.23  \n",
       "4  0.66   0.31  6.81   4.59  3.36  "
      ]
     },
     "execution_count": 3,
     "metadata": {},
     "output_type": "execute_result"
    }
   ],
   "source": [
    "private_pitcher.head()"
   ]
  },
  {
   "cell_type": "code",
   "execution_count": 4,
   "metadata": {},
   "outputs": [
    {
     "data": {
      "text/html": [
       "<div>\n",
       "<style scoped>\n",
       "    .dataframe tbody tr th:only-of-type {\n",
       "        vertical-align: middle;\n",
       "    }\n",
       "\n",
       "    .dataframe tbody tr th {\n",
       "        vertical-align: top;\n",
       "    }\n",
       "\n",
       "    .dataframe thead th {\n",
       "        text-align: right;\n",
       "    }\n",
       "</style>\n",
       "<table border=\"1\" class=\"dataframe\">\n",
       "  <thead>\n",
       "    <tr style=\"text-align: right;\">\n",
       "      <th></th>\n",
       "      <th>Unnamed: 0</th>\n",
       "      <th>T_ID</th>\n",
       "      <th>P_ID</th>\n",
       "      <th>TB_SC</th>\n",
       "      <th>PA-AB</th>\n",
       "      <th>AB</th>\n",
       "      <th>RUN</th>\n",
       "      <th>RBI</th>\n",
       "      <th>SH+SF</th>\n",
       "      <th>KK</th>\n",
       "      <th>SB_trial</th>\n",
       "      <th>BABIP</th>\n",
       "      <th>HIT</th>\n",
       "    </tr>\n",
       "  </thead>\n",
       "  <tbody>\n",
       "    <tr>\n",
       "      <th>0</th>\n",
       "      <td>0</td>\n",
       "      <td>NC</td>\n",
       "      <td>62907</td>\n",
       "      <td>B</td>\n",
       "      <td>0.37</td>\n",
       "      <td>4.01</td>\n",
       "      <td>0.73</td>\n",
       "      <td>0.45</td>\n",
       "      <td>0.08</td>\n",
       "      <td>0.38</td>\n",
       "      <td>0.07</td>\n",
       "      <td>0.35</td>\n",
       "      <td>1.0</td>\n",
       "    </tr>\n",
       "    <tr>\n",
       "      <th>1</th>\n",
       "      <td>1</td>\n",
       "      <td>NC</td>\n",
       "      <td>62934</td>\n",
       "      <td>B</td>\n",
       "      <td>0.14</td>\n",
       "      <td>2.08</td>\n",
       "      <td>0.31</td>\n",
       "      <td>0.33</td>\n",
       "      <td>0.03</td>\n",
       "      <td>0.37</td>\n",
       "      <td>0.26</td>\n",
       "      <td>0.15</td>\n",
       "      <td>1.0</td>\n",
       "    </tr>\n",
       "    <tr>\n",
       "      <th>2</th>\n",
       "      <td>2</td>\n",
       "      <td>HT</td>\n",
       "      <td>64646</td>\n",
       "      <td>T</td>\n",
       "      <td>0.21</td>\n",
       "      <td>3.74</td>\n",
       "      <td>0.61</td>\n",
       "      <td>0.28</td>\n",
       "      <td>0.03</td>\n",
       "      <td>0.46</td>\n",
       "      <td>0.14</td>\n",
       "      <td>0.31</td>\n",
       "      <td>1.0</td>\n",
       "    </tr>\n",
       "    <tr>\n",
       "      <th>3</th>\n",
       "      <td>3</td>\n",
       "      <td>NC</td>\n",
       "      <td>78122</td>\n",
       "      <td>B</td>\n",
       "      <td>0.14</td>\n",
       "      <td>1.58</td>\n",
       "      <td>0.19</td>\n",
       "      <td>0.26</td>\n",
       "      <td>0.05</td>\n",
       "      <td>0.23</td>\n",
       "      <td>0.00</td>\n",
       "      <td>0.24</td>\n",
       "      <td>1.0</td>\n",
       "    </tr>\n",
       "    <tr>\n",
       "      <th>4</th>\n",
       "      <td>4</td>\n",
       "      <td>KT</td>\n",
       "      <td>64006</td>\n",
       "      <td>T</td>\n",
       "      <td>0.20</td>\n",
       "      <td>3.07</td>\n",
       "      <td>0.24</td>\n",
       "      <td>0.34</td>\n",
       "      <td>0.07</td>\n",
       "      <td>0.82</td>\n",
       "      <td>0.20</td>\n",
       "      <td>0.17</td>\n",
       "      <td>1.0</td>\n",
       "    </tr>\n",
       "  </tbody>\n",
       "</table>\n",
       "</div>"
      ],
      "text/plain": [
       "   Unnamed: 0 T_ID   P_ID TB_SC  PA-AB    AB   RUN   RBI  SH+SF    KK  \\\n",
       "0           0   NC  62907     B   0.37  4.01  0.73  0.45   0.08  0.38   \n",
       "1           1   NC  62934     B   0.14  2.08  0.31  0.33   0.03  0.37   \n",
       "2           2   HT  64646     T   0.21  3.74  0.61  0.28   0.03  0.46   \n",
       "3           3   NC  78122     B   0.14  1.58  0.19  0.26   0.05  0.23   \n",
       "4           4   KT  64006     T   0.20  3.07  0.24  0.34   0.07  0.82   \n",
       "\n",
       "   SB_trial  BABIP  HIT  \n",
       "0      0.07   0.35  1.0  \n",
       "1      0.26   0.15  1.0  \n",
       "2      0.14   0.31  1.0  \n",
       "3      0.00   0.24  1.0  \n",
       "4      0.20   0.17  1.0  "
      ]
     },
     "execution_count": 4,
     "metadata": {},
     "output_type": "execute_result"
    }
   ],
   "source": [
    "private_batter.head()"
   ]
  },
  {
   "cell_type": "markdown",
   "metadata": {},
   "source": [
    "## 타율(AVG)"
   ]
  },
  {
   "cell_type": "code",
   "execution_count": 5,
   "metadata": {
    "scrolled": true
   },
   "outputs": [
    {
     "data": {
      "text/plain": [
       "T_ID\n",
       "HH    18.00\n",
       "HT    10.98\n",
       "KT     9.00\n",
       "LG     9.03\n",
       "LT    12.98\n",
       "NC    14.00\n",
       "OB     6.00\n",
       "SK    10.00\n",
       "SS    18.00\n",
       "WO    14.00\n",
       "Name: HIT, dtype: float64"
      ]
     },
     "execution_count": 5,
     "metadata": {},
     "output_type": "execute_result"
    }
   ],
   "source": [
    "hit_by_team = private_batter['HIT'].groupby(private_batter['T_ID']).sum()\n",
    "\n",
    "hit_by_team"
   ]
  },
  {
   "cell_type": "code",
   "execution_count": 6,
   "metadata": {
    "scrolled": true
   },
   "outputs": [
    {
     "data": {
      "text/plain": [
       "T_ID\n",
       "HH    37.16\n",
       "HT    26.82\n",
       "KT    23.77\n",
       "LG    21.92\n",
       "LT    36.63\n",
       "NC    36.05\n",
       "OB    11.94\n",
       "SK    27.52\n",
       "SS    40.63\n",
       "WO    32.31\n",
       "Name: AB, dtype: float64"
      ]
     },
     "execution_count": 6,
     "metadata": {},
     "output_type": "execute_result"
    }
   ],
   "source": [
    "ab_by_team = private_batter['AB'].groupby(private_batter['T_ID']).sum()\n",
    "\n",
    "ab_by_team"
   ]
  },
  {
   "cell_type": "code",
   "execution_count": 7,
   "metadata": {
    "scrolled": true
   },
   "outputs": [
    {
     "data": {
      "text/plain": [
       "T_ID\n",
       "HH    0.484392\n",
       "HT    0.409396\n",
       "KT    0.378629\n",
       "LG    0.411953\n",
       "LT    0.354354\n",
       "NC    0.388350\n",
       "OB    0.502513\n",
       "SK    0.363372\n",
       "SS    0.443022\n",
       "WO    0.433302\n",
       "dtype: float64"
      ]
     },
     "execution_count": 7,
     "metadata": {},
     "output_type": "execute_result"
    }
   ],
   "source": [
    "avg_by_team = hit_by_team / ab_by_team\n",
    "\n",
    "avg_by_team"
   ]
  },
  {
   "cell_type": "markdown",
   "metadata": {},
   "source": [
    "## 방어율(ERA)"
   ]
  },
  {
   "cell_type": "code",
   "execution_count": 8,
   "metadata": {
    "scrolled": true
   },
   "outputs": [
    {
     "data": {
      "text/plain": [
       "T_ID\n",
       "HH    16.18\n",
       "HT    12.67\n",
       "KT    26.89\n",
       "LG     9.56\n",
       "LT    17.74\n",
       "NC    11.26\n",
       "OB     9.99\n",
       "SK    15.04\n",
       "SS    18.35\n",
       "WO    16.56\n",
       "Name: ER, dtype: float64"
      ]
     },
     "execution_count": 8,
     "metadata": {},
     "output_type": "execute_result"
    }
   ],
   "source": [
    "er_by_team = private_pitcher['ER'].groupby(private_pitcher['T_ID']).sum()\n",
    "\n",
    "er_by_team"
   ]
  },
  {
   "cell_type": "code",
   "execution_count": 9,
   "metadata": {},
   "outputs": [
    {
     "data": {
      "text/plain": [
       "T_ID\n",
       "HH    35.293333\n",
       "HT    38.790000\n",
       "KT    46.303333\n",
       "LG    33.503333\n",
       "LT    38.440000\n",
       "NC    32.926667\n",
       "OB    35.440000\n",
       "SK    40.913333\n",
       "SS    37.496667\n",
       "WO    47.540000\n",
       "Name: INN2, dtype: float64"
      ]
     },
     "execution_count": 9,
     "metadata": {},
     "output_type": "execute_result"
    }
   ],
   "source": [
    "inning_by_team = private_pitcher['INN2'].groupby(private_pitcher['T_ID']).sum() / 3\n",
    "\n",
    "inning_by_team"
   ]
  },
  {
   "cell_type": "code",
   "execution_count": 10,
   "metadata": {},
   "outputs": [
    {
     "data": {
      "text/plain": [
       "T_ID\n",
       "HH    4.125992\n",
       "HT    2.939675\n",
       "KT    5.226622\n",
       "LG    2.568103\n",
       "LT    4.153486\n",
       "NC    3.077749\n",
       "OB    2.536964\n",
       "SK    3.308457\n",
       "SS    4.404392\n",
       "WO    3.135044\n",
       "dtype: float64"
      ]
     },
     "execution_count": 10,
     "metadata": {},
     "output_type": "execute_result"
    }
   ],
   "source": [
    "era_by_team = er_by_team / inning_by_team * 9\n",
    "\n",
    "era_by_team"
   ]
  },
  {
   "cell_type": "markdown",
   "metadata": {},
   "source": [
    "## 승률(피타고리안)"
   ]
  },
  {
   "cell_type": "markdown",
   "metadata": {},
   "source": [
    "* 피타고리안 승률 = $\\frac {득점^2} {득점^2 + 실점^2}$<br>\n",
    "<br>\n",
    "득점 = RUN<br>\n",
    "실점 = R(제거했으니 ER로 대체)"
   ]
  },
  {
   "cell_type": "code",
   "execution_count": 11,
   "metadata": {},
   "outputs": [
    {
     "data": {
      "text/plain": [
       "T_ID\n",
       "HH    3.40\n",
       "HT    3.99\n",
       "KT    3.76\n",
       "LG    3.95\n",
       "LT    4.26\n",
       "NC    5.06\n",
       "OB    2.09\n",
       "SK    3.59\n",
       "SS    5.64\n",
       "WO    4.18\n",
       "Name: RUN, dtype: float64"
      ]
     },
     "execution_count": 11,
     "metadata": {},
     "output_type": "execute_result"
    }
   ],
   "source": [
    "run_by_team = private_batter['RUN'].groupby(private_batter['T_ID']).sum()\n",
    "\n",
    "run_by_team"
   ]
  },
  {
   "cell_type": "code",
   "execution_count": 12,
   "metadata": {},
   "outputs": [
    {
     "data": {
      "text/plain": [
       "T_ID\n",
       "HH    0.042290\n",
       "HT    0.090225\n",
       "KT    0.019177\n",
       "LG    0.145823\n",
       "LT    0.054521\n",
       "NC    0.168012\n",
       "OB    0.041933\n",
       "SK    0.053905\n",
       "SS    0.086314\n",
       "WO    0.059897\n",
       "dtype: float64"
      ]
     },
     "execution_count": 12,
     "metadata": {},
     "output_type": "execute_result"
    }
   ],
   "source": [
    "wr_by_team = (run_by_team ** 2) / ((run_by_team ** 2) + (er_by_team ** 2))\n",
    "\n",
    "wr_by_team"
   ]
  },
  {
   "cell_type": "markdown",
   "metadata": {},
   "source": [
    "## 팀별 타율, 방어율, 승률"
   ]
  },
  {
   "cell_type": "code",
   "execution_count": 13,
   "metadata": {},
   "outputs": [
    {
     "data": {
      "text/html": [
       "<div>\n",
       "<style scoped>\n",
       "    .dataframe tbody tr th:only-of-type {\n",
       "        vertical-align: middle;\n",
       "    }\n",
       "\n",
       "    .dataframe tbody tr th {\n",
       "        vertical-align: top;\n",
       "    }\n",
       "\n",
       "    .dataframe thead th {\n",
       "        text-align: right;\n",
       "    }\n",
       "</style>\n",
       "<table border=\"1\" class=\"dataframe\">\n",
       "  <thead>\n",
       "    <tr style=\"text-align: right;\">\n",
       "      <th></th>\n",
       "      <th>타율</th>\n",
       "      <th>방어율</th>\n",
       "      <th>승률</th>\n",
       "    </tr>\n",
       "    <tr>\n",
       "      <th>T_ID</th>\n",
       "      <th></th>\n",
       "      <th></th>\n",
       "      <th></th>\n",
       "    </tr>\n",
       "  </thead>\n",
       "  <tbody>\n",
       "    <tr>\n",
       "      <th>HH</th>\n",
       "      <td>0.484392</td>\n",
       "      <td>4.125992</td>\n",
       "      <td>0.042290</td>\n",
       "    </tr>\n",
       "    <tr>\n",
       "      <th>HT</th>\n",
       "      <td>0.409396</td>\n",
       "      <td>2.939675</td>\n",
       "      <td>0.090225</td>\n",
       "    </tr>\n",
       "    <tr>\n",
       "      <th>KT</th>\n",
       "      <td>0.378629</td>\n",
       "      <td>5.226622</td>\n",
       "      <td>0.019177</td>\n",
       "    </tr>\n",
       "    <tr>\n",
       "      <th>LG</th>\n",
       "      <td>0.411953</td>\n",
       "      <td>2.568103</td>\n",
       "      <td>0.145823</td>\n",
       "    </tr>\n",
       "    <tr>\n",
       "      <th>LT</th>\n",
       "      <td>0.354354</td>\n",
       "      <td>4.153486</td>\n",
       "      <td>0.054521</td>\n",
       "    </tr>\n",
       "    <tr>\n",
       "      <th>NC</th>\n",
       "      <td>0.388350</td>\n",
       "      <td>3.077749</td>\n",
       "      <td>0.168012</td>\n",
       "    </tr>\n",
       "    <tr>\n",
       "      <th>OB</th>\n",
       "      <td>0.502513</td>\n",
       "      <td>2.536964</td>\n",
       "      <td>0.041933</td>\n",
       "    </tr>\n",
       "    <tr>\n",
       "      <th>SK</th>\n",
       "      <td>0.363372</td>\n",
       "      <td>3.308457</td>\n",
       "      <td>0.053905</td>\n",
       "    </tr>\n",
       "    <tr>\n",
       "      <th>SS</th>\n",
       "      <td>0.443022</td>\n",
       "      <td>4.404392</td>\n",
       "      <td>0.086314</td>\n",
       "    </tr>\n",
       "    <tr>\n",
       "      <th>WO</th>\n",
       "      <td>0.433302</td>\n",
       "      <td>3.135044</td>\n",
       "      <td>0.059897</td>\n",
       "    </tr>\n",
       "  </tbody>\n",
       "</table>\n",
       "</div>"
      ],
      "text/plain": [
       "            타율       방어율        승률\n",
       "T_ID                              \n",
       "HH    0.484392  4.125992  0.042290\n",
       "HT    0.409396  2.939675  0.090225\n",
       "KT    0.378629  5.226622  0.019177\n",
       "LG    0.411953  2.568103  0.145823\n",
       "LT    0.354354  4.153486  0.054521\n",
       "NC    0.388350  3.077749  0.168012\n",
       "OB    0.502513  2.536964  0.041933\n",
       "SK    0.363372  3.308457  0.053905\n",
       "SS    0.443022  4.404392  0.086314\n",
       "WO    0.433302  3.135044  0.059897"
      ]
     },
     "execution_count": 13,
     "metadata": {},
     "output_type": "execute_result"
    }
   ],
   "source": [
    "team_data = pd.DataFrame({'타율': avg_by_team,\n",
    "                          '방어율': era_by_team,\n",
    "                          '승률': wr_by_team})\n",
    "\n",
    "team_data"
   ]
  },
  {
   "cell_type": "code",
   "execution_count": 14,
   "metadata": {},
   "outputs": [
    {
     "data": {
      "text/plain": [
       "0.7620978858490889"
      ]
     },
     "execution_count": 14,
     "metadata": {},
     "output_type": "execute_result"
    }
   ],
   "source": [
    "wr_by_team.sum()"
   ]
  }
 ],
 "metadata": {
  "kernelspec": {
   "display_name": "Python 3",
   "language": "python",
   "name": "python3"
  },
  "language_info": {
   "codemirror_mode": {
    "name": "ipython",
    "version": 3
   },
   "file_extension": ".py",
   "mimetype": "text/x-python",
   "name": "python",
   "nbconvert_exporter": "python",
   "pygments_lexer": "ipython3",
   "version": "3.7.1"
  }
 },
 "nbformat": 4,
 "nbformat_minor": 2
}
