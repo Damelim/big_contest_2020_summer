{
 "cells": [
  {
   "cell_type": "markdown",
   "metadata": {},
   "source": [
    "# 1st) test X 파일, train X 파일 (투/타) 불러오기"
   ]
  },
  {
   "cell_type": "code",
   "execution_count": 1,
   "metadata": {},
   "outputs": [],
   "source": [
    "import pandas as pd\n",
    "import numpy as np"
   ]
  },
  {
   "cell_type": "code",
   "execution_count": 2,
   "metadata": {},
   "outputs": [],
   "source": [
    "## train\n",
    "\n",
    "pitcher_train = pd.read_csv(\"pitcher_train.csv\")\n",
    "batter_train = pd.read_csv(\"batter_train.csv\")\n",
    "\n",
    "## test\n",
    "\n",
    "pitcher_test = pd.read_csv(\"pitcher_test.csv\", index_col  = 0)\n",
    "batter_test = pd.read_csv(\"batter_test.csv\", index_col  = 0)"
   ]
  },
  {
   "cell_type": "code",
   "execution_count": 3,
   "metadata": {
    "scrolled": true
   },
   "outputs": [
    {
     "name": "stdout",
     "output_type": "stream",
     "text": [
      "(27298, 21)\n",
      "(234, 20)\n",
      "(80395, 13)\n",
      "(299, 12)\n"
     ]
    }
   ],
   "source": [
    "print(pitcher_train.shape)\n",
    "print(pitcher_test.shape)\n",
    "print(batter_train.shape)\n",
    "print(batter_test.shape)"
   ]
  },
  {
   "cell_type": "code",
   "execution_count": 4,
   "metadata": {},
   "outputs": [],
   "source": [
    "batter_train=batter_train[[\"TB_SC\",\"PA-AB\",\"RUN\",\"RBI\",\"SH+SF\",\"KK\",\"SB_trial\",\"BABIP\",\"AB\",\"HIT\"]]\n",
    "batter_test=batter_test[[\"TB_SC\",\"PA-AB\",\"RUN\",\"RBI\",\"SH+SF\",\"KK\",\"SB_trial\",\"BABIP\"]]\n",
    "\n",
    "pitcher_train=pitcher_train[[\"TB_SC\",\"PA-AB\",\"H1\",\"H2\",\"H3\",\"HR\",\"SB_SR\",\"WP\",\"BABIP\",\"KK9\",\"BB9\",\"INN2\",\"ER\"]]\n",
    "pitcher_test=pitcher_test[[\"TB_SC\",\"PA-AB\",\"H1\",\"H2\",\"H3\",\"HR\",\"SB_SR\",\"WP\",\"BABIP\",\"KK9\",\"BB9\"]]"
   ]
  },
  {
   "cell_type": "code",
   "execution_count": 5,
   "metadata": {},
   "outputs": [
    {
     "name": "stdout",
     "output_type": "stream",
     "text": [
      "(27298, 13)\n",
      "(234, 11)\n",
      "(80395, 10)\n",
      "(299, 8)\n"
     ]
    }
   ],
   "source": [
    "print(pitcher_train.shape)\n",
    "print(pitcher_test.shape)\n",
    "\n",
    "print(batter_train.shape)\n",
    "print(batter_test.shape)"
   ]
  },
  {
   "cell_type": "markdown",
   "metadata": {},
   "source": [
    "# 2nd) 모델학습 (train and validation)"
   ]
  },
  {
   "cell_type": "code",
   "execution_count": 8,
   "metadata": {},
   "outputs": [],
   "source": [
    "import seaborn as sns\n",
    "import matplotlib.pyplot as plt\n",
    "from sklearn.model_selection import GridSearchCV, train_test_split\n",
    "from sklearn.ensemble import RandomForestRegressor\n",
    "from sklearn.metrics import mean_squared_error\n",
    "from xgboost import XGBRegressor\n",
    "import lightgbm\n",
    "from lightgbm import LGBMRegressor\n",
    "from math import sqrt"
   ]
  },
  {
   "cell_type": "markdown",
   "metadata": {},
   "source": [
    "# 2-1) Pitcher"
   ]
  },
  {
   "cell_type": "code",
   "execution_count": 39,
   "metadata": {
    "scrolled": true
   },
   "outputs": [
    {
     "data": {
      "text/plain": [
       "TB_SC     object\n",
       "INN2       int64\n",
       "PA-AB      int64\n",
       "H1         int64\n",
       "H2         int64\n",
       "H3         int64\n",
       "HR         int64\n",
       "SB_SR    float64\n",
       "WP         int64\n",
       "ER         int64\n",
       "BABIP    float64\n",
       "KK9      float64\n",
       "BB9      float64\n",
       "dtype: object"
      ]
     },
     "execution_count": 39,
     "metadata": {},
     "output_type": "execute_result"
    }
   ],
   "source": [
    "pitcher_train.dtypes"
   ]
  },
  {
   "cell_type": "code",
   "execution_count": 40,
   "metadata": {
    "scrolled": true
   },
   "outputs": [
    {
     "data": {
      "text/plain": [
       "TB_SC    category\n",
       "INN2        int64\n",
       "PA-AB       int64\n",
       "H1          int64\n",
       "H2          int64\n",
       "H3          int64\n",
       "HR          int64\n",
       "SB_SR     float64\n",
       "WP          int64\n",
       "ER          int64\n",
       "BABIP     float64\n",
       "KK9       float64\n",
       "BB9       float64\n",
       "dtype: object"
      ]
     },
     "execution_count": 40,
     "metadata": {},
     "output_type": "execute_result"
    }
   ],
   "source": [
    "cat_features = ['TB_SC']\n",
    "pitcher_train[cat_features] = pitcher_train[cat_features].astype('category')\n",
    "\n",
    "pitcher_train.dtypes"
   ]
  },
  {
   "cell_type": "code",
   "execution_count": 41,
   "metadata": {},
   "outputs": [
    {
     "data": {
      "text/plain": [
       "TB_SC    category\n",
       "INN2      float64\n",
       "PA-AB     float64\n",
       "H1        float64\n",
       "H2        float64\n",
       "H3        float64\n",
       "HR        float64\n",
       "SB_SR     float64\n",
       "WP        float64\n",
       "BABIP     float64\n",
       "KK9       float64\n",
       "BB9       float64\n",
       "dtype: object"
      ]
     },
     "execution_count": 41,
     "metadata": {},
     "output_type": "execute_result"
    }
   ],
   "source": [
    "pitcher_test[cat_features] = pitcher_test[cat_features].astype('category')\n",
    "\n",
    "pitcher_test.dtypes"
   ]
  },
  {
   "cell_type": "code",
   "execution_count": 42,
   "metadata": {},
   "outputs": [
    {
     "name": "stdout",
     "output_type": "stream",
     "text": [
      "(19462, 12)\n",
      "(8342, 12)\n",
      "(27804, 12)\n"
     ]
    }
   ],
   "source": [
    "X = pitcher_train.drop(columns = ['ER'])\n",
    "y = pitcher_train['ER']\n",
    "\n",
    "X_train, X_val, y_train, y_val = train_test_split(X, y, test_size = 0.3, shuffle = True, random_state = 2020)\n",
    "\n",
    "print(X_train.shape)\n",
    "print(X_val.shape)\n",
    "\n",
    "print(X.shape)"
   ]
  },
  {
   "cell_type": "code",
   "execution_count": 43,
   "metadata": {},
   "outputs": [],
   "source": [
    "X_train.columns = [\"\".join (c if c.isalnum() else \"_\" for c in str(x)) for x in X_train.columns]\n",
    "X_val.columns = [\"\".join (c if c.isalnum() else \"_\" for c in str(x)) for x in X_val.columns]"
   ]
  },
  {
   "cell_type": "markdown",
   "metadata": {},
   "source": [
    "##  LGBM"
   ]
  },
  {
   "cell_type": "code",
   "execution_count": 44,
   "metadata": {},
   "outputs": [
    {
     "name": "stdout",
     "output_type": "stream",
     "text": [
      "Fitting 5 folds for each of 180 candidates, totalling 900 fits\n"
     ]
    },
    {
     "name": "stderr",
     "output_type": "stream",
     "text": [
      "[Parallel(n_jobs=10)]: Using backend LokyBackend with 10 concurrent workers.\n",
      "[Parallel(n_jobs=10)]: Done  12 tasks      | elapsed:  1.4min\n",
      "[Parallel(n_jobs=10)]: Done 108 tasks      | elapsed: 10.6min\n",
      "[Parallel(n_jobs=10)]: Done 268 tasks      | elapsed: 25.6min\n",
      "[Parallel(n_jobs=10)]: Done 492 tasks      | elapsed: 41.7min\n",
      "[Parallel(n_jobs=10)]: Done 780 tasks      | elapsed: 66.1min\n",
      "[Parallel(n_jobs=10)]: Done 900 out of 900 | elapsed: 75.2min finished\n",
      "C:\\Users\\drlim\\Anaconda3\\lib\\site-packages\\lightgbm\\engine.py:118: UserWarning: Found `num_boost_round` in params. Will use it instead of argument\n",
      "  warnings.warn(\"Found `{}` in params. Will use it instead of argument\".format(alias))\n"
     ]
    },
    {
     "data": {
      "text/plain": [
       "GridSearchCV(estimator=LGBMRegressor(learning_rate=0.01, num_boost_round=2000),\n",
       "             n_jobs=10,\n",
       "             param_grid={'lambda_l1': [0, 1, 1.5], 'lambda_l2': [0, 1],\n",
       "                         'min_data_in_leaf': [30, 50, 100, 300, 400],\n",
       "                         'num_leaves': [30, 50, 70], 'reg_alpha': [0.1, 0.5]},\n",
       "             verbose=3)"
      ]
     },
     "execution_count": 44,
     "metadata": {},
     "output_type": "execute_result"
    }
   ],
   "source": [
    "params_grid = {\n",
    "    'num_leaves': [30, 50, 70],\n",
    "    'reg_alpha': [0.1, 0.5],\n",
    "    'min_data_in_leaf': [30, 50, 100, 300, 400],\n",
    "    'lambda_l1': [0, 1, 1.5],\n",
    "    'lambda_l2': [0, 1]\n",
    "    }\n",
    "lgb = LGBMRegressor(boosting_type='gbdt', num_boost_round=2000, learning_rate=0.01)\n",
    "lgb_grid = GridSearchCV(estimator=lgb,\n",
    "                        param_grid=params_grid,\n",
    "                        n_jobs=10,\n",
    "                        verbose=3)\n",
    "lgb_grid.fit(X_train,y_train)"
   ]
  },
  {
   "cell_type": "code",
   "execution_count": 45,
   "metadata": {},
   "outputs": [
    {
     "data": {
      "text/plain": [
       "{'lambda_l1': 1.5,\n",
       " 'lambda_l2': 1,\n",
       " 'min_data_in_leaf': 50,\n",
       " 'num_leaves': 30,\n",
       " 'reg_alpha': 0.1}"
      ]
     },
     "execution_count": 45,
     "metadata": {},
     "output_type": "execute_result"
    }
   ],
   "source": [
    "lgb_grid.best_params_"
   ]
  },
  {
   "cell_type": "code",
   "execution_count": 46,
   "metadata": {},
   "outputs": [
    {
     "data": {
      "text/plain": [
       "0.7589489433760348"
      ]
     },
     "execution_count": 46,
     "metadata": {},
     "output_type": "execute_result"
    }
   ],
   "source": [
    "y_pred1 = lgb_grid.predict(X_val)\n",
    "\n",
    "lgbm_rmse = sqrt(mean_squared_error(y_val, y_pred1))\n",
    "lgbm_rmse"
   ]
  },
  {
   "cell_type": "code",
   "execution_count": 47,
   "metadata": {},
   "outputs": [
    {
     "data": {
      "text/plain": [
       "0.5760034986515996"
      ]
     },
     "execution_count": 47,
     "metadata": {},
     "output_type": "execute_result"
    }
   ],
   "source": [
    "lgbm_mse = mean_squared_error(y_val, y_pred1)\n",
    "lgbm_mse"
   ]
  },
  {
   "cell_type": "markdown",
   "metadata": {},
   "source": [
    "### 최종 자책점 예측값들 (validation이 아니라 실제 test data에 적용)"
   ]
  },
  {
   "cell_type": "code",
   "execution_count": 48,
   "metadata": {
    "scrolled": true
   },
   "outputs": [
    {
     "data": {
      "text/plain": [
       "array([2.97033964, 2.28516695, 1.83828208, 3.47630781, 3.20620627,\n",
       "       4.34500465, 3.14069308, 2.83995093, 3.18397963, 3.16031964,\n",
       "       2.0830944 , 2.27165162, 1.92265601, 3.57168358, 3.12608565,\n",
       "       1.97003288, 2.27246152, 2.73627694, 2.945886  , 3.8175109 ,\n",
       "       3.89257083, 2.51523798, 2.20665095, 3.31335913, 2.0492375 ,\n",
       "       4.24431434, 2.60016577, 1.89354264, 4.09290561, 2.5665807 ,\n",
       "       2.71426515, 2.64268247, 2.12467214, 2.49022974, 2.77432247,\n",
       "       3.13092882, 2.73896009, 2.27710059, 4.05318192, 3.30404203,\n",
       "       3.84597682, 3.62264314, 1.98577665, 4.34901012, 2.50653493,\n",
       "       3.07284548, 3.9310438 , 2.36484378, 2.39075718, 3.14201098,\n",
       "       2.58977159, 2.91548425, 3.89633687, 2.3151603 , 3.36534135,\n",
       "       2.64304528, 2.98462085, 3.44958349, 4.01139799, 2.41177397,\n",
       "       2.02018096, 3.15895628, 2.02664425, 1.86847097, 3.56062782,\n",
       "       2.8931808 , 1.05232744, 2.19039855, 3.25197793, 3.78091407,\n",
       "       2.27698022, 2.47137557, 2.54348942, 2.92350071, 1.96303883,\n",
       "       2.64843891, 2.89695724, 2.28272898, 3.32920058, 2.37297906,\n",
       "       3.04201875, 3.34139544, 2.58331108, 1.95306094, 2.39469239,\n",
       "       2.3316296 , 2.71634531, 2.44078143, 2.57026788, 2.36357753,\n",
       "       2.70816213, 2.99216912, 2.83838857, 2.75710252, 3.19806026,\n",
       "       2.60691181, 2.53694551, 3.83515737, 2.12290444, 2.35105434,\n",
       "       2.59108033, 4.38938642, 2.35115662, 2.87603084, 2.06865358,\n",
       "       2.98964731, 4.24032867, 3.24076608, 2.9631008 , 2.46458961,\n",
       "       2.96578384, 3.58437397, 2.43532127, 3.47191345, 2.35400003,\n",
       "       3.10769909, 2.77213298, 3.21873186, 2.15890284, 3.63054883,\n",
       "       2.40900617, 3.29772344, 3.86341435, 2.4479971 , 2.69160188,\n",
       "       2.19097817, 3.61363589, 1.86363826, 3.15228256, 2.2378909 ,\n",
       "       2.48201715, 2.33837289, 2.97843031, 3.13414713, 3.14255605,\n",
       "       1.71469623, 2.09280384, 3.2846089 , 1.92160633, 2.17701169,\n",
       "       1.68844543, 3.09014906, 2.31993773, 4.13352737, 2.98391724,\n",
       "       3.27063152, 2.45474402, 3.36213991, 3.27015527, 3.32098562,\n",
       "       3.29576919, 2.3283636 , 2.92296379, 0.69418029, 0.65697745,\n",
       "       2.97947982, 2.14011237, 2.59410189, 4.9235457 , 2.96322533,\n",
       "       5.02748708, 1.46663875, 1.98868382, 4.46152289, 1.92622914,\n",
       "       0.82034061, 2.58320263, 2.59829766])"
      ]
     },
     "execution_count": 48,
     "metadata": {},
     "output_type": "execute_result"
    }
   ],
   "source": [
    "pitcher_predicted_lgbm = lgb_grid.predict(pitcher_test)\n",
    "pitcher_predicted_lgbm"
   ]
  },
  {
   "cell_type": "code",
   "execution_count": 49,
   "metadata": {},
   "outputs": [
    {
     "data": {
      "text/plain": [
       "BABIP    10746\n",
       "KK9       8613\n",
       "BB9       8205\n",
       "INN2      7230\n",
       "H1        6439\n",
       "PA_AB     4973\n",
       "H2        3995\n",
       "HR        2667\n",
       "TB_SC     2048\n",
       "SB_SR     1270\n",
       "H3        1027\n",
       "WP         787\n",
       "dtype: int32"
      ]
     },
     "execution_count": 49,
     "metadata": {},
     "output_type": "execute_result"
    }
   ],
   "source": [
    "import seaborn as sns\n",
    "import matplotlib.pyplot as plt\n",
    "\n",
    "lgb_feature_importance = lgb_grid.best_estimator_.feature_importances_\n",
    "lgb_feature_imp=pd.Series(lgb_feature_importance,index=X_train.columns).sort_values(ascending=False)\n",
    "lgb_feature_imp"
   ]
  },
  {
   "cell_type": "code",
   "execution_count": 50,
   "metadata": {},
   "outputs": [
    {
     "data": {
      "text/plain": [
       "<matplotlib.axes._subplots.AxesSubplot at 0x23bd7a6d780>"
      ]
     },
     "execution_count": 50,
     "metadata": {},
     "output_type": "execute_result"
    },
    {
     "data": {
      "image/png": "[encoded data removed]",
      "text/plain": [
       "<Figure size 864x720 with 1 Axes>"
      ]
     },
     "metadata": {
      "needs_background": "light"
     },
     "output_type": "display_data"
    }
   ],
   "source": [
    "plt.figure(figsize=(12,10))\n",
    "plt.title(\"Light GBM feature Importance For Pitchers\")\n",
    "sns.barplot(x=lgb_feature_imp[0:30], y=lgb_feature_imp.index[0:30])"
   ]
  },
  {
   "cell_type": "code",
   "execution_count": 51,
   "metadata": {
    "scrolled": true
   },
   "outputs": [
    {
     "data": {
      "text/html": [
       "<div>\n",
       "<style scoped>\n",
       "    .dataframe tbody tr th:only-of-type {\n",
       "        vertical-align: middle;\n",
       "    }\n",
       "\n",
       "    .dataframe tbody tr th {\n",
       "        vertical-align: top;\n",
       "    }\n",
       "\n",
       "    .dataframe thead th {\n",
       "        text-align: right;\n",
       "    }\n",
       "</style>\n",
       "<table border=\"1\" class=\"dataframe\">\n",
       "  <thead>\n",
       "    <tr style=\"text-align: right;\">\n",
       "      <th></th>\n",
       "      <th>TB_SC</th>\n",
       "      <th>INN2</th>\n",
       "      <th>PA-AB</th>\n",
       "      <th>H1</th>\n",
       "      <th>H2</th>\n",
       "      <th>H3</th>\n",
       "      <th>HR</th>\n",
       "      <th>SB_SR</th>\n",
       "      <th>WP</th>\n",
       "      <th>BABIP</th>\n",
       "      <th>KK9</th>\n",
       "      <th>BB9</th>\n",
       "    </tr>\n",
       "  </thead>\n",
       "  <tbody>\n",
       "    <tr>\n",
       "      <th>0</th>\n",
       "      <td>B</td>\n",
       "      <td>2.77</td>\n",
       "      <td>0.72</td>\n",
       "      <td>0.81</td>\n",
       "      <td>0.21</td>\n",
       "      <td>0.08</td>\n",
       "      <td>0.01</td>\n",
       "      <td>0.01</td>\n",
       "      <td>0.03</td>\n",
       "      <td>0.37</td>\n",
       "      <td>8.28</td>\n",
       "      <td>10.23</td>\n",
       "    </tr>\n",
       "    <tr>\n",
       "      <th>1</th>\n",
       "      <td>B</td>\n",
       "      <td>2.09</td>\n",
       "      <td>0.43</td>\n",
       "      <td>0.45</td>\n",
       "      <td>0.05</td>\n",
       "      <td>0.00</td>\n",
       "      <td>0.01</td>\n",
       "      <td>0.00</td>\n",
       "      <td>0.00</td>\n",
       "      <td>0.26</td>\n",
       "      <td>6.03</td>\n",
       "      <td>7.02</td>\n",
       "    </tr>\n",
       "    <tr>\n",
       "      <th>2</th>\n",
       "      <td>T</td>\n",
       "      <td>3.26</td>\n",
       "      <td>0.52</td>\n",
       "      <td>0.64</td>\n",
       "      <td>0.08</td>\n",
       "      <td>0.00</td>\n",
       "      <td>0.26</td>\n",
       "      <td>0.05</td>\n",
       "      <td>0.00</td>\n",
       "      <td>0.20</td>\n",
       "      <td>6.17</td>\n",
       "      <td>3.99</td>\n",
       "    </tr>\n",
       "    <tr>\n",
       "      <th>3</th>\n",
       "      <td>T</td>\n",
       "      <td>15.77</td>\n",
       "      <td>3.26</td>\n",
       "      <td>4.08</td>\n",
       "      <td>0.74</td>\n",
       "      <td>0.11</td>\n",
       "      <td>0.43</td>\n",
       "      <td>0.63</td>\n",
       "      <td>0.08</td>\n",
       "      <td>0.33</td>\n",
       "      <td>8.07</td>\n",
       "      <td>6.16</td>\n",
       "    </tr>\n",
       "    <tr>\n",
       "      <th>4</th>\n",
       "      <td>T</td>\n",
       "      <td>14.93</td>\n",
       "      <td>2.50</td>\n",
       "      <td>3.96</td>\n",
       "      <td>0.91</td>\n",
       "      <td>0.05</td>\n",
       "      <td>0.69</td>\n",
       "      <td>0.36</td>\n",
       "      <td>0.66</td>\n",
       "      <td>0.31</td>\n",
       "      <td>6.81</td>\n",
       "      <td>4.59</td>\n",
       "    </tr>\n",
       "  </tbody>\n",
       "</table>\n",
       "</div>"
      ],
      "text/plain": [
       "  TB_SC   INN2  PA-AB    H1    H2    H3    HR  SB_SR    WP  BABIP   KK9    BB9\n",
       "0     B   2.77   0.72  0.81  0.21  0.08  0.01   0.01  0.03   0.37  8.28  10.23\n",
       "1     B   2.09   0.43  0.45  0.05  0.00  0.01   0.00  0.00   0.26  6.03   7.02\n",
       "2     T   3.26   0.52  0.64  0.08  0.00  0.26   0.05  0.00   0.20  6.17   3.99\n",
       "3     T  15.77   3.26  4.08  0.74  0.11  0.43   0.63  0.08   0.33  8.07   6.16\n",
       "4     T  14.93   2.50  3.96  0.91  0.05  0.69   0.36  0.66   0.31  6.81   4.59"
      ]
     },
     "execution_count": 51,
     "metadata": {},
     "output_type": "execute_result"
    }
   ],
   "source": [
    "pitcher_test.head()"
   ]
  },
  {
   "cell_type": "markdown",
   "metadata": {},
   "source": [
    "# 기왕이면 위 데이터에다가 말고 선수 id, 팀id 모두 다 있는 곳에 예측 y값 넣는 게 좋겠다"
   ]
  },
  {
   "cell_type": "code",
   "execution_count": 52,
   "metadata": {
    "scrolled": true
   },
   "outputs": [
    {
     "data": {
      "text/html": [
       "<div>\n",
       "<style scoped>\n",
       "    .dataframe tbody tr th:only-of-type {\n",
       "        vertical-align: middle;\n",
       "    }\n",
       "\n",
       "    .dataframe tbody tr th {\n",
       "        vertical-align: top;\n",
       "    }\n",
       "\n",
       "    .dataframe thead th {\n",
       "        text-align: right;\n",
       "    }\n",
       "</style>\n",
       "<table border=\"1\" class=\"dataframe\">\n",
       "  <thead>\n",
       "    <tr style=\"text-align: right;\">\n",
       "      <th></th>\n",
       "      <th>T_ID</th>\n",
       "      <th>P_ID</th>\n",
       "      <th>TB_SC</th>\n",
       "      <th>INN2</th>\n",
       "      <th>PA-AB</th>\n",
       "      <th>H1</th>\n",
       "      <th>H2</th>\n",
       "      <th>H3</th>\n",
       "      <th>HR</th>\n",
       "      <th>SB_SR</th>\n",
       "      <th>WP</th>\n",
       "      <th>BABIP</th>\n",
       "      <th>KK9</th>\n",
       "      <th>BB9</th>\n",
       "    </tr>\n",
       "  </thead>\n",
       "  <tbody>\n",
       "    <tr>\n",
       "      <th>0</th>\n",
       "      <td>OB</td>\n",
       "      <td>77263</td>\n",
       "      <td>B</td>\n",
       "      <td>2.77</td>\n",
       "      <td>0.72</td>\n",
       "      <td>0.81</td>\n",
       "      <td>0.21</td>\n",
       "      <td>0.08</td>\n",
       "      <td>0.01</td>\n",
       "      <td>0.01</td>\n",
       "      <td>0.03</td>\n",
       "      <td>0.37</td>\n",
       "      <td>8.28</td>\n",
       "      <td>10.23</td>\n",
       "    </tr>\n",
       "    <tr>\n",
       "      <th>1</th>\n",
       "      <td>NC</td>\n",
       "      <td>63959</td>\n",
       "      <td>B</td>\n",
       "      <td>2.09</td>\n",
       "      <td>0.43</td>\n",
       "      <td>0.45</td>\n",
       "      <td>0.05</td>\n",
       "      <td>0.00</td>\n",
       "      <td>0.01</td>\n",
       "      <td>0.00</td>\n",
       "      <td>0.00</td>\n",
       "      <td>0.26</td>\n",
       "      <td>6.03</td>\n",
       "      <td>7.02</td>\n",
       "    </tr>\n",
       "    <tr>\n",
       "      <th>2</th>\n",
       "      <td>NC</td>\n",
       "      <td>61295</td>\n",
       "      <td>T</td>\n",
       "      <td>3.26</td>\n",
       "      <td>0.52</td>\n",
       "      <td>0.64</td>\n",
       "      <td>0.08</td>\n",
       "      <td>0.00</td>\n",
       "      <td>0.26</td>\n",
       "      <td>0.05</td>\n",
       "      <td>0.00</td>\n",
       "      <td>0.20</td>\n",
       "      <td>6.17</td>\n",
       "      <td>3.99</td>\n",
       "    </tr>\n",
       "    <tr>\n",
       "      <th>3</th>\n",
       "      <td>SK</td>\n",
       "      <td>60841</td>\n",
       "      <td>T</td>\n",
       "      <td>15.77</td>\n",
       "      <td>3.26</td>\n",
       "      <td>4.08</td>\n",
       "      <td>0.74</td>\n",
       "      <td>0.11</td>\n",
       "      <td>0.43</td>\n",
       "      <td>0.63</td>\n",
       "      <td>0.08</td>\n",
       "      <td>0.33</td>\n",
       "      <td>8.07</td>\n",
       "      <td>6.16</td>\n",
       "    </tr>\n",
       "    <tr>\n",
       "      <th>4</th>\n",
       "      <td>LT</td>\n",
       "      <td>64021</td>\n",
       "      <td>T</td>\n",
       "      <td>14.93</td>\n",
       "      <td>2.50</td>\n",
       "      <td>3.96</td>\n",
       "      <td>0.91</td>\n",
       "      <td>0.05</td>\n",
       "      <td>0.69</td>\n",
       "      <td>0.36</td>\n",
       "      <td>0.66</td>\n",
       "      <td>0.31</td>\n",
       "      <td>6.81</td>\n",
       "      <td>4.59</td>\n",
       "    </tr>\n",
       "  </tbody>\n",
       "</table>\n",
       "</div>"
      ],
      "text/plain": [
       "  T_ID   P_ID TB_SC   INN2  PA-AB    H1    H2    H3    HR  SB_SR    WP  BABIP  \\\n",
       "0   OB  77263     B   2.77   0.72  0.81  0.21  0.08  0.01   0.01  0.03   0.37   \n",
       "1   NC  63959     B   2.09   0.43  0.45  0.05  0.00  0.01   0.00  0.00   0.26   \n",
       "2   NC  61295     T   3.26   0.52  0.64  0.08  0.00  0.26   0.05  0.00   0.20   \n",
       "3   SK  60841     T  15.77   3.26  4.08  0.74  0.11  0.43   0.63  0.08   0.33   \n",
       "4   LT  64021     T  14.93   2.50  3.96  0.91  0.05  0.69   0.36  0.66   0.31   \n",
       "\n",
       "    KK9    BB9  \n",
       "0  8.28  10.23  \n",
       "1  6.03   7.02  \n",
       "2  6.17   3.99  \n",
       "3  8.07   6.16  \n",
       "4  6.81   4.59  "
      ]
     },
     "execution_count": 52,
     "metadata": {},
     "output_type": "execute_result"
    }
   ],
   "source": [
    "pitcher_test = pd.read_csv(\"C:/big_contest_2020_summer/modeling_code/test_data/private_pitcher_test.csv\", index_col  = 0)\n",
    "pitcher_test.head()"
   ]
  },
  {
   "cell_type": "code",
   "execution_count": 54,
   "metadata": {},
   "outputs": [],
   "source": [
    "pitcher_test['ER'] = np.round(pitcher_predicted_lgbm,2)"
   ]
  },
  {
   "cell_type": "code",
   "execution_count": 55,
   "metadata": {},
   "outputs": [
    {
     "data": {
      "text/html": [
       "<div>\n",
       "<style scoped>\n",
       "    .dataframe tbody tr th:only-of-type {\n",
       "        vertical-align: middle;\n",
       "    }\n",
       "\n",
       "    .dataframe tbody tr th {\n",
       "        vertical-align: top;\n",
       "    }\n",
       "\n",
       "    .dataframe thead th {\n",
       "        text-align: right;\n",
       "    }\n",
       "</style>\n",
       "<table border=\"1\" class=\"dataframe\">\n",
       "  <thead>\n",
       "    <tr style=\"text-align: right;\">\n",
       "      <th></th>\n",
       "      <th>T_ID</th>\n",
       "      <th>P_ID</th>\n",
       "      <th>TB_SC</th>\n",
       "      <th>INN2</th>\n",
       "      <th>PA-AB</th>\n",
       "      <th>H1</th>\n",
       "      <th>H2</th>\n",
       "      <th>H3</th>\n",
       "      <th>HR</th>\n",
       "      <th>SB_SR</th>\n",
       "      <th>WP</th>\n",
       "      <th>BABIP</th>\n",
       "      <th>KK9</th>\n",
       "      <th>BB9</th>\n",
       "      <th>ER</th>\n",
       "    </tr>\n",
       "  </thead>\n",
       "  <tbody>\n",
       "    <tr>\n",
       "      <th>0</th>\n",
       "      <td>OB</td>\n",
       "      <td>77263</td>\n",
       "      <td>B</td>\n",
       "      <td>2.77</td>\n",
       "      <td>0.72</td>\n",
       "      <td>0.81</td>\n",
       "      <td>0.21</td>\n",
       "      <td>0.08</td>\n",
       "      <td>0.01</td>\n",
       "      <td>0.01</td>\n",
       "      <td>0.03</td>\n",
       "      <td>0.37</td>\n",
       "      <td>8.28</td>\n",
       "      <td>10.23</td>\n",
       "      <td>2.97</td>\n",
       "    </tr>\n",
       "    <tr>\n",
       "      <th>1</th>\n",
       "      <td>NC</td>\n",
       "      <td>63959</td>\n",
       "      <td>B</td>\n",
       "      <td>2.09</td>\n",
       "      <td>0.43</td>\n",
       "      <td>0.45</td>\n",
       "      <td>0.05</td>\n",
       "      <td>0.00</td>\n",
       "      <td>0.01</td>\n",
       "      <td>0.00</td>\n",
       "      <td>0.00</td>\n",
       "      <td>0.26</td>\n",
       "      <td>6.03</td>\n",
       "      <td>7.02</td>\n",
       "      <td>2.29</td>\n",
       "    </tr>\n",
       "    <tr>\n",
       "      <th>2</th>\n",
       "      <td>NC</td>\n",
       "      <td>61295</td>\n",
       "      <td>T</td>\n",
       "      <td>3.26</td>\n",
       "      <td>0.52</td>\n",
       "      <td>0.64</td>\n",
       "      <td>0.08</td>\n",
       "      <td>0.00</td>\n",
       "      <td>0.26</td>\n",
       "      <td>0.05</td>\n",
       "      <td>0.00</td>\n",
       "      <td>0.20</td>\n",
       "      <td>6.17</td>\n",
       "      <td>3.99</td>\n",
       "      <td>1.84</td>\n",
       "    </tr>\n",
       "    <tr>\n",
       "      <th>3</th>\n",
       "      <td>SK</td>\n",
       "      <td>60841</td>\n",
       "      <td>T</td>\n",
       "      <td>15.77</td>\n",
       "      <td>3.26</td>\n",
       "      <td>4.08</td>\n",
       "      <td>0.74</td>\n",
       "      <td>0.11</td>\n",
       "      <td>0.43</td>\n",
       "      <td>0.63</td>\n",
       "      <td>0.08</td>\n",
       "      <td>0.33</td>\n",
       "      <td>8.07</td>\n",
       "      <td>6.16</td>\n",
       "      <td>3.48</td>\n",
       "    </tr>\n",
       "    <tr>\n",
       "      <th>4</th>\n",
       "      <td>LT</td>\n",
       "      <td>64021</td>\n",
       "      <td>T</td>\n",
       "      <td>14.93</td>\n",
       "      <td>2.50</td>\n",
       "      <td>3.96</td>\n",
       "      <td>0.91</td>\n",
       "      <td>0.05</td>\n",
       "      <td>0.69</td>\n",
       "      <td>0.36</td>\n",
       "      <td>0.66</td>\n",
       "      <td>0.31</td>\n",
       "      <td>6.81</td>\n",
       "      <td>4.59</td>\n",
       "      <td>3.21</td>\n",
       "    </tr>\n",
       "  </tbody>\n",
       "</table>\n",
       "</div>"
      ],
      "text/plain": [
       "  T_ID   P_ID TB_SC   INN2  PA-AB    H1    H2    H3    HR  SB_SR    WP  BABIP  \\\n",
       "0   OB  77263     B   2.77   0.72  0.81  0.21  0.08  0.01   0.01  0.03   0.37   \n",
       "1   NC  63959     B   2.09   0.43  0.45  0.05  0.00  0.01   0.00  0.00   0.26   \n",
       "2   NC  61295     T   3.26   0.52  0.64  0.08  0.00  0.26   0.05  0.00   0.20   \n",
       "3   SK  60841     T  15.77   3.26  4.08  0.74  0.11  0.43   0.63  0.08   0.33   \n",
       "4   LT  64021     T  14.93   2.50  3.96  0.91  0.05  0.69   0.36  0.66   0.31   \n",
       "\n",
       "    KK9    BB9    ER  \n",
       "0  8.28  10.23  2.97  \n",
       "1  6.03   7.02  2.29  \n",
       "2  6.17   3.99  1.84  \n",
       "3  8.07   6.16  3.48  \n",
       "4  6.81   4.59  3.21  "
      ]
     },
     "execution_count": 55,
     "metadata": {},
     "output_type": "execute_result"
    }
   ],
   "source": [
    "pitcher_test.head()"
   ]
  },
  {
   "cell_type": "markdown",
   "metadata": {},
   "source": [
    "# 물론, 정수로 반올림하며 음수값들은 0으로 하는 것이 필요하나 굳이 처음부터 raw data의 정보를 손실시키면 나중에 후회할 수 있다. 이거 모델 돌리는데 무지 오래 걸렸으니 일단은 이대로 저장하고 나중에 가공하도록 하자"
   ]
  },
  {
   "cell_type": "code",
   "execution_count": 72,
   "metadata": {},
   "outputs": [],
   "source": [
    "pitcher_test.to_csv(\"C:/big_contest_2020_summer/modeling_code/report_data/private_pitcher_report_lgbm.csv\")"
   ]
  },
  {
   "cell_type": "markdown",
   "metadata": {},
   "source": [
    "&nbsp;\n",
    "\n",
    "&nbsp;\n",
    "\n",
    "&nbsp;\n",
    "\n",
    "&nbsp;\n",
    "\n",
    "&nbsp;\n",
    "\n",
    "# 2-2) Batter\n",
    "\n",
    "#  LGBM\n"
   ]
  },
  {
   "cell_type": "code",
   "execution_count": 57,
   "metadata": {},
   "outputs": [],
   "source": [
    "import pandas as pd\n",
    "import numpy as np\n",
    "\n",
    "\n",
    "batter_train = pd.read_csv(\"C:/big_contest_2020_summer/eda_code/data/private_batter.csv\")\n",
    "batter_test = pd.read_csv(\"C:/big_contest_2020_summer/modeling_code/test_data/private_batter_test.csv\", index_col  = 0)\n",
    "\n",
    "batter_train.drop(columns = ['GDAY_DS','AVG'], inplace = True)\n",
    "\n",
    "batter_train.drop(columns = ['T_ID','P_ID'], inplace = True)\n",
    "batter_test.drop(columns = ['T_ID','P_ID'], inplace = True)\n",
    "\n",
    "\n",
    "import seaborn as sns\n",
    "import matplotlib.pyplot as plt\n",
    "from sklearn.model_selection import GridSearchCV, train_test_split\n",
    "from sklearn.metrics import mean_squared_error\n",
    "from lightgbm import LGBMRegressor\n",
    "from math import sqrt"
   ]
  },
  {
   "cell_type": "code",
   "execution_count": 58,
   "metadata": {},
   "outputs": [
    {
     "data": {
      "text/plain": [
       "Index(['TB_SC', 'PA-AB', 'AB', 'RUN', 'RBI', 'HIT', 'SH+SF', 'KK', 'SB_trial',\n",
       "       'BABIP'],\n",
       "      dtype='object')"
      ]
     },
     "execution_count": 58,
     "metadata": {},
     "output_type": "execute_result"
    }
   ],
   "source": [
    "batter_train.columns"
   ]
  },
  {
   "cell_type": "code",
   "execution_count": 59,
   "metadata": {},
   "outputs": [
    {
     "data": {
      "text/plain": [
       "Index(['TB_SC', 'PA-AB', 'AB', 'RUN', 'RBI', 'SH+SF', 'KK', 'SB_trial',\n",
       "       'BABIP'],\n",
       "      dtype='object')"
      ]
     },
     "execution_count": 59,
     "metadata": {},
     "output_type": "execute_result"
    }
   ],
   "source": [
    "batter_test.columns"
   ]
  },
  {
   "cell_type": "markdown",
   "metadata": {},
   "source": [
    "아까 봤던 것처럼 오케"
   ]
  },
  {
   "cell_type": "code",
   "execution_count": 9,
   "metadata": {},
   "outputs": [],
   "source": [
    "cat_features = ['TB_SC']\n",
    "batter_train[cat_features] = batter_train[cat_features].astype('category')\n",
    "batter_test[cat_features] = batter_test[cat_features].astype('category')"
   ]
  },
  {
   "cell_type": "code",
   "execution_count": 10,
   "metadata": {},
   "outputs": [
    {
     "data": {
      "text/html": [
       "<div>\n",
       "<style scoped>\n",
       "    .dataframe tbody tr th:only-of-type {\n",
       "        vertical-align: middle;\n",
       "    }\n",
       "\n",
       "    .dataframe tbody tr th {\n",
       "        vertical-align: top;\n",
       "    }\n",
       "\n",
       "    .dataframe thead th {\n",
       "        text-align: right;\n",
       "    }\n",
       "</style>\n",
       "<table border=\"1\" class=\"dataframe\">\n",
       "  <thead>\n",
       "    <tr style=\"text-align: right;\">\n",
       "      <th></th>\n",
       "      <th>TB_SC</th>\n",
       "      <th>PA-AB</th>\n",
       "      <th>RUN</th>\n",
       "      <th>RBI</th>\n",
       "      <th>SH+SF</th>\n",
       "      <th>KK</th>\n",
       "      <th>SB_trial</th>\n",
       "      <th>BABIP</th>\n",
       "      <th>AB</th>\n",
       "      <th>HIT</th>\n",
       "    </tr>\n",
       "  </thead>\n",
       "  <tbody>\n",
       "    <tr>\n",
       "      <th>0</th>\n",
       "      <td>B</td>\n",
       "      <td>0.0</td>\n",
       "      <td>0.0</td>\n",
       "      <td>0.0</td>\n",
       "      <td>0.0</td>\n",
       "      <td>0.0</td>\n",
       "      <td>0.0</td>\n",
       "      <td>0.666667</td>\n",
       "      <td>3</td>\n",
       "      <td>0</td>\n",
       "    </tr>\n",
       "    <tr>\n",
       "      <th>1</th>\n",
       "      <td>B</td>\n",
       "      <td>1.0</td>\n",
       "      <td>1.0</td>\n",
       "      <td>0.0</td>\n",
       "      <td>0.0</td>\n",
       "      <td>1.0</td>\n",
       "      <td>0.0</td>\n",
       "      <td>0.000000</td>\n",
       "      <td>0</td>\n",
       "      <td>0</td>\n",
       "    </tr>\n",
       "    <tr>\n",
       "      <th>2</th>\n",
       "      <td>T</td>\n",
       "      <td>0.0</td>\n",
       "      <td>0.0</td>\n",
       "      <td>0.0</td>\n",
       "      <td>0.0</td>\n",
       "      <td>0.0</td>\n",
       "      <td>0.0</td>\n",
       "      <td>0.000000</td>\n",
       "      <td>3</td>\n",
       "      <td>1</td>\n",
       "    </tr>\n",
       "  </tbody>\n",
       "</table>\n",
       "</div>"
      ],
      "text/plain": [
       "  TB_SC  PA-AB  RUN  RBI  SH+SF   KK  SB_trial     BABIP  AB  HIT\n",
       "0     B    0.0  0.0  0.0    0.0  0.0       0.0  0.666667   3    0\n",
       "1     B    1.0  1.0  0.0    0.0  1.0       0.0  0.000000   0    0\n",
       "2     T    0.0  0.0  0.0    0.0  0.0       0.0  0.000000   3    1"
      ]
     },
     "execution_count": 10,
     "metadata": {},
     "output_type": "execute_result"
    }
   ],
   "source": [
    "batter_train.head(3)"
   ]
  },
  {
   "cell_type": "markdown",
   "metadata": {},
   "source": [
    "## 타자-AB"
   ]
  },
  {
   "cell_type": "code",
   "execution_count": 11,
   "metadata": {},
   "outputs": [],
   "source": [
    "X = batter_train.drop(columns = ['AB','HIT'])\n",
    "y = batter_train['AB']\n",
    "\n",
    "X_train, X_val, y_train, y_val = train_test_split(X, y, test_size = 0.3, shuffle = True, random_state = 2020)\n",
    "\n",
    "X_train.columns = [\"\".join (c if c.isalnum() else \"_\" for c in str(x)) for x in X_train.columns]\n",
    "X_val.columns = [\"\".join (c if c.isalnum() else \"_\" for c in str(x)) for x in X_val.columns]"
   ]
  },
  {
   "cell_type": "code",
   "execution_count": 12,
   "metadata": {},
   "outputs": [],
   "source": [
    "params_grid = {\n",
    "    'num_leaves': [30, 50, 70],\n",
    "    'reg_alpha': [0.1, 0.5],\n",
    "    'min_data_in_leaf': [30, 50, 100, 300, 400],\n",
    "    'lambda_l1': [0, 1, 1.5],\n",
    "    'lambda_l2': [0, 1]\n",
    "    }"
   ]
  },
  {
   "cell_type": "code",
   "execution_count": 13,
   "metadata": {},
   "outputs": [
    {
     "name": "stdout",
     "output_type": "stream",
     "text": [
      "Fitting 5 folds for each of 180 candidates, totalling 900 fits\n"
     ]
    },
    {
     "name": "stderr",
     "output_type": "stream",
     "text": [
      "[Parallel(n_jobs=10)]: Using backend LokyBackend with 10 concurrent workers.\n",
      "[Parallel(n_jobs=10)]: Done  12 tasks      | elapsed:  2.1min\n",
      "[Parallel(n_jobs=10)]: Done 108 tasks      | elapsed: 13.7min\n",
      "[Parallel(n_jobs=10)]: Done 268 tasks      | elapsed: 34.3min\n",
      "[Parallel(n_jobs=10)]: Done 492 tasks      | elapsed: 63.4min\n",
      "[Parallel(n_jobs=10)]: Done 780 tasks      | elapsed: 99.6min\n",
      "[Parallel(n_jobs=10)]: Done 900 out of 900 | elapsed: 114.5min finished\n",
      "C:\\ProgramData\\Anaconda3\\lib\\site-packages\\lightgbm\\engine.py:151: UserWarning: Found `num_boost_round` in params. Will use it instead of argument\n",
      "  warnings.warn(\"Found `{}` in params. Will use it instead of argument\".format(alias))\n"
     ]
    },
    {
     "name": "stdout",
     "output_type": "stream",
     "text": [
      "[LightGBM] [Warning] min_data_in_leaf is set=400, min_child_samples=20 will be ignored. Current value: min_data_in_leaf=400\n",
      "[LightGBM] [Warning] lambda_l1 is set=1, reg_alpha=0.1 will be ignored. Current value: lambda_l1=1\n",
      "[LightGBM] [Warning] lambda_l2 is set=0, reg_lambda=0.0 will be ignored. Current value: lambda_l2=0\n",
      "[LightGBM] [Warning] num_iterations is set=2000, num_boost_round=2000 will be ignored. Current value: num_iterations=2000\n"
     ]
    },
    {
     "data": {
      "text/plain": [
       "GridSearchCV(estimator=LGBMRegressor(learning_rate=0.01, num_boost_round=2000),\n",
       "             n_jobs=10,\n",
       "             param_grid={'lambda_l1': [0, 1, 1.5], 'lambda_l2': [0, 1],\n",
       "                         'min_data_in_leaf': [30, 50, 100, 300, 400],\n",
       "                         'num_leaves': [30, 50, 70], 'reg_alpha': [0.1, 0.5]},\n",
       "             verbose=3)"
      ]
     },
     "execution_count": 13,
     "metadata": {},
     "output_type": "execute_result"
    }
   ],
   "source": [
    "lgb = LGBMRegressor(boosting_type='gbdt', num_boost_round=2000, learning_rate=0.01)\n",
    "lgb_grid = GridSearchCV(estimator=lgb,\n",
    "                        param_grid=params_grid,\n",
    "                        n_jobs=10,\n",
    "                        verbose=3)\n",
    "lgb_grid.fit(X_train,y_train)"
   ]
  },
  {
   "cell_type": "code",
   "execution_count": 14,
   "metadata": {},
   "outputs": [
    {
     "data": {
      "text/plain": [
       "{'lambda_l1': 1,\n",
       " 'lambda_l2': 0,\n",
       " 'min_data_in_leaf': 400,\n",
       " 'num_leaves': 30,\n",
       " 'reg_alpha': 0.1}"
      ]
     },
     "execution_count": 14,
     "metadata": {},
     "output_type": "execute_result"
    }
   ],
   "source": [
    "lgb_grid.best_params_"
   ]
  },
  {
   "cell_type": "code",
   "execution_count": 15,
   "metadata": {},
   "outputs": [
    {
     "data": {
      "text/plain": [
       "LGBMRegressor(lambda_l1=1, lambda_l2=0, learning_rate=0.01,\n",
       "              min_data_in_leaf=400, num_boost_round=2000, num_leaves=30,\n",
       "              reg_alpha=0.1)"
      ]
     },
     "execution_count": 15,
     "metadata": {},
     "output_type": "execute_result"
    }
   ],
   "source": [
    "lgb = LGBMRegressor(boosting_type = 'gbdt', num_boost_round = 2000, learning_rate = 0.01, \n",
    "                    lambda_l1 = 1, lambda_l2 = 0, min_data_in_leaf = 400, num_leaves = 30, reg_alpha = 0.1)\n",
    "\n",
    "lgb.fit(X_train, y_train)"
   ]
  },
  {
   "cell_type": "code",
   "execution_count": 16,
   "metadata": {},
   "outputs": [
    {
     "name": "stdout",
     "output_type": "stream",
     "text": [
      "1.4283197050805179 2.0400971799212977\n"
     ]
    }
   ],
   "source": [
    "y_pred2 = lgb.predict(X_val)\n",
    "\n",
    "lgbm_rmse = sqrt(mean_squared_error(y_val, y_pred2));lgbm_mse = mean_squared_error(y_val, y_pred2)\n",
    "print(lgbm_rmse, lgbm_mse)"
   ]
  },
  {
   "cell_type": "code",
   "execution_count": 17,
   "metadata": {},
   "outputs": [
    {
     "data": {
      "text/plain": [
       "array([2.3252874 , 1.83063453, 2.72857529, 2.72857529, 1.83063453,\n",
       "       2.3252874 , 1.74470947, 2.3252874 , 1.83063453, 3.46192065,\n",
       "       2.16805287, 3.22084998, 3.03057961, 3.03141125, 1.83063453,\n",
       "       1.32674307, 3.30041615, 2.83522634, 2.3252874 , 3.52435741,\n",
       "       3.03057961, 1.74470947, 2.72857529, 3.5648725 , 1.83063453,\n",
       "       1.83063453, 2.62535451, 3.36342901, 1.83063453, 1.74470947,\n",
       "       2.72857529, 1.83063453, 3.2083498 , 1.74470947, 3.55693969,\n",
       "       3.56418029, 1.83063453, 1.83063453, 2.28017286, 1.74470947,\n",
       "       3.38434175, 2.05888128, 3.43980347, 2.62535451, 1.74470947,\n",
       "       2.16805287, 1.74470947, 2.28017286, 1.74470947, 2.96319423,\n",
       "       3.57674055, 3.25096546, 2.7915304 , 1.83063453, 3.25880956,\n",
       "       2.6682829 , 2.80072988, 1.83063453, 2.58549388, 2.3252874 ,\n",
       "       3.22735849, 1.74470947, 2.62535451, 3.26208584, 2.19442958,\n",
       "       1.32674307, 2.98934919, 3.48723734, 1.83063453, 3.34719165,\n",
       "       3.29912988, 1.74470947, 1.83063453, 3.35170566, 1.83063453,\n",
       "       1.74470947, 1.83063453, 1.83063453, 2.98934919, 1.74470947,\n",
       "       1.74470947, 1.74470947, 2.81774286, 2.3252874 , 2.3252874 ,\n",
       "       1.32674307, 1.83063453, 1.83063453, 1.74470947, 2.62987877,\n",
       "       1.74470947, 3.08017428, 2.68828016, 1.83063453, 2.95122583,\n",
       "       1.83063453, 3.03141125, 2.62535451, 1.83063453, 1.83063453,\n",
       "       1.83063453, 1.78852877, 1.74470947, 3.01094245, 1.48105544,\n",
       "       1.36508527, 2.90786705, 1.83063453, 1.83063453, 2.72857529,\n",
       "       3.09739046, 1.78852877, 2.05888128, 2.62987877, 2.56444786,\n",
       "       1.74470947, 1.83063453, 1.83063453, 2.3252874 , 3.48582391,\n",
       "       3.37201549, 1.83063453, 3.34831498, 2.96374946, 1.83063453,\n",
       "       3.2149258 , 1.74470947, 2.27082313, 3.49608625, 1.74470947,\n",
       "       1.74470947, 1.83063453, 2.4744153 , 1.83063453, 1.83063453,\n",
       "       1.83063453, 1.83063453, 2.56444786, 1.83063453, 1.32674307,\n",
       "       1.74470947, 3.40261951, 1.74470947, 1.74470947, 2.3252874 ,\n",
       "       2.94545646, 1.48105544, 2.3252874 , 2.56444786, 2.28017286,\n",
       "       3.03057961, 2.28017286, 2.3252874 , 3.28892268, 1.74470947,\n",
       "       1.83063453, 2.3252874 , 1.83063453, 2.28017286, 1.83063453,\n",
       "       1.74470947, 1.83063453, 2.28017286, 1.74470947, 2.28017286,\n",
       "       2.72857529, 1.74470947, 1.74470947, 1.83063453, 3.58416412,\n",
       "       1.31138169, 2.62987877, 3.1928149 , 1.83063453, 1.83063453,\n",
       "       2.95122583, 1.74470947, 1.83063453, 3.09713196, 2.3252874 ,\n",
       "       2.9234762 , 1.74470947, 1.83063453, 1.83063453, 1.74470947,\n",
       "       2.72857529, 2.62987877, 2.63813653, 2.3252874 , 2.62535451,\n",
       "       3.09674233, 3.23944595, 1.83063453, 1.74470947, 2.07927701,\n",
       "       1.83063453, 3.6254302 , 1.74470947, 1.74470947, 1.83063453,\n",
       "       1.83063453, 3.0145096 , 1.74470947, 2.56444786, 3.03556325,\n",
       "       2.28017286, 2.28017286, 1.83063453, 1.83063453, 1.83063453,\n",
       "       2.62535451, 1.74470947, 1.74470947, 1.83063453, 2.05888128,\n",
       "       1.74470947, 1.74945901, 1.74470947, 3.13377002, 3.2149258 ,\n",
       "       1.74470947, 2.3252874 , 2.16910535, 3.20048219, 1.83063453,\n",
       "       2.3252874 , 3.38896158, 1.74470947, 2.76308891, 1.83063453,\n",
       "       3.43150314, 1.74470947, 1.74470947, 2.3252874 , 3.35383255,\n",
       "       2.9234762 , 2.68756626, 3.30041615, 1.83063453, 3.5688671 ,\n",
       "       1.83063453, 2.56444786, 2.71948847, 3.20048219, 1.83063453,\n",
       "       1.83063453, 2.3252874 , 3.3747418 , 1.83063453, 1.83063453,\n",
       "       3.1508053 , 2.96319423, 2.28017286, 1.83063453, 2.66859306,\n",
       "       2.91258663, 1.83063453, 3.28463024, 1.74470947, 2.3252874 ,\n",
       "       1.83063453, 1.83063453, 2.56444786, 2.3252874 , 1.74470947,\n",
       "       2.28017286, 3.35383255, 2.60303299, 1.83063453, 2.07927701,\n",
       "       2.62535451, 1.83063453, 3.28132224, 3.07817839, 1.83063453,\n",
       "       2.3252874 , 1.83063453, 3.41678552, 3.41793283, 1.83063453,\n",
       "       1.74470947, 1.74470947, 3.14564201, 2.72857529, 1.74470947,\n",
       "       2.16805287, 2.3252874 , 3.45430102, 3.45915769, 3.2949021 ,\n",
       "       2.3252874 , 1.83063453, 1.83063453, 3.52264893, 2.28017286,\n",
       "       1.83063453, 1.83063453, 2.79621701, 2.72857529])"
      ]
     },
     "execution_count": 17,
     "metadata": {},
     "output_type": "execute_result"
    }
   ],
   "source": [
    "AB_predicted_lgbm = lgb.predict(batter_test)\n",
    "AB_predicted_lgbm"
   ]
  },
  {
   "cell_type": "markdown",
   "metadata": {},
   "source": [
    "## 타자-HIT"
   ]
  },
  {
   "cell_type": "code",
   "execution_count": 18,
   "metadata": {},
   "outputs": [],
   "source": [
    "X = batter_train.drop(columns = ['AB','HIT'])\n",
    "y = batter_train['HIT']\n",
    "\n",
    "X_train, X_val, y_train, y_val = train_test_split(X, y, test_size = 0.3, shuffle = True, random_state = 2020)\n",
    "\n",
    "X_train.columns = [\"\".join (c if c.isalnum() else \"_\" for c in str(x)) for x in X_train.columns]\n",
    "X_val.columns = [\"\".join (c if c.isalnum() else \"_\" for c in str(x)) for x in X_val.columns]"
   ]
  },
  {
   "cell_type": "code",
   "execution_count": 19,
   "metadata": {},
   "outputs": [],
   "source": [
    "params_grid = {\n",
    "    'num_leaves': [30, 50, 70],\n",
    "    'reg_alpha': [0.1, 0.5],\n",
    "    'min_data_in_leaf': [30, 50, 100, 300, 400],\n",
    "    'lambda_l1': [0, 1, 1.5],\n",
    "    'lambda_l2': [0, 1]\n",
    "    }"
   ]
  },
  {
   "cell_type": "code",
   "execution_count": 20,
   "metadata": {},
   "outputs": [
    {
     "name": "stdout",
     "output_type": "stream",
     "text": [
      "Fitting 5 folds for each of 180 candidates, totalling 900 fits\n"
     ]
    },
    {
     "name": "stderr",
     "output_type": "stream",
     "text": [
      "[Parallel(n_jobs=10)]: Using backend LokyBackend with 10 concurrent workers.\n",
      "[Parallel(n_jobs=10)]: Done  12 tasks      | elapsed:  2.1min\n",
      "[Parallel(n_jobs=10)]: Done 108 tasks      | elapsed: 13.3min\n",
      "[Parallel(n_jobs=10)]: Done 268 tasks      | elapsed: 34.0min\n",
      "[Parallel(n_jobs=10)]: Done 492 tasks      | elapsed: 62.2min\n",
      "[Parallel(n_jobs=10)]: Done 780 tasks      | elapsed: 98.2min\n",
      "[Parallel(n_jobs=10)]: Done 900 out of 900 | elapsed: 113.4min finished\n",
      "C:\\ProgramData\\Anaconda3\\lib\\site-packages\\lightgbm\\engine.py:151: UserWarning: Found `num_boost_round` in params. Will use it instead of argument\n",
      "  warnings.warn(\"Found `{}` in params. Will use it instead of argument\".format(alias))\n"
     ]
    },
    {
     "name": "stdout",
     "output_type": "stream",
     "text": [
      "[LightGBM] [Warning] min_data_in_leaf is set=400, min_child_samples=20 will be ignored. Current value: min_data_in_leaf=400\n",
      "[LightGBM] [Warning] lambda_l1 is set=1.5, reg_alpha=0.1 will be ignored. Current value: lambda_l1=1.5\n",
      "[LightGBM] [Warning] lambda_l2 is set=0, reg_lambda=0.0 will be ignored. Current value: lambda_l2=0\n",
      "[LightGBM] [Warning] num_iterations is set=2000, num_boost_round=2000 will be ignored. Current value: num_iterations=2000\n"
     ]
    },
    {
     "data": {
      "text/plain": [
       "GridSearchCV(estimator=LGBMRegressor(learning_rate=0.01, num_boost_round=2000),\n",
       "             n_jobs=10,\n",
       "             param_grid={'lambda_l1': [0, 1, 1.5], 'lambda_l2': [0, 1],\n",
       "                         'min_data_in_leaf': [30, 50, 100, 300, 400],\n",
       "                         'num_leaves': [30, 50, 70], 'reg_alpha': [0.1, 0.5]},\n",
       "             verbose=3)"
      ]
     },
     "execution_count": 20,
     "metadata": {},
     "output_type": "execute_result"
    }
   ],
   "source": [
    "lgb = LGBMRegressor(boosting_type='gbdt', num_boost_round=2000, learning_rate=0.01)\n",
    "lgb_grid = GridSearchCV(estimator=lgb,\n",
    "                        param_grid=params_grid,\n",
    "                        n_jobs=10,\n",
    "                        verbose=3)\n",
    "lgb_grid.fit(X_train,y_train)"
   ]
  },
  {
   "cell_type": "code",
   "execution_count": 21,
   "metadata": {},
   "outputs": [
    {
     "data": {
      "text/plain": [
       "{'lambda_l1': 1.5,\n",
       " 'lambda_l2': 0,\n",
       " 'min_data_in_leaf': 400,\n",
       " 'num_leaves': 30,\n",
       " 'reg_alpha': 0.1}"
      ]
     },
     "execution_count": 21,
     "metadata": {},
     "output_type": "execute_result"
    }
   ],
   "source": [
    "lgb_grid.best_params_"
   ]
  },
  {
   "cell_type": "code",
   "execution_count": 22,
   "metadata": {},
   "outputs": [
    {
     "data": {
      "text/plain": [
       "LGBMRegressor(lambda_l1=1.5, lambda_l2=0, learning_rate=0.01,\n",
       "              min_data_in_leaf=400, num_boost_round=2000, num_leaves=30,\n",
       "              reg_alpha=0.1)"
      ]
     },
     "execution_count": 22,
     "metadata": {},
     "output_type": "execute_result"
    }
   ],
   "source": [
    "lgb = LGBMRegressor(boosting_type = 'gbdt', num_boost_round = 2000, learning_rate = 0.01, \n",
    "                    lambda_l1 = 1.5, lambda_l2 = 0, min_data_in_leaf = 400, num_leaves = 30, reg_alpha = 0.1)\n",
    "\n",
    "lgb.fit(X_train, y_train)"
   ]
  },
  {
   "cell_type": "code",
   "execution_count": 23,
   "metadata": {},
   "outputs": [
    {
     "name": "stdout",
     "output_type": "stream",
     "text": [
      "0.8904500126006293 0.7929012249404609\n"
     ]
    }
   ],
   "source": [
    "y_pred2 = lgb.predict(X_val)\n",
    "\n",
    "lgbm_rmse = sqrt(mean_squared_error(y_val, y_pred2));lgbm_mse = mean_squared_error(y_val, y_pred2)\n",
    "print(lgbm_rmse, lgbm_mse)"
   ]
  },
  {
   "cell_type": "code",
   "execution_count": 24,
   "metadata": {},
   "outputs": [
    {
     "data": {
      "text/plain": [
       "array([0.62209221, 0.47948556, 0.7593701 , 0.7593701 , 0.47948556,\n",
       "       0.62209221, 0.46002058, 0.62209221, 0.47948556, 0.97352896,\n",
       "       0.5837705 , 0.89072089, 0.8112644 , 0.88602819, 0.47948556,\n",
       "       0.33353707, 0.93056311, 0.83570743, 0.62209221, 1.0792609 ,\n",
       "       0.8112644 , 0.46002058, 0.7593701 , 1.10294439, 0.47948556,\n",
       "       0.47948556, 0.74065966, 0.86147998, 0.47948556, 0.46002058,\n",
       "       0.7593701 , 0.47948556, 0.97833802, 0.46002058, 1.12653615,\n",
       "       1.02416745, 0.47948556, 0.47948556, 0.61790717, 0.46002058,\n",
       "       0.98672753, 0.54822219, 0.89325582, 0.74065966, 0.46002058,\n",
       "       0.5837705 , 0.46002058, 0.61790717, 0.46002058, 0.8391228 ,\n",
       "       1.11371311, 0.94466911, 0.8106746 , 0.47948556, 0.81489048,\n",
       "       0.77975866, 0.75913335, 0.47948556, 0.82033593, 0.62209221,\n",
       "       0.9865327 , 0.46002058, 0.74065966, 0.94925531, 0.6003968 ,\n",
       "       0.33353707, 0.84207731, 1.13972035, 0.47948556, 1.03440257,\n",
       "       0.9224693 , 0.46002058, 0.47948556, 0.95479999, 0.47948556,\n",
       "       0.46002058, 0.47948556, 0.47948556, 0.84207731, 0.46002058,\n",
       "       0.46002058, 0.46002058, 0.7794718 , 0.62209221, 0.62209221,\n",
       "       0.33353707, 0.47948556, 0.47948556, 0.46002058, 0.76055933,\n",
       "       0.46002058, 0.80916118, 0.74946341, 0.47948556, 0.80875973,\n",
       "       0.47948556, 0.88602819, 0.74065966, 0.47948556, 0.47948556,\n",
       "       0.47948556, 0.48364781, 0.46002058, 0.89805424, 0.41422634,\n",
       "       0.33402444, 0.77594709, 0.47948556, 0.47948556, 0.7593701 ,\n",
       "       0.95876468, 0.48364781, 0.54822219, 0.76055933, 0.70039595,\n",
       "       0.46002058, 0.47948556, 0.47948556, 0.62209221, 0.9918873 ,\n",
       "       0.87858186, 0.47948556, 1.04482813, 0.80934744, 0.47948556,\n",
       "       0.78095869, 0.46002058, 0.60611478, 1.04435829, 0.46002058,\n",
       "       0.46002058, 0.47948556, 0.7127295 , 0.47948556, 0.47948556,\n",
       "       0.47948556, 0.47948556, 0.70039595, 0.47948556, 0.33353707,\n",
       "       0.46002058, 0.97402181, 0.46002058, 0.46002058, 0.62209221,\n",
       "       0.92626173, 0.41422634, 0.62209221, 0.70039595, 0.61790717,\n",
       "       0.8112644 , 0.61790717, 0.62209221, 1.01043476, 0.46002058,\n",
       "       0.47948556, 0.62209221, 0.47948556, 0.61790717, 0.47948556,\n",
       "       0.46002058, 0.47948556, 0.61790717, 0.46002058, 0.61790717,\n",
       "       0.7593701 , 0.46002058, 0.46002058, 0.47948556, 1.07850803,\n",
       "       0.31100039, 0.76055933, 0.9366288 , 0.47948556, 0.47948556,\n",
       "       0.80875973, 0.46002058, 0.47948556, 0.86858278, 0.62209221,\n",
       "       0.84091229, 0.46002058, 0.47948556, 0.47948556, 0.46002058,\n",
       "       0.7593701 , 0.76055933, 0.7253133 , 0.62209221, 0.74065966,\n",
       "       0.88795523, 0.88708448, 0.47948556, 0.46002058, 0.57514108,\n",
       "       0.47948556, 0.98787612, 0.46002058, 0.46002058, 0.47948556,\n",
       "       0.47948556, 0.84711164, 0.46002058, 0.70039595, 0.87845058,\n",
       "       0.61790717, 0.61790717, 0.47948556, 0.47948556, 0.47948556,\n",
       "       0.74065966, 0.46002058, 0.46002058, 0.47948556, 0.54822219,\n",
       "       0.46002058, 0.46524511, 0.46002058, 0.80263694, 0.78095869,\n",
       "       0.46002058, 0.62209221, 0.58668624, 0.935677  , 0.47948556,\n",
       "       0.62209221, 0.98765111, 0.46002058, 0.66208609, 0.47948556,\n",
       "       0.91039251, 0.46002058, 0.46002058, 0.62209221, 1.04292183,\n",
       "       0.84091229, 0.59552111, 0.93056311, 0.47948556, 0.98184115,\n",
       "       0.47948556, 0.70039595, 0.73047365, 0.935677  , 0.47948556,\n",
       "       0.47948556, 0.62209221, 1.02700702, 0.47948556, 0.47948556,\n",
       "       0.89122545, 0.8391228 , 0.61790717, 0.47948556, 0.68023299,\n",
       "       0.80585221, 0.47948556, 0.99391092, 0.46002058, 0.62209221,\n",
       "       0.47948556, 0.47948556, 0.70039595, 0.62209221, 0.46002058,\n",
       "       0.61790717, 1.04292183, 0.81103027, 0.47948556, 0.57514108,\n",
       "       0.74065966, 0.47948556, 0.84951319, 0.90102773, 0.47948556,\n",
       "       0.62209221, 0.47948556, 0.89096515, 1.12783903, 0.47948556,\n",
       "       0.46002058, 0.46002058, 0.86704103, 0.7593701 , 0.46002058,\n",
       "       0.5837705 , 0.62209221, 1.05196722, 0.85996359, 0.90167   ,\n",
       "       0.62209221, 0.47948556, 0.47948556, 0.96491398, 0.61790717,\n",
       "       0.47948556, 0.47948556, 0.77115697, 0.7593701 ])"
      ]
     },
     "execution_count": 24,
     "metadata": {},
     "output_type": "execute_result"
    }
   ],
   "source": [
    "HIT_predicted_lgbm = lgb.predict(batter_test)\n",
    "HIT_predicted_lgbm"
   ]
  },
  {
   "cell_type": "code",
   "execution_count": 25,
   "metadata": {},
   "outputs": [
    {
     "data": {
      "text/html": [
       "<div>\n",
       "<style scoped>\n",
       "    .dataframe tbody tr th:only-of-type {\n",
       "        vertical-align: middle;\n",
       "    }\n",
       "\n",
       "    .dataframe tbody tr th {\n",
       "        vertical-align: top;\n",
       "    }\n",
       "\n",
       "    .dataframe thead th {\n",
       "        text-align: right;\n",
       "    }\n",
       "</style>\n",
       "<table border=\"1\" class=\"dataframe\">\n",
       "  <thead>\n",
       "    <tr style=\"text-align: right;\">\n",
       "      <th></th>\n",
       "      <th>T</th>\n",
       "      <th>GDAY_DS</th>\n",
       "      <th>T_ID</th>\n",
       "      <th>P_ID</th>\n",
       "      <th>TB_SC</th>\n",
       "      <th>PA-AB</th>\n",
       "      <th>RUN</th>\n",
       "      <th>RBI</th>\n",
       "      <th>SH+SF</th>\n",
       "      <th>KK</th>\n",
       "      <th>SB_trial</th>\n",
       "      <th>BABIP</th>\n",
       "    </tr>\n",
       "    <tr>\n",
       "      <th>B</th>\n",
       "      <th></th>\n",
       "      <th></th>\n",
       "      <th></th>\n",
       "      <th></th>\n",
       "      <th></th>\n",
       "      <th></th>\n",
       "      <th></th>\n",
       "      <th></th>\n",
       "      <th></th>\n",
       "      <th></th>\n",
       "      <th></th>\n",
       "      <th></th>\n",
       "    </tr>\n",
       "  </thead>\n",
       "  <tbody>\n",
       "    <tr>\n",
       "      <th>0</th>\n",
       "      <td>1</td>\n",
       "      <td>2020-07-19</td>\n",
       "      <td>KT</td>\n",
       "      <td>50054</td>\n",
       "      <td>T</td>\n",
       "      <td>0</td>\n",
       "      <td>0</td>\n",
       "      <td>0</td>\n",
       "      <td>0</td>\n",
       "      <td>1</td>\n",
       "      <td>0</td>\n",
       "      <td>0.0</td>\n",
       "    </tr>\n",
       "    <tr>\n",
       "      <th>0</th>\n",
       "      <td>1</td>\n",
       "      <td>2020-07-19</td>\n",
       "      <td>KT</td>\n",
       "      <td>50066</td>\n",
       "      <td>T</td>\n",
       "      <td>0</td>\n",
       "      <td>0</td>\n",
       "      <td>0</td>\n",
       "      <td>0</td>\n",
       "      <td>0</td>\n",
       "      <td>0</td>\n",
       "      <td>0.0</td>\n",
       "    </tr>\n",
       "    <tr>\n",
       "      <th>1</th>\n",
       "      <td>0</td>\n",
       "      <td>2020-07-17</td>\n",
       "      <td>LG</td>\n",
       "      <td>50150</td>\n",
       "      <td>B</td>\n",
       "      <td>0</td>\n",
       "      <td>0</td>\n",
       "      <td>0</td>\n",
       "      <td>0</td>\n",
       "      <td>2</td>\n",
       "      <td>0</td>\n",
       "      <td>0.0</td>\n",
       "    </tr>\n",
       "    <tr>\n",
       "      <th>1</th>\n",
       "      <td>0</td>\n",
       "      <td>2020-07-18</td>\n",
       "      <td>LG</td>\n",
       "      <td>50165</td>\n",
       "      <td>B</td>\n",
       "      <td>0</td>\n",
       "      <td>0</td>\n",
       "      <td>0</td>\n",
       "      <td>0</td>\n",
       "      <td>2</td>\n",
       "      <td>0</td>\n",
       "      <td>0.0</td>\n",
       "    </tr>\n",
       "    <tr>\n",
       "      <th>0</th>\n",
       "      <td>1</td>\n",
       "      <td>2020-07-19</td>\n",
       "      <td>OB</td>\n",
       "      <td>50202</td>\n",
       "      <td>T</td>\n",
       "      <td>0</td>\n",
       "      <td>0</td>\n",
       "      <td>0</td>\n",
       "      <td>0</td>\n",
       "      <td>0</td>\n",
       "      <td>0</td>\n",
       "      <td>0.0</td>\n",
       "    </tr>\n",
       "  </tbody>\n",
       "</table>\n",
       "</div>"
      ],
      "text/plain": [
       "   T     GDAY_DS T_ID   P_ID TB_SC  PA-AB  RUN  RBI  SH+SF  KK  SB_trial  \\\n",
       "B                                                                          \n",
       "0  1  2020-07-19   KT  50054     T      0    0    0      0   1         0   \n",
       "0  1  2020-07-19   KT  50066     T      0    0    0      0   0         0   \n",
       "1  0  2020-07-17   LG  50150     B      0    0    0      0   2         0   \n",
       "1  0  2020-07-18   LG  50165     B      0    0    0      0   2         0   \n",
       "0  1  2020-07-19   OB  50202     T      0    0    0      0   0         0   \n",
       "\n",
       "   BABIP  \n",
       "B         \n",
       "0    0.0  \n",
       "0    0.0  \n",
       "1    0.0  \n",
       "1    0.0  \n",
       "0    0.0  "
      ]
     },
     "execution_count": 25,
     "metadata": {},
     "output_type": "execute_result"
    }
   ],
   "source": [
    "batter_test = pd.read_csv(\"batter_test.csv\", index_col  = 0)\n",
    "batter_test.head()"
   ]
  },
  {
   "cell_type": "code",
   "execution_count": 27,
   "metadata": {},
   "outputs": [
    {
     "data": {
      "text/html": [
       "<div>\n",
       "<style scoped>\n",
       "    .dataframe tbody tr th:only-of-type {\n",
       "        vertical-align: middle;\n",
       "    }\n",
       "\n",
       "    .dataframe tbody tr th {\n",
       "        vertical-align: top;\n",
       "    }\n",
       "\n",
       "    .dataframe thead th {\n",
       "        text-align: right;\n",
       "    }\n",
       "</style>\n",
       "<table border=\"1\" class=\"dataframe\">\n",
       "  <thead>\n",
       "    <tr style=\"text-align: right;\">\n",
       "      <th></th>\n",
       "      <th>T</th>\n",
       "      <th>GDAY_DS</th>\n",
       "      <th>T_ID</th>\n",
       "      <th>P_ID</th>\n",
       "      <th>TB_SC</th>\n",
       "      <th>PA-AB</th>\n",
       "      <th>RUN</th>\n",
       "      <th>RBI</th>\n",
       "      <th>SH+SF</th>\n",
       "      <th>KK</th>\n",
       "      <th>SB_trial</th>\n",
       "      <th>BABIP</th>\n",
       "      <th>AB</th>\n",
       "      <th>HIT</th>\n",
       "    </tr>\n",
       "    <tr>\n",
       "      <th>B</th>\n",
       "      <th></th>\n",
       "      <th></th>\n",
       "      <th></th>\n",
       "      <th></th>\n",
       "      <th></th>\n",
       "      <th></th>\n",
       "      <th></th>\n",
       "      <th></th>\n",
       "      <th></th>\n",
       "      <th></th>\n",
       "      <th></th>\n",
       "      <th></th>\n",
       "      <th></th>\n",
       "      <th></th>\n",
       "    </tr>\n",
       "  </thead>\n",
       "  <tbody>\n",
       "    <tr>\n",
       "      <th>0</th>\n",
       "      <td>1</td>\n",
       "      <td>2020-07-19</td>\n",
       "      <td>KT</td>\n",
       "      <td>50054</td>\n",
       "      <td>T</td>\n",
       "      <td>0</td>\n",
       "      <td>0</td>\n",
       "      <td>0</td>\n",
       "      <td>0</td>\n",
       "      <td>1</td>\n",
       "      <td>0</td>\n",
       "      <td>0.000000</td>\n",
       "      <td>2.33</td>\n",
       "      <td>0.62</td>\n",
       "    </tr>\n",
       "    <tr>\n",
       "      <th>0</th>\n",
       "      <td>1</td>\n",
       "      <td>2020-07-19</td>\n",
       "      <td>KT</td>\n",
       "      <td>50066</td>\n",
       "      <td>T</td>\n",
       "      <td>0</td>\n",
       "      <td>0</td>\n",
       "      <td>0</td>\n",
       "      <td>0</td>\n",
       "      <td>0</td>\n",
       "      <td>0</td>\n",
       "      <td>0.000000</td>\n",
       "      <td>1.83</td>\n",
       "      <td>0.48</td>\n",
       "    </tr>\n",
       "    <tr>\n",
       "      <th>1</th>\n",
       "      <td>0</td>\n",
       "      <td>2020-07-17</td>\n",
       "      <td>LG</td>\n",
       "      <td>50150</td>\n",
       "      <td>B</td>\n",
       "      <td>0</td>\n",
       "      <td>0</td>\n",
       "      <td>0</td>\n",
       "      <td>0</td>\n",
       "      <td>2</td>\n",
       "      <td>0</td>\n",
       "      <td>0.000000</td>\n",
       "      <td>2.73</td>\n",
       "      <td>0.76</td>\n",
       "    </tr>\n",
       "    <tr>\n",
       "      <th>1</th>\n",
       "      <td>0</td>\n",
       "      <td>2020-07-18</td>\n",
       "      <td>LG</td>\n",
       "      <td>50165</td>\n",
       "      <td>B</td>\n",
       "      <td>0</td>\n",
       "      <td>0</td>\n",
       "      <td>0</td>\n",
       "      <td>0</td>\n",
       "      <td>2</td>\n",
       "      <td>0</td>\n",
       "      <td>0.000000</td>\n",
       "      <td>2.73</td>\n",
       "      <td>0.76</td>\n",
       "    </tr>\n",
       "    <tr>\n",
       "      <th>0</th>\n",
       "      <td>1</td>\n",
       "      <td>2020-07-19</td>\n",
       "      <td>OB</td>\n",
       "      <td>50202</td>\n",
       "      <td>T</td>\n",
       "      <td>0</td>\n",
       "      <td>0</td>\n",
       "      <td>0</td>\n",
       "      <td>0</td>\n",
       "      <td>0</td>\n",
       "      <td>0</td>\n",
       "      <td>0.000000</td>\n",
       "      <td>1.83</td>\n",
       "      <td>0.48</td>\n",
       "    </tr>\n",
       "    <tr>\n",
       "      <th>...</th>\n",
       "      <td>...</td>\n",
       "      <td>...</td>\n",
       "      <td>...</td>\n",
       "      <td>...</td>\n",
       "      <td>...</td>\n",
       "      <td>...</td>\n",
       "      <td>...</td>\n",
       "      <td>...</td>\n",
       "      <td>...</td>\n",
       "      <td>...</td>\n",
       "      <td>...</td>\n",
       "      <td>...</td>\n",
       "      <td>...</td>\n",
       "      <td>...</td>\n",
       "    </tr>\n",
       "    <tr>\n",
       "      <th>1</th>\n",
       "      <td>0</td>\n",
       "      <td>2020-07-19</td>\n",
       "      <td>SS</td>\n",
       "      <td>79402</td>\n",
       "      <td>B</td>\n",
       "      <td>0</td>\n",
       "      <td>0</td>\n",
       "      <td>0</td>\n",
       "      <td>0</td>\n",
       "      <td>1</td>\n",
       "      <td>0</td>\n",
       "      <td>0.000000</td>\n",
       "      <td>2.28</td>\n",
       "      <td>0.62</td>\n",
       "    </tr>\n",
       "    <tr>\n",
       "      <th>0</th>\n",
       "      <td>1</td>\n",
       "      <td>2020-07-19</td>\n",
       "      <td>WO</td>\n",
       "      <td>79456</td>\n",
       "      <td>T</td>\n",
       "      <td>0</td>\n",
       "      <td>0</td>\n",
       "      <td>0</td>\n",
       "      <td>0</td>\n",
       "      <td>0</td>\n",
       "      <td>0</td>\n",
       "      <td>0.000000</td>\n",
       "      <td>1.83</td>\n",
       "      <td>0.48</td>\n",
       "    </tr>\n",
       "    <tr>\n",
       "      <th>0</th>\n",
       "      <td>1</td>\n",
       "      <td>2020-06-02</td>\n",
       "      <td>LT</td>\n",
       "      <td>79545</td>\n",
       "      <td>T</td>\n",
       "      <td>0</td>\n",
       "      <td>0</td>\n",
       "      <td>0</td>\n",
       "      <td>0</td>\n",
       "      <td>0</td>\n",
       "      <td>0</td>\n",
       "      <td>0.000000</td>\n",
       "      <td>1.83</td>\n",
       "      <td>0.48</td>\n",
       "    </tr>\n",
       "    <tr>\n",
       "      <th>0</th>\n",
       "      <td>1</td>\n",
       "      <td>2020-07-19</td>\n",
       "      <td>LT</td>\n",
       "      <td>79608</td>\n",
       "      <td>T</td>\n",
       "      <td>0</td>\n",
       "      <td>0</td>\n",
       "      <td>0</td>\n",
       "      <td>0</td>\n",
       "      <td>0</td>\n",
       "      <td>0</td>\n",
       "      <td>0.333333</td>\n",
       "      <td>2.80</td>\n",
       "      <td>0.77</td>\n",
       "    </tr>\n",
       "    <tr>\n",
       "      <th>1</th>\n",
       "      <td>0</td>\n",
       "      <td>2020-06-06</td>\n",
       "      <td>HH</td>\n",
       "      <td>79705</td>\n",
       "      <td>B</td>\n",
       "      <td>0</td>\n",
       "      <td>0</td>\n",
       "      <td>0</td>\n",
       "      <td>0</td>\n",
       "      <td>2</td>\n",
       "      <td>0</td>\n",
       "      <td>0.000000</td>\n",
       "      <td>2.73</td>\n",
       "      <td>0.76</td>\n",
       "    </tr>\n",
       "  </tbody>\n",
       "</table>\n",
       "<p>299 rows × 14 columns</p>\n",
       "</div>"
      ],
      "text/plain": [
       "    T     GDAY_DS T_ID   P_ID TB_SC  PA-AB  RUN  RBI  SH+SF  KK  SB_trial  \\\n",
       "B                                                                           \n",
       "0   1  2020-07-19   KT  50054     T      0    0    0      0   1         0   \n",
       "0   1  2020-07-19   KT  50066     T      0    0    0      0   0         0   \n",
       "1   0  2020-07-17   LG  50150     B      0    0    0      0   2         0   \n",
       "1   0  2020-07-18   LG  50165     B      0    0    0      0   2         0   \n",
       "0   1  2020-07-19   OB  50202     T      0    0    0      0   0         0   \n",
       ".. ..         ...  ...    ...   ...    ...  ...  ...    ...  ..       ...   \n",
       "1   0  2020-07-19   SS  79402     B      0    0    0      0   1         0   \n",
       "0   1  2020-07-19   WO  79456     T      0    0    0      0   0         0   \n",
       "0   1  2020-06-02   LT  79545     T      0    0    0      0   0         0   \n",
       "0   1  2020-07-19   LT  79608     T      0    0    0      0   0         0   \n",
       "1   0  2020-06-06   HH  79705     B      0    0    0      0   2         0   \n",
       "\n",
       "       BABIP    AB   HIT  \n",
       "B                         \n",
       "0   0.000000  2.33  0.62  \n",
       "0   0.000000  1.83  0.48  \n",
       "1   0.000000  2.73  0.76  \n",
       "1   0.000000  2.73  0.76  \n",
       "0   0.000000  1.83  0.48  \n",
       "..       ...   ...   ...  \n",
       "1   0.000000  2.28  0.62  \n",
       "0   0.000000  1.83  0.48  \n",
       "0   0.000000  1.83  0.48  \n",
       "0   0.333333  2.80  0.77  \n",
       "1   0.000000  2.73  0.76  \n",
       "\n",
       "[299 rows x 14 columns]"
      ]
     },
     "execution_count": 27,
     "metadata": {},
     "output_type": "execute_result"
    }
   ],
   "source": [
    "batter_test['AB'] = np.round(AB_predicted_lgbm,2)\n",
    "batter_test['HIT'] = np.round(HIT_predicted_lgbm,2)\n",
    "batter_test"
   ]
  },
  {
   "cell_type": "code",
   "execution_count": 28,
   "metadata": {},
   "outputs": [
    {
     "data": {
      "text/plain": [
       "T_ID\n",
       "HH    84.93\n",
       "HT    64.96\n",
       "KT    59.33\n",
       "LG    76.79\n",
       "LT    65.27\n",
       "NC    71.84\n",
       "OB    64.91\n",
       "SK    67.62\n",
       "SS    70.41\n",
       "WO    76.43\n",
       "Name: AB, dtype: float64"
      ]
     },
     "execution_count": 28,
     "metadata": {},
     "output_type": "execute_result"
    }
   ],
   "source": [
    "ab_by_team = batter_test['AB'].groupby(batter_test['T_ID']).sum()\n",
    "\n",
    "ab_by_team"
   ]
  },
  {
   "cell_type": "code",
   "execution_count": 29,
   "metadata": {},
   "outputs": [
    {
     "data": {
      "text/plain": [
       "T_ID\n",
       "HH    23.16\n",
       "HT    18.04\n",
       "KT    16.08\n",
       "LG    21.14\n",
       "LT    17.90\n",
       "NC    20.36\n",
       "OB    17.54\n",
       "SK    18.24\n",
       "SS    19.32\n",
       "WO    20.83\n",
       "Name: HIT, dtype: float64"
      ]
     },
     "execution_count": 29,
     "metadata": {},
     "output_type": "execute_result"
    }
   ],
   "source": [
    "hit_by_team = batter_test['HIT'].groupby(batter_test['T_ID']).sum()\n",
    "\n",
    "hit_by_team"
   ]
  },
  {
   "cell_type": "code",
   "execution_count": 30,
   "metadata": {
    "scrolled": true
   },
   "outputs": [
    {
     "data": {
      "text/plain": [
       "T_ID\n",
       "HH    0.272695\n",
       "HT    0.277709\n",
       "KT    0.271026\n",
       "LG    0.275296\n",
       "LT    0.274245\n",
       "NC    0.283408\n",
       "OB    0.270220\n",
       "SK    0.269743\n",
       "SS    0.274393\n",
       "WO    0.272537\n",
       "dtype: float64"
      ]
     },
     "execution_count": 30,
     "metadata": {},
     "output_type": "execute_result"
    }
   ],
   "source": [
    "avg_by_team = hit_by_team / ab_by_team\n",
    "\n",
    "avg_by_team"
   ]
  },
  {
   "cell_type": "code",
   "execution_count": 31,
   "metadata": {},
   "outputs": [],
   "source": [
    "batter_test.to_csv(\"C:/Users/ishon/OneDrive/바탕 화면/big_con_final/big_contest_2020_summer/modeling_code/report_data/new_batter_report_lgbm.csv\")"
   ]
  },
  {
   "cell_type": "code",
   "execution_count": null,
   "metadata": {},
   "outputs": [],
   "source": []
  }
 ],
 "metadata": {
  "kernelspec": {
   "display_name": "Python 3",
   "language": "python",
   "name": "python3"
  },
  "language_info": {
   "codemirror_mode": {
    "name": "ipython",
    "version": 3
   },
   "file_extension": ".py",
   "mimetype": "text/x-python",
   "name": "python",
   "nbconvert_exporter": "python",
   "pygments_lexer": "ipython3",
   "version": "3.7.6"
  }
 },
 "nbformat": 4,
 "nbformat_minor": 2
}
