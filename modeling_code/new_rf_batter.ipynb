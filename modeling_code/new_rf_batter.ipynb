{
 "cells": [
  {
   "cell_type": "code",
   "execution_count": 1,
   "metadata": {},
   "outputs": [],
   "source": [
    "import numpy as np\n",
    "import pandas as pd\n",
    "import datetime"
   ]
  },
  {
   "cell_type": "markdown",
   "metadata": {},
   "source": [
    "## 기존 데이터프레임"
   ]
  },
  {
   "cell_type": "code",
   "execution_count": 2,
   "metadata": {},
   "outputs": [],
   "source": [
    "batter = pd.read_csv('private_batter.csv')\n",
    "batter = batter.sort_values(by=['P_ID','GDAY_DS'])"
   ]
  },
  {
   "cell_type": "code",
   "execution_count": 3,
   "metadata": {},
   "outputs": [],
   "source": [
    "batter['GDAY_DS'] = pd.to_datetime(batter['GDAY_DS'],format='%Y-%m-%d')"
   ]
  },
  {
   "cell_type": "code",
   "execution_count": 4,
   "metadata": {},
   "outputs": [
    {
     "data": {
      "text/html": [
       "<div>\n",
       "<style scoped>\n",
       "    .dataframe tbody tr th:only-of-type {\n",
       "        vertical-align: middle;\n",
       "    }\n",
       "\n",
       "    .dataframe tbody tr th {\n",
       "        vertical-align: top;\n",
       "    }\n",
       "\n",
       "    .dataframe thead th {\n",
       "        text-align: right;\n",
       "    }\n",
       "</style>\n",
       "<table border=\"1\" class=\"dataframe\">\n",
       "  <thead>\n",
       "    <tr style=\"text-align: right;\">\n",
       "      <th></th>\n",
       "      <th>GDAY_DS</th>\n",
       "      <th>T_ID</th>\n",
       "      <th>P_ID</th>\n",
       "      <th>TB_SC</th>\n",
       "      <th>PA-AB</th>\n",
       "      <th>AB</th>\n",
       "      <th>RUN</th>\n",
       "      <th>RBI</th>\n",
       "      <th>HIT</th>\n",
       "      <th>SH+SF</th>\n",
       "      <th>KK</th>\n",
       "      <th>AVG</th>\n",
       "      <th>SB_trial</th>\n",
       "      <th>BABIP</th>\n",
       "    </tr>\n",
       "  </thead>\n",
       "  <tbody>\n",
       "    <tr>\n",
       "      <th>76138</th>\n",
       "      <td>2020-06-03</td>\n",
       "      <td>KT</td>\n",
       "      <td>50054</td>\n",
       "      <td>B</td>\n",
       "      <td>0</td>\n",
       "      <td>3</td>\n",
       "      <td>0</td>\n",
       "      <td>0</td>\n",
       "      <td>2</td>\n",
       "      <td>0</td>\n",
       "      <td>0</td>\n",
       "      <td>0.666667</td>\n",
       "      <td>0</td>\n",
       "      <td>0.666667</td>\n",
       "    </tr>\n",
       "    <tr>\n",
       "      <th>76262</th>\n",
       "      <td>2020-06-04</td>\n",
       "      <td>KT</td>\n",
       "      <td>50054</td>\n",
       "      <td>B</td>\n",
       "      <td>1</td>\n",
       "      <td>3</td>\n",
       "      <td>1</td>\n",
       "      <td>0</td>\n",
       "      <td>0</td>\n",
       "      <td>0</td>\n",
       "      <td>1</td>\n",
       "      <td>0.000000</td>\n",
       "      <td>0</td>\n",
       "      <td>0.000000</td>\n",
       "    </tr>\n",
       "    <tr>\n",
       "      <th>76522</th>\n",
       "      <td>2020-06-06</td>\n",
       "      <td>KT</td>\n",
       "      <td>50054</td>\n",
       "      <td>T</td>\n",
       "      <td>0</td>\n",
       "      <td>0</td>\n",
       "      <td>0</td>\n",
       "      <td>0</td>\n",
       "      <td>0</td>\n",
       "      <td>0</td>\n",
       "      <td>0</td>\n",
       "      <td>0.000000</td>\n",
       "      <td>0</td>\n",
       "      <td>0.000000</td>\n",
       "    </tr>\n",
       "    <tr>\n",
       "      <th>76647</th>\n",
       "      <td>2020-06-07</td>\n",
       "      <td>KT</td>\n",
       "      <td>50054</td>\n",
       "      <td>T</td>\n",
       "      <td>0</td>\n",
       "      <td>3</td>\n",
       "      <td>0</td>\n",
       "      <td>0</td>\n",
       "      <td>1</td>\n",
       "      <td>0</td>\n",
       "      <td>2</td>\n",
       "      <td>0.333333</td>\n",
       "      <td>0</td>\n",
       "      <td>1.000000</td>\n",
       "    </tr>\n",
       "    <tr>\n",
       "      <th>76902</th>\n",
       "      <td>2020-06-10</td>\n",
       "      <td>KT</td>\n",
       "      <td>50054</td>\n",
       "      <td>B</td>\n",
       "      <td>0</td>\n",
       "      <td>2</td>\n",
       "      <td>0</td>\n",
       "      <td>0</td>\n",
       "      <td>1</td>\n",
       "      <td>0</td>\n",
       "      <td>0</td>\n",
       "      <td>0.500000</td>\n",
       "      <td>0</td>\n",
       "      <td>0.500000</td>\n",
       "    </tr>\n",
       "  </tbody>\n",
       "</table>\n",
       "</div>"
      ],
      "text/plain": [
       "         GDAY_DS T_ID   P_ID TB_SC  PA-AB  AB  RUN  RBI  HIT  SH+SF  KK  \\\n",
       "76138 2020-06-03   KT  50054     B      0   3    0    0    2      0   0   \n",
       "76262 2020-06-04   KT  50054     B      1   3    1    0    0      0   1   \n",
       "76522 2020-06-06   KT  50054     T      0   0    0    0    0      0   0   \n",
       "76647 2020-06-07   KT  50054     T      0   3    0    0    1      0   2   \n",
       "76902 2020-06-10   KT  50054     B      0   2    0    0    1      0   0   \n",
       "\n",
       "            AVG  SB_trial     BABIP  \n",
       "76138  0.666667         0  0.666667  \n",
       "76262  0.000000         0  0.000000  \n",
       "76522  0.000000         0  0.000000  \n",
       "76647  0.333333         0  1.000000  \n",
       "76902  0.500000         0  0.500000  "
      ]
     },
     "execution_count": 4,
     "metadata": {},
     "output_type": "execute_result"
    }
   ],
   "source": [
    "batter[batter['P_ID']==50054].head()"
   ]
  },
  {
   "cell_type": "markdown",
   "metadata": {},
   "source": [
    "## 데이터프레임 변형: X값 그대로 Y값은 다음 경기의 값"
   ]
  },
  {
   "cell_type": "code",
   "execution_count": 5,
   "metadata": {},
   "outputs": [],
   "source": [
    "df=pd.DataFrame()\n",
    "for i in batter.P_ID.unique():\n",
    "    temp = batter[batter['P_ID']==i].drop('AVG',axis=1)\n",
    "    temp = temp.reset_index(drop='index')\n",
    "    future_y = temp[['AB','HIT']]\n",
    "    x = temp.drop(['AB','HIT'],axis=1)\n",
    "    x = x.shift(periods=1,axis=0)\n",
    "    new = pd.concat([x,future_y],axis=1)\n",
    "    new = new.drop(0)\n",
    "    df = pd.concat([df,new])"
   ]
  },
  {
   "cell_type": "code",
   "execution_count": 6,
   "metadata": {},
   "outputs": [],
   "source": [
    "df = df.reset_index(drop='index')"
   ]
  },
  {
   "cell_type": "code",
   "execution_count": 7,
   "metadata": {},
   "outputs": [
    {
     "data": {
      "text/html": [
       "<div>\n",
       "<style scoped>\n",
       "    .dataframe tbody tr th:only-of-type {\n",
       "        vertical-align: middle;\n",
       "    }\n",
       "\n",
       "    .dataframe tbody tr th {\n",
       "        vertical-align: top;\n",
       "    }\n",
       "\n",
       "    .dataframe thead th {\n",
       "        text-align: right;\n",
       "    }\n",
       "</style>\n",
       "<table border=\"1\" class=\"dataframe\">\n",
       "  <thead>\n",
       "    <tr style=\"text-align: right;\">\n",
       "      <th></th>\n",
       "      <th>GDAY_DS</th>\n",
       "      <th>T_ID</th>\n",
       "      <th>P_ID</th>\n",
       "      <th>TB_SC</th>\n",
       "      <th>PA-AB</th>\n",
       "      <th>RUN</th>\n",
       "      <th>RBI</th>\n",
       "      <th>SH+SF</th>\n",
       "      <th>KK</th>\n",
       "      <th>SB_trial</th>\n",
       "      <th>BABIP</th>\n",
       "      <th>AB</th>\n",
       "      <th>HIT</th>\n",
       "    </tr>\n",
       "  </thead>\n",
       "  <tbody>\n",
       "    <tr>\n",
       "      <th>0</th>\n",
       "      <td>2020-06-03</td>\n",
       "      <td>KT</td>\n",
       "      <td>50054.0</td>\n",
       "      <td>B</td>\n",
       "      <td>0.0</td>\n",
       "      <td>0.0</td>\n",
       "      <td>0.0</td>\n",
       "      <td>0.0</td>\n",
       "      <td>0.0</td>\n",
       "      <td>0.0</td>\n",
       "      <td>0.666667</td>\n",
       "      <td>3</td>\n",
       "      <td>0</td>\n",
       "    </tr>\n",
       "    <tr>\n",
       "      <th>1</th>\n",
       "      <td>2020-06-04</td>\n",
       "      <td>KT</td>\n",
       "      <td>50054.0</td>\n",
       "      <td>B</td>\n",
       "      <td>1.0</td>\n",
       "      <td>1.0</td>\n",
       "      <td>0.0</td>\n",
       "      <td>0.0</td>\n",
       "      <td>1.0</td>\n",
       "      <td>0.0</td>\n",
       "      <td>0.000000</td>\n",
       "      <td>0</td>\n",
       "      <td>0</td>\n",
       "    </tr>\n",
       "    <tr>\n",
       "      <th>2</th>\n",
       "      <td>2020-06-06</td>\n",
       "      <td>KT</td>\n",
       "      <td>50054.0</td>\n",
       "      <td>T</td>\n",
       "      <td>0.0</td>\n",
       "      <td>0.0</td>\n",
       "      <td>0.0</td>\n",
       "      <td>0.0</td>\n",
       "      <td>0.0</td>\n",
       "      <td>0.0</td>\n",
       "      <td>0.000000</td>\n",
       "      <td>3</td>\n",
       "      <td>1</td>\n",
       "    </tr>\n",
       "    <tr>\n",
       "      <th>3</th>\n",
       "      <td>2020-06-07</td>\n",
       "      <td>KT</td>\n",
       "      <td>50054.0</td>\n",
       "      <td>T</td>\n",
       "      <td>0.0</td>\n",
       "      <td>0.0</td>\n",
       "      <td>0.0</td>\n",
       "      <td>0.0</td>\n",
       "      <td>2.0</td>\n",
       "      <td>0.0</td>\n",
       "      <td>1.000000</td>\n",
       "      <td>2</td>\n",
       "      <td>1</td>\n",
       "    </tr>\n",
       "    <tr>\n",
       "      <th>4</th>\n",
       "      <td>2020-06-10</td>\n",
       "      <td>KT</td>\n",
       "      <td>50054.0</td>\n",
       "      <td>B</td>\n",
       "      <td>0.0</td>\n",
       "      <td>0.0</td>\n",
       "      <td>0.0</td>\n",
       "      <td>0.0</td>\n",
       "      <td>0.0</td>\n",
       "      <td>0.0</td>\n",
       "      <td>0.500000</td>\n",
       "      <td>4</td>\n",
       "      <td>3</td>\n",
       "    </tr>\n",
       "  </tbody>\n",
       "</table>\n",
       "</div>"
      ],
      "text/plain": [
       "     GDAY_DS T_ID     P_ID TB_SC  PA-AB  RUN  RBI  SH+SF   KK  SB_trial  \\\n",
       "0 2020-06-03   KT  50054.0     B    0.0  0.0  0.0    0.0  0.0       0.0   \n",
       "1 2020-06-04   KT  50054.0     B    1.0  1.0  0.0    0.0  1.0       0.0   \n",
       "2 2020-06-06   KT  50054.0     T    0.0  0.0  0.0    0.0  0.0       0.0   \n",
       "3 2020-06-07   KT  50054.0     T    0.0  0.0  0.0    0.0  2.0       0.0   \n",
       "4 2020-06-10   KT  50054.0     B    0.0  0.0  0.0    0.0  0.0       0.0   \n",
       "\n",
       "      BABIP  AB  HIT  \n",
       "0  0.666667   3    0  \n",
       "1  0.000000   0    0  \n",
       "2  0.000000   3    1  \n",
       "3  1.000000   2    1  \n",
       "4  0.500000   4    3  "
      ]
     },
     "execution_count": 7,
     "metadata": {},
     "output_type": "execute_result"
    }
   ],
   "source": [
    "df[df['P_ID']==50054].head()"
   ]
  },
  {
   "cell_type": "markdown",
   "metadata": {},
   "source": [
    "## TEST SET 구성: 각 선수별 마지막 경기 X값"
   ]
  },
  {
   "cell_type": "code",
   "execution_count": 8,
   "metadata": {},
   "outputs": [],
   "source": [
    "final_x = pd.DataFrame()\n",
    "for i in batter.P_ID.unique():\n",
    "    temp = batter[batter['P_ID']==i].drop(['AVG','AB','HIT'],axis=1).tail(1)\n",
    "    final_x = pd.concat([final_x,temp])"
   ]
  },
  {
   "cell_type": "code",
   "execution_count": 9,
   "metadata": {},
   "outputs": [],
   "source": [
    "final_x = final_x[final_x['GDAY_DS'].dt.year>=2020]"
   ]
  },
  {
   "cell_type": "code",
   "execution_count": 10,
   "metadata": {},
   "outputs": [],
   "source": [
    "df = pd.concat([pd.get_dummies(df['TB_SC']),df],axis=1)\n",
    "final_x = pd.concat([pd.get_dummies(final_x['TB_SC']),final_x],axis=1)"
   ]
  },
  {
   "cell_type": "code",
   "execution_count": 11,
   "metadata": {},
   "outputs": [
    {
     "data": {
      "text/html": [
       "<div>\n",
       "<style scoped>\n",
       "    .dataframe tbody tr th:only-of-type {\n",
       "        vertical-align: middle;\n",
       "    }\n",
       "\n",
       "    .dataframe tbody tr th {\n",
       "        vertical-align: top;\n",
       "    }\n",
       "\n",
       "    .dataframe thead th {\n",
       "        text-align: right;\n",
       "    }\n",
       "</style>\n",
       "<table border=\"1\" class=\"dataframe\">\n",
       "  <thead>\n",
       "    <tr style=\"text-align: right;\">\n",
       "      <th></th>\n",
       "      <th>B</th>\n",
       "      <th>T</th>\n",
       "      <th>GDAY_DS</th>\n",
       "      <th>T_ID</th>\n",
       "      <th>P_ID</th>\n",
       "      <th>TB_SC</th>\n",
       "      <th>PA-AB</th>\n",
       "      <th>RUN</th>\n",
       "      <th>RBI</th>\n",
       "      <th>SH+SF</th>\n",
       "      <th>KK</th>\n",
       "      <th>SB_trial</th>\n",
       "      <th>BABIP</th>\n",
       "    </tr>\n",
       "  </thead>\n",
       "  <tbody>\n",
       "    <tr>\n",
       "      <th>81003</th>\n",
       "      <td>0</td>\n",
       "      <td>1</td>\n",
       "      <td>2020-07-19</td>\n",
       "      <td>KT</td>\n",
       "      <td>50054</td>\n",
       "      <td>T</td>\n",
       "      <td>0</td>\n",
       "      <td>0</td>\n",
       "      <td>0</td>\n",
       "      <td>0</td>\n",
       "      <td>1</td>\n",
       "      <td>0</td>\n",
       "      <td>0.0</td>\n",
       "    </tr>\n",
       "  </tbody>\n",
       "</table>\n",
       "</div>"
      ],
      "text/plain": [
       "       B  T    GDAY_DS T_ID   P_ID TB_SC  PA-AB  RUN  RBI  SH+SF  KK  \\\n",
       "81003  0  1 2020-07-19   KT  50054     T      0    0    0      0   1   \n",
       "\n",
       "       SB_trial  BABIP  \n",
       "81003         0    0.0  "
      ]
     },
     "execution_count": 11,
     "metadata": {},
     "output_type": "execute_result"
    }
   ],
   "source": [
    "final_x[final_x['P_ID']==50054]"
   ]
  },
  {
   "cell_type": "code",
   "execution_count": 12,
   "metadata": {},
   "outputs": [],
   "source": [
    "test_x = final_x.drop(['GDAY_DS','T_ID','P_ID','TB_SC'],axis=1)"
   ]
  },
  {
   "cell_type": "markdown",
   "metadata": {},
   "source": [
    "## 모델링"
   ]
  },
  {
   "cell_type": "code",
   "execution_count": 13,
   "metadata": {},
   "outputs": [],
   "source": [
    "from sklearn.model_selection import GridSearchCV, train_test_split\n",
    "from sklearn.metrics import mean_squared_error\n",
    "from math import sqrt\n",
    "from sklearn.ensemble import RandomForestRegressor\n",
    "import warnings\n",
    "warnings.filterwarnings('ignore')"
   ]
  },
  {
   "cell_type": "code",
   "execution_count": 14,
   "metadata": {},
   "outputs": [
    {
     "data": {
      "text/plain": [
       "'\\nestimator = RandomForestRegressor(random_state=2020)\\n\\npara_grids = {\\n            \"n_estimators\" : [100, 500, 1000],\\n            \"max_depth\" : [None, 10, 30, 50],\\n            \"min_samples_split\" : [2, 3, 5, 10],\\n            \"min_samples_leaf\" : [1, 3, 5, 10, 15],\\n            \"max_features\" : [\"auto\", \"log2\", \"sqrt\"],\\n            \"bootstrap\"    : [True, False]\\n        }\\n\\ngrid = GridSearchCV(estimator, para_grids, cv=3, n_jobs=-1, verbose=3, scoring = \\'neg_mean_squared_error\\')\\ngrid.fit(X_train, y_train)\\nforest = grid.best_estimator_\\n\\nreg_prediction=forest.predict(X_val)\\n\\nprint (grid.best_score_, grid.best_params_)\\n'"
      ]
     },
     "execution_count": 14,
     "metadata": {},
     "output_type": "execute_result"
    }
   ],
   "source": [
    "'''\n",
    "estimator = RandomForestRegressor(random_state=2020)\n",
    "\n",
    "para_grids = {\n",
    "            \"n_estimators\" : [100, 500, 1000],\n",
    "            \"max_depth\" : [None, 10, 30, 50],\n",
    "            \"min_samples_split\" : [2, 3, 5, 10],\n",
    "            \"min_samples_leaf\" : [1, 3, 5, 10, 15],\n",
    "            \"max_features\" : [\"auto\", \"log2\", \"sqrt\"],\n",
    "            \"bootstrap\"    : [True, False]\n",
    "        }\n",
    "\n",
    "grid = GridSearchCV(estimator, para_grids, cv=3, n_jobs=-1, verbose=3, scoring = 'neg_mean_squared_error')\n",
    "grid.fit(X_train, y_train)\n",
    "forest = grid.best_estimator_\n",
    "\n",
    "reg_prediction=forest.predict(X_val)\n",
    "\n",
    "print (grid.best_score_, grid.best_params_)\n",
    "'''\n"
   ]
  },
  {
   "cell_type": "markdown",
   "metadata": {},
   "source": [
    "'bootstrap': True, 'max_depth': 10, 'max_features': 'auto', 'min_samples_leaf': 15, 'min_samples_split': 2, 'n_estimators': 1000}"
   ]
  },
  {
   "cell_type": "markdown",
   "metadata": {},
   "source": [
    "## AB예측"
   ]
  },
  {
   "cell_type": "code",
   "execution_count": 15,
   "metadata": {},
   "outputs": [],
   "source": [
    "X= df.drop(columns=['GDAY_DS','T_ID','P_ID','HIT','AB','TB_SC','HIT'])\n",
    "y= df['AB']\n",
    "\n",
    "X_train, X_val, y_train, y_val = train_test_split(X, y, test_size = 0.3, shuffle = True, random_state = 2020)"
   ]
  },
  {
   "cell_type": "code",
   "execution_count": 16,
   "metadata": {},
   "outputs": [
    {
     "data": {
      "text/plain": [
       "RandomForestRegressor(max_depth=10, min_samples_leaf=15, n_estimators=1000)"
      ]
     },
     "execution_count": 16,
     "metadata": {},
     "output_type": "execute_result"
    }
   ],
   "source": [
    "rf1 = RandomForestRegressor(bootstrap= True, max_depth= 10, max_features= 'auto', min_samples_leaf= 15, min_samples_split= 2, n_estimators=1000)\n",
    "rf1.fit(X_train, y_train)"
   ]
  },
  {
   "cell_type": "code",
   "execution_count": 17,
   "metadata": {},
   "outputs": [],
   "source": [
    "AB_predict = rf1.predict(X_val)"
   ]
  },
  {
   "cell_type": "code",
   "execution_count": 18,
   "metadata": {},
   "outputs": [
    {
     "data": {
      "text/plain": [
       "2.0417899690853316"
      ]
     },
     "execution_count": 18,
     "metadata": {},
     "output_type": "execute_result"
    }
   ],
   "source": [
    "mse = mean_squared_error(y_val, AB_predict)\n",
    "mse"
   ]
  },
  {
   "cell_type": "code",
   "execution_count": 19,
   "metadata": {},
   "outputs": [],
   "source": [
    "AB = rf1.predict(test_x)"
   ]
  },
  {
   "cell_type": "markdown",
   "metadata": {},
   "source": [
    "## HIT 예측"
   ]
  },
  {
   "cell_type": "code",
   "execution_count": 20,
   "metadata": {},
   "outputs": [],
   "source": [
    "X= df.drop(columns=['GDAY_DS','T_ID','P_ID','HIT','AB','TB_SC','HIT'])\n",
    "y= df['HIT']\n",
    "\n",
    "X_train, X_val, y_train, y_val = train_test_split(X, y, test_size = 0.3, shuffle = True, random_state = 2020)"
   ]
  },
  {
   "cell_type": "code",
   "execution_count": 21,
   "metadata": {},
   "outputs": [
    {
     "name": "stdout",
     "output_type": "stream",
     "text": [
      "Fitting 3 folds for each of 240 candidates, totalling 720 fits\n"
     ]
    },
    {
     "name": "stderr",
     "output_type": "stream",
     "text": [
      "[Parallel(n_jobs=-1)]: Using backend LokyBackend with 8 concurrent workers.\n",
      "[Parallel(n_jobs=-1)]: Done  16 tasks      | elapsed:  3.2min\n",
      "[Parallel(n_jobs=-1)]: Done 112 tasks      | elapsed: 16.8min\n",
      "[Parallel(n_jobs=-1)]: Done 272 tasks      | elapsed: 35.9min\n",
      "[Parallel(n_jobs=-1)]: Done 496 tasks      | elapsed: 61.2min\n",
      "[Parallel(n_jobs=-1)]: Done 720 out of 720 | elapsed: 87.7min finished\n"
     ]
    },
    {
     "name": "stdout",
     "output_type": "stream",
     "text": [
      "-0.781704276304319 {'max_depth': 10, 'max_features': 'log2', 'min_samples_leaf': 15, 'min_samples_split': 2}\n"
     ]
    }
   ],
   "source": [
    "estimator = RandomForestRegressor(random_state=2020,bootstrap=True,n_estimators=1000)\n",
    "\n",
    "para_grids = {\n",
    "            \"max_depth\" : [None, 10, 30, 50],\n",
    "            \"min_samples_split\" : [2, 3, 5, 10],\n",
    "            \"min_samples_leaf\" : [1, 3, 5, 10, 15],\n",
    "            \"max_features\" : [\"auto\", \"log2\", \"sqrt\"],\n",
    "        }\n",
    "\n",
    "grid = GridSearchCV(estimator, para_grids, cv=3, n_jobs=-1, verbose=3, scoring = 'neg_mean_squared_error')\n",
    "grid.fit(X_train, y_train)\n",
    "forest = grid.best_estimator_\n",
    "\n",
    "HIT_predict=forest.predict(X_val)\n",
    "\n",
    "print (grid.best_score_, grid.best_params_)"
   ]
  },
  {
   "cell_type": "code",
   "execution_count": 22,
   "metadata": {},
   "outputs": [
    {
     "data": {
      "text/plain": [
       "0.792577910453385"
      ]
     },
     "execution_count": 22,
     "metadata": {},
     "output_type": "execute_result"
    }
   ],
   "source": [
    "mse = mean_squared_error(y_val, HIT_predict)\n",
    "mse"
   ]
  },
  {
   "cell_type": "code",
   "execution_count": 23,
   "metadata": {},
   "outputs": [],
   "source": [
    "HIT = forest.predict(test_x)"
   ]
  },
  {
   "cell_type": "code",
   "execution_count": 24,
   "metadata": {},
   "outputs": [],
   "source": [
    "final_x['AB']=AB"
   ]
  },
  {
   "cell_type": "code",
   "execution_count": 25,
   "metadata": {},
   "outputs": [],
   "source": [
    "final_x['HIT']=HIT"
   ]
  },
  {
   "cell_type": "markdown",
   "metadata": {},
   "source": [
    "## AVG 예측"
   ]
  },
  {
   "cell_type": "code",
   "execution_count": 26,
   "metadata": {},
   "outputs": [
    {
     "data": {
      "text/plain": [
       "T_ID\n",
       "HH    23.063135\n",
       "HT    18.146831\n",
       "KT    16.215662\n",
       "LG    21.516315\n",
       "LT    18.034318\n",
       "NC    20.262623\n",
       "OB    17.595179\n",
       "SK    18.400551\n",
       "SS    19.411613\n",
       "WO    21.131291\n",
       "Name: HIT, dtype: float64"
      ]
     },
     "execution_count": 26,
     "metadata": {},
     "output_type": "execute_result"
    }
   ],
   "source": [
    "hit_by_team = final_x['HIT'].groupby(final_x['T_ID']).sum()\n",
    "hit_by_team"
   ]
  },
  {
   "cell_type": "code",
   "execution_count": 27,
   "metadata": {},
   "outputs": [
    {
     "data": {
      "text/plain": [
       "T_ID\n",
       "HH    84.929752\n",
       "HT    65.161534\n",
       "KT    59.322191\n",
       "LG    76.909483\n",
       "LT    64.977832\n",
       "NC    71.709768\n",
       "OB    64.697613\n",
       "SK    67.854586\n",
       "SS    70.081602\n",
       "WO    76.657462\n",
       "Name: AB, dtype: float64"
      ]
     },
     "execution_count": 27,
     "metadata": {},
     "output_type": "execute_result"
    }
   ],
   "source": [
    "AB_by_team = final_x['AB'].groupby(final_x['T_ID']).sum()\n",
    "AB_by_team"
   ]
  },
  {
   "cell_type": "code",
   "execution_count": 28,
   "metadata": {},
   "outputs": [
    {
     "data": {
      "text/plain": [
       "T_ID\n",
       "HH    0.271555\n",
       "HT    0.278490\n",
       "KT    0.273349\n",
       "LG    0.279762\n",
       "LT    0.277546\n",
       "NC    0.282564\n",
       "OB    0.271960\n",
       "SK    0.271176\n",
       "SS    0.276986\n",
       "WO    0.275659\n",
       "dtype: float64"
      ]
     },
     "execution_count": 28,
     "metadata": {},
     "output_type": "execute_result"
    }
   ],
   "source": [
    "AVG_by_team = hit_by_team / AB_by_team\n",
    "AVG_by_team"
   ]
  },
  {
   "cell_type": "markdown",
   "metadata": {},
   "source": [
    "## 참고: 실제 데이터로 구한 AVG"
   ]
  },
  {
   "cell_type": "code",
   "execution_count": 29,
   "metadata": {},
   "outputs": [],
   "source": [
    "batter = batter[batter['GDAY_DS'].dt.year>=2020]"
   ]
  },
  {
   "cell_type": "code",
   "execution_count": 30,
   "metadata": {},
   "outputs": [],
   "source": [
    "hit_2020 = batter['HIT'].groupby(batter['T_ID']).sum()\n",
    "ab_2020 = batter['AB'].groupby(batter['T_ID']).sum()"
   ]
  },
  {
   "cell_type": "code",
   "execution_count": 31,
   "metadata": {},
   "outputs": [
    {
     "data": {
      "text/plain": [
       "T_ID\n",
       "HH    0.239796\n",
       "HT    0.275632\n",
       "KT    0.290933\n",
       "LG    0.279059\n",
       "LT    0.274238\n",
       "NC    0.290121\n",
       "OB    0.302407\n",
       "SK    0.242661\n",
       "SS    0.274465\n",
       "WO    0.270916\n",
       "dtype: float64"
      ]
     },
     "execution_count": 31,
     "metadata": {},
     "output_type": "execute_result"
    }
   ],
   "source": [
    "avg_2020 = hit_2020/ab_2020\n",
    "avg_2020"
   ]
  }
 ],
 "metadata": {
  "kernelspec": {
   "display_name": "Python 3",
   "language": "python",
   "name": "python3"
  },
  "language_info": {
   "codemirror_mode": {
    "name": "ipython",
    "version": 3
   },
   "file_extension": ".py",
   "mimetype": "text/x-python",
   "name": "python",
   "nbconvert_exporter": "python",
   "pygments_lexer": "ipython3",
   "version": "3.8.3"
  }
 },
 "nbformat": 4,
 "nbformat_minor": 4
}
