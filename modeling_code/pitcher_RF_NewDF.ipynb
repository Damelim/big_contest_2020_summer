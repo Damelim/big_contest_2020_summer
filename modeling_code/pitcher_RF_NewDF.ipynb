{
 "cells": [
  {
   "cell_type": "code",
   "execution_count": 106,
   "metadata": {},
   "outputs": [],
   "source": [
    "import numpy as np\n",
    "import pandas as pd\n",
    "import matplotlib.pyplot as plt\n",
    "import seaborn as sns\n",
    "%matplotlib inline"
   ]
  },
  {
   "cell_type": "code",
   "execution_count": 107,
   "metadata": {},
   "outputs": [],
   "source": [
    "from sklearn.model_selection import train_test_split\n",
    "from sklearn.ensemble import RandomForestRegressor"
   ]
  },
  {
   "cell_type": "code",
   "execution_count": 108,
   "metadata": {},
   "outputs": [],
   "source": [
    "## train\n",
    "\n",
    "pitcher_train = pd.read_csv(\"pitcher_train.csv\")\n",
    "batter_train = pd.read_csv(\"batter_train.csv\")\n",
    "\n",
    "## test\n",
    "\n",
    "pitcher_test = pd.read_csv(\"pitcher_test.csv\", index_col  = 0)\n",
    "batter_test = pd.read_csv(\"batter_test.csv\", index_col  = 0)"
   ]
  },
  {
   "cell_type": "code",
   "execution_count": 109,
   "metadata": {},
   "outputs": [
    {
     "name": "stdout",
     "output_type": "stream",
     "text": [
      "(27298, 21)\n",
      "(234, 20)\n",
      "(80395, 13)\n",
      "(299, 12)\n"
     ]
    }
   ],
   "source": [
    "print(pitcher_train.shape)\n",
    "print(pitcher_test.shape)\n",
    "\n",
    "print(batter_train.shape)\n",
    "print(batter_test.shape)"
   ]
  },
  {
   "cell_type": "markdown",
   "metadata": {},
   "source": [
    "## 변수제거"
   ]
  },
  {
   "cell_type": "code",
   "execution_count": 110,
   "metadata": {},
   "outputs": [],
   "source": [
    "batter_train=batter_train[[\"TB_SC\",\"PA-AB\",\"RUN\",\"RBI\",\"SH+SF\",\"KK\",\"SB_trial\",\"BABIP\",\"AB\",\"HIT\"]]\n",
    "batter_test=batter_test[[\"TB_SC\",\"PA-AB\",\"RUN\",\"RBI\",\"SH+SF\",\"KK\",\"SB_trial\",\"BABIP\"]]\n",
    "\n",
    "pitcher_train=pitcher_train[[\"TB_SC\",\"PA-AB\",\"H1\",\"H2\",\"H3\",\"HR\",\"SB_SR\",\"WP\",\"BABIP\",\"KK9\",\"BB9\",\"INN2\",\"ER\"]]\n",
    "pitcher_test=pitcher_test[[\"TB_SC\",\"PA-AB\",\"H1\",\"H2\",\"H3\",\"HR\",\"SB_SR\",\"WP\",\"BABIP\",\"KK9\",\"BB9\"]]"
   ]
  },
  {
   "cell_type": "code",
   "execution_count": 111,
   "metadata": {},
   "outputs": [
    {
     "name": "stdout",
     "output_type": "stream",
     "text": [
      "(27298, 13)\n",
      "(234, 11)\n",
      "(80395, 10)\n",
      "(299, 8)\n"
     ]
    }
   ],
   "source": [
    "print(pitcher_train.shape)\n",
    "print(pitcher_test.shape)\n",
    "\n",
    "print(batter_train.shape)\n",
    "print(batter_test.shape)"
   ]
  },
  {
   "cell_type": "markdown",
   "metadata": {},
   "source": [
    "# Model Train"
   ]
  },
  {
   "cell_type": "code",
   "execution_count": 112,
   "metadata": {},
   "outputs": [],
   "source": [
    "import seaborn as sns\n",
    "import matplotlib.pyplot as plt\n",
    "from sklearn.model_selection import GridSearchCV, train_test_split\n",
    "from sklearn.metrics import mean_squared_error\n",
    "from math import sqrt"
   ]
  },
  {
   "cell_type": "markdown",
   "metadata": {},
   "source": [
    "### 투수 - INN2"
   ]
  },
  {
   "cell_type": "code",
   "execution_count": 113,
   "metadata": {},
   "outputs": [
    {
     "data": {
      "text/plain": [
       "TB_SC     object\n",
       "PA-AB    float64\n",
       "H1       float64\n",
       "H2       float64\n",
       "H3       float64\n",
       "HR       float64\n",
       "SB_SR    float64\n",
       "WP       float64\n",
       "BABIP    float64\n",
       "KK9      float64\n",
       "BB9      float64\n",
       "INN2       int64\n",
       "ER         int64\n",
       "dtype: object"
      ]
     },
     "execution_count": 113,
     "metadata": {},
     "output_type": "execute_result"
    }
   ],
   "source": [
    "pitcher_train.dtypes"
   ]
  },
  {
   "cell_type": "code",
   "execution_count": 114,
   "metadata": {},
   "outputs": [
    {
     "data": {
      "text/plain": [
       "TB_SC    category\n",
       "PA-AB     float64\n",
       "H1        float64\n",
       "H2        float64\n",
       "H3        float64\n",
       "HR        float64\n",
       "SB_SR     float64\n",
       "WP        float64\n",
       "BABIP     float64\n",
       "KK9       float64\n",
       "BB9       float64\n",
       "INN2        int64\n",
       "ER          int64\n",
       "dtype: object"
      ]
     },
     "execution_count": 114,
     "metadata": {},
     "output_type": "execute_result"
    }
   ],
   "source": [
    "cat_features = ['TB_SC']\n",
    "pitcher_train[cat_features] = pitcher_train[cat_features].astype('category')\n",
    "\n",
    "pitcher_train.dtypes"
   ]
  },
  {
   "cell_type": "code",
   "execution_count": 115,
   "metadata": {},
   "outputs": [
    {
     "data": {
      "text/plain": [
       "TB_SC    category\n",
       "PA-AB       int64\n",
       "H1          int64\n",
       "H2          int64\n",
       "H3          int64\n",
       "HR          int64\n",
       "SB_SR     float64\n",
       "WP          int64\n",
       "BABIP     float64\n",
       "KK9       float64\n",
       "BB9       float64\n",
       "dtype: object"
      ]
     },
     "execution_count": 115,
     "metadata": {},
     "output_type": "execute_result"
    }
   ],
   "source": [
    "pitcher_test[cat_features] = pitcher_test[cat_features].astype('category')\n",
    "\n",
    "pitcher_test.dtypes"
   ]
  },
  {
   "cell_type": "code",
   "execution_count": 116,
   "metadata": {},
   "outputs": [
    {
     "name": "stdout",
     "output_type": "stream",
     "text": [
      "(19108, 11)\n",
      "(8190, 11)\n",
      "(27298, 11)\n"
     ]
    }
   ],
   "source": [
    "X = pitcher_train.drop(columns = ['INN2','ER'])\n",
    "y = pitcher_train['INN2']\n",
    "\n",
    "X_train, X_val, y_train, y_val = train_test_split(X, y, test_size = 0.3, shuffle = True, random_state = 2020)\n",
    "\n",
    "print(X_train.shape)\n",
    "print(X_val.shape)\n",
    "print(X.shape)"
   ]
  },
  {
   "cell_type": "code",
   "execution_count": 117,
   "metadata": {},
   "outputs": [],
   "source": [
    "X_train.columns = [\"\".join (c if c.isalnum() else \"_\" for c in str(x)) for x in X_train.columns]\n",
    "X_val.columns = [\"\".join (c if c.isalnum() else \"_\" for c in str(x)) for x in X_val.columns]"
   ]
  },
  {
   "cell_type": "code",
   "execution_count": 118,
   "metadata": {},
   "outputs": [
    {
     "data": {
      "text/plain": [
       "TB_SC    category\n",
       "PA-AB     float64\n",
       "H1        float64\n",
       "H2        float64\n",
       "H3        float64\n",
       "HR        float64\n",
       "SB_SR     float64\n",
       "WP        float64\n",
       "BABIP     float64\n",
       "KK9       float64\n",
       "BB9       float64\n",
       "INN2        int64\n",
       "ER          int64\n",
       "dtype: object"
      ]
     },
     "execution_count": 118,
     "metadata": {},
     "output_type": "execute_result"
    }
   ],
   "source": [
    "# same code again (not needed but doesn't bite)\n",
    "cat_features = ['TB_SC']\n",
    "pitcher_train[cat_features] = pitcher_train[cat_features].astype('category')\n",
    "\n",
    "pitcher_train.dtypes"
   ]
  },
  {
   "cell_type": "code",
   "execution_count": 119,
   "metadata": {},
   "outputs": [
    {
     "data": {
      "text/html": [
       "<div>\n",
       "<style scoped>\n",
       "    .dataframe tbody tr th:only-of-type {\n",
       "        vertical-align: middle;\n",
       "    }\n",
       "\n",
       "    .dataframe tbody tr th {\n",
       "        vertical-align: top;\n",
       "    }\n",
       "\n",
       "    .dataframe thead th {\n",
       "        text-align: right;\n",
       "    }\n",
       "</style>\n",
       "<table border=\"1\" class=\"dataframe\">\n",
       "  <thead>\n",
       "    <tr style=\"text-align: right;\">\n",
       "      <th></th>\n",
       "      <th>PA-AB</th>\n",
       "      <th>H1</th>\n",
       "      <th>H2</th>\n",
       "      <th>H3</th>\n",
       "      <th>HR</th>\n",
       "      <th>SB_SR</th>\n",
       "      <th>WP</th>\n",
       "      <th>BABIP</th>\n",
       "      <th>KK9</th>\n",
       "      <th>BB9</th>\n",
       "      <th>INN2</th>\n",
       "      <th>ER</th>\n",
       "      <th>TB_SC_B</th>\n",
       "      <th>TB_SC_T</th>\n",
       "    </tr>\n",
       "  </thead>\n",
       "  <tbody>\n",
       "    <tr>\n",
       "      <th>0</th>\n",
       "      <td>1.0</td>\n",
       "      <td>3.0</td>\n",
       "      <td>2.0</td>\n",
       "      <td>0.0</td>\n",
       "      <td>0.0</td>\n",
       "      <td>0.0</td>\n",
       "      <td>0.0</td>\n",
       "      <td>0.277778</td>\n",
       "      <td>3.600000</td>\n",
       "      <td>1.800000</td>\n",
       "      <td>19</td>\n",
       "      <td>2</td>\n",
       "      <td>0</td>\n",
       "      <td>1</td>\n",
       "    </tr>\n",
       "    <tr>\n",
       "      <th>1</th>\n",
       "      <td>1.0</td>\n",
       "      <td>7.0</td>\n",
       "      <td>2.0</td>\n",
       "      <td>0.0</td>\n",
       "      <td>0.0</td>\n",
       "      <td>0.0</td>\n",
       "      <td>0.0</td>\n",
       "      <td>0.333333</td>\n",
       "      <td>2.842105</td>\n",
       "      <td>0.000000</td>\n",
       "      <td>16</td>\n",
       "      <td>8</td>\n",
       "      <td>1</td>\n",
       "      <td>0</td>\n",
       "    </tr>\n",
       "    <tr>\n",
       "      <th>2</th>\n",
       "      <td>2.0</td>\n",
       "      <td>7.0</td>\n",
       "      <td>1.0</td>\n",
       "      <td>0.0</td>\n",
       "      <td>1.0</td>\n",
       "      <td>0.0</td>\n",
       "      <td>0.0</td>\n",
       "      <td>0.380952</td>\n",
       "      <td>3.375000</td>\n",
       "      <td>3.375000</td>\n",
       "      <td>15</td>\n",
       "      <td>5</td>\n",
       "      <td>1</td>\n",
       "      <td>0</td>\n",
       "    </tr>\n",
       "    <tr>\n",
       "      <th>3</th>\n",
       "      <td>1.0</td>\n",
       "      <td>6.0</td>\n",
       "      <td>1.0</td>\n",
       "      <td>0.0</td>\n",
       "      <td>2.0</td>\n",
       "      <td>1.0</td>\n",
       "      <td>0.0</td>\n",
       "      <td>0.368421</td>\n",
       "      <td>3.600000</td>\n",
       "      <td>1.800000</td>\n",
       "      <td>21</td>\n",
       "      <td>0</td>\n",
       "      <td>1</td>\n",
       "      <td>0</td>\n",
       "    </tr>\n",
       "    <tr>\n",
       "      <th>4</th>\n",
       "      <td>3.0</td>\n",
       "      <td>2.0</td>\n",
       "      <td>0.0</td>\n",
       "      <td>0.0</td>\n",
       "      <td>0.0</td>\n",
       "      <td>0.0</td>\n",
       "      <td>0.0</td>\n",
       "      <td>0.100000</td>\n",
       "      <td>2.571429</td>\n",
       "      <td>3.857143</td>\n",
       "      <td>15</td>\n",
       "      <td>3</td>\n",
       "      <td>1</td>\n",
       "      <td>0</td>\n",
       "    </tr>\n",
       "  </tbody>\n",
       "</table>\n",
       "</div>"
      ],
      "text/plain": [
       "   PA-AB   H1   H2   H3   HR  SB_SR   WP     BABIP       KK9       BB9  INN2  \\\n",
       "0    1.0  3.0  2.0  0.0  0.0    0.0  0.0  0.277778  3.600000  1.800000    19   \n",
       "1    1.0  7.0  2.0  0.0  0.0    0.0  0.0  0.333333  2.842105  0.000000    16   \n",
       "2    2.0  7.0  1.0  0.0  1.0    0.0  0.0  0.380952  3.375000  3.375000    15   \n",
       "3    1.0  6.0  1.0  0.0  2.0    1.0  0.0  0.368421  3.600000  1.800000    21   \n",
       "4    3.0  2.0  0.0  0.0  0.0    0.0  0.0  0.100000  2.571429  3.857143    15   \n",
       "\n",
       "   ER  TB_SC_B  TB_SC_T  \n",
       "0   2        0        1  \n",
       "1   8        1        0  \n",
       "2   5        1        0  \n",
       "3   0        1        0  \n",
       "4   3        1        0  "
      ]
     },
     "execution_count": 119,
     "metadata": {},
     "output_type": "execute_result"
    }
   ],
   "source": [
    "#sklearn 을 이용한 random forest는 dummy변수화 해줘야 함.\n",
    "pitcher_train = pd.get_dummies(pitcher_train)\n",
    "pitcher_train.head()"
   ]
  },
  {
   "cell_type": "code",
   "execution_count": 120,
   "metadata": {},
   "outputs": [
    {
     "data": {
      "text/html": [
       "<div>\n",
       "<style scoped>\n",
       "    .dataframe tbody tr th:only-of-type {\n",
       "        vertical-align: middle;\n",
       "    }\n",
       "\n",
       "    .dataframe tbody tr th {\n",
       "        vertical-align: top;\n",
       "    }\n",
       "\n",
       "    .dataframe thead th {\n",
       "        text-align: right;\n",
       "    }\n",
       "</style>\n",
       "<table border=\"1\" class=\"dataframe\">\n",
       "  <thead>\n",
       "    <tr style=\"text-align: right;\">\n",
       "      <th></th>\n",
       "      <th>PA-AB</th>\n",
       "      <th>H1</th>\n",
       "      <th>H2</th>\n",
       "      <th>H3</th>\n",
       "      <th>HR</th>\n",
       "      <th>SB_SR</th>\n",
       "      <th>WP</th>\n",
       "      <th>BABIP</th>\n",
       "      <th>KK9</th>\n",
       "      <th>BB9</th>\n",
       "      <th>TB_SC_B</th>\n",
       "      <th>TB_SC_T</th>\n",
       "    </tr>\n",
       "    <tr>\n",
       "      <th>B</th>\n",
       "      <th></th>\n",
       "      <th></th>\n",
       "      <th></th>\n",
       "      <th></th>\n",
       "      <th></th>\n",
       "      <th></th>\n",
       "      <th></th>\n",
       "      <th></th>\n",
       "      <th></th>\n",
       "      <th></th>\n",
       "      <th></th>\n",
       "      <th></th>\n",
       "    </tr>\n",
       "  </thead>\n",
       "  <tbody>\n",
       "    <tr>\n",
       "      <th>0</th>\n",
       "      <td>2</td>\n",
       "      <td>4</td>\n",
       "      <td>1</td>\n",
       "      <td>0</td>\n",
       "      <td>0</td>\n",
       "      <td>0.0</td>\n",
       "      <td>0</td>\n",
       "      <td>0.294118</td>\n",
       "      <td>6.000000</td>\n",
       "      <td>3.000000</td>\n",
       "      <td>0</td>\n",
       "      <td>1</td>\n",
       "    </tr>\n",
       "    <tr>\n",
       "      <th>1</th>\n",
       "      <td>4</td>\n",
       "      <td>0</td>\n",
       "      <td>0</td>\n",
       "      <td>0</td>\n",
       "      <td>1</td>\n",
       "      <td>0.0</td>\n",
       "      <td>0</td>\n",
       "      <td>0.000000</td>\n",
       "      <td>0.000000</td>\n",
       "      <td>54.000000</td>\n",
       "      <td>1</td>\n",
       "      <td>0</td>\n",
       "    </tr>\n",
       "    <tr>\n",
       "      <th>0</th>\n",
       "      <td>2</td>\n",
       "      <td>8</td>\n",
       "      <td>1</td>\n",
       "      <td>1</td>\n",
       "      <td>1</td>\n",
       "      <td>0.0</td>\n",
       "      <td>1</td>\n",
       "      <td>0.526316</td>\n",
       "      <td>11.571429</td>\n",
       "      <td>3.857143</td>\n",
       "      <td>0</td>\n",
       "      <td>1</td>\n",
       "    </tr>\n",
       "    <tr>\n",
       "      <th>1</th>\n",
       "      <td>5</td>\n",
       "      <td>4</td>\n",
       "      <td>0</td>\n",
       "      <td>0</td>\n",
       "      <td>0</td>\n",
       "      <td>0.0</td>\n",
       "      <td>0</td>\n",
       "      <td>0.200000</td>\n",
       "      <td>5.400000</td>\n",
       "      <td>6.750000</td>\n",
       "      <td>1</td>\n",
       "      <td>0</td>\n",
       "    </tr>\n",
       "    <tr>\n",
       "      <th>0</th>\n",
       "      <td>0</td>\n",
       "      <td>0</td>\n",
       "      <td>0</td>\n",
       "      <td>0</td>\n",
       "      <td>0</td>\n",
       "      <td>0.0</td>\n",
       "      <td>0</td>\n",
       "      <td>0.000000</td>\n",
       "      <td>0.000000</td>\n",
       "      <td>0.000000</td>\n",
       "      <td>0</td>\n",
       "      <td>1</td>\n",
       "    </tr>\n",
       "  </tbody>\n",
       "</table>\n",
       "</div>"
      ],
      "text/plain": [
       "   PA-AB  H1  H2  H3  HR  SB_SR  WP     BABIP        KK9        BB9  TB_SC_B  \\\n",
       "B                                                                              \n",
       "0      2   4   1   0   0    0.0   0  0.294118   6.000000   3.000000        0   \n",
       "1      4   0   0   0   1    0.0   0  0.000000   0.000000  54.000000        1   \n",
       "0      2   8   1   1   1    0.0   1  0.526316  11.571429   3.857143        0   \n",
       "1      5   4   0   0   0    0.0   0  0.200000   5.400000   6.750000        1   \n",
       "0      0   0   0   0   0    0.0   0  0.000000   0.000000   0.000000        0   \n",
       "\n",
       "   TB_SC_T  \n",
       "B           \n",
       "0        1  \n",
       "1        0  \n",
       "0        1  \n",
       "1        0  \n",
       "0        1  "
      ]
     },
     "execution_count": 120,
     "metadata": {},
     "output_type": "execute_result"
    }
   ],
   "source": [
    "pitcher_test = pd.get_dummies(pitcher_test)\n",
    "pitcher_test.head()"
   ]
  },
  {
   "cell_type": "code",
   "execution_count": 121,
   "metadata": {},
   "outputs": [
    {
     "name": "stdout",
     "output_type": "stream",
     "text": [
      "(19108, 12)\n",
      "(8190, 12)\n",
      "(27298, 12)\n"
     ]
    }
   ],
   "source": [
    "X = pitcher_train.drop(columns = ['INN2','ER'])\n",
    "y = pitcher_train['INN2']\n",
    "\n",
    "X_train, X_val, y_train, y_val = train_test_split(X, y, test_size = 0.3, shuffle = True, random_state = 2020)\n",
    "\n",
    "print(X_train.shape)\n",
    "print(X_val.shape)\n",
    "\n",
    "print(X.shape)"
   ]
  },
  {
   "cell_type": "code",
   "execution_count": 122,
   "metadata": {},
   "outputs": [
    {
     "name": "stdout",
     "output_type": "stream",
     "text": [
      "Fitting 3 folds for each of 324 candidates, totalling 972 fits\n"
     ]
    },
    {
     "name": "stderr",
     "output_type": "stream",
     "text": [
      "[Parallel(n_jobs=-1)]: Using backend LokyBackend with 4 concurrent workers.\n",
      "[Parallel(n_jobs=-1)]: Done  24 tasks      | elapsed:  4.8min\n",
      "[Parallel(n_jobs=-1)]: Done 120 tasks      | elapsed: 13.8min\n",
      "[Parallel(n_jobs=-1)]: Done 280 tasks      | elapsed: 24.8min\n",
      "[Parallel(n_jobs=-1)]: Done 504 tasks      | elapsed: 47.4min\n",
      "[Parallel(n_jobs=-1)]: Done 792 tasks      | elapsed: 74.1min\n",
      "[Parallel(n_jobs=-1)]: Done 972 out of 972 | elapsed: 94.0min finished\n"
     ]
    },
    {
     "name": "stdout",
     "output_type": "stream",
     "text": [
      "-12.929573454746972 {'bootstrap': True, 'max_depth': 10, 'max_features': 'auto', 'min_samples_leaf': 5, 'min_samples_split': 2, 'n_estimators': 1000}\n"
     ]
    }
   ],
   "source": [
    "estimator = RandomForestRegressor(random_state=2020)\n",
    "\n",
    "para_grids = {\n",
    "            \"n_estimators\" : [500, 1000],\n",
    "            \"max_depth\" : [None, 10, 30],\n",
    "            \"min_samples_split\" : [2, 5, 10],\n",
    "            \"min_samples_leaf\" : [1, 5, 10],\n",
    "            \"max_features\" : [\"auto\", \"log2\", \"sqrt\"],\n",
    "            \"bootstrap\"    : [True, False]\n",
    "        }\n",
    "\n",
    "grid = GridSearchCV(estimator, para_grids, cv=3, n_jobs=-1, verbose=3, scoring = 'neg_mean_squared_error')\n",
    "grid.fit(X_train, y_train)\n",
    "forest = grid.best_estimator_\n",
    "\n",
    "reg_prediction=forest.predict(X_val)\n",
    "\n",
    "print (grid.best_score_, grid.best_params_)"
   ]
  },
  {
   "cell_type": "code",
   "execution_count": 123,
   "metadata": {},
   "outputs": [
    {
     "data": {
      "text/plain": [
       "12.708676002629474"
      ]
     },
     "execution_count": 123,
     "metadata": {},
     "output_type": "execute_result"
    }
   ],
   "source": [
    "mse = mean_squared_error(y_val, reg_prediction)\n",
    "mse"
   ]
  },
  {
   "cell_type": "code",
   "execution_count": 124,
   "metadata": {},
   "outputs": [
    {
     "data": {
      "text/plain": [
       "array([15.62867451,  6.33510946, 18.15569378, 15.69883308,  3.2133788 ,\n",
       "        3.19905375,  3.47753258,  4.62253097, 17.326515  , 12.10947042,\n",
       "        3.99920735, 14.41589452, 16.08088534,  3.1854672 , 16.55184964,\n",
       "        3.30443755, 18.56353884, 15.53030601,  3.27952701,  2.87866206,\n",
       "        6.93052616, 16.2404967 , 14.02350744,  3.19323307, 16.14560241,\n",
       "        3.35883041,  3.19640742, 16.81676464,  7.17330764,  8.76954267,\n",
       "        3.14597616,  8.79948707,  3.43751721,  2.90546545, 15.66281066,\n",
       "        3.21990429, 15.30169015,  3.24111575,  3.28405722,  4.61396533,\n",
       "        3.2133788 ,  3.22047235, 13.20141418,  3.27886648,  3.23343038,\n",
       "        3.36279188,  3.44837715,  3.21366848,  3.22047235,  3.23325162,\n",
       "        6.26099332,  3.42512191,  3.27752755, 17.4012809 ,  3.20413854,\n",
       "        7.51257674, 10.51508199,  3.19339589,  5.49323982, 17.02088923,\n",
       "        3.2133788 ,  3.30230731,  4.67822741,  3.14277585,  3.38745114,\n",
       "        3.55365211,  2.90546545,  3.21883848,  3.19339589,  3.45259603,\n",
       "        4.41269467,  3.18238757,  3.19928891,  3.50926552,  3.31632593,\n",
       "        3.38384887,  3.52414493,  5.45606707,  3.23445477,  3.23173234,\n",
       "        3.34088387, 14.42001872,  6.46949296,  2.99732155,  3.2133788 ,\n",
       "        3.65367546,  3.29320979,  3.2133788 ,  4.10348512,  4.21639375,\n",
       "        3.22047235,  3.35044743, 17.23093115,  3.26975843,  3.28215004,\n",
       "       10.23455006, 17.88274419,  3.59398717,  3.29428632,  6.2131984 ,\n",
       "        3.6699522 , 13.09838001,  3.23685008,  3.85037611,  3.21327553,\n",
       "        3.11392694,  3.2133788 , 16.88894442, 16.2806526 ,  3.63644801,\n",
       "        3.28015503,  3.19323307,  3.49841977, 15.73214709, 14.59226219,\n",
       "       15.85276613,  3.14058365,  5.16808914,  3.15816964,  3.35232787,\n",
       "       16.30777806,  3.43939953,  3.18898887,  3.34093535,  3.30083089,\n",
       "       11.87968368, 13.05816019,  3.31461747, 10.08670679,  3.28215004,\n",
       "        3.53869012,  3.95018199, 15.2193148 , 11.01078136, 14.05603691,\n",
       "        3.38745114,  3.19145586,  4.36217621,  3.61141116, 10.50134666,\n",
       "        4.05811665,  4.60019942,  3.49841977,  5.0528747 ,  3.84132226,\n",
       "        8.75161661,  3.26446005, 16.57731574,  3.22047235,  3.81981667,\n",
       "        3.58099195,  3.39927508, 16.84500586,  3.59973973,  3.28131774,\n",
       "       10.20901421,  3.22627787,  3.91605981, 17.76006314,  3.19339589,\n",
       "       17.16485664,  6.71326386,  3.22180752,  3.64376195, 13.57807011,\n",
       "        3.3922037 ,  3.08592091,  3.31461747, 15.87725254,  3.1497039 ,\n",
       "        3.18238757, 13.72853592, 14.5684419 , 10.55258809, 10.71017693,\n",
       "       12.30509749,  3.32941625, 13.51090733,  8.71962221, 16.25609726,\n",
       "        3.58727143, 12.87149213, 18.39313544,  3.26490268,  3.78226359,\n",
       "        2.86501466,  3.2776226 ,  3.22047235, 16.85413189,  3.60163865,\n",
       "        7.06602592,  3.22627787,  3.2133788 ,  9.80901159,  2.99732155,\n",
       "        3.19640742,  3.46681576,  6.15422987,  3.23343038,  3.2776226 ,\n",
       "        3.22047235,  3.26389146,  3.26619448,  3.2133788 ,  3.21281469,\n",
       "       14.94436709,  3.14879745, 16.90733657,  3.24258459,  3.21883848,\n",
       "        3.38656201, 16.27758445,  2.90723343, 15.71336612, 15.13318851,\n",
       "        3.47753258,  3.15429691, 13.79942426,  3.81236823, 16.58715624,\n",
       "        3.5610621 ,  3.13946395,  6.01707685,  3.0233608 ,  3.34366627,\n",
       "        3.28215004, 15.41618021,  3.23173234,  3.23325162,  3.22082954,\n",
       "        4.52029783,  3.97296242,  3.2331578 ,  3.569008  ])"
      ]
     },
     "execution_count": 124,
     "metadata": {},
     "output_type": "execute_result"
    }
   ],
   "source": [
    "INN2_predicted_rf = grid.predict(pitcher_test)\n",
    "INN2_predicted_rf"
   ]
  },
  {
   "cell_type": "code",
   "execution_count": 125,
   "metadata": {},
   "outputs": [
    {
     "data": {
      "text/plain": [
       "H1         0.602084\n",
       "BABIP      0.175121\n",
       "PA-AB      0.066586\n",
       "BB9        0.054220\n",
       "KK9        0.045278\n",
       "H2         0.036780\n",
       "HR         0.008554\n",
       "SB_SR      0.003253\n",
       "WP         0.002329\n",
       "TB_SC_B    0.002304\n",
       "TB_SC_T    0.002253\n",
       "H3         0.001238\n",
       "dtype: float64"
      ]
     },
     "execution_count": 125,
     "metadata": {},
     "output_type": "execute_result"
    }
   ],
   "source": [
    "rf_feature_importance = grid.best_estimator_.feature_importances_\n",
    "rf_feature_imp=pd.Series(rf_feature_importance,index=X_train.columns).sort_values(ascending=False)\n",
    "rf_feature_imp"
   ]
  },
  {
   "cell_type": "code",
   "execution_count": 126,
   "metadata": {},
   "outputs": [
    {
     "data": {
      "text/plain": [
       "<matplotlib.axes._subplots.AxesSubplot at 0x2abb11e4dc8>"
      ]
     },
     "execution_count": 126,
     "metadata": {},
     "output_type": "execute_result"
    },
    {
     "data": {
      "image/png": "[encoded data removed]",
      "text/plain": [
       "<Figure size 864x720 with 1 Axes>"
      ]
     },
     "metadata": {
      "needs_background": "light"
     },
     "output_type": "display_data"
    }
   ],
   "source": [
    "plt.figure(figsize=(12,10))\n",
    "plt.title(\"Random Forest feature Importance For Pitchers\")\n",
    "sns.barplot(x=rf_feature_imp[0:30], y=rf_feature_imp.index[0:30])"
   ]
  },
  {
   "cell_type": "markdown",
   "metadata": {},
   "source": [
    "## 투수-ER"
   ]
  },
  {
   "cell_type": "code",
   "execution_count": 127,
   "metadata": {},
   "outputs": [
    {
     "name": "stdout",
     "output_type": "stream",
     "text": [
      "(19108, 12)\n",
      "(8190, 12)\n",
      "(27298, 12)\n"
     ]
    }
   ],
   "source": [
    "X = pitcher_train.drop(columns = ['INN2','ER'])\n",
    "y = pitcher_train['ER']\n",
    "\n",
    "X_train, X_val, y_train, y_val = train_test_split(X, y, test_size = 0.3, shuffle = True, random_state = 2020)\n",
    "\n",
    "print(X_train.shape)\n",
    "print(X_val.shape)\n",
    "\n",
    "print(X.shape)"
   ]
  },
  {
   "cell_type": "code",
   "execution_count": 128,
   "metadata": {},
   "outputs": [
    {
     "name": "stdout",
     "output_type": "stream",
     "text": [
      "Fitting 3 folds for each of 324 candidates, totalling 972 fits\n"
     ]
    },
    {
     "name": "stderr",
     "output_type": "stream",
     "text": [
      "[Parallel(n_jobs=-1)]: Using backend LokyBackend with 4 concurrent workers.\n",
      "[Parallel(n_jobs=-1)]: Done  24 tasks      | elapsed:  3.7min\n",
      "[Parallel(n_jobs=-1)]: Done 120 tasks      | elapsed: 11.5min\n",
      "[Parallel(n_jobs=-1)]: Done 280 tasks      | elapsed: 21.7min\n",
      "[Parallel(n_jobs=-1)]: Done 504 tasks      | elapsed: 41.6min\n",
      "[Parallel(n_jobs=-1)]: Done 792 tasks      | elapsed: 67.1min\n",
      "[Parallel(n_jobs=-1)]: Done 972 out of 972 | elapsed: 86.5min finished\n"
     ]
    },
    {
     "name": "stdout",
     "output_type": "stream",
     "text": [
      "-2.044278431463109 {'bootstrap': True, 'max_depth': 10, 'max_features': 'log2', 'min_samples_leaf': 5, 'min_samples_split': 2, 'n_estimators': 500}\n"
     ]
    }
   ],
   "source": [
    "estimator = RandomForestRegressor(random_state=2020)\n",
    "\n",
    "para_grids = {\n",
    "            \"n_estimators\" : [500, 1000],\n",
    "            \"max_depth\" : [None, 10, 30],\n",
    "            \"min_samples_split\" : [2, 5, 10],\n",
    "            \"min_samples_leaf\" : [1, 5, 10],\n",
    "            \"max_features\" : [\"auto\", \"log2\", \"sqrt\"],\n",
    "            \"bootstrap\"    : [True, False]\n",
    "        }\n",
    "\n",
    "grid = GridSearchCV(estimator, para_grids, cv=3, n_jobs=-1, verbose=3, scoring = 'neg_mean_squared_error')\n",
    "grid.fit(X_train, y_train)\n",
    "forest = grid.best_estimator_\n",
    "\n",
    "reg_prediction=forest.predict(X_val)\n",
    "\n",
    "print (grid.best_score_, grid.best_params_)"
   ]
  },
  {
   "cell_type": "code",
   "execution_count": 129,
   "metadata": {},
   "outputs": [
    {
     "data": {
      "text/plain": [
       "2.019370668538266"
      ]
     },
     "execution_count": 129,
     "metadata": {},
     "output_type": "execute_result"
    }
   ],
   "source": [
    "mse = mean_squared_error(y_val, reg_prediction)\n",
    "mse"
   ]
  },
  {
   "cell_type": "code",
   "execution_count": 130,
   "metadata": {},
   "outputs": [
    {
     "data": {
      "text/plain": [
       "array([2.48283356, 0.78228958, 2.6570999 , 2.9455165 , 0.57439221,\n",
       "       0.66999314, 0.4484235 , 0.99329434, 2.69274409, 2.46119238,\n",
       "       0.87917228, 2.77987665, 2.37280416, 0.59164805, 1.99003274,\n",
       "       0.68910566, 2.99190036, 2.77668054, 0.57752858, 0.58584009,\n",
       "       1.52938656, 2.45375941, 2.9758702 , 0.60905843, 2.53063866,\n",
       "       0.60067828, 0.6031663 , 2.04878081, 1.68648116, 1.60610853,\n",
       "       0.82511559, 1.63143305, 0.79381292, 0.48852761, 2.73077853,\n",
       "       0.54748098, 2.06167477, 0.66856943, 0.545237  , 0.78010816,\n",
       "       0.57439221, 0.55283757, 1.91036471, 0.6493955 , 0.57422263,\n",
       "       0.60172984, 0.62803184, 0.63521388, 0.55283757, 0.5991527 ,\n",
       "       1.66934597, 0.68001475, 0.58740951, 2.14045547, 0.68584336,\n",
       "       1.59403125, 2.23698209, 0.49396873, 1.56411956, 2.67083734,\n",
       "       0.57439221, 0.65939306, 0.78577353, 0.46193604, 0.55837282,\n",
       "       0.53132727, 0.48852761, 0.52441143, 0.49396873, 0.66040845,\n",
       "       0.79238323, 0.58433271, 0.71953006, 0.92496592, 0.61118964,\n",
       "       0.61016367, 0.74963403, 1.66156398, 0.58909136, 0.64171798,\n",
       "       0.58681224, 2.36578842, 0.79628684, 0.49308648, 0.57439221,\n",
       "       0.48546197, 0.70065309, 0.57439221, 0.95419477, 0.83218626,\n",
       "       0.55283757, 0.67421509, 2.63295171, 0.57912043, 0.56555648,\n",
       "       2.04924533, 2.5710263 , 0.48713733, 0.76340393, 1.91465255,\n",
       "       0.67750524, 2.9256646 , 0.42505191, 1.09121819, 0.60234673,\n",
       "       0.55732932, 0.57439221, 2.68066042, 3.12774716, 0.70094448,\n",
       "       0.66572354, 0.60905843, 0.72307917, 2.94180414, 2.48601318,\n",
       "       2.03964588, 0.6776691 , 1.02421061, 0.64613921, 0.66761369,\n",
       "       2.0457667 , 0.84379723, 0.59123866, 0.71851732, 0.75117621,\n",
       "       2.43031184, 2.70018791, 0.72468406, 2.01369683, 0.56555648,\n",
       "       0.68841446, 0.87886942, 2.38418369, 2.36787251, 2.16720808,\n",
       "       0.55837282, 0.69724065, 0.82688446, 1.38147985, 1.51113674,\n",
       "       1.05978159, 0.87809276, 0.72307917, 1.20043066, 0.90274195,\n",
       "       1.76446678, 0.63948776, 2.85802461, 0.55283757, 0.74566625,\n",
       "       0.72575041, 0.57991153, 2.61100759, 0.8621006 , 0.62859076,\n",
       "       2.15427839, 0.55485137, 0.60348099, 1.9755734 , 0.49396873,\n",
       "       2.4420962 , 1.85969506, 0.67008185, 0.6798895 , 2.2782643 ,\n",
       "       0.91731166, 0.9172846 , 0.72468406, 2.6921146 , 0.7383979 ,\n",
       "       0.58433271, 2.45960513, 2.74969807, 1.98169942, 2.09202754,\n",
       "       2.82768515, 0.72256993, 2.25364982, 2.30060897, 2.6241424 ,\n",
       "       0.72296869, 2.25090571, 2.3224354 , 0.60503722, 1.13898385,\n",
       "       0.60317124, 0.59804999, 0.55283757, 2.50521514, 0.72200234,\n",
       "       1.72436423, 0.55485137, 0.57439221, 1.99116746, 0.49308648,\n",
       "       0.6031663 , 0.72509316, 1.03546732, 0.57422263, 0.59804999,\n",
       "       0.55283757, 0.68713089, 0.57973692, 0.57439221, 0.54438229,\n",
       "       2.62268585, 0.51953715, 2.53578945, 0.5644718 , 0.52441143,\n",
       "       0.69169733, 2.78468815, 0.61354498, 2.65056615, 2.62362998,\n",
       "       0.4484235 , 0.58965628, 2.45438584, 0.63524697, 2.82462275,\n",
       "       0.7136808 , 0.89309205, 1.27193248, 0.62078687, 0.75870646,\n",
       "       0.56555648, 2.84882134, 0.64171798, 0.5991527 , 0.74544303,\n",
       "       1.00631461, 0.6640315 , 0.70739749, 0.60630944])"
      ]
     },
     "execution_count": 130,
     "metadata": {},
     "output_type": "execute_result"
    }
   ],
   "source": [
    "ER_predicted_rf = grid.predict(pitcher_test)\n",
    "ER_predicted_rf"
   ]
  },
  {
   "cell_type": "code",
   "execution_count": 131,
   "metadata": {},
   "outputs": [
    {
     "data": {
      "text/plain": [
       "H1         0.313901\n",
       "PA-AB      0.144667\n",
       "BABIP      0.139558\n",
       "BB9        0.133502\n",
       "H2         0.088781\n",
       "KK9        0.079677\n",
       "HR         0.048271\n",
       "SB_SR      0.020882\n",
       "WP         0.011150\n",
       "TB_SC_T    0.008133\n",
       "TB_SC_B    0.007807\n",
       "H3         0.003670\n",
       "dtype: float64"
      ]
     },
     "execution_count": 131,
     "metadata": {},
     "output_type": "execute_result"
    }
   ],
   "source": [
    "rf_feature_importance = grid.best_estimator_.feature_importances_\n",
    "rf_feature_imp=pd.Series(rf_feature_importance,index=X_train.columns).sort_values(ascending=False)\n",
    "rf_feature_imp"
   ]
  },
  {
   "cell_type": "code",
   "execution_count": 132,
   "metadata": {},
   "outputs": [
    {
     "data": {
      "text/plain": [
       "<matplotlib.axes._subplots.AxesSubplot at 0x2abb21f0a48>"
      ]
     },
     "execution_count": 132,
     "metadata": {},
     "output_type": "execute_result"
    },
    {
     "data": {
      "image/png": "[encoded data removed]",
      "text/plain": [
       "<Figure size 864x720 with 1 Axes>"
      ]
     },
     "metadata": {
      "needs_background": "light"
     },
     "output_type": "display_data"
    }
   ],
   "source": [
    "plt.figure(figsize=(12,10))\n",
    "plt.title(\"Random Forest feature Importance For Pitchers\")\n",
    "sns.barplot(x=rf_feature_imp[0:30], y=rf_feature_imp.index[0:30])"
   ]
  },
  {
   "cell_type": "markdown",
   "metadata": {},
   "source": [
    "## 입력"
   ]
  },
  {
   "cell_type": "code",
   "execution_count": 134,
   "metadata": {},
   "outputs": [
    {
     "data": {
      "text/html": [
       "<div>\n",
       "<style scoped>\n",
       "    .dataframe tbody tr th:only-of-type {\n",
       "        vertical-align: middle;\n",
       "    }\n",
       "\n",
       "    .dataframe tbody tr th {\n",
       "        vertical-align: top;\n",
       "    }\n",
       "\n",
       "    .dataframe thead th {\n",
       "        text-align: right;\n",
       "    }\n",
       "</style>\n",
       "<table border=\"1\" class=\"dataframe\">\n",
       "  <thead>\n",
       "    <tr style=\"text-align: right;\">\n",
       "      <th></th>\n",
       "      <th>T</th>\n",
       "      <th>GDAY_DS</th>\n",
       "      <th>T_ID</th>\n",
       "      <th>P_ID</th>\n",
       "      <th>TB_SC</th>\n",
       "      <th>BF</th>\n",
       "      <th>PA-AB</th>\n",
       "      <th>AB</th>\n",
       "      <th>HIT</th>\n",
       "      <th>H1</th>\n",
       "      <th>H2</th>\n",
       "      <th>H3</th>\n",
       "      <th>HR</th>\n",
       "      <th>SB_SR</th>\n",
       "      <th>KK</th>\n",
       "      <th>WP</th>\n",
       "      <th>SLG</th>\n",
       "      <th>BABIP</th>\n",
       "      <th>KK9</th>\n",
       "      <th>BB9</th>\n",
       "    </tr>\n",
       "    <tr>\n",
       "      <th>B</th>\n",
       "      <th></th>\n",
       "      <th></th>\n",
       "      <th></th>\n",
       "      <th></th>\n",
       "      <th></th>\n",
       "      <th></th>\n",
       "      <th></th>\n",
       "      <th></th>\n",
       "      <th></th>\n",
       "      <th></th>\n",
       "      <th></th>\n",
       "      <th></th>\n",
       "      <th></th>\n",
       "      <th></th>\n",
       "      <th></th>\n",
       "      <th></th>\n",
       "      <th></th>\n",
       "      <th></th>\n",
       "      <th></th>\n",
       "      <th></th>\n",
       "    </tr>\n",
       "  </thead>\n",
       "  <tbody>\n",
       "    <tr>\n",
       "      <th>0</th>\n",
       "      <td>1</td>\n",
       "      <td>2020-07-17</td>\n",
       "      <td>KT</td>\n",
       "      <td>50030</td>\n",
       "      <td>T</td>\n",
       "      <td>91</td>\n",
       "      <td>2</td>\n",
       "      <td>21</td>\n",
       "      <td>5</td>\n",
       "      <td>4</td>\n",
       "      <td>1</td>\n",
       "      <td>0</td>\n",
       "      <td>0</td>\n",
       "      <td>0.0</td>\n",
       "      <td>4</td>\n",
       "      <td>0</td>\n",
       "      <td>1</td>\n",
       "      <td>0.294118</td>\n",
       "      <td>6.000000</td>\n",
       "      <td>3.000000</td>\n",
       "    </tr>\n",
       "    <tr>\n",
       "      <th>1</th>\n",
       "      <td>0</td>\n",
       "      <td>2020-06-10</td>\n",
       "      <td>KT</td>\n",
       "      <td>50036</td>\n",
       "      <td>B</td>\n",
       "      <td>19</td>\n",
       "      <td>4</td>\n",
       "      <td>3</td>\n",
       "      <td>1</td>\n",
       "      <td>0</td>\n",
       "      <td>0</td>\n",
       "      <td>0</td>\n",
       "      <td>1</td>\n",
       "      <td>0.0</td>\n",
       "      <td>0</td>\n",
       "      <td>0</td>\n",
       "      <td>1</td>\n",
       "      <td>0.000000</td>\n",
       "      <td>0.000000</td>\n",
       "      <td>54.000000</td>\n",
       "    </tr>\n",
       "    <tr>\n",
       "      <th>0</th>\n",
       "      <td>1</td>\n",
       "      <td>2020-07-19</td>\n",
       "      <td>KT</td>\n",
       "      <td>50040</td>\n",
       "      <td>T</td>\n",
       "      <td>123</td>\n",
       "      <td>2</td>\n",
       "      <td>26</td>\n",
       "      <td>11</td>\n",
       "      <td>8</td>\n",
       "      <td>1</td>\n",
       "      <td>1</td>\n",
       "      <td>1</td>\n",
       "      <td>0.0</td>\n",
       "      <td>6</td>\n",
       "      <td>1</td>\n",
       "      <td>3</td>\n",
       "      <td>0.526316</td>\n",
       "      <td>11.571429</td>\n",
       "      <td>3.857143</td>\n",
       "    </tr>\n",
       "    <tr>\n",
       "      <th>1</th>\n",
       "      <td>0</td>\n",
       "      <td>2020-07-11</td>\n",
       "      <td>LG</td>\n",
       "      <td>50126</td>\n",
       "      <td>B</td>\n",
       "      <td>108</td>\n",
       "      <td>5</td>\n",
       "      <td>24</td>\n",
       "      <td>4</td>\n",
       "      <td>4</td>\n",
       "      <td>0</td>\n",
       "      <td>0</td>\n",
       "      <td>0</td>\n",
       "      <td>0.0</td>\n",
       "      <td>4</td>\n",
       "      <td>0</td>\n",
       "      <td>0</td>\n",
       "      <td>0.200000</td>\n",
       "      <td>5.400000</td>\n",
       "      <td>6.750000</td>\n",
       "    </tr>\n",
       "    <tr>\n",
       "      <th>0</th>\n",
       "      <td>1</td>\n",
       "      <td>2020-07-07</td>\n",
       "      <td>LG</td>\n",
       "      <td>50157</td>\n",
       "      <td>T</td>\n",
       "      <td>1</td>\n",
       "      <td>0</td>\n",
       "      <td>1</td>\n",
       "      <td>0</td>\n",
       "      <td>0</td>\n",
       "      <td>0</td>\n",
       "      <td>0</td>\n",
       "      <td>0</td>\n",
       "      <td>0.0</td>\n",
       "      <td>0</td>\n",
       "      <td>0</td>\n",
       "      <td>0</td>\n",
       "      <td>0.000000</td>\n",
       "      <td>0.000000</td>\n",
       "      <td>0.000000</td>\n",
       "    </tr>\n",
       "  </tbody>\n",
       "</table>\n",
       "</div>"
      ],
      "text/plain": [
       "   T     GDAY_DS T_ID   P_ID TB_SC   BF  PA-AB  AB  HIT  H1  H2  H3  HR  \\\n",
       "B                                                                         \n",
       "0  1  2020-07-17   KT  50030     T   91      2  21    5   4   1   0   0   \n",
       "1  0  2020-06-10   KT  50036     B   19      4   3    1   0   0   0   1   \n",
       "0  1  2020-07-19   KT  50040     T  123      2  26   11   8   1   1   1   \n",
       "1  0  2020-07-11   LG  50126     B  108      5  24    4   4   0   0   0   \n",
       "0  1  2020-07-07   LG  50157     T    1      0   1    0   0   0   0   0   \n",
       "\n",
       "   SB_SR  KK  WP  SLG     BABIP        KK9        BB9  \n",
       "B                                                      \n",
       "0    0.0   4   0    1  0.294118   6.000000   3.000000  \n",
       "1    0.0   0   0    1  0.000000   0.000000  54.000000  \n",
       "0    0.0   6   1    3  0.526316  11.571429   3.857143  \n",
       "1    0.0   4   0    0  0.200000   5.400000   6.750000  \n",
       "0    0.0   0   0    0  0.000000   0.000000   0.000000  "
      ]
     },
     "execution_count": 134,
     "metadata": {},
     "output_type": "execute_result"
    }
   ],
   "source": [
    "pitcher_test = pd.read_csv(\"pitcher_test.csv\", index_col  = 0)\n",
    "pitcher_test.head()"
   ]
  },
  {
   "cell_type": "code",
   "execution_count": 135,
   "metadata": {},
   "outputs": [
    {
     "data": {
      "text/html": [
       "<div>\n",
       "<style scoped>\n",
       "    .dataframe tbody tr th:only-of-type {\n",
       "        vertical-align: middle;\n",
       "    }\n",
       "\n",
       "    .dataframe tbody tr th {\n",
       "        vertical-align: top;\n",
       "    }\n",
       "\n",
       "    .dataframe thead th {\n",
       "        text-align: right;\n",
       "    }\n",
       "</style>\n",
       "<table border=\"1\" class=\"dataframe\">\n",
       "  <thead>\n",
       "    <tr style=\"text-align: right;\">\n",
       "      <th></th>\n",
       "      <th>T</th>\n",
       "      <th>GDAY_DS</th>\n",
       "      <th>T_ID</th>\n",
       "      <th>P_ID</th>\n",
       "      <th>TB_SC</th>\n",
       "      <th>BF</th>\n",
       "      <th>PA-AB</th>\n",
       "      <th>AB</th>\n",
       "      <th>HIT</th>\n",
       "      <th>H1</th>\n",
       "      <th>...</th>\n",
       "      <th>HR</th>\n",
       "      <th>SB_SR</th>\n",
       "      <th>KK</th>\n",
       "      <th>WP</th>\n",
       "      <th>SLG</th>\n",
       "      <th>BABIP</th>\n",
       "      <th>KK9</th>\n",
       "      <th>BB9</th>\n",
       "      <th>INN2</th>\n",
       "      <th>ER</th>\n",
       "    </tr>\n",
       "    <tr>\n",
       "      <th>B</th>\n",
       "      <th></th>\n",
       "      <th></th>\n",
       "      <th></th>\n",
       "      <th></th>\n",
       "      <th></th>\n",
       "      <th></th>\n",
       "      <th></th>\n",
       "      <th></th>\n",
       "      <th></th>\n",
       "      <th></th>\n",
       "      <th></th>\n",
       "      <th></th>\n",
       "      <th></th>\n",
       "      <th></th>\n",
       "      <th></th>\n",
       "      <th></th>\n",
       "      <th></th>\n",
       "      <th></th>\n",
       "      <th></th>\n",
       "      <th></th>\n",
       "      <th></th>\n",
       "    </tr>\n",
       "  </thead>\n",
       "  <tbody>\n",
       "    <tr>\n",
       "      <th>0</th>\n",
       "      <td>1</td>\n",
       "      <td>2020-07-17</td>\n",
       "      <td>KT</td>\n",
       "      <td>50030</td>\n",
       "      <td>T</td>\n",
       "      <td>91</td>\n",
       "      <td>2</td>\n",
       "      <td>21</td>\n",
       "      <td>5</td>\n",
       "      <td>4</td>\n",
       "      <td>...</td>\n",
       "      <td>0</td>\n",
       "      <td>0.0</td>\n",
       "      <td>4</td>\n",
       "      <td>0</td>\n",
       "      <td>1</td>\n",
       "      <td>0.294118</td>\n",
       "      <td>6.000000</td>\n",
       "      <td>3.000000</td>\n",
       "      <td>15.63</td>\n",
       "      <td>2.48</td>\n",
       "    </tr>\n",
       "    <tr>\n",
       "      <th>1</th>\n",
       "      <td>0</td>\n",
       "      <td>2020-06-10</td>\n",
       "      <td>KT</td>\n",
       "      <td>50036</td>\n",
       "      <td>B</td>\n",
       "      <td>19</td>\n",
       "      <td>4</td>\n",
       "      <td>3</td>\n",
       "      <td>1</td>\n",
       "      <td>0</td>\n",
       "      <td>...</td>\n",
       "      <td>1</td>\n",
       "      <td>0.0</td>\n",
       "      <td>0</td>\n",
       "      <td>0</td>\n",
       "      <td>1</td>\n",
       "      <td>0.000000</td>\n",
       "      <td>0.000000</td>\n",
       "      <td>54.000000</td>\n",
       "      <td>6.34</td>\n",
       "      <td>0.78</td>\n",
       "    </tr>\n",
       "    <tr>\n",
       "      <th>0</th>\n",
       "      <td>1</td>\n",
       "      <td>2020-07-19</td>\n",
       "      <td>KT</td>\n",
       "      <td>50040</td>\n",
       "      <td>T</td>\n",
       "      <td>123</td>\n",
       "      <td>2</td>\n",
       "      <td>26</td>\n",
       "      <td>11</td>\n",
       "      <td>8</td>\n",
       "      <td>...</td>\n",
       "      <td>1</td>\n",
       "      <td>0.0</td>\n",
       "      <td>6</td>\n",
       "      <td>1</td>\n",
       "      <td>3</td>\n",
       "      <td>0.526316</td>\n",
       "      <td>11.571429</td>\n",
       "      <td>3.857143</td>\n",
       "      <td>18.16</td>\n",
       "      <td>2.66</td>\n",
       "    </tr>\n",
       "    <tr>\n",
       "      <th>1</th>\n",
       "      <td>0</td>\n",
       "      <td>2020-07-11</td>\n",
       "      <td>LG</td>\n",
       "      <td>50126</td>\n",
       "      <td>B</td>\n",
       "      <td>108</td>\n",
       "      <td>5</td>\n",
       "      <td>24</td>\n",
       "      <td>4</td>\n",
       "      <td>4</td>\n",
       "      <td>...</td>\n",
       "      <td>0</td>\n",
       "      <td>0.0</td>\n",
       "      <td>4</td>\n",
       "      <td>0</td>\n",
       "      <td>0</td>\n",
       "      <td>0.200000</td>\n",
       "      <td>5.400000</td>\n",
       "      <td>6.750000</td>\n",
       "      <td>15.70</td>\n",
       "      <td>2.95</td>\n",
       "    </tr>\n",
       "    <tr>\n",
       "      <th>0</th>\n",
       "      <td>1</td>\n",
       "      <td>2020-07-07</td>\n",
       "      <td>LG</td>\n",
       "      <td>50157</td>\n",
       "      <td>T</td>\n",
       "      <td>1</td>\n",
       "      <td>0</td>\n",
       "      <td>1</td>\n",
       "      <td>0</td>\n",
       "      <td>0</td>\n",
       "      <td>...</td>\n",
       "      <td>0</td>\n",
       "      <td>0.0</td>\n",
       "      <td>0</td>\n",
       "      <td>0</td>\n",
       "      <td>0</td>\n",
       "      <td>0.000000</td>\n",
       "      <td>0.000000</td>\n",
       "      <td>0.000000</td>\n",
       "      <td>3.21</td>\n",
       "      <td>0.57</td>\n",
       "    </tr>\n",
       "    <tr>\n",
       "      <th>...</th>\n",
       "      <td>...</td>\n",
       "      <td>...</td>\n",
       "      <td>...</td>\n",
       "      <td>...</td>\n",
       "      <td>...</td>\n",
       "      <td>...</td>\n",
       "      <td>...</td>\n",
       "      <td>...</td>\n",
       "      <td>...</td>\n",
       "      <td>...</td>\n",
       "      <td>...</td>\n",
       "      <td>...</td>\n",
       "      <td>...</td>\n",
       "      <td>...</td>\n",
       "      <td>...</td>\n",
       "      <td>...</td>\n",
       "      <td>...</td>\n",
       "      <td>...</td>\n",
       "      <td>...</td>\n",
       "      <td>...</td>\n",
       "      <td>...</td>\n",
       "    </tr>\n",
       "    <tr>\n",
       "      <th>0</th>\n",
       "      <td>1</td>\n",
       "      <td>2020-07-17</td>\n",
       "      <td>LT</td>\n",
       "      <td>79545</td>\n",
       "      <td>T</td>\n",
       "      <td>26</td>\n",
       "      <td>2</td>\n",
       "      <td>4</td>\n",
       "      <td>2</td>\n",
       "      <td>2</td>\n",
       "      <td>...</td>\n",
       "      <td>0</td>\n",
       "      <td>0.0</td>\n",
       "      <td>0</td>\n",
       "      <td>0</td>\n",
       "      <td>0</td>\n",
       "      <td>0.400000</td>\n",
       "      <td>0.000000</td>\n",
       "      <td>9.000000</td>\n",
       "      <td>3.22</td>\n",
       "      <td>0.75</td>\n",
       "    </tr>\n",
       "    <tr>\n",
       "      <th>1</th>\n",
       "      <td>0</td>\n",
       "      <td>2020-07-08</td>\n",
       "      <td>HH</td>\n",
       "      <td>79764</td>\n",
       "      <td>B</td>\n",
       "      <td>31</td>\n",
       "      <td>1</td>\n",
       "      <td>6</td>\n",
       "      <td>4</td>\n",
       "      <td>3</td>\n",
       "      <td>...</td>\n",
       "      <td>1</td>\n",
       "      <td>1.0</td>\n",
       "      <td>1</td>\n",
       "      <td>1</td>\n",
       "      <td>1</td>\n",
       "      <td>0.750000</td>\n",
       "      <td>13.500000</td>\n",
       "      <td>13.500000</td>\n",
       "      <td>4.52</td>\n",
       "      <td>1.01</td>\n",
       "    </tr>\n",
       "    <tr>\n",
       "      <th>0</th>\n",
       "      <td>1</td>\n",
       "      <td>2020-07-16</td>\n",
       "      <td>LG</td>\n",
       "      <td>79825</td>\n",
       "      <td>T</td>\n",
       "      <td>19</td>\n",
       "      <td>0</td>\n",
       "      <td>6</td>\n",
       "      <td>3</td>\n",
       "      <td>1</td>\n",
       "      <td>...</td>\n",
       "      <td>1</td>\n",
       "      <td>0.0</td>\n",
       "      <td>0</td>\n",
       "      <td>1</td>\n",
       "      <td>2</td>\n",
       "      <td>0.400000</td>\n",
       "      <td>0.000000</td>\n",
       "      <td>0.000000</td>\n",
       "      <td>3.97</td>\n",
       "      <td>0.66</td>\n",
       "    </tr>\n",
       "    <tr>\n",
       "      <th>1</th>\n",
       "      <td>0</td>\n",
       "      <td>2020-07-09</td>\n",
       "      <td>SK</td>\n",
       "      <td>79847</td>\n",
       "      <td>B</td>\n",
       "      <td>12</td>\n",
       "      <td>0</td>\n",
       "      <td>2</td>\n",
       "      <td>2</td>\n",
       "      <td>2</td>\n",
       "      <td>...</td>\n",
       "      <td>0</td>\n",
       "      <td>1.0</td>\n",
       "      <td>0</td>\n",
       "      <td>0</td>\n",
       "      <td>0</td>\n",
       "      <td>1.000000</td>\n",
       "      <td>0.000000</td>\n",
       "      <td>0.000000</td>\n",
       "      <td>3.23</td>\n",
       "      <td>0.71</td>\n",
       "    </tr>\n",
       "    <tr>\n",
       "      <th>0</th>\n",
       "      <td>1</td>\n",
       "      <td>2020-06-28</td>\n",
       "      <td>SS</td>\n",
       "      <td>99445</td>\n",
       "      <td>T</td>\n",
       "      <td>20</td>\n",
       "      <td>1</td>\n",
       "      <td>2</td>\n",
       "      <td>1</td>\n",
       "      <td>0</td>\n",
       "      <td>...</td>\n",
       "      <td>0</td>\n",
       "      <td>0.0</td>\n",
       "      <td>0</td>\n",
       "      <td>0</td>\n",
       "      <td>1</td>\n",
       "      <td>0.500000</td>\n",
       "      <td>0.000000</td>\n",
       "      <td>27.000000</td>\n",
       "      <td>3.57</td>\n",
       "      <td>0.61</td>\n",
       "    </tr>\n",
       "  </tbody>\n",
       "</table>\n",
       "<p>234 rows × 22 columns</p>\n",
       "</div>"
      ],
      "text/plain": [
       "    T     GDAY_DS T_ID   P_ID TB_SC   BF  PA-AB  AB  HIT  H1  ...  HR  SB_SR  \\\n",
       "B                                                             ...              \n",
       "0   1  2020-07-17   KT  50030     T   91      2  21    5   4  ...   0    0.0   \n",
       "1   0  2020-06-10   KT  50036     B   19      4   3    1   0  ...   1    0.0   \n",
       "0   1  2020-07-19   KT  50040     T  123      2  26   11   8  ...   1    0.0   \n",
       "1   0  2020-07-11   LG  50126     B  108      5  24    4   4  ...   0    0.0   \n",
       "0   1  2020-07-07   LG  50157     T    1      0   1    0   0  ...   0    0.0   \n",
       ".. ..         ...  ...    ...   ...  ...    ...  ..  ...  ..  ...  ..    ...   \n",
       "0   1  2020-07-17   LT  79545     T   26      2   4    2   2  ...   0    0.0   \n",
       "1   0  2020-07-08   HH  79764     B   31      1   6    4   3  ...   1    1.0   \n",
       "0   1  2020-07-16   LG  79825     T   19      0   6    3   1  ...   1    0.0   \n",
       "1   0  2020-07-09   SK  79847     B   12      0   2    2   2  ...   0    1.0   \n",
       "0   1  2020-06-28   SS  99445     T   20      1   2    1   0  ...   0    0.0   \n",
       "\n",
       "    KK  WP  SLG     BABIP        KK9        BB9   INN2    ER  \n",
       "B                                                             \n",
       "0    4   0    1  0.294118   6.000000   3.000000  15.63  2.48  \n",
       "1    0   0    1  0.000000   0.000000  54.000000   6.34  0.78  \n",
       "0    6   1    3  0.526316  11.571429   3.857143  18.16  2.66  \n",
       "1    4   0    0  0.200000   5.400000   6.750000  15.70  2.95  \n",
       "0    0   0    0  0.000000   0.000000   0.000000   3.21  0.57  \n",
       "..  ..  ..  ...       ...        ...        ...    ...   ...  \n",
       "0    0   0    0  0.400000   0.000000   9.000000   3.22  0.75  \n",
       "1    1   1    1  0.750000  13.500000  13.500000   4.52  1.01  \n",
       "0    0   1    2  0.400000   0.000000   0.000000   3.97  0.66  \n",
       "1    0   0    0  1.000000   0.000000   0.000000   3.23  0.71  \n",
       "0    0   0    1  0.500000   0.000000  27.000000   3.57  0.61  \n",
       "\n",
       "[234 rows x 22 columns]"
      ]
     },
     "execution_count": 135,
     "metadata": {},
     "output_type": "execute_result"
    }
   ],
   "source": [
    "pitcher_test['INN2'] = np.round(INN2_predicted_rf,2)\n",
    "pitcher_test['ER'] = np.round(ER_predicted_rf,2)\n",
    "pitcher_test"
   ]
  },
  {
   "cell_type": "code",
   "execution_count": 136,
   "metadata": {},
   "outputs": [
    {
     "data": {
      "text/plain": [
       "T_ID\n",
       "HH    33.73\n",
       "HT    29.23\n",
       "KT    29.01\n",
       "LG    27.33\n",
       "LT    27.84\n",
       "NC    27.22\n",
       "OB    26.04\n",
       "SK    26.94\n",
       "SS    30.92\n",
       "WO    27.97\n",
       "Name: ER, dtype: float64"
      ]
     },
     "execution_count": 136,
     "metadata": {},
     "output_type": "execute_result"
    }
   ],
   "source": [
    "er_by_team = pitcher_test['ER'].groupby(pitcher_test['T_ID']).sum()\n",
    "\n",
    "er_by_team"
   ]
  },
  {
   "cell_type": "code",
   "execution_count": 137,
   "metadata": {},
   "outputs": [
    {
     "data": {
      "text/plain": [
       "T_ID\n",
       "HH    177.09\n",
       "HT    146.44\n",
       "KT    176.33\n",
       "LG    150.47\n",
       "LT    153.55\n",
       "NC    156.77\n",
       "OB    151.42\n",
       "SK    151.32\n",
       "SS    173.28\n",
       "WO    154.09\n",
       "Name: INN2, dtype: float64"
      ]
     },
     "execution_count": 137,
     "metadata": {},
     "output_type": "execute_result"
    }
   ],
   "source": [
    "inning_by_team = pitcher_test['INN2'].groupby(pitcher_test['T_ID']).sum()\n",
    "\n",
    "inning_by_team"
   ]
  },
  {
   "cell_type": "code",
   "execution_count": 138,
   "metadata": {},
   "outputs": [
    {
     "data": {
      "text/plain": [
       "T_ID\n",
       "HH    5.142639\n",
       "HT    5.389306\n",
       "KT    4.442069\n",
       "LG    4.904034\n",
       "LT    4.895344\n",
       "NC    4.688014\n",
       "OB    4.643244\n",
       "SK    4.806899\n",
       "SS    4.817867\n",
       "WO    4.900967\n",
       "dtype: float64"
      ]
     },
     "execution_count": 138,
     "metadata": {},
     "output_type": "execute_result"
    }
   ],
   "source": [
    "era_by_team = er_by_team / inning_by_team * 27\n",
    "\n",
    "era_by_team"
   ]
  },
  {
   "cell_type": "code",
   "execution_count": 142,
   "metadata": {},
   "outputs": [],
   "source": [
    "pitcher_test.to_csv(\"C:/Users/ishon/OneDrive/바탕 화면/big_con_final/big_contest_2020_summer/modeling_code/report_data/new_pitcher_report_rf.csv\")"
   ]
  }
 ],
 "metadata": {
  "kernelspec": {
   "display_name": "Python 3",
   "language": "python",
   "name": "python3"
  },
  "language_info": {
   "codemirror_mode": {
    "name": "ipython",
    "version": 3
   },
   "file_extension": ".py",
   "mimetype": "text/x-python",
   "name": "python",
   "nbconvert_exporter": "python",
   "pygments_lexer": "ipython3",
   "version": "3.7.6"
  }
 },
 "nbformat": 4,
 "nbformat_minor": 4
}
